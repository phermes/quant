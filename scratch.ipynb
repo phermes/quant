{
 "cells": [
  {
   "cell_type": "code",
   "execution_count": 1,
   "metadata": {},
   "outputs": [],
   "source": [
    "import pandas as pd\n",
    "import numpy as np\n",
    "from pandas import DataFrame, HDFStore\n",
    "import matplotlib.pyplot as plt\n",
    "import datetime as dt\n",
    "import sqlite3\n",
    "import pandas_datareader.data as web\n",
    "\n",
    "import quandl as ql"
   ]
  },
  {
   "cell_type": "code",
   "execution_count": 2,
   "metadata": {
    "collapsed": true
   },
   "outputs": [],
   "source": [
    "# main       = HDFStore('database/main.h5')\n",
    "# currencies = main['currencies']\n",
    "# xetra      = main['xetra']\n",
    "\n",
    "cnx        = sqlite3.connect('database/stocks_main.db')\n",
    "xetra      = pd.read_sql(\"SELECT * FROM XETRA;\", cnx)\n",
    "currencies = pd.read_sql(\"SELECT * FROM currencies\", cnx)"
   ]
  },
  {
   "cell_type": "code",
   "execution_count": 3,
   "metadata": {
    "collapsed": true
   },
   "outputs": [],
   "source": [
    "class keyratios:\n",
    "    def __init__(self,filename):\n",
    "        self.load(filename)\n",
    "    \n",
    "    def load_keyratios(self,filename):\n",
    "        try:\n",
    "            self.keyratios = pd.read_csv(filename,skiprows=2)\n",
    "        except IOError:\n",
    "            self.keyratios = None\n",
    "            return\n",
    "        self._correct_colnames()\n",
    "        self.keyratios = self._format_keyratios()\n",
    "    \n",
    "    def _correct_colnames(self):\n",
    "        newcols = []\n",
    "        for i in self.keyratios.columns:\n",
    "            if i == 'TTM':\n",
    "                newcols.append(newcols[-1]+1)\n",
    "                continue\n",
    "            if 'Unnamed' in i:\n",
    "                newcols.append('year')\n",
    "                continue \n",
    "            newcols.append(int(i.split('-')[0]))\n",
    "        self.keyratios.columns = newcols\n",
    "\n",
    "    def _format_keyratios(self):\n",
    "        pdf = self.keyratios\n",
    "        pdf = pdf.transpose()\n",
    "        \n",
    "        cols_new     = []\n",
    "        cols_to_use  = []\n",
    "\n",
    "        cols_old = np.array(pdf[pdf.index=='year'])[0]\n",
    "        \n",
    "        currency = self._find_currency(cols_old)\n",
    "        \n",
    "        \n",
    "        for string in cols_old:\n",
    "    #         print string\n",
    "            try:\n",
    "                newstring = string\n",
    "                newstring = newstring.replace(' ','')\n",
    "                newstring = newstring.replace('%', '')\n",
    "                newstring = newstring.replace('Mil','')\n",
    "                newstring = newstring.replace('*','')\n",
    "                newstring = newstring.replace('(','')\n",
    "                newstring = newstring.replace(')','')\n",
    "\n",
    "                for j in currencies.currency:\n",
    "                    newstring = newstring.replace(j,'')\n",
    "            except AttributeError:\n",
    "                newstring = 'NaN'\n",
    "\n",
    "            if newstring in cols_new:\n",
    "                newstring = '{0}_{1}'.format(newstring,len(cols_new)+1)\n",
    "            cols_new.append(newstring)    \n",
    "\n",
    "        try:\n",
    "            pdf.columns = cols_new\n",
    "        except ValueError:\n",
    "            return cols_old,cols_new\n",
    "        pdf         = pdf[1:]\n",
    "\n",
    "\n",
    "        for c in cols_new:\n",
    "            if '_' not in c and '&' not in c:\n",
    "                if c not in ['NaN','3-YearAverage','Efficiency','MarginsofSales','Growth',\n",
    "                             'BalanceSheetItemsin','Liquidity/FinancialHealth','Profitability',\n",
    "                             'CashFlowRatios']:\n",
    "                    cols_to_use.append(c)\n",
    "\n",
    "\n",
    "        pdf = pdf[cols_to_use]\n",
    "        pdf = pdf.replace(to_replace=\",\",value=\"\",regex=True)    \n",
    "\n",
    "\n",
    "        pdf = pdf.astype('float')\n",
    "\n",
    "\n",
    "        pdf = pdf[[\n",
    "                    'Shares',\n",
    "                    'Revenue',\n",
    "                    'EarningsPerShare',\n",
    "                    'Dividends',\n",
    "                    'BookValuePerShare',\n",
    "                    'OperatingCashFlow',\n",
    "                    'ReturnonEquity',\n",
    "                    'GrossMargin',\n",
    "                    'OperatingIncome', \n",
    "                    'OperatingMargin',\n",
    "                    'NetIncome',\n",
    "                    'CapSpending',\n",
    "                    'FreeCashFlow', \n",
    "                    'FreeCashFlowPerShare', \n",
    "                    'WorkingCapital', \n",
    "                    'COGS',\n",
    "                    'EBTMargin', \n",
    "                    'TaxRate', \n",
    "                    'NetMargin',\n",
    "                    'AssetTurnoverAverage', \n",
    "                    'ReturnonAssets',\n",
    "                    'FinancialLeverageAverage',\n",
    "                    'ReturnonInvestedCapital', \n",
    "                    'InterestCoverage' \n",
    "                   ]]\n",
    "\n",
    "        pdf.currency = currency\n",
    "\n",
    "        return pdf    \n",
    "\n",
    "    def _find_currency(self,cols_old):\n",
    "        for cur in currencies.currency:\n",
    "            if 'Earnings Per Share {0}'.format(cur) in cols_old:\n",
    "#                 print 'ISIN {0} found currency: {1}'.format(self.isin,cur)\n",
    "                return cur\n",
    "    "
   ]
  },
  {
   "cell_type": "code",
   "execution_count": 4,
   "metadata": {
    "collapsed": true
   },
   "outputs": [],
   "source": [
    "class quotes:\n",
    "    def __init__(self):\n",
    "        pass\n",
    "    \n",
    "    def _get_quote_quandl(self):\n",
    "        isin, ticker = self.isin, self.ticker\n",
    "        \n",
    "        if isin[0:2]=='DE':\n",
    "            prefix = \"FSE/\"\n",
    "            suffix = \"_X\"\n",
    "            key = \"{0}{1}{2}\".format(prefix,ticker,suffix)\n",
    "            df  = ql.get(key, authtoken=\"CkyBkkkbzfh3ePfDF_ip\")\n",
    "            df  = df[['Open','High','Low','Close','Traded Volume']]\n",
    "            df.columns = ['Open','High','Low','Close','Volume'] \n",
    "#             df.reset_index(level=0, inplace=True)\n",
    "            \n",
    "        elif isin[0:2]=='CH':\n",
    "            key = \"SIX/{0}CHF1\".format(self.isin)\n",
    "            df  = ql.get(key, authtoken=\"CkyBkkkbzfh3ePfDF_ip\")            \n",
    "            df.columns = ['Close','Volume']  \n",
    "            \n",
    "            \n",
    "        elif isin[0:2]=='US':\n",
    "            df = ql.get_table('WIKI/PRICES',ticker=ticker, paginate=True)\n",
    "            df = df[['date','open','high','low','close','volume']]\n",
    "            df.columns = ['Date','Open','High','Low','Close','Volume']\n",
    "            \n",
    "        if 'Date' not in df.index:\n",
    "            df.reset_index(level=0, inplace=True)\n",
    "            \n",
    "        self.quote = df\n",
    "        \n",
    "    def _get_quote_google(self,isin,ticker):\n",
    "        if isin[0:2]=='DE':\n",
    "            prefix=\"FRA:\"\n",
    "        elif isin[0:2]=='CH':\n",
    "            prefix=\"SIX\"\n",
    "        elif isin[0:2]=='US':\n",
    "            prefix='NYSE'\n",
    "            \n",
    "        key = \"{0}{1}\".format(prefix,ticker)\n",
    "        df  = web.DataReader(key, 'google', start, end)\n",
    "        self.quote = df\n",
    "    \n",
    "    def _find_splits(self):\n",
    "        relchange   = self.quote.Close.diff()/self.quote.Close\n",
    "        self.splits = (relchange[relchange<-0.5]*(-1)+ 1).round()\n",
    "\n",
    "        for i,splitdate in enumerate(self.quote.loc[self.splits.index].Date):\n",
    "            self.quote.loc[self.quote.Date < \n",
    "                        splitdate,'Close'] = self.quote.loc[self.quote.Date < \n",
    "                                                         splitdate,'Close']/np.array(self.splits)[i]        \n",
    "        \n",
    "        \n",
    "    def get_quote(self, find_splits=True):\n",
    "        for func in [self._get_quote_quandl, self._get_quote_google]:\n",
    "            try:\n",
    "                func()\n",
    "                break\n",
    "            except:\n",
    "                continue\n",
    "        if not find_splits:\n",
    "            return\n",
    "        \n",
    "        try:\n",
    "            self._find_splits()\n",
    "        except AttributeError:\n",
    "            self.quote = None\n",
    "            pass"
   ]
  },
  {
   "cell_type": "code",
   "execution_count": 5,
   "metadata": {
    "collapsed": true
   },
   "outputs": [],
   "source": [
    "class stocks(keyratios,quotes):\n",
    "    def __init__(self,stocklist,index=0,ISIN=None,verbose=False):\n",
    "        self.list  = stocklist\n",
    "\n",
    "        if ISIN:\n",
    "            self.switch_isin(ISIN)\n",
    "        else:\n",
    "            self.switch_index(index)\n",
    "        self._update_tables()\n",
    "        \n",
    "    def switch_isin(self,isin):\n",
    "        df         = self.list[self.list.ISIN==isin]\n",
    "        self.index = df.index[0]\n",
    "        self.name, self.isin, self.ticker = np.array(df)[0]\n",
    "        self._update_tables()\n",
    "        \n",
    "    def switch_index(self,index):\n",
    "        self.index = index\n",
    "        df         = self.list[self.list.index==index]\n",
    "        self.name, self.isin, self.ticker = np.array(df)[0]\n",
    "#         self._update_tables()\n",
    "        \n",
    "    def switch_next(self):\n",
    "        try:\n",
    "            self.switch_index(self.index+1)\n",
    "            self._update_tables()\n",
    "            self.quote = None\n",
    "        except IndexError:\n",
    "            pass\n",
    "\n",
    "    def _update_tables(self):\n",
    "        try:\n",
    "            self.load_keyratios('ms_keyratios/'+self.ticker+'.csv')\n",
    "        except:\n",
    "            self.keyratios = None"
   ]
  },
  {
   "cell_type": "markdown",
   "metadata": {},
   "source": [
    "# Get quotes\n",
    "## German stocks"
   ]
  },
  {
   "cell_type": "markdown",
   "metadata": {},
   "source": [
    "### Test the get_quote function"
   ]
  },
  {
   "cell_type": "code",
   "execution_count": 6,
   "metadata": {
    "collapsed": true
   },
   "outputs": [],
   "source": [
    "s = stocks(xetra)\n",
    "s.switch_isin('DE0008430026')\n",
    "s.get_quote()"
   ]
  },
  {
   "cell_type": "code",
   "execution_count": 7,
   "metadata": {},
   "outputs": [
    {
     "data": {
      "image/png": "[encoded data removed]",
      "text/plain": [
       "<matplotlib.figure.Figure at 0x7ff4562c0690>"
      ]
     },
     "metadata": {},
     "output_type": "display_data"
    }
   ],
   "source": [
    "plt.plot(s.quote.Date,s.quote.Close)\n",
    "plt.xlabel('Date')\n",
    "plt.ylabel('Price [EUR]')\n",
    "plt.show()"
   ]
  },
  {
   "cell_type": "markdown",
   "metadata": {},
   "source": [
    "### Test the split correction algo"
   ]
  },
  {
   "cell_type": "code",
   "execution_count": 301,
   "metadata": {
    "collapsed": true
   },
   "outputs": [],
   "source": [
    "s = stocks(xetra)\n",
    "s.switch_isin('DE0005790430')\n",
    "s.get_quote(find_splits=False)"
   ]
  },
  {
   "cell_type": "code",
   "execution_count": 302,
   "metadata": {},
   "outputs": [
    {
     "data": {
      "image/png": "[encoded data removed]",
      "text/plain": [
       "<matplotlib.figure.Figure at 0x7f68e1813dd0>"
      ]
     },
     "metadata": {},
     "output_type": "display_data"
    }
   ],
   "source": [
    "plt.plot(s.quote.Date,s.quote.Close)\n",
    "plt.show()"
   ]
  },
  {
   "cell_type": "code",
   "execution_count": 303,
   "metadata": {
    "collapsed": true
   },
   "outputs": [],
   "source": [
    "s = stocks(xetra)\n",
    "s.switch_isin('DE0005790430')\n",
    "s.get_quote(find_splits=True)"
   ]
  },
  {
   "cell_type": "code",
   "execution_count": 304,
   "metadata": {},
   "outputs": [
    {
     "data": {
      "image/png": "[encoded data removed]",
      "text/plain": [
       "<matplotlib.figure.Figure at 0x7f68e1aa5e90>"
      ]
     },
     "metadata": {},
     "output_type": "display_data"
    }
   ],
   "source": [
    "plt.plot(s.quote.Date,s.quote.Close)\n",
    "plt.show()"
   ]
  },
  {
   "cell_type": "markdown",
   "metadata": {
    "collapsed": true
   },
   "source": [
    "## Check for which companies the quote call is successful\n",
    "### German Stocks"
   ]
  },
  {
   "cell_type": "code",
   "execution_count": 9,
   "metadata": {
    "collapsed": true
   },
   "outputs": [],
   "source": [
    "s = stocks(xetra)\n",
    "s.switch_isin('DE0001218063')"
   ]
  },
  {
   "cell_type": "code",
   "execution_count": 10,
   "metadata": {},
   "outputs": [
    {
     "data": {
      "text/plain": [
       "(u'A7A', u'FINLAB AG   NA O.N.', u'DE0001218063')"
      ]
     },
     "execution_count": 10,
     "metadata": {},
     "output_type": "execute_result"
    }
   ],
   "source": [
    "s.ticker, s.name, s.isin"
   ]
  },
  {
   "cell_type": "code",
   "execution_count": 11,
   "metadata": {
    "collapsed": true
   },
   "outputs": [],
   "source": [
    "quote_calls=[]\n",
    "while s.isin[0:2]=='DE':\n",
    "    s.get_quote()\n",
    "    if s.quote is None:\n",
    "        var = 0\n",
    "    else:\n",
    "        var = 1\n",
    "    quote_calls.append([s.name,s.isin,var])\n",
    "    s.switch_next()\n",
    "quote_calls = pd.DataFrame(quote_calls,columns=['name','isin','quote'])"
   ]
  },
  {
   "cell_type": "code",
   "execution_count": 14,
   "metadata": {
    "collapsed": true
   },
   "outputs": [
    {
     "data": {
      "text/html": [
       "<div>\n",
       "<table border=\"1\" class=\"dataframe\">\n",
       "  <thead>\n",
       "    <tr style=\"text-align: right;\">\n",
       "      <th></th>\n",
       "      <th>name</th>\n",
       "      <th>isin</th>\n",
       "      <th>quote</th>\n",
       "    </tr>\n",
       "  </thead>\n",
       "  <tbody>\n",
       "    <tr>\n",
       "      <th>3</th>\n",
       "      <td>SOFTWARE AG O.N.</td>\n",
       "      <td>DE0003304002</td>\n",
       "      <td>1</td>\n",
       "    </tr>\n",
       "    <tr>\n",
       "      <th>4</th>\n",
       "      <td>GERRY WEBER INTERNAT.O.N.</td>\n",
       "      <td>DE0003304101</td>\n",
       "      <td>1</td>\n",
       "    </tr>\n",
       "    <tr>\n",
       "      <th>11</th>\n",
       "      <td>UTD.INTERNET AG NA</td>\n",
       "      <td>DE0005089031</td>\n",
       "      <td>1</td>\n",
       "    </tr>\n",
       "    <tr>\n",
       "      <th>16</th>\n",
       "      <td>QSC AG NA O.N.</td>\n",
       "      <td>DE0005137004</td>\n",
       "      <td>1</td>\n",
       "    </tr>\n",
       "    <tr>\n",
       "      <th>17</th>\n",
       "      <td>DEUTSCHE BANK AG NA O.N.</td>\n",
       "      <td>DE0005140008</td>\n",
       "      <td>1</td>\n",
       "    </tr>\n",
       "    <tr>\n",
       "      <th>22</th>\n",
       "      <td>BECHTLE AG O.N.</td>\n",
       "      <td>DE0005158703</td>\n",
       "      <td>1</td>\n",
       "    </tr>\n",
       "    <tr>\n",
       "      <th>23</th>\n",
       "      <td>BAUER AG</td>\n",
       "      <td>DE0005168108</td>\n",
       "      <td>1</td>\n",
       "    </tr>\n",
       "    <tr>\n",
       "      <th>25</th>\n",
       "      <td>BAY.MOTOREN WERKE AG ST</td>\n",
       "      <td>DE0005190003</td>\n",
       "      <td>1</td>\n",
       "    </tr>\n",
       "    <tr>\n",
       "      <th>28</th>\n",
       "      <td>BAYWA AG VINK.NA. O.N.</td>\n",
       "      <td>DE0005194062</td>\n",
       "      <td>1</td>\n",
       "    </tr>\n",
       "    <tr>\n",
       "      <th>36</th>\n",
       "      <td>BIOTEST AG VZ O.N.</td>\n",
       "      <td>DE0005227235</td>\n",
       "      <td>1</td>\n",
       "    </tr>\n",
       "    <tr>\n",
       "      <th>42</th>\n",
       "      <td>CARL ZEISS MEDITEC AG</td>\n",
       "      <td>DE0005313704</td>\n",
       "      <td>1</td>\n",
       "    </tr>\n",
       "    <tr>\n",
       "      <th>45</th>\n",
       "      <td>AAREAL BANK AG</td>\n",
       "      <td>DE0005408116</td>\n",
       "      <td>1</td>\n",
       "    </tr>\n",
       "    <tr>\n",
       "      <th>46</th>\n",
       "      <td>CANCOM SE O.N.</td>\n",
       "      <td>DE0005419105</td>\n",
       "      <td>1</td>\n",
       "    </tr>\n",
       "    <tr>\n",
       "      <th>47</th>\n",
       "      <td>COMPUGROUP MED.SE O.N.</td>\n",
       "      <td>DE0005437305</td>\n",
       "      <td>1</td>\n",
       "    </tr>\n",
       "    <tr>\n",
       "      <th>48</th>\n",
       "      <td>CTS EVENTIM KGAA</td>\n",
       "      <td>DE0005470306</td>\n",
       "      <td>1</td>\n",
       "    </tr>\n",
       "    <tr>\n",
       "      <th>49</th>\n",
       "      <td>LANXESS AG</td>\n",
       "      <td>DE0005470405</td>\n",
       "      <td>1</td>\n",
       "    </tr>\n",
       "    <tr>\n",
       "      <th>57</th>\n",
       "      <td>A.SPRINGER SE VNA</td>\n",
       "      <td>DE0005501357</td>\n",
       "      <td>1</td>\n",
       "    </tr>\n",
       "    <tr>\n",
       "      <th>58</th>\n",
       "      <td>DRILLISCH AG O.N.</td>\n",
       "      <td>DE0005545503</td>\n",
       "      <td>1</td>\n",
       "    </tr>\n",
       "    <tr>\n",
       "      <th>60</th>\n",
       "      <td>DRAEGERWERK VZO O.N.</td>\n",
       "      <td>DE0005550636</td>\n",
       "      <td>1</td>\n",
       "    </tr>\n",
       "    <tr>\n",
       "      <th>61</th>\n",
       "      <td>DEUTSCHE POST AG NA O.N.</td>\n",
       "      <td>DE0005552004</td>\n",
       "      <td>1</td>\n",
       "    </tr>\n",
       "    <tr>\n",
       "      <th>62</th>\n",
       "      <td>DT.TELEKOM AG NA</td>\n",
       "      <td>DE0005557508</td>\n",
       "      <td>1</td>\n",
       "    </tr>\n",
       "    <tr>\n",
       "      <th>63</th>\n",
       "      <td>DUERR AG O.N.</td>\n",
       "      <td>DE0005565204</td>\n",
       "      <td>1</td>\n",
       "    </tr>\n",
       "    <tr>\n",
       "      <th>72</th>\n",
       "      <td>FRESENIUS SE+CO.KGAA O.N.</td>\n",
       "      <td>DE0005785604</td>\n",
       "      <td>1</td>\n",
       "    </tr>\n",
       "    <tr>\n",
       "      <th>73</th>\n",
       "      <td>FRESEN.MED.CARE KGAA O.N.</td>\n",
       "      <td>DE0005785802</td>\n",
       "      <td>1</td>\n",
       "    </tr>\n",
       "    <tr>\n",
       "      <th>74</th>\n",
       "      <td>FUCHS PETROL.SE VZO O.N.</td>\n",
       "      <td>DE0005790430</td>\n",
       "      <td>1</td>\n",
       "    </tr>\n",
       "    <tr>\n",
       "      <th>76</th>\n",
       "      <td>DEUTSCHE BOERSE NA O.N.</td>\n",
       "      <td>DE0005810055</td>\n",
       "      <td>1</td>\n",
       "    </tr>\n",
       "    <tr>\n",
       "      <th>80</th>\n",
       "      <td>DMG MORI AG O.N.</td>\n",
       "      <td>DE0005878003</td>\n",
       "      <td>1</td>\n",
       "    </tr>\n",
       "    <tr>\n",
       "      <th>83</th>\n",
       "      <td>MAN SE ST O.N.</td>\n",
       "      <td>DE0005937007</td>\n",
       "      <td>1</td>\n",
       "    </tr>\n",
       "    <tr>\n",
       "      <th>85</th>\n",
       "      <td>HAWESKO HOLDING AG    SVG</td>\n",
       "      <td>DE0006042708</td>\n",
       "      <td>1</td>\n",
       "    </tr>\n",
       "    <tr>\n",
       "      <th>88</th>\n",
       "      <td>HEIDELBERGCEMENT AG O.N.</td>\n",
       "      <td>DE0006047004</td>\n",
       "      <td>1</td>\n",
       "    </tr>\n",
       "    <tr>\n",
       "      <th>...</th>\n",
       "      <td>...</td>\n",
       "      <td>...</td>\n",
       "      <td>...</td>\n",
       "    </tr>\n",
       "    <tr>\n",
       "      <th>194</th>\n",
       "      <td>ALLIANZ SE NA O.N.</td>\n",
       "      <td>DE0008404005</td>\n",
       "      <td>1</td>\n",
       "    </tr>\n",
       "    <tr>\n",
       "      <th>195</th>\n",
       "      <td>MUENCH.RUECKVERS.VNA O.N.</td>\n",
       "      <td>DE0008430026</td>\n",
       "      <td>1</td>\n",
       "    </tr>\n",
       "    <tr>\n",
       "      <th>204</th>\n",
       "      <td>DIEBOLD NIXDORF  INH.O.N.</td>\n",
       "      <td>DE000A0CAYB2</td>\n",
       "      <td>1</td>\n",
       "    </tr>\n",
       "    <tr>\n",
       "      <th>205</th>\n",
       "      <td>NORDEX SE O.N.</td>\n",
       "      <td>DE000A0D6554</td>\n",
       "      <td>1</td>\n",
       "    </tr>\n",
       "    <tr>\n",
       "      <th>206</th>\n",
       "      <td>MTU AERO ENGINES NA O.N.</td>\n",
       "      <td>DE000A0D9PT0</td>\n",
       "      <td>1</td>\n",
       "    </tr>\n",
       "    <tr>\n",
       "      <th>207</th>\n",
       "      <td>SMA SOLAR TECHNOL.AG</td>\n",
       "      <td>DE000A0DJ6J9</td>\n",
       "      <td>1</td>\n",
       "    </tr>\n",
       "    <tr>\n",
       "      <th>230</th>\n",
       "      <td>GERRESHEIMER AG</td>\n",
       "      <td>DE000A0LD6E6</td>\n",
       "      <td>1</td>\n",
       "    </tr>\n",
       "    <tr>\n",
       "      <th>237</th>\n",
       "      <td>HAMBURG.HAFEN U.LOG.A-SP</td>\n",
       "      <td>DE000A0S8488</td>\n",
       "      <td>1</td>\n",
       "    </tr>\n",
       "    <tr>\n",
       "      <th>238</th>\n",
       "      <td>TOM TAILOR HOLDG.AG</td>\n",
       "      <td>DE000A0STST2</td>\n",
       "      <td>1</td>\n",
       "    </tr>\n",
       "    <tr>\n",
       "      <th>241</th>\n",
       "      <td>AIXTRON SE NA O.N.</td>\n",
       "      <td>DE000A0WMPJ6</td>\n",
       "      <td>1</td>\n",
       "    </tr>\n",
       "    <tr>\n",
       "      <th>243</th>\n",
       "      <td>PSI AG NA O.N.</td>\n",
       "      <td>DE000A0Z1JH9</td>\n",
       "      <td>1</td>\n",
       "    </tr>\n",
       "    <tr>\n",
       "      <th>249</th>\n",
       "      <td>GRENKE AG NA O.N.</td>\n",
       "      <td>DE000A161N30</td>\n",
       "      <td>1</td>\n",
       "    </tr>\n",
       "    <tr>\n",
       "      <th>260</th>\n",
       "      <td>TELEFONICA DTLD HLDG AG</td>\n",
       "      <td>DE000A1J5RX9</td>\n",
       "      <td>1</td>\n",
       "    </tr>\n",
       "    <tr>\n",
       "      <th>261</th>\n",
       "      <td>GESCO AG NA O.N.</td>\n",
       "      <td>DE000A1K0201</td>\n",
       "      <td>1</td>\n",
       "    </tr>\n",
       "    <tr>\n",
       "      <th>272</th>\n",
       "      <td>BASF SE NA O.N.</td>\n",
       "      <td>DE000BASF111</td>\n",
       "      <td>1</td>\n",
       "    </tr>\n",
       "    <tr>\n",
       "      <th>273</th>\n",
       "      <td>BAYER AG NA O.N.</td>\n",
       "      <td>DE000BAY0017</td>\n",
       "      <td>1</td>\n",
       "    </tr>\n",
       "    <tr>\n",
       "      <th>274</th>\n",
       "      <td>COMMERZBANK AG</td>\n",
       "      <td>DE000CBK1001</td>\n",
       "      <td>1</td>\n",
       "    </tr>\n",
       "    <tr>\n",
       "      <th>276</th>\n",
       "      <td>E.ON SE NA O.N.</td>\n",
       "      <td>DE000ENAG999</td>\n",
       "      <td>1</td>\n",
       "    </tr>\n",
       "    <tr>\n",
       "      <th>277</th>\n",
       "      <td>EVONIK INDUSTRIES AG</td>\n",
       "      <td>DE000EVNK013</td>\n",
       "      <td>1</td>\n",
       "    </tr>\n",
       "    <tr>\n",
       "      <th>278</th>\n",
       "      <td>KLOECKNER + CO SE NA O.N.</td>\n",
       "      <td>DE000KC01000</td>\n",
       "      <td>1</td>\n",
       "    </tr>\n",
       "    <tr>\n",
       "      <th>279</th>\n",
       "      <td>KION GROUP AG</td>\n",
       "      <td>DE000KGX8881</td>\n",
       "      <td>1</td>\n",
       "    </tr>\n",
       "    <tr>\n",
       "      <th>280</th>\n",
       "      <td>K+S AG NA O.N.</td>\n",
       "      <td>DE000KSAG888</td>\n",
       "      <td>1</td>\n",
       "    </tr>\n",
       "    <tr>\n",
       "      <th>283</th>\n",
       "      <td>STRATEC BIOMEDICAL NAM.ON</td>\n",
       "      <td>DE000STRA555</td>\n",
       "      <td>1</td>\n",
       "    </tr>\n",
       "    <tr>\n",
       "      <th>284</th>\n",
       "      <td>SYMRISE AG INH. O.N.</td>\n",
       "      <td>DE000SYM9999</td>\n",
       "      <td>1</td>\n",
       "    </tr>\n",
       "    <tr>\n",
       "      <th>285</th>\n",
       "      <td>TALANX AG NA O.N.</td>\n",
       "      <td>DE000TLX1005</td>\n",
       "      <td>1</td>\n",
       "    </tr>\n",
       "    <tr>\n",
       "      <th>286</th>\n",
       "      <td>TUI AG NA O.N.</td>\n",
       "      <td>DE000TUAG000</td>\n",
       "      <td>1</td>\n",
       "    </tr>\n",
       "    <tr>\n",
       "      <th>287</th>\n",
       "      <td>VTG AG O.N.</td>\n",
       "      <td>DE000VTG9999</td>\n",
       "      <td>1</td>\n",
       "    </tr>\n",
       "    <tr>\n",
       "      <th>288</th>\n",
       "      <td>WACKER NEUSON SE NA O.N.</td>\n",
       "      <td>DE000WACK012</td>\n",
       "      <td>1</td>\n",
       "    </tr>\n",
       "    <tr>\n",
       "      <th>289</th>\n",
       "      <td>WACKER CHEMIE        O.N.</td>\n",
       "      <td>DE000WCH8881</td>\n",
       "      <td>1</td>\n",
       "    </tr>\n",
       "    <tr>\n",
       "      <th>290</th>\n",
       "      <td>XING AG NA O.N.</td>\n",
       "      <td>DE000XNG8888</td>\n",
       "      <td>1</td>\n",
       "    </tr>\n",
       "  </tbody>\n",
       "</table>\n",
       "<p>99 rows × 3 columns</p>\n",
       "</div>"
      ],
      "text/plain": [
       "                          name          isin  quote\n",
       "3             SOFTWARE AG O.N.  DE0003304002      1\n",
       "4    GERRY WEBER INTERNAT.O.N.  DE0003304101      1\n",
       "11          UTD.INTERNET AG NA  DE0005089031      1\n",
       "16              QSC AG NA O.N.  DE0005137004      1\n",
       "17    DEUTSCHE BANK AG NA O.N.  DE0005140008      1\n",
       "22             BECHTLE AG O.N.  DE0005158703      1\n",
       "23                    BAUER AG  DE0005168108      1\n",
       "25     BAY.MOTOREN WERKE AG ST  DE0005190003      1\n",
       "28      BAYWA AG VINK.NA. O.N.  DE0005194062      1\n",
       "36          BIOTEST AG VZ O.N.  DE0005227235      1\n",
       "42       CARL ZEISS MEDITEC AG  DE0005313704      1\n",
       "45              AAREAL BANK AG  DE0005408116      1\n",
       "46              CANCOM SE O.N.  DE0005419105      1\n",
       "47      COMPUGROUP MED.SE O.N.  DE0005437305      1\n",
       "48            CTS EVENTIM KGAA  DE0005470306      1\n",
       "49                  LANXESS AG  DE0005470405      1\n",
       "57           A.SPRINGER SE VNA  DE0005501357      1\n",
       "58           DRILLISCH AG O.N.  DE0005545503      1\n",
       "60        DRAEGERWERK VZO O.N.  DE0005550636      1\n",
       "61    DEUTSCHE POST AG NA O.N.  DE0005552004      1\n",
       "62            DT.TELEKOM AG NA  DE0005557508      1\n",
       "63               DUERR AG O.N.  DE0005565204      1\n",
       "72   FRESENIUS SE+CO.KGAA O.N.  DE0005785604      1\n",
       "73   FRESEN.MED.CARE KGAA O.N.  DE0005785802      1\n",
       "74    FUCHS PETROL.SE VZO O.N.  DE0005790430      1\n",
       "76     DEUTSCHE BOERSE NA O.N.  DE0005810055      1\n",
       "80            DMG MORI AG O.N.  DE0005878003      1\n",
       "83              MAN SE ST O.N.  DE0005937007      1\n",
       "85   HAWESKO HOLDING AG    SVG  DE0006042708      1\n",
       "88    HEIDELBERGCEMENT AG O.N.  DE0006047004      1\n",
       "..                         ...           ...    ...\n",
       "194         ALLIANZ SE NA O.N.  DE0008404005      1\n",
       "195  MUENCH.RUECKVERS.VNA O.N.  DE0008430026      1\n",
       "204  DIEBOLD NIXDORF  INH.O.N.  DE000A0CAYB2      1\n",
       "205             NORDEX SE O.N.  DE000A0D6554      1\n",
       "206   MTU AERO ENGINES NA O.N.  DE000A0D9PT0      1\n",
       "207       SMA SOLAR TECHNOL.AG  DE000A0DJ6J9      1\n",
       "230            GERRESHEIMER AG  DE000A0LD6E6      1\n",
       "237   HAMBURG.HAFEN U.LOG.A-SP  DE000A0S8488      1\n",
       "238        TOM TAILOR HOLDG.AG  DE000A0STST2      1\n",
       "241         AIXTRON SE NA O.N.  DE000A0WMPJ6      1\n",
       "243             PSI AG NA O.N.  DE000A0Z1JH9      1\n",
       "249          GRENKE AG NA O.N.  DE000A161N30      1\n",
       "260    TELEFONICA DTLD HLDG AG  DE000A1J5RX9      1\n",
       "261           GESCO AG NA O.N.  DE000A1K0201      1\n",
       "272            BASF SE NA O.N.  DE000BASF111      1\n",
       "273           BAYER AG NA O.N.  DE000BAY0017      1\n",
       "274             COMMERZBANK AG  DE000CBK1001      1\n",
       "276            E.ON SE NA O.N.  DE000ENAG999      1\n",
       "277       EVONIK INDUSTRIES AG  DE000EVNK013      1\n",
       "278  KLOECKNER + CO SE NA O.N.  DE000KC01000      1\n",
       "279              KION GROUP AG  DE000KGX8881      1\n",
       "280             K+S AG NA O.N.  DE000KSAG888      1\n",
       "283  STRATEC BIOMEDICAL NAM.ON  DE000STRA555      1\n",
       "284       SYMRISE AG INH. O.N.  DE000SYM9999      1\n",
       "285          TALANX AG NA O.N.  DE000TLX1005      1\n",
       "286             TUI AG NA O.N.  DE000TUAG000      1\n",
       "287                VTG AG O.N.  DE000VTG9999      1\n",
       "288   WACKER NEUSON SE NA O.N.  DE000WACK012      1\n",
       "289  WACKER CHEMIE        O.N.  DE000WCH8881      1\n",
       "290            XING AG NA O.N.  DE000XNG8888      1\n",
       "\n",
       "[99 rows x 3 columns]"
      ]
     },
     "execution_count": 14,
     "metadata": {},
     "output_type": "execute_result"
    }
   ],
   "source": [
    "quote_calls[quote_calls.quote==1]"
   ]
  },
  {
   "cell_type": "code",
   "execution_count": null,
   "metadata": {
    "collapsed": true
   },
   "outputs": [],
   "source": []
  },
  {
   "cell_type": "code",
   "execution_count": null,
   "metadata": {
    "collapsed": true
   },
   "outputs": [],
   "source": []
  },
  {
   "cell_type": "code",
   "execution_count": null,
   "metadata": {
    "collapsed": true
   },
   "outputs": [],
   "source": []
  },
  {
   "cell_type": "code",
   "execution_count": null,
   "metadata": {
    "collapsed": true
   },
   "outputs": [],
   "source": []
  },
  {
   "cell_type": "markdown",
   "metadata": {},
   "source": [
    "## Swiss stock quotes"
   ]
  },
  {
   "cell_type": "code",
   "execution_count": 305,
   "metadata": {},
   "outputs": [
    {
     "name": "stdout",
     "output_type": "stream",
     "text": [
      "NOVARTIS NAM.     SF 0,50 CH0012005267 NOT\n"
     ]
    }
   ],
   "source": [
    "s = stocks(xetra)\n",
    "s.switch_isin('CH0012005267')\n",
    "print s.name, s.isin, s.ticker\n",
    "s.get_quote()"
   ]
  },
  {
   "cell_type": "code",
   "execution_count": 309,
   "metadata": {},
   "outputs": [
    {
     "data": {
      "text/plain": [
       "0   2013-06-05\n",
       "1   2013-06-06\n",
       "2   2013-06-07\n",
       "3   2013-06-10\n",
       "4   2013-06-11\n",
       "Name: Date, dtype: datetime64[ns]"
      ]
     },
     "execution_count": 309,
     "metadata": {},
     "output_type": "execute_result"
    }
   ],
   "source": [
    "s.quote.head().Date"
   ]
  },
  {
   "cell_type": "code",
   "execution_count": 308,
   "metadata": {},
   "outputs": [
    {
     "data": {
      "image/png": "[encoded data removed]",
      "text/plain": [
       "<matplotlib.figure.Figure at 0x7f68e50d1250>"
      ]
     },
     "metadata": {},
     "output_type": "display_data"
    }
   ],
   "source": [
    "plt.plot(s.quote.Date,s.quote.Close)\n",
    "plt.show()"
   ]
  },
  {
   "cell_type": "code",
   "execution_count": null,
   "metadata": {
    "collapsed": true
   },
   "outputs": [],
   "source": []
  },
  {
   "cell_type": "code",
   "execution_count": 174,
   "metadata": {
    "collapsed": true
   },
   "outputs": [],
   "source": [
    "s = stocks(xetra)"
   ]
  },
  {
   "cell_type": "code",
   "execution_count": 131,
   "metadata": {
    "collapsed": true
   },
   "outputs": [],
   "source": [
    "unsucessful_quote_calls = []\n",
    "\n",
    "s = stocks(xetra)\n",
    "s.switch_isin('CH0012005267')\n",
    "while True:\n",
    "    if s.isin[0:2]!='CH':\n",
    "        s.switch_next()\n",
    "        break\n",
    "    s.get_quote()\n",
    "    \n",
    "    if s.quote is None:\n",
    "        unsucessful_quote_calls.append([s.name,s.isin,s.ticker])\n",
    "    \n",
    "    s.switch_next()"
   ]
  },
  {
   "cell_type": "code",
   "execution_count": 132,
   "metadata": {},
   "outputs": [
    {
     "data": {
      "text/plain": [
       "[[u'TECAN GRP AG NAM.SF 0,10', u'CH0012100191', u'TEN'],\n",
       " [u'SWATCH GRP AG NAM.SF 0,45', u'CH0012255144', u'UHRN'],\n",
       " [u'HELVETIA HOLDING NA SF0,1', u'CH0012271687', u'HVX'],\n",
       " [u'STRAUMANN HLDG NA SF 0,10', u'CH0012280076', u'QS5'],\n",
       " [u'TEMENOS GROUP AG NA  SF 5', u'CH0012453913', u'TE8N'],\n",
       " [u'BACHEM HLDG NA B  SF 0,05', u'CH0012530207', u'BHM'],\n",
       " [u'LIFEWATCH AG       SF 1,3', u'CH0012815459', u'GUA1'],\n",
       " [u'EMMI AG             SF 10', u'CH0012829898', u'FV6'],\n",
       " [u'SIEGFRIED HL NA     SF 2', u'CH0014284498', u'SQG'],\n",
       " [u'CIE FINAN.TRAD. INH.', u'CH0014345117', u'CFI'],\n",
       " [u'BQUE CANT.VAUD.NAM.SF 10', u'CH0015251710', u'B1V'],\n",
       " [u'PARGESA HLDG INH.   SF 20', u'CH0021783391', u'PGH1'],\n",
       " [u'ALSO HOLDING AG      SF 1', u'CH0024590272', u'9AS'],\n",
       " [u'HUBER+SUHNER NA    SF-,25', u'CH0030380734', u'HGUA'],\n",
       " [u'DAETWYLER HLDG INH.SF0,05', u'CH0030486770', u'31D1'],\n",
       " [u'SULZER NAM.       SF -,01', u'CH0038388911', u'SUL1'],\n",
       " [u'BB BIOTECH NAM.   SF 0,20', u'CH0038389992', u'BBZA'],\n",
       " [u'ENERG.DIEN.HLD.NAM.SF-,10', u'CH0039651184', u'KWK3'],\n",
       " [u'KARDEX NAM.      SF  7,35', u'CH0100837282', u'KAX2'],\n",
       " [u'MEYER BUR.TECH.NAM.SF-,05', u'CH0108503795', u'M6YA'],\n",
       " [u'GARMIN LTD   NAM.SF 10', u'CH0114405324', u'GEY'],\n",
       " [u'BKW AG NA         SF 2,50', u'CH0130293662', u'B9W'],\n",
       " [u'CEMBRA MONEY BANK AG SF 1', u'CH0225173167', u'GEH']]"
      ]
     },
     "execution_count": 132,
     "metadata": {},
     "output_type": "execute_result"
    }
   ],
   "source": [
    "unsucessful_quote_calls"
   ]
  },
  {
   "cell_type": "markdown",
   "metadata": {},
   "source": [
    "Conclusion: most of swiss stocks covered with quandl"
   ]
  },
  {
   "cell_type": "markdown",
   "metadata": {},
   "source": [
    "## US stock quotes"
   ]
  },
  {
   "cell_type": "code",
   "execution_count": 318,
   "metadata": {},
   "outputs": [
    {
     "name": "stdout",
     "output_type": "stream",
     "text": [
      "PROCTER GAMBLE US7427181091 PRG\n"
     ]
    }
   ],
   "source": [
    "s = stocks(xetra)\n",
    "s.switch_isin('US7427181091')\n",
    "print s.name, s.isin, s.ticker\n",
    "s.get_quote()"
   ]
  },
  {
   "cell_type": "code",
   "execution_count": 319,
   "metadata": {},
   "outputs": [
    {
     "data": {
      "text/html": [
       "<div>\n",
       "<table border=\"1\" class=\"dataframe\">\n",
       "  <thead>\n",
       "    <tr style=\"text-align: right;\">\n",
       "      <th></th>\n",
       "      <th>Shares</th>\n",
       "      <th>Revenue</th>\n",
       "      <th>EarningsPerShare</th>\n",
       "      <th>Dividends</th>\n",
       "      <th>BookValuePerShare</th>\n",
       "      <th>OperatingCashFlow</th>\n",
       "      <th>ReturnonEquity</th>\n",
       "      <th>GrossMargin</th>\n",
       "      <th>OperatingIncome</th>\n",
       "      <th>OperatingMargin</th>\n",
       "      <th>...</th>\n",
       "      <th>WorkingCapital</th>\n",
       "      <th>COGS</th>\n",
       "      <th>EBTMargin</th>\n",
       "      <th>TaxRate</th>\n",
       "      <th>NetMargin</th>\n",
       "      <th>AssetTurnoverAverage</th>\n",
       "      <th>ReturnonAssets</th>\n",
       "      <th>FinancialLeverageAverage</th>\n",
       "      <th>ReturnonInvestedCapital</th>\n",
       "      <th>InterestCoverage</th>\n",
       "    </tr>\n",
       "  </thead>\n",
       "  <tbody>\n",
       "    <tr>\n",
       "      <th>2007</th>\n",
       "      <td>73.0</td>\n",
       "      <td>333.0</td>\n",
       "      <td>0.31</td>\n",
       "      <td>0.25</td>\n",
       "      <td>1.76</td>\n",
       "      <td>17.0</td>\n",
       "      <td>17.05</td>\n",
       "      <td>92.2</td>\n",
       "      <td>38.0</td>\n",
       "      <td>11.4</td>\n",
       "      <td>...</td>\n",
       "      <td>109.0</td>\n",
       "      <td>7.76</td>\n",
       "      <td>9.79</td>\n",
       "      <td>31.19</td>\n",
       "      <td>6.73</td>\n",
       "      <td>1.02</td>\n",
       "      <td>6.90</td>\n",
       "      <td>2.49</td>\n",
       "      <td>12.12</td>\n",
       "      <td>6.02</td>\n",
       "    </tr>\n",
       "    <tr>\n",
       "      <th>2008</th>\n",
       "      <td>89.0</td>\n",
       "      <td>836.0</td>\n",
       "      <td>0.32</td>\n",
       "      <td>0.27</td>\n",
       "      <td>2.77</td>\n",
       "      <td>28.0</td>\n",
       "      <td>14.52</td>\n",
       "      <td>94.6</td>\n",
       "      <td>43.0</td>\n",
       "      <td>5.2</td>\n",
       "      <td>...</td>\n",
       "      <td>128.0</td>\n",
       "      <td>5.43</td>\n",
       "      <td>4.35</td>\n",
       "      <td>25.01</td>\n",
       "      <td>3.40</td>\n",
       "      <td>1.61</td>\n",
       "      <td>5.50</td>\n",
       "      <td>2.72</td>\n",
       "      <td>11.20</td>\n",
       "      <td>3.30</td>\n",
       "    </tr>\n",
       "    <tr>\n",
       "      <th>2009</th>\n",
       "      <td>99.0</td>\n",
       "      <td>1217.0</td>\n",
       "      <td>0.28</td>\n",
       "      <td>0.28</td>\n",
       "      <td>2.82</td>\n",
       "      <td>56.0</td>\n",
       "      <td>10.41</td>\n",
       "      <td>93.7</td>\n",
       "      <td>51.0</td>\n",
       "      <td>4.2</td>\n",
       "      <td>...</td>\n",
       "      <td>135.0</td>\n",
       "      <td>6.27</td>\n",
       "      <td>3.21</td>\n",
       "      <td>31.14</td>\n",
       "      <td>2.31</td>\n",
       "      <td>1.70</td>\n",
       "      <td>3.93</td>\n",
       "      <td>2.59</td>\n",
       "      <td>8.49</td>\n",
       "      <td>2.93</td>\n",
       "    </tr>\n",
       "    <tr>\n",
       "      <th>2010</th>\n",
       "      <td>108.0</td>\n",
       "      <td>1162.0</td>\n",
       "      <td>0.24</td>\n",
       "      <td>0.11</td>\n",
       "      <td>3.14</td>\n",
       "      <td>33.0</td>\n",
       "      <td>7.98</td>\n",
       "      <td>93.3</td>\n",
       "      <td>49.0</td>\n",
       "      <td>4.3</td>\n",
       "      <td>...</td>\n",
       "      <td>176.0</td>\n",
       "      <td>6.68</td>\n",
       "      <td>3.43</td>\n",
       "      <td>34.41</td>\n",
       "      <td>2.25</td>\n",
       "      <td>1.55</td>\n",
       "      <td>3.49</td>\n",
       "      <td>2.06</td>\n",
       "      <td>7.33</td>\n",
       "      <td>3.18</td>\n",
       "    </tr>\n",
       "    <tr>\n",
       "      <th>2011</th>\n",
       "      <td>118.0</td>\n",
       "      <td>1206.0</td>\n",
       "      <td>0.08</td>\n",
       "      <td>0.13</td>\n",
       "      <td>2.97</td>\n",
       "      <td>5.0</td>\n",
       "      <td>2.89</td>\n",
       "      <td>90.0</td>\n",
       "      <td>8.0</td>\n",
       "      <td>0.7</td>\n",
       "      <td>...</td>\n",
       "      <td>155.0</td>\n",
       "      <td>10.00</td>\n",
       "      <td>2.32</td>\n",
       "      <td>20.29</td>\n",
       "      <td>0.86</td>\n",
       "      <td>1.62</td>\n",
       "      <td>1.40</td>\n",
       "      <td>2.07</td>\n",
       "      <td>3.51</td>\n",
       "      <td>2.94</td>\n",
       "    </tr>\n",
       "    <tr>\n",
       "      <th>2012</th>\n",
       "      <td>120.0</td>\n",
       "      <td>1389.0</td>\n",
       "      <td>0.26</td>\n",
       "      <td>0.16</td>\n",
       "      <td>3.05</td>\n",
       "      <td>48.0</td>\n",
       "      <td>8.61</td>\n",
       "      <td>89.0</td>\n",
       "      <td>52.0</td>\n",
       "      <td>3.7</td>\n",
       "      <td>...</td>\n",
       "      <td>108.0</td>\n",
       "      <td>11.01</td>\n",
       "      <td>3.18</td>\n",
       "      <td>29.32</td>\n",
       "      <td>2.25</td>\n",
       "      <td>1.87</td>\n",
       "      <td>4.21</td>\n",
       "      <td>2.03</td>\n",
       "      <td>6.78</td>\n",
       "      <td>4.53</td>\n",
       "    </tr>\n",
       "    <tr>\n",
       "      <th>2013</th>\n",
       "      <td>121.0</td>\n",
       "      <td>1505.0</td>\n",
       "      <td>0.27</td>\n",
       "      <td>0.19</td>\n",
       "      <td>3.19</td>\n",
       "      <td>57.0</td>\n",
       "      <td>8.40</td>\n",
       "      <td>89.6</td>\n",
       "      <td>39.0</td>\n",
       "      <td>2.6</td>\n",
       "      <td>...</td>\n",
       "      <td>112.0</td>\n",
       "      <td>10.39</td>\n",
       "      <td>2.80</td>\n",
       "      <td>23.64</td>\n",
       "      <td>2.14</td>\n",
       "      <td>1.99</td>\n",
       "      <td>4.26</td>\n",
       "      <td>1.92</td>\n",
       "      <td>6.79</td>\n",
       "      <td>5.24</td>\n",
       "    </tr>\n",
       "    <tr>\n",
       "      <th>2014</th>\n",
       "      <td>122.0</td>\n",
       "      <td>1428.0</td>\n",
       "      <td>0.25</td>\n",
       "      <td>0.23</td>\n",
       "      <td>3.35</td>\n",
       "      <td>56.0</td>\n",
       "      <td>7.59</td>\n",
       "      <td>90.8</td>\n",
       "      <td>32.0</td>\n",
       "      <td>2.3</td>\n",
       "      <td>...</td>\n",
       "      <td>102.0</td>\n",
       "      <td>9.17</td>\n",
       "      <td>3.06</td>\n",
       "      <td>30.27</td>\n",
       "      <td>2.13</td>\n",
       "      <td>1.92</td>\n",
       "      <td>4.10</td>\n",
       "      <td>1.79</td>\n",
       "      <td>6.26</td>\n",
       "      <td>6.89</td>\n",
       "    </tr>\n",
       "    <tr>\n",
       "      <th>2015</th>\n",
       "      <td>122.0</td>\n",
       "      <td>1425.0</td>\n",
       "      <td>0.21</td>\n",
       "      <td>0.25</td>\n",
       "      <td>3.42</td>\n",
       "      <td>66.0</td>\n",
       "      <td>6.20</td>\n",
       "      <td>92.5</td>\n",
       "      <td>34.0</td>\n",
       "      <td>2.4</td>\n",
       "      <td>...</td>\n",
       "      <td>96.0</td>\n",
       "      <td>7.51</td>\n",
       "      <td>2.72</td>\n",
       "      <td>33.74</td>\n",
       "      <td>1.80</td>\n",
       "      <td>1.94</td>\n",
       "      <td>3.50</td>\n",
       "      <td>1.75</td>\n",
       "      <td>5.21</td>\n",
       "      <td>8.12</td>\n",
       "    </tr>\n",
       "    <tr>\n",
       "      <th>2016</th>\n",
       "      <td>178.0</td>\n",
       "      <td>2201.0</td>\n",
       "      <td>-0.55</td>\n",
       "      <td>0.26</td>\n",
       "      <td>1.54</td>\n",
       "      <td>59.0</td>\n",
       "      <td>-19.14</td>\n",
       "      <td>94.4</td>\n",
       "      <td>-99.0</td>\n",
       "      <td>-4.5</td>\n",
       "      <td>...</td>\n",
       "      <td>249.0</td>\n",
       "      <td>5.59</td>\n",
       "      <td>-4.17</td>\n",
       "      <td>NaN</td>\n",
       "      <td>-4.45</td>\n",
       "      <td>2.08</td>\n",
       "      <td>-9.28</td>\n",
       "      <td>2.28</td>\n",
       "      <td>-13.34</td>\n",
       "      <td>-7.20</td>\n",
       "    </tr>\n",
       "    <tr>\n",
       "      <th>2017</th>\n",
       "      <td>250.0</td>\n",
       "      <td>2829.0</td>\n",
       "      <td>-0.38</td>\n",
       "      <td>0.16</td>\n",
       "      <td>2.37</td>\n",
       "      <td>66.0</td>\n",
       "      <td>-14.78</td>\n",
       "      <td>95.3</td>\n",
       "      <td>-77.0</td>\n",
       "      <td>-2.7</td>\n",
       "      <td>...</td>\n",
       "      <td>NaN</td>\n",
       "      <td>4.67</td>\n",
       "      <td>-2.51</td>\n",
       "      <td>NaN</td>\n",
       "      <td>-2.67</td>\n",
       "      <td>2.68</td>\n",
       "      <td>-7.16</td>\n",
       "      <td>2.28</td>\n",
       "      <td>-9.27</td>\n",
       "      <td>-3.08</td>\n",
       "    </tr>\n",
       "  </tbody>\n",
       "</table>\n",
       "<p>11 rows × 24 columns</p>\n",
       "</div>"
      ],
      "text/plain": [
       "      Shares  Revenue  EarningsPerShare  Dividends  BookValuePerShare  \\\n",
       "2007    73.0    333.0              0.31       0.25               1.76   \n",
       "2008    89.0    836.0              0.32       0.27               2.77   \n",
       "2009    99.0   1217.0              0.28       0.28               2.82   \n",
       "2010   108.0   1162.0              0.24       0.11               3.14   \n",
       "2011   118.0   1206.0              0.08       0.13               2.97   \n",
       "2012   120.0   1389.0              0.26       0.16               3.05   \n",
       "2013   121.0   1505.0              0.27       0.19               3.19   \n",
       "2014   122.0   1428.0              0.25       0.23               3.35   \n",
       "2015   122.0   1425.0              0.21       0.25               3.42   \n",
       "2016   178.0   2201.0             -0.55       0.26               1.54   \n",
       "2017   250.0   2829.0             -0.38       0.16               2.37   \n",
       "\n",
       "      OperatingCashFlow  ReturnonEquity  GrossMargin  OperatingIncome  \\\n",
       "2007               17.0           17.05         92.2             38.0   \n",
       "2008               28.0           14.52         94.6             43.0   \n",
       "2009               56.0           10.41         93.7             51.0   \n",
       "2010               33.0            7.98         93.3             49.0   \n",
       "2011                5.0            2.89         90.0              8.0   \n",
       "2012               48.0            8.61         89.0             52.0   \n",
       "2013               57.0            8.40         89.6             39.0   \n",
       "2014               56.0            7.59         90.8             32.0   \n",
       "2015               66.0            6.20         92.5             34.0   \n",
       "2016               59.0          -19.14         94.4            -99.0   \n",
       "2017               66.0          -14.78         95.3            -77.0   \n",
       "\n",
       "      OperatingMargin        ...         WorkingCapital   COGS  EBTMargin  \\\n",
       "2007             11.4        ...                  109.0   7.76       9.79   \n",
       "2008              5.2        ...                  128.0   5.43       4.35   \n",
       "2009              4.2        ...                  135.0   6.27       3.21   \n",
       "2010              4.3        ...                  176.0   6.68       3.43   \n",
       "2011              0.7        ...                  155.0  10.00       2.32   \n",
       "2012              3.7        ...                  108.0  11.01       3.18   \n",
       "2013              2.6        ...                  112.0  10.39       2.80   \n",
       "2014              2.3        ...                  102.0   9.17       3.06   \n",
       "2015              2.4        ...                   96.0   7.51       2.72   \n",
       "2016             -4.5        ...                  249.0   5.59      -4.17   \n",
       "2017             -2.7        ...                    NaN   4.67      -2.51   \n",
       "\n",
       "      TaxRate  NetMargin  AssetTurnoverAverage  ReturnonAssets  \\\n",
       "2007    31.19       6.73                  1.02            6.90   \n",
       "2008    25.01       3.40                  1.61            5.50   \n",
       "2009    31.14       2.31                  1.70            3.93   \n",
       "2010    34.41       2.25                  1.55            3.49   \n",
       "2011    20.29       0.86                  1.62            1.40   \n",
       "2012    29.32       2.25                  1.87            4.21   \n",
       "2013    23.64       2.14                  1.99            4.26   \n",
       "2014    30.27       2.13                  1.92            4.10   \n",
       "2015    33.74       1.80                  1.94            3.50   \n",
       "2016      NaN      -4.45                  2.08           -9.28   \n",
       "2017      NaN      -2.67                  2.68           -7.16   \n",
       "\n",
       "      FinancialLeverageAverage  ReturnonInvestedCapital  InterestCoverage  \n",
       "2007                      2.49                    12.12              6.02  \n",
       "2008                      2.72                    11.20              3.30  \n",
       "2009                      2.59                     8.49              2.93  \n",
       "2010                      2.06                     7.33              3.18  \n",
       "2011                      2.07                     3.51              2.94  \n",
       "2012                      2.03                     6.78              4.53  \n",
       "2013                      1.92                     6.79              5.24  \n",
       "2014                      1.79                     6.26              6.89  \n",
       "2015                      1.75                     5.21              8.12  \n",
       "2016                      2.28                   -13.34             -7.20  \n",
       "2017                      2.28                    -9.27             -3.08  \n",
       "\n",
       "[11 rows x 24 columns]"
      ]
     },
     "execution_count": 319,
     "metadata": {},
     "output_type": "execute_result"
    }
   ],
   "source": [
    "s.keyratios"
   ]
  },
  {
   "cell_type": "code",
   "execution_count": 328,
   "metadata": {
    "collapsed": true
   },
   "outputs": [],
   "source": [
    "df = ql.get_table('WIKI/PRICES',ticker='AFL', paginate=True)"
   ]
  },
  {
   "cell_type": "code",
   "execution_count": 329,
   "metadata": {},
   "outputs": [
    {
     "data": {
      "image/png": "[encoded data removed]",
      "text/plain": [
       "<matplotlib.figure.Figure at 0x7f68e1a12a50>"
      ]
     },
     "metadata": {},
     "output_type": "display_data"
    }
   ],
   "source": [
    "plt.plot(df.date,df.close)\n",
    "plt.show()"
   ]
  },
  {
   "cell_type": "code",
   "execution_count": null,
   "metadata": {
    "collapsed": true
   },
   "outputs": [],
   "source": []
  },
  {
   "cell_type": "markdown",
   "metadata": {},
   "source": [
    "# Save keyratios to database"
   ]
  },
  {
   "cell_type": "markdown",
   "metadata": {
    "collapsed": true
   },
   "source": [
    "## Table with currencies"
   ]
  },
  {
   "cell_type": "code",
   "execution_count": 14,
   "metadata": {
    "collapsed": true
   },
   "outputs": [
    {
     "ename": "IndexError",
     "evalue": "index 0 is out of bounds for axis 0 with size 0",
     "output_type": "error",
     "traceback": [
      "\u001b[0;31m---------------------------------------------------------------------------\u001b[0m",
      "\u001b[0;31mIndexError\u001b[0m                                Traceback (most recent call last)",
      "\u001b[0;32m<ipython-input-14-65d45e829a0a>\u001b[0m in \u001b[0;36m<module>\u001b[0;34m()\u001b[0m\n\u001b[1;32m     12\u001b[0m         \u001b[0;32mpass\u001b[0m\u001b[0;34m\u001b[0m\u001b[0m\n\u001b[1;32m     13\u001b[0m \u001b[0;34m\u001b[0m\u001b[0m\n\u001b[0;32m---> 14\u001b[0;31m     \u001b[0ms\u001b[0m\u001b[0;34m.\u001b[0m\u001b[0mswitch_next\u001b[0m\u001b[0;34m(\u001b[0m\u001b[0;34m)\u001b[0m\u001b[0;34m\u001b[0m\u001b[0m\n\u001b[0m\u001b[1;32m     15\u001b[0m \u001b[0;34m\u001b[0m\u001b[0m\n\u001b[1;32m     16\u001b[0m \u001b[0munits\u001b[0m \u001b[0;34m=\u001b[0m \u001b[0mpd\u001b[0m\u001b[0;34m.\u001b[0m\u001b[0mDataFrame\u001b[0m\u001b[0;34m(\u001b[0m\u001b[0munits\u001b[0m\u001b[0;34m,\u001b[0m\u001b[0mcolumns\u001b[0m\u001b[0;34m=\u001b[0m\u001b[0;34m[\u001b[0m\u001b[0;34m'isin'\u001b[0m\u001b[0;34m,\u001b[0m\u001b[0;34m'currency'\u001b[0m\u001b[0;34m]\u001b[0m\u001b[0;34m)\u001b[0m\u001b[0;34m\u001b[0m\u001b[0m\n",
      "\u001b[0;32m<ipython-input-5-c7dc1b9b53cf>\u001b[0m in \u001b[0;36mswitch_next\u001b[0;34m(self)\u001b[0m\n\u001b[1;32m     22\u001b[0m \u001b[0;34m\u001b[0m\u001b[0m\n\u001b[1;32m     23\u001b[0m     \u001b[0;32mdef\u001b[0m \u001b[0mswitch_next\u001b[0m\u001b[0;34m(\u001b[0m\u001b[0mself\u001b[0m\u001b[0;34m)\u001b[0m\u001b[0;34m:\u001b[0m\u001b[0;34m\u001b[0m\u001b[0m\n\u001b[0;32m---> 24\u001b[0;31m         \u001b[0mself\u001b[0m\u001b[0;34m.\u001b[0m\u001b[0mswitch_index\u001b[0m\u001b[0;34m(\u001b[0m\u001b[0mself\u001b[0m\u001b[0;34m.\u001b[0m\u001b[0mindex\u001b[0m\u001b[0;34m+\u001b[0m\u001b[0;36m1\u001b[0m\u001b[0;34m)\u001b[0m\u001b[0;34m\u001b[0m\u001b[0m\n\u001b[0m\u001b[1;32m     25\u001b[0m         \u001b[0mself\u001b[0m\u001b[0;34m.\u001b[0m\u001b[0m_update_tables\u001b[0m\u001b[0;34m(\u001b[0m\u001b[0;34m)\u001b[0m\u001b[0;34m\u001b[0m\u001b[0m\n\u001b[1;32m     26\u001b[0m \u001b[0;34m\u001b[0m\u001b[0m\n",
      "\u001b[0;32m<ipython-input-5-c7dc1b9b53cf>\u001b[0m in \u001b[0;36mswitch_index\u001b[0;34m(self, index)\u001b[0m\n\u001b[1;32m     18\u001b[0m         \u001b[0mself\u001b[0m\u001b[0;34m.\u001b[0m\u001b[0mindex\u001b[0m \u001b[0;34m=\u001b[0m \u001b[0mindex\u001b[0m\u001b[0;34m\u001b[0m\u001b[0m\n\u001b[1;32m     19\u001b[0m         \u001b[0mdf\u001b[0m         \u001b[0;34m=\u001b[0m \u001b[0mself\u001b[0m\u001b[0;34m.\u001b[0m\u001b[0mlist\u001b[0m\u001b[0;34m[\u001b[0m\u001b[0mself\u001b[0m\u001b[0;34m.\u001b[0m\u001b[0mlist\u001b[0m\u001b[0;34m.\u001b[0m\u001b[0mindex\u001b[0m\u001b[0;34m==\u001b[0m\u001b[0mindex\u001b[0m\u001b[0;34m]\u001b[0m\u001b[0;34m\u001b[0m\u001b[0m\n\u001b[0;32m---> 20\u001b[0;31m         \u001b[0mself\u001b[0m\u001b[0;34m.\u001b[0m\u001b[0mname\u001b[0m\u001b[0;34m,\u001b[0m \u001b[0mself\u001b[0m\u001b[0;34m.\u001b[0m\u001b[0misin\u001b[0m\u001b[0;34m,\u001b[0m \u001b[0mself\u001b[0m\u001b[0;34m.\u001b[0m\u001b[0mticker\u001b[0m \u001b[0;34m=\u001b[0m \u001b[0mnp\u001b[0m\u001b[0;34m.\u001b[0m\u001b[0marray\u001b[0m\u001b[0;34m(\u001b[0m\u001b[0mdf\u001b[0m\u001b[0;34m)\u001b[0m\u001b[0;34m[\u001b[0m\u001b[0;36m0\u001b[0m\u001b[0;34m]\u001b[0m\u001b[0;34m\u001b[0m\u001b[0m\n\u001b[0m\u001b[1;32m     21\u001b[0m \u001b[0;31m#         self._update_tables()\u001b[0m\u001b[0;34m\u001b[0m\u001b[0;34m\u001b[0m\u001b[0m\n\u001b[1;32m     22\u001b[0m \u001b[0;34m\u001b[0m\u001b[0m\n",
      "\u001b[0;31mIndexError\u001b[0m: index 0 is out of bounds for axis 0 with size 0"
     ]
    }
   ],
   "source": [
    "units      = []\n",
    "emptylist  = []\n",
    "s = stocks(xetra)\n",
    "\n",
    "for i in range(0,len(xetra)):    \n",
    "#     print s.index, s.name, s.isin, s.ticker\n",
    "    \n",
    "    try:\n",
    "        units.append([s.isin,s.keyratios.currency])\n",
    "    except AttributeError:\n",
    "        emptylist.append(s.index)\n",
    "        pass\n",
    "\n",
    "    s.switch_next()\n",
    "\n"
   ]
  },
  {
   "cell_type": "code",
   "execution_count": 25,
   "metadata": {
    "collapsed": true
   },
   "outputs": [],
   "source": [
    "units = pd.DataFrame(units,columns=['isin','currency'])"
   ]
  },
  {
   "cell_type": "code",
   "execution_count": 21,
   "metadata": {
    "collapsed": true
   },
   "outputs": [],
   "source": [
    "bad_ids   = xetra.index.isin(emptylist)          # get the ids for entries without keyratios available\n",
    "xetra_new = xetra[~bad_ids]                      # xetra list without entries with unavailable keyratios\n",
    "xetra_new = xetra_new.reset_index(drop=True)     # reset index"
   ]
  },
  {
   "cell_type": "code",
   "execution_count": 32,
   "metadata": {
    "collapsed": true
   },
   "outputs": [],
   "source": [
    "# Create your connection.\n",
    "\n",
    "cnx = sqlite3.connect('database/stocks_main.db')\n",
    "\n",
    "xetra_new.to_sql('XETRA',cnx,if_exists='append',index=False)\n",
    "units.to_sql('currencies',cnx,if_exists='replace',index=False)\n",
    "\n",
    "cnx.close()"
   ]
  },
  {
   "cell_type": "markdown",
   "metadata": {},
   "source": [
    "# load the new xetra list and populate sql database with keyratios"
   ]
  },
  {
   "cell_type": "code",
   "execution_count": 44,
   "metadata": {},
   "outputs": [
    {
     "ename": "AttributeError",
     "evalue": "'NoneType' object has no attribute 'to_sql'",
     "output_type": "error",
     "traceback": [
      "\u001b[0;31m---------------------------------------------------------------------------\u001b[0m",
      "\u001b[0;31mAttributeError\u001b[0m                            Traceback (most recent call last)",
      "\u001b[0;32m<ipython-input-44-bdffb6a813dd>\u001b[0m in \u001b[0;36m<module>\u001b[0;34m()\u001b[0m\n\u001b[1;32m      3\u001b[0m     \u001b[0mtable\u001b[0m \u001b[0;34m=\u001b[0m \u001b[0ms\u001b[0m\u001b[0;34m.\u001b[0m\u001b[0misin\u001b[0m\u001b[0;34m[\u001b[0m\u001b[0;36m0\u001b[0m\u001b[0;34m:\u001b[0m\u001b[0;36m2\u001b[0m\u001b[0;34m]\u001b[0m\u001b[0;34m\u001b[0m\u001b[0m\n\u001b[1;32m      4\u001b[0m     \u001b[0mcnx\u001b[0m \u001b[0;34m=\u001b[0m \u001b[0msqlite3\u001b[0m\u001b[0;34m.\u001b[0m\u001b[0mconnect\u001b[0m\u001b[0;34m(\u001b[0m\u001b[0;34m'database/keyratios/stocks_keyratios_{0}.db'\u001b[0m\u001b[0;34m.\u001b[0m\u001b[0mformat\u001b[0m\u001b[0;34m(\u001b[0m\u001b[0mtable\u001b[0m\u001b[0;34m)\u001b[0m\u001b[0;34m)\u001b[0m\u001b[0;34m\u001b[0m\u001b[0m\n\u001b[0;32m----> 5\u001b[0;31m     \u001b[0ms\u001b[0m\u001b[0;34m.\u001b[0m\u001b[0mkeyratios\u001b[0m\u001b[0;34m.\u001b[0m\u001b[0mto_sql\u001b[0m\u001b[0;34m(\u001b[0m\u001b[0ms\u001b[0m\u001b[0;34m.\u001b[0m\u001b[0misin\u001b[0m\u001b[0;34m,\u001b[0m\u001b[0mcnx\u001b[0m\u001b[0;34m,\u001b[0m\u001b[0mif_exists\u001b[0m\u001b[0;34m=\u001b[0m\u001b[0;34m'replace'\u001b[0m\u001b[0;34m,\u001b[0m\u001b[0mindex\u001b[0m\u001b[0;34m=\u001b[0m\u001b[0mTrue\u001b[0m\u001b[0;34m)\u001b[0m\u001b[0;34m\u001b[0m\u001b[0m\n\u001b[0m\u001b[1;32m      6\u001b[0m     \u001b[0ms\u001b[0m\u001b[0;34m.\u001b[0m\u001b[0mswitch_next\u001b[0m\u001b[0;34m(\u001b[0m\u001b[0;34m)\u001b[0m\u001b[0;34m\u001b[0m\u001b[0m\n\u001b[1;32m      7\u001b[0m     \u001b[0mcnx\u001b[0m\u001b[0;34m.\u001b[0m\u001b[0mclose\u001b[0m\u001b[0;34m(\u001b[0m\u001b[0;34m)\u001b[0m\u001b[0;34m\u001b[0m\u001b[0m\n",
      "\u001b[0;31mAttributeError\u001b[0m: 'NoneType' object has no attribute 'to_sql'"
     ]
    }
   ],
   "source": [
    "s   = stocks(xetra)\n",
    "for _ in xetra.index:\n",
    "    table = s.is in[0:2]\n",
    "    cnx = sqlite3.connect('database/keyratios/stocks_keyratios_{0}.db'.format(table))\n",
    "    s.keyratios.to_s`xql(s.isin,cnx,if_exists='replace',index=True)\n",
    "    s.switch_next()\n",
    "    cnx.close()"
   ]
  },
  {
   "cell_type": "code",
   "execution_count": 45,
   "metadata": {
    "collapsed": true
   },
   "outputs": [],
   "source": [
    "cnx.close()"
   ]
  },
  {
   "cell_type": "markdown",
   "metadata": {
    "collapsed": true
   },
   "source": [
    "# Check keyvalue database consistency"
   ]
  },
  {
   "cell_type": "markdown",
   "metadata": {},
   "source": [
    "Download link for morningstar api with specification of the region:\n",
    "\n",
    "http://financials.morningstar.com/ajax/exportKR2CSV.html?t=AMP&region=AUS&culture=en_US\n",
    "\n",
    "http://financials.morningstar.com/ajax/exportKR2CSV.html?t=BAS&region=DEU&culture=en_US\n",
    "\n",
    "http://financials.morningstar.com/ajax/exportKR2CSV.html?t=RNO&region=FRA&culture=en_US\n",
    "\n",
    "http://financials.morningstar.com/ajax/exportKR2CSV.html?t=DCO&region=US&culture=en_US"
   ]
  },
  {
   "cell_type": "markdown",
   "metadata": {},
   "source": [
    "Script for downloading the keyratios:\n",
    "\n",
    "    170808_download_keyratios.py"
   ]
  },
  {
   "cell_type": "markdown",
   "metadata": {
    "collapsed": true
   },
   "source": [
    "http://financials.morningstar.com/ajax/exportKR2CSV.html?t=FB&region=DEU&culture=en_US"
   ]
  },
  {
   "cell_type": "markdown",
   "metadata": {
    "collapsed": true
   },
   "source": [
    "Find mismatches in the downloaded keyratios wrt XETRA list"
   ]
  },
  {
   "cell_type": "code",
   "execution_count": 68,
   "metadata": {
    "collapsed": true
   },
   "outputs": [],
   "source": [
    "country = {}\n",
    "country['AU'] = 'AUS'\n",
    "country['DE'] = 'DEU'\n",
    "country['GR'] = 'DEU'\n",
    "country['US'] = 'DEU'\n",
    "country['FR'] = 'FRA'\n",
    "country['CH'] = 'CH'\n",
    "country['GB'] = 'GB'\n",
    "country['JP'] = 'JP'"
   ]
  },
  {
   "cell_type": "code",
   "execution_count": 69,
   "metadata": {
    "collapsed": true
   },
   "outputs": [],
   "source": [
    "namenotfound = []\n",
    "of = open('WRONG_ASSOCIATION.dat','w')\n",
    "\n",
    "for i,v in xetra.iterrows():\n",
    "    ticker = v.Mnemonic\n",
    "    isin   = v.ISIN\n",
    "    \n",
    "    if isin[0:2] not in country.keys():\n",
    "        continue\n",
    "    \n",
    "    try:\n",
    "        with open('XETRA_ms_keyratios_new/{0}_{1}.csv'.format(country[isin[0:2]],ticker)) as f:\n",
    "            for line in f:\n",
    "                line = line.split('Ratios for')[-1]\n",
    "                line = line.replace('\\n','').replace('.','').lower()\n",
    "                line = line.replace(\"'\",'')\n",
    "                name = v.Instrument.split()[0].lower()\n",
    "                try:\n",
    "                    if name not in line and line.split()[0] not in name:\n",
    "                        keyline = line.split('Ratios for')[-1].replace('\\n','').upper()\n",
    "                        name    = v.Instrument\n",
    "                        of.write('{:50}|{:50}|{:5}\\n'.format(keyline, name,ticker)) \n",
    "                        namenotfound.append(ticker)\n",
    "                except UnicodeDecodeError:\n",
    "                    pass\n",
    "                break\n",
    "    except IOError:\n",
    "        pass\n",
    "    if i==-1:\n",
    "        break\n",
    "of.close()"
   ]
  },
  {
   "cell_type": "code",
   "execution_count": null,
   "metadata": {
    "collapsed": true
   },
   "outputs": [],
   "source": []
  },
  {
   "cell_type": "markdown",
   "metadata": {
    "collapsed": true
   },
   "source": [
    "# Read my fundmentals database"
   ]
  },
  {
   "cell_type": "code",
   "execution_count": 11,
   "metadata": {
    "collapsed": true
   },
   "outputs": [],
   "source": [
    "cnx          = sqlite3.connect('database/stocks_keyratios.db')\n",
    "fundamentals = pd.read_sql(\"SELECT * FROM fundamentals;\", cnx)"
   ]
  },
  {
   "cell_type": "code",
   "execution_count": 12,
   "metadata": {},
   "outputs": [
    {
     "data": {
      "text/plain": [
       "array(['AU000000AGG7', 'AU000000AMC4', 'AU000000AMP6', ..., 'USY384721251',\n",
       "       'USY5217N1183', 'CH0038863350'], dtype=object)"
      ]
     },
     "execution_count": 12,
     "metadata": {},
     "output_type": "execute_result"
    }
   ],
   "source": [
    "fundamentals.ISIN.unique()"
   ]
  },
  {
   "cell_type": "markdown",
   "metadata": {},
   "source": [
    "# Basic Algorithms \n",
    "## Get fundamentals for current stock"
   ]
  },
  {
   "cell_type": "code",
   "execution_count": 48,
   "metadata": {
    "collapsed": true
   },
   "outputs": [],
   "source": [
    "def get_fundamentals(fundamentals, isin):\n",
    "    return fundamentals[fundamentals.ISIN==isin]"
   ]
  },
  {
   "cell_type": "markdown",
   "metadata": {},
   "source": [
    "# get earnings growth"
   ]
  },
  {
   "cell_type": "code",
   "execution_count": 49,
   "metadata": {
    "collapsed": true
   },
   "outputs": [],
   "source": [
    "df = get_fundamentals(fundamentals, 'DE0008430026')"
   ]
  },
  {
   "cell_type": "code",
   "execution_count": 50,
   "metadata": {
    "collapsed": true
   },
   "outputs": [],
   "source": [
    "def get_earnings_growth(df):\n",
    "    \n",
    "    '''Returns earnings growth for all companies earning money'''\n",
    "    \n",
    "    # select only companies that have earned money in all years taken into account\n",
    "    if (df.NetIncome < 0).any(): \n",
    "        return None\n",
    "    \n",
    "    # get the last three years of data [final]\n",
    "    dff = df[df['year'].between(df.year.max()-2,df.year.max(), inclusive=True)]\n",
    "    # get the first three years of data [initial]\n",
    "    dfi = df[df['year'].between(df.year.min(),df.year.min()+2, inclusive=True)]\n",
    "    \n",
    "    mean_earnings_final = dff.NetIncome.mean()\n",
    "    mean_earnings_initi = dfi.NetIncome.mean()\n",
    "    \n",
    "    earnings_growth =(mean_earnings_final - mean_earnings_initi)/mean_earnings_initi\n",
    "    \n",
    "    if mean_earnings_initi > 0 and mean_earnings_final > 0:\n",
    "        return earnings_growth\n",
    "    else:\n",
    "        return None"
   ]
  },
  {
   "cell_type": "code",
   "execution_count": 239,
   "metadata": {},
   "outputs": [
    {
     "name": "stderr",
     "output_type": "stream",
     "text": [
      "/home/phermes/.conda/envs/py36/lib/python3.6/site-packages/ipykernel_launcher.py:17: RuntimeWarning: invalid value encountered in double_scalars\n"
     ]
    }
   ],
   "source": [
    "data = []\n",
    "s  = stocks(xetra)\n",
    "for _ in range(0,len(xetra)):\n",
    "    df = get_fundamentals(fundamentals, s.isin)\n",
    "    eg = get_earnings_growth(df)\n",
    "    if not pd.isnull(eg) and eg<np.inf and eg>-np.inf:\n",
    "        data.append([s.name,s.isin,eg])\n",
    "    s.switch_next()\n",
    "data = pd.DataFrame(data,columns=['name','isin','eg'])"
   ]
  },
  {
   "cell_type": "code",
   "execution_count": 240,
   "metadata": {},
   "outputs": [
    {
     "data": {
      "text/html": [
       "<div>\n",
       "<style>\n",
       "    .dataframe thead tr:only-child th {\n",
       "        text-align: right;\n",
       "    }\n",
       "\n",
       "    .dataframe thead th {\n",
       "        text-align: left;\n",
       "    }\n",
       "\n",
       "    .dataframe tbody tr th {\n",
       "        vertical-align: top;\n",
       "    }\n",
       "</style>\n",
       "<table border=\"1\" class=\"dataframe\">\n",
       "  <thead>\n",
       "    <tr style=\"text-align: right;\">\n",
       "      <th></th>\n",
       "      <th>name</th>\n",
       "      <th>isin</th>\n",
       "      <th>eg</th>\n",
       "    </tr>\n",
       "  </thead>\n",
       "  <tbody>\n",
       "    <tr>\n",
       "      <th>0</th>\n",
       "      <td>AMCOR LTD</td>\n",
       "      <td>AU000000AMC4</td>\n",
       "      <td>0.771912</td>\n",
       "    </tr>\n",
       "    <tr>\n",
       "      <th>1</th>\n",
       "      <td>ANSELL LTD.</td>\n",
       "      <td>AU000000ANN9</td>\n",
       "      <td>0.554180</td>\n",
       "    </tr>\n",
       "    <tr>\n",
       "      <th>2</th>\n",
       "      <td>A.N.Z. BKG GRP</td>\n",
       "      <td>AU000000ANZ3</td>\n",
       "      <td>0.960640</td>\n",
       "    </tr>\n",
       "    <tr>\n",
       "      <th>3</th>\n",
       "      <td>ASX LTD.</td>\n",
       "      <td>AU000000ASX7</td>\n",
       "      <td>0.240493</td>\n",
       "    </tr>\n",
       "    <tr>\n",
       "      <th>4</th>\n",
       "      <td>BRAMBLES LTD</td>\n",
       "      <td>AU000000BXB1</td>\n",
       "      <td>0.052288</td>\n",
       "    </tr>\n",
       "    <tr>\n",
       "      <th>5</th>\n",
       "      <td>COCA-COLA AMATIL</td>\n",
       "      <td>AU000000CCL2</td>\n",
       "      <td>-0.204367</td>\n",
       "    </tr>\n",
       "    <tr>\n",
       "      <th>6</th>\n",
       "      <td>CIMIC GROUP</td>\n",
       "      <td>AU000000CIM7</td>\n",
       "      <td>0.471636</td>\n",
       "    </tr>\n",
       "    <tr>\n",
       "      <th>7</th>\n",
       "      <td>COCHLEAR LTD</td>\n",
       "      <td>AU000000COH5</td>\n",
       "      <td>0.239884</td>\n",
       "    </tr>\n",
       "    <tr>\n",
       "      <th>8</th>\n",
       "      <td>COMPUTERSHARE LTD.</td>\n",
       "      <td>AU000000CPU5</td>\n",
       "      <td>-0.231031</td>\n",
       "    </tr>\n",
       "    <tr>\n",
       "      <th>9</th>\n",
       "      <td>DOMINOS PIZZA ENTERPR.LTD</td>\n",
       "      <td>AU000000DMP0</td>\n",
       "      <td>4.222222</td>\n",
       "    </tr>\n",
       "    <tr>\n",
       "      <th>10</th>\n",
       "      <td>HARVEY NORMAN HLDGS</td>\n",
       "      <td>AU000000HVN7</td>\n",
       "      <td>-0.153218</td>\n",
       "    </tr>\n",
       "    <tr>\n",
       "      <th>11</th>\n",
       "      <td>MACQUARIE GROUP LTD</td>\n",
       "      <td>AU000000MQG1</td>\n",
       "      <td>0.723953</td>\n",
       "    </tr>\n",
       "    <tr>\n",
       "      <th>12</th>\n",
       "      <td>NATL AUSTR. BK</td>\n",
       "      <td>AU000000NAB4</td>\n",
       "      <td>0.024096</td>\n",
       "    </tr>\n",
       "    <tr>\n",
       "      <th>13</th>\n",
       "      <td>NAVITAS LTD</td>\n",
       "      <td>AU000000NVT2</td>\n",
       "      <td>0.700000</td>\n",
       "    </tr>\n",
       "    <tr>\n",
       "      <th>14</th>\n",
       "      <td>ORIGIN ENERGY LTD.</td>\n",
       "      <td>AU000000ORG5</td>\n",
       "      <td>-0.695652</td>\n",
       "    </tr>\n",
       "    <tr>\n",
       "      <th>15</th>\n",
       "      <td>RAMSAY HEALTH</td>\n",
       "      <td>AU000000RHC8</td>\n",
       "      <td>2.737705</td>\n",
       "    </tr>\n",
       "    <tr>\n",
       "      <th>16</th>\n",
       "      <td>SUNCORP GROUP LTD.</td>\n",
       "      <td>AU000000SUN6</td>\n",
       "      <td>0.882126</td>\n",
       "    </tr>\n",
       "    <tr>\n",
       "      <th>17</th>\n",
       "      <td>TELSTRA CORP. LTD</td>\n",
       "      <td>AU000000TLS2</td>\n",
       "      <td>0.296606</td>\n",
       "    </tr>\n",
       "    <tr>\n",
       "      <th>18</th>\n",
       "      <td>WESFARMERS LTD</td>\n",
       "      <td>AU000000WES1</td>\n",
       "      <td>0.642243</td>\n",
       "    </tr>\n",
       "    <tr>\n",
       "      <th>19</th>\n",
       "      <td>WOODSIDE PET.</td>\n",
       "      <td>AU000000WPL2</td>\n",
       "      <td>-0.015084</td>\n",
       "    </tr>\n",
       "    <tr>\n",
       "      <th>20</th>\n",
       "      <td>SIKA AG  INH.     SF 0,60</td>\n",
       "      <td>CH0000587979</td>\n",
       "      <td>0.740476</td>\n",
       "    </tr>\n",
       "    <tr>\n",
       "      <th>21</th>\n",
       "      <td>PHOENIX MECANO INH. SF 1</td>\n",
       "      <td>CH0002187810</td>\n",
       "      <td>-0.438202</td>\n",
       "    </tr>\n",
       "    <tr>\n",
       "      <th>22</th>\n",
       "      <td>HIGHLIGHT CMNCTS INH.SF 1</td>\n",
       "      <td>CH0006539198</td>\n",
       "      <td>-0.450000</td>\n",
       "    </tr>\n",
       "    <tr>\n",
       "      <th>23</th>\n",
       "      <td>GURIT HLDG AG INH. SF  50</td>\n",
       "      <td>CH0008012236</td>\n",
       "      <td>0.276596</td>\n",
       "    </tr>\n",
       "    <tr>\n",
       "      <th>24</th>\n",
       "      <td>BARRY CALLEBAUT NA SF18,6</td>\n",
       "      <td>CH0009002962</td>\n",
       "      <td>0.269784</td>\n",
       "    </tr>\n",
       "    <tr>\n",
       "      <th>25</th>\n",
       "      <td>LINDT SPRUENGLI NAM.SF100</td>\n",
       "      <td>CH0010570759</td>\n",
       "      <td>0.580332</td>\n",
       "    </tr>\n",
       "    <tr>\n",
       "      <th>26</th>\n",
       "      <td>LINDT SPRUENGLI PS  SF 10</td>\n",
       "      <td>CH0010570767</td>\n",
       "      <td>0.580332</td>\n",
       "    </tr>\n",
       "    <tr>\n",
       "      <th>27</th>\n",
       "      <td>INFICON HLDG AG NA  SF 5</td>\n",
       "      <td>CH0011029946</td>\n",
       "      <td>0.507042</td>\n",
       "    </tr>\n",
       "    <tr>\n",
       "      <th>28</th>\n",
       "      <td>NOVARTIS NAM.     SF 0,50</td>\n",
       "      <td>CH0012005267</td>\n",
       "      <td>0.270501</td>\n",
       "    </tr>\n",
       "    <tr>\n",
       "      <th>29</th>\n",
       "      <td>ROCHE HLDG AG GEN.</td>\n",
       "      <td>CH0012032048</td>\n",
       "      <td>0.043630</td>\n",
       "    </tr>\n",
       "    <tr>\n",
       "      <th>...</th>\n",
       "      <td>...</td>\n",
       "      <td>...</td>\n",
       "      <td>...</td>\n",
       "    </tr>\n",
       "    <tr>\n",
       "      <th>652</th>\n",
       "      <td>VCA INC.         DL -,001</td>\n",
       "      <td>US9181941017</td>\n",
       "      <td>0.541667</td>\n",
       "    </tr>\n",
       "    <tr>\n",
       "      <th>653</th>\n",
       "      <td>V.F. CORP.</td>\n",
       "      <td>US9182041080</td>\n",
       "      <td>0.939850</td>\n",
       "    </tr>\n",
       "    <tr>\n",
       "      <th>654</th>\n",
       "      <td>VALLEY NATL BANCORP</td>\n",
       "      <td>US9197941076</td>\n",
       "      <td>-0.058394</td>\n",
       "    </tr>\n",
       "    <tr>\n",
       "      <th>655</th>\n",
       "      <td>VALMONT IND. INC.    DL 1</td>\n",
       "      <td>US9202531011</td>\n",
       "      <td>0.373702</td>\n",
       "    </tr>\n",
       "    <tr>\n",
       "      <th>656</th>\n",
       "      <td>VECTOR GRP LTD     DL-,10</td>\n",
       "      <td>US92240M1080</td>\n",
       "      <td>-0.061798</td>\n",
       "    </tr>\n",
       "    <tr>\n",
       "      <th>657</th>\n",
       "      <td>VERIZON COMM. INC. DL-,10</td>\n",
       "      <td>US92343V1044</td>\n",
       "      <td>1.412337</td>\n",
       "    </tr>\n",
       "    <tr>\n",
       "      <th>658</th>\n",
       "      <td>VIACOM INC. A     DL-,001</td>\n",
       "      <td>US92553P1021</td>\n",
       "      <td>0.222382</td>\n",
       "    </tr>\n",
       "    <tr>\n",
       "      <th>659</th>\n",
       "      <td>VIACOM INC. B     DL-,001</td>\n",
       "      <td>US92553P2011</td>\n",
       "      <td>0.228584</td>\n",
       "    </tr>\n",
       "    <tr>\n",
       "      <th>660</th>\n",
       "      <td>WD-40 CO.        DL -,001</td>\n",
       "      <td>US9292361071</td>\n",
       "      <td>0.651163</td>\n",
       "    </tr>\n",
       "    <tr>\n",
       "      <th>661</th>\n",
       "      <td>WGL HOLDINGS         DL 1</td>\n",
       "      <td>US92924F1066</td>\n",
       "      <td>0.178674</td>\n",
       "    </tr>\n",
       "    <tr>\n",
       "      <th>662</th>\n",
       "      <td>WABTEC CORP. (WESTINGHOUSE)</td>\n",
       "      <td>US9297401088</td>\n",
       "      <td>2.239264</td>\n",
       "    </tr>\n",
       "    <tr>\n",
       "      <th>663</th>\n",
       "      <td>WAL-MART STRS      DL-,10</td>\n",
       "      <td>US9311421039</td>\n",
       "      <td>0.048011</td>\n",
       "    </tr>\n",
       "    <tr>\n",
       "      <th>664</th>\n",
       "      <td>WATERS CORP.       DL-,01</td>\n",
       "      <td>US9418481035</td>\n",
       "      <td>0.752463</td>\n",
       "    </tr>\n",
       "    <tr>\n",
       "      <th>665</th>\n",
       "      <td>WELLS FARGO + CO.DL 1,666</td>\n",
       "      <td>US9497461015</td>\n",
       "      <td>2.548453</td>\n",
       "    </tr>\n",
       "    <tr>\n",
       "      <th>666</th>\n",
       "      <td>WERNER ENTERPR.   DL -,01</td>\n",
       "      <td>US9507551086</td>\n",
       "      <td>0.247934</td>\n",
       "    </tr>\n",
       "    <tr>\n",
       "      <th>667</th>\n",
       "      <td>WESTN DIGITAL      DL-,01</td>\n",
       "      <td>US9581021055</td>\n",
       "      <td>0.748553</td>\n",
       "    </tr>\n",
       "    <tr>\n",
       "      <th>668</th>\n",
       "      <td>WHIRLPOOL CORP.      DL 1</td>\n",
       "      <td>US9633201069</td>\n",
       "      <td>0.556673</td>\n",
       "    </tr>\n",
       "    <tr>\n",
       "      <th>669</th>\n",
       "      <td>WHOLE FOODS MKT</td>\n",
       "      <td>US9668371068</td>\n",
       "      <td>2.644944</td>\n",
       "    </tr>\n",
       "    <tr>\n",
       "      <th>670</th>\n",
       "      <td>WILLIAMS-SONOMA INC.DL-01</td>\n",
       "      <td>US9699041011</td>\n",
       "      <td>2.044554</td>\n",
       "    </tr>\n",
       "    <tr>\n",
       "      <th>671</th>\n",
       "      <td>WOLVERINE WORLD WIDE  DL1</td>\n",
       "      <td>US9780971035</td>\n",
       "      <td>0.256410</td>\n",
       "    </tr>\n",
       "    <tr>\n",
       "      <th>672</th>\n",
       "      <td>WOODWARD INC.  DL-,001455</td>\n",
       "      <td>US9807451037</td>\n",
       "      <td>0.681529</td>\n",
       "    </tr>\n",
       "    <tr>\n",
       "      <th>673</th>\n",
       "      <td>WORLD FUEL SVCS    DL-,01</td>\n",
       "      <td>US9814751064</td>\n",
       "      <td>1.252137</td>\n",
       "    </tr>\n",
       "    <tr>\n",
       "      <th>674</th>\n",
       "      <td>WYNN RESORTS LTD   DL-,01</td>\n",
       "      <td>US9831341071</td>\n",
       "      <td>0.129469</td>\n",
       "    </tr>\n",
       "    <tr>\n",
       "      <th>675</th>\n",
       "      <td>XCEL ENERGY       DL 2,50</td>\n",
       "      <td>US98389B1008</td>\n",
       "      <td>0.742618</td>\n",
       "    </tr>\n",
       "    <tr>\n",
       "      <th>676</th>\n",
       "      <td>XILINX INC.        DL-,01</td>\n",
       "      <td>US9839191015</td>\n",
       "      <td>0.616651</td>\n",
       "    </tr>\n",
       "    <tr>\n",
       "      <th>677</th>\n",
       "      <td>YANZHOU COAL MNG H ADR/10</td>\n",
       "      <td>US9848461052</td>\n",
       "      <td>-0.572748</td>\n",
       "    </tr>\n",
       "    <tr>\n",
       "      <th>678</th>\n",
       "      <td>ZIMMER BIOMET HLDGS DL-01</td>\n",
       "      <td>US98956P1021</td>\n",
       "      <td>-0.498931</td>\n",
       "    </tr>\n",
       "    <tr>\n",
       "      <th>679</th>\n",
       "      <td>ZUMIEZ INC.</td>\n",
       "      <td>US9898171015</td>\n",
       "      <td>0.558824</td>\n",
       "    </tr>\n",
       "    <tr>\n",
       "      <th>680</th>\n",
       "      <td>HYUNDAI MOT.0,5N.VTG GDRS</td>\n",
       "      <td>USY384721251</td>\n",
       "      <td>4.684439</td>\n",
       "    </tr>\n",
       "    <tr>\n",
       "      <th>681</th>\n",
       "      <td>LARSEN+TOUBRO GDR/1 IR 2</td>\n",
       "      <td>USY5217N1183</td>\n",
       "      <td>0.949651</td>\n",
       "    </tr>\n",
       "  </tbody>\n",
       "</table>\n",
       "<p>682 rows × 3 columns</p>\n",
       "</div>"
      ],
      "text/plain": [
       "                            name          isin        eg\n",
       "0                      AMCOR LTD  AU000000AMC4  0.771912\n",
       "1                    ANSELL LTD.  AU000000ANN9  0.554180\n",
       "2                 A.N.Z. BKG GRP  AU000000ANZ3  0.960640\n",
       "3                       ASX LTD.  AU000000ASX7  0.240493\n",
       "4                   BRAMBLES LTD  AU000000BXB1  0.052288\n",
       "5               COCA-COLA AMATIL  AU000000CCL2 -0.204367\n",
       "6                    CIMIC GROUP  AU000000CIM7  0.471636\n",
       "7                   COCHLEAR LTD  AU000000COH5  0.239884\n",
       "8             COMPUTERSHARE LTD.  AU000000CPU5 -0.231031\n",
       "9      DOMINOS PIZZA ENTERPR.LTD  AU000000DMP0  4.222222\n",
       "10           HARVEY NORMAN HLDGS  AU000000HVN7 -0.153218\n",
       "11           MACQUARIE GROUP LTD  AU000000MQG1  0.723953\n",
       "12                NATL AUSTR. BK  AU000000NAB4  0.024096\n",
       "13                   NAVITAS LTD  AU000000NVT2  0.700000\n",
       "14            ORIGIN ENERGY LTD.  AU000000ORG5 -0.695652\n",
       "15                 RAMSAY HEALTH  AU000000RHC8  2.737705\n",
       "16            SUNCORP GROUP LTD.  AU000000SUN6  0.882126\n",
       "17             TELSTRA CORP. LTD  AU000000TLS2  0.296606\n",
       "18                WESFARMERS LTD  AU000000WES1  0.642243\n",
       "19                 WOODSIDE PET.  AU000000WPL2 -0.015084\n",
       "20     SIKA AG  INH.     SF 0,60  CH0000587979  0.740476\n",
       "21      PHOENIX MECANO INH. SF 1  CH0002187810 -0.438202\n",
       "22     HIGHLIGHT CMNCTS INH.SF 1  CH0006539198 -0.450000\n",
       "23     GURIT HLDG AG INH. SF  50  CH0008012236  0.276596\n",
       "24     BARRY CALLEBAUT NA SF18,6  CH0009002962  0.269784\n",
       "25     LINDT SPRUENGLI NAM.SF100  CH0010570759  0.580332\n",
       "26     LINDT SPRUENGLI PS  SF 10  CH0010570767  0.580332\n",
       "27      INFICON HLDG AG NA  SF 5  CH0011029946  0.507042\n",
       "28     NOVARTIS NAM.     SF 0,50  CH0012005267  0.270501\n",
       "29            ROCHE HLDG AG GEN.  CH0012032048  0.043630\n",
       "..                           ...           ...       ...\n",
       "652    VCA INC.         DL -,001  US9181941017  0.541667\n",
       "653                   V.F. CORP.  US9182041080  0.939850\n",
       "654          VALLEY NATL BANCORP  US9197941076 -0.058394\n",
       "655    VALMONT IND. INC.    DL 1  US9202531011  0.373702\n",
       "656    VECTOR GRP LTD     DL-,10  US92240M1080 -0.061798\n",
       "657    VERIZON COMM. INC. DL-,10  US92343V1044  1.412337\n",
       "658    VIACOM INC. A     DL-,001  US92553P1021  0.222382\n",
       "659    VIACOM INC. B     DL-,001  US92553P2011  0.228584\n",
       "660    WD-40 CO.        DL -,001  US9292361071  0.651163\n",
       "661    WGL HOLDINGS         DL 1  US92924F1066  0.178674\n",
       "662  WABTEC CORP. (WESTINGHOUSE)  US9297401088  2.239264\n",
       "663    WAL-MART STRS      DL-,10  US9311421039  0.048011\n",
       "664    WATERS CORP.       DL-,01  US9418481035  0.752463\n",
       "665    WELLS FARGO + CO.DL 1,666  US9497461015  2.548453\n",
       "666    WERNER ENTERPR.   DL -,01  US9507551086  0.247934\n",
       "667    WESTN DIGITAL      DL-,01  US9581021055  0.748553\n",
       "668    WHIRLPOOL CORP.      DL 1  US9633201069  0.556673\n",
       "669              WHOLE FOODS MKT  US9668371068  2.644944\n",
       "670    WILLIAMS-SONOMA INC.DL-01  US9699041011  2.044554\n",
       "671    WOLVERINE WORLD WIDE  DL1  US9780971035  0.256410\n",
       "672    WOODWARD INC.  DL-,001455  US9807451037  0.681529\n",
       "673    WORLD FUEL SVCS    DL-,01  US9814751064  1.252137\n",
       "674    WYNN RESORTS LTD   DL-,01  US9831341071  0.129469\n",
       "675    XCEL ENERGY       DL 2,50  US98389B1008  0.742618\n",
       "676    XILINX INC.        DL-,01  US9839191015  0.616651\n",
       "677    YANZHOU COAL MNG H ADR/10  US9848461052 -0.572748\n",
       "678    ZIMMER BIOMET HLDGS DL-01  US98956P1021 -0.498931\n",
       "679                  ZUMIEZ INC.  US9898171015  0.558824\n",
       "680    HYUNDAI MOT.0,5N.VTG GDRS  USY384721251  4.684439\n",
       "681     LARSEN+TOUBRO GDR/1 IR 2  USY5217N1183  0.949651\n",
       "\n",
       "[682 rows x 3 columns]"
      ]
     },
     "execution_count": 240,
     "metadata": {},
     "output_type": "execute_result"
    }
   ],
   "source": [
    "data"
   ]
  },
  {
   "cell_type": "code",
   "execution_count": null,
   "metadata": {
    "collapsed": true
   },
   "outputs": [],
   "source": []
  },
  {
   "cell_type": "code",
   "execution_count": null,
   "metadata": {
    "collapsed": true
   },
   "outputs": [],
   "source": []
  },
  {
   "cell_type": "code",
   "execution_count": null,
   "metadata": {
    "collapsed": true
   },
   "outputs": [],
   "source": []
  },
  {
   "cell_type": "code",
   "execution_count": null,
   "metadata": {
    "collapsed": true
   },
   "outputs": [],
   "source": []
  },
  {
   "cell_type": "code",
   "execution_count": 161,
   "metadata": {},
   "outputs": [
    {
     "data": {
      "image/png": "[encoded data removed]",
      "text/plain": [
       "<matplotlib.figure.Figure at 0x7fe75d90bef0>"
      ]
     },
     "metadata": {},
     "output_type": "display_data"
    }
   ],
   "source": [
    "plt.hist(data.eg[data.eg!=0],bins=1000)\n",
    "plt.xlim(-1,30)\n",
    "plt.show()"
   ]
  },
  {
   "cell_type": "code",
   "execution_count": 163,
   "metadata": {},
   "outputs": [
    {
     "data": {
      "text/plain": [
       "count    682.000000\n",
       "mean       0.990223\n",
       "std        2.434721\n",
       "min       -0.908225\n",
       "25%        0.035761\n",
       "50%        0.536502\n",
       "75%        1.225961\n",
       "max       46.484878\n",
       "Name: eg, dtype: float64"
      ]
     },
     "execution_count": 163,
     "metadata": {},
     "output_type": "execute_result"
    }
   ],
   "source": [
    "data.eg.describe()"
   ]
  },
  {
   "cell_type": "code",
   "execution_count": 228,
   "metadata": {
    "collapsed": true
   },
   "outputs": [],
   "source": [
    "dataset1 = data[(data.eg>1.0) & (data.eg<3.0)]"
   ]
  },
  {
   "cell_type": "code",
   "execution_count": 175,
   "metadata": {},
   "outputs": [
    {
     "data": {
      "image/png": "[encoded data removed]",
      "text/plain": [
       "<matplotlib.figure.Figure at 0x7fe75d4207f0>"
      ]
     },
     "metadata": {},
     "output_type": "display_data"
    }
   ],
   "source": [
    "data.hist(bins=30)\n",
    "plt.show()"
   ]
  },
  {
   "cell_type": "code",
   "execution_count": 204,
   "metadata": {
    "collapsed": true
   },
   "outputs": [],
   "source": [
    "dataset1 = data"
   ]
  },
  {
   "cell_type": "code",
   "execution_count": null,
   "metadata": {
    "collapsed": true
   },
   "outputs": [],
   "source": []
  },
  {
   "cell_type": "code",
   "execution_count": null,
   "metadata": {
    "collapsed": true
   },
   "outputs": [],
   "source": []
  },
  {
   "cell_type": "markdown",
   "metadata": {},
   "source": [
    "Get Book Value "
   ]
  },
  {
   "cell_type": "code",
   "execution_count": null,
   "metadata": {
    "collapsed": true
   },
   "outputs": [],
   "source": []
  },
  {
   "cell_type": "code",
   "execution_count": 241,
   "metadata": {
    "collapsed": true
   },
   "outputs": [],
   "source": [
    "def get_bookvalue_growth(df):\n",
    "    \n",
    "    '''Returns earnings growth for all companies earning money'''\n",
    "    \n",
    "    # get the last three years of data [final]\n",
    "    dff = df[df['year'].between(df.year.max()-2,df.year.max(), inclusive=True)]\n",
    "    # get the first three years of data [initial]\n",
    "    dfi = df[df['year'].between(df.year.min(),df.year.min()+2, inclusive=True)]\n",
    "    \n",
    "    mean_bookvalue_final = dff.BookValuePerShare.mean()\n",
    "    mean_bookvalue_initi = dfi.BookValuePerShare.mean()\n",
    "    \n",
    "    bookval_growth =(mean_bookvalue_final - mean_bookvalue_initi)/mean_bookvalue_initi\n",
    "    \n",
    "    if mean_bookvalue_final<0 or mean_bookvalue_initi<0:\n",
    "        return None\n",
    "    \n",
    "    return bookval_growth"
   ]
  },
  {
   "cell_type": "code",
   "execution_count": 245,
   "metadata": {
    "collapsed": true
   },
   "outputs": [],
   "source": [
    "data = []\n",
    "s  = stocks(xetra)\n",
    "for _ in range(0,len(xetra)):\n",
    "    df = get_fundamentals(fundamentals, s.isin)\n",
    "    bg = get_bookvalue_growth(df)\n",
    "    if not pd.isnull(bg) and bg<np.inf and bg>-np.inf:\n",
    "        data.append([s.name,s.isin,bg])\n",
    "    s.switch_next()\n",
    "data = pd.DataFrame(data,columns=['name','isin','bg'])"
   ]
  },
  {
   "cell_type": "code",
   "execution_count": 247,
   "metadata": {
    "collapsed": true
   },
   "outputs": [],
   "source": [
    "dataset2 = data"
   ]
  },
  {
   "cell_type": "code",
   "execution_count": 190,
   "metadata": {},
   "outputs": [
    {
     "data": {
      "text/html": [
       "<div>\n",
       "<style>\n",
       "    .dataframe thead tr:only-child th {\n",
       "        text-align: right;\n",
       "    }\n",
       "\n",
       "    .dataframe thead th {\n",
       "        text-align: left;\n",
       "    }\n",
       "\n",
       "    .dataframe tbody tr th {\n",
       "        vertical-align: top;\n",
       "    }\n",
       "</style>\n",
       "<table border=\"1\" class=\"dataframe\">\n",
       "  <thead>\n",
       "    <tr style=\"text-align: right;\">\n",
       "      <th></th>\n",
       "      <th>bg</th>\n",
       "    </tr>\n",
       "  </thead>\n",
       "  <tbody>\n",
       "    <tr>\n",
       "      <th>count</th>\n",
       "      <td>1307.000000</td>\n",
       "    </tr>\n",
       "    <tr>\n",
       "      <th>mean</th>\n",
       "      <td>0.933369</td>\n",
       "    </tr>\n",
       "    <tr>\n",
       "      <th>std</th>\n",
       "      <td>2.161165</td>\n",
       "    </tr>\n",
       "    <tr>\n",
       "      <th>min</th>\n",
       "      <td>-1.000000</td>\n",
       "    </tr>\n",
       "    <tr>\n",
       "      <th>25%</th>\n",
       "      <td>0.096022</td>\n",
       "    </tr>\n",
       "    <tr>\n",
       "      <th>50%</th>\n",
       "      <td>0.592141</td>\n",
       "    </tr>\n",
       "    <tr>\n",
       "      <th>75%</th>\n",
       "      <td>1.175456</td>\n",
       "    </tr>\n",
       "    <tr>\n",
       "      <th>max</th>\n",
       "      <td>36.686567</td>\n",
       "    </tr>\n",
       "  </tbody>\n",
       "</table>\n",
       "</div>"
      ],
      "text/plain": [
       "                bg\n",
       "count  1307.000000\n",
       "mean      0.933369\n",
       "std       2.161165\n",
       "min      -1.000000\n",
       "25%       0.096022\n",
       "50%       0.592141\n",
       "75%       1.175456\n",
       "max      36.686567"
      ]
     },
     "execution_count": 190,
     "metadata": {},
     "output_type": "execute_result"
    }
   ],
   "source": [
    "data.describe()"
   ]
  },
  {
   "cell_type": "code",
   "execution_count": 199,
   "metadata": {},
   "outputs": [
    {
     "data": {
      "image/png": "[encoded data removed]",
      "text/plain": [
       "<matplotlib.figure.Figure at 0x7fe75ec04e48>"
      ]
     },
     "metadata": {},
     "output_type": "display_data"
    }
   ],
   "source": [
    "data.bg.hist(bins=700)\n",
    "plt.xlim(-1,10)\n",
    "plt.show()"
   ]
  },
  {
   "cell_type": "markdown",
   "metadata": {
    "collapsed": true
   },
   "source": [
    "## Get return on equity"
   ]
  },
  {
   "cell_type": "code",
   "execution_count": 77,
   "metadata": {
    "collapsed": true
   },
   "outputs": [],
   "source": [
    "data = pd.Series()\n",
    "for _isin in fundamentals.ISIN.unique():\n",
    "    df = get_fundamentals(fundamentals, _isin)\n",
    "    data = data.append(df['ReturnonEquity'],ignore_index=True)\n",
    "data=data[(data>-100) & (data<100)]"
   ]
  },
  {
   "cell_type": "code",
   "execution_count": 80,
   "metadata": {},
   "outputs": [
    {
     "data": {
      "image/png": "[encoded data removed]",
      "text/plain": [
       "<matplotlib.figure.Figure at 0x7f2a7560bef0>"
      ]
     },
     "metadata": {},
     "output_type": "display_data"
    }
   ],
   "source": [
    "plt.hist(data,bins=1000)\n",
    "plt.xlabel('Return on Equity [%]')\n",
    "plt.show()"
   ]
  },
  {
   "cell_type": "code",
   "execution_count": 81,
   "metadata": {},
   "outputs": [
    {
     "data": {
      "text/plain": [
       "count    16375.000000\n",
       "mean         8.899710\n",
       "std         21.079034\n",
       "min        -99.820000\n",
       "25%          3.690000\n",
       "50%         10.180000\n",
       "75%         17.540000\n",
       "max         99.730000\n",
       "dtype: float64"
      ]
     },
     "execution_count": 81,
     "metadata": {},
     "output_type": "execute_result"
    }
   ],
   "source": [
    "data.describe()"
   ]
  },
  {
   "cell_type": "markdown",
   "metadata": {},
   "source": [
    "Algo strategy: select stocks which have a return on equity above x percent of all others. \n",
    "\n",
    "Backtesting: make sure to use only data which is known at the year of buying"
   ]
  },
  {
   "cell_type": "markdown",
   "metadata": {
    "collapsed": true
   },
   "source": [
    "## Check keyratios"
   ]
  },
  {
   "cell_type": "code",
   "execution_count": 9,
   "metadata": {
    "collapsed": true
   },
   "outputs": [],
   "source": [
    "s.keyratios"
   ]
  },
  {
   "cell_type": "code",
   "execution_count": null,
   "metadata": {
    "collapsed": true
   },
   "outputs": [],
   "source": []
  },
  {
   "cell_type": "code",
   "execution_count": null,
   "metadata": {
    "collapsed": true
   },
   "outputs": [],
   "source": []
  },
  {
   "cell_type": "code",
   "execution_count": null,
   "metadata": {
    "collapsed": true
   },
   "outputs": [],
   "source": []
  },
  {
   "cell_type": "code",
   "execution_count": null,
   "metadata": {
    "collapsed": true
   },
   "outputs": [],
   "source": []
  },
  {
   "cell_type": "markdown",
   "metadata": {
    "collapsed": true
   },
   "source": [
    "## Get quotes from database"
   ]
  },
  {
   "cell_type": "code",
   "execution_count": 6,
   "metadata": {
    "collapsed": true
   },
   "outputs": [],
   "source": [
    "s = stocks(xetra)\n",
    "s.switch_isin('DE0005790430')"
   ]
  },
  {
   "cell_type": "code",
   "execution_count": 7,
   "metadata": {
    "collapsed": true
   },
   "outputs": [],
   "source": [
    "cnq        = sqlite3.connect('database/stocks_quotes.db')\n",
    "quote      = pd.read_sql(\"SELECT * FROM `quotes` WHERE `isin` LIKE '%{0}%';\".format(s.isin), cnq)"
   ]
  },
  {
   "cell_type": "code",
   "execution_count": 8,
   "metadata": {},
   "outputs": [
    {
     "data": {
      "image/png": "[encoded data removed]",
      "text/plain": [
       "<matplotlib.figure.Figure at 0x7f8e10450cf8>"
      ]
     },
     "metadata": {},
     "output_type": "display_data"
    }
   ],
   "source": [
    "plt.plot(quote.close)\n",
    "plt.show()"
   ]
  },
  {
   "cell_type": "code",
   "execution_count": 19,
   "metadata": {},
   "outputs": [
    {
     "data": {
      "text/plain": [
       "('DE0005790430', 'FUCHS PETROL.SE VZO O.N.')"
      ]
     },
     "execution_count": 19,
     "metadata": {},
     "output_type": "execute_result"
    }
   ],
   "source": [
    "s.isin, s.name"
   ]
  },
  {
   "cell_type": "code",
   "execution_count": 14,
   "metadata": {},
   "outputs": [
    {
     "data": {
      "text/plain": [
       "'1999-03-16 00:00:00'"
      ]
     },
     "execution_count": 14,
     "metadata": {},
     "output_type": "execute_result"
    }
   ],
   "source": [
    "test = quote.date[0]\n",
    "test"
   ]
  },
  {
   "cell_type": "code",
   "execution_count": 19,
   "metadata": {
    "collapsed": true
   },
   "outputs": [],
   "source": [
    "dt.datetime.strptime??"
   ]
  },
  {
   "cell_type": "code",
   "execution_count": 36,
   "metadata": {
    "collapsed": true
   },
   "outputs": [],
   "source": [
    "def convert_dt(string):\n",
    "    return dt.datetime.strptime(string,'%Y-%m-%d %H:%M:%S')"
   ]
  },
  {
   "cell_type": "code",
   "execution_count": 41,
   "metadata": {
    "collapsed": true
   },
   "outputs": [],
   "source": [
    "quote['date'] = quote['date'].apply(convert_dt)"
   ]
  },
  {
   "cell_type": "code",
   "execution_count": 43,
   "metadata": {},
   "outputs": [
    {
     "data": {
      "image/png": "[encoded data removed]",
      "text/plain": [
       "<matplotlib.figure.Figure at 0x7f2a7947e7b8>"
      ]
     },
     "metadata": {},
     "output_type": "display_data"
    }
   ],
   "source": [
    "plt.plot(quote.date,quote.close)\n",
    "plt.show()"
   ]
  },
  {
   "cell_type": "code",
   "execution_count": 44,
   "metadata": {},
   "outputs": [
    {
     "ename": "AttributeError",
     "evalue": "'DataFrame' object has no attribute 'unique'",
     "output_type": "error",
     "traceback": [
      "\u001b[0;31m---------------------------------------------------------------------------\u001b[0m",
      "\u001b[0;31mAttributeError\u001b[0m                            Traceback (most recent call last)",
      "\u001b[0;32m<ipython-input-44-76b251c1b48b>\u001b[0m in \u001b[0;36m<module>\u001b[0;34m()\u001b[0m\n\u001b[0;32m----> 1\u001b[0;31m \u001b[0mquote\u001b[0m \u001b[0;34m=\u001b[0m \u001b[0mquote\u001b[0m\u001b[0;34m.\u001b[0m\u001b[0munique\u001b[0m\u001b[0;34m(\u001b[0m\u001b[0;34m)\u001b[0m\u001b[0;34m\u001b[0m\u001b[0m\n\u001b[0m",
      "\u001b[0;32m/home/phermes/.conda/envs/py36/lib/python3.6/site-packages/pandas/core/generic.py\u001b[0m in \u001b[0;36m__getattr__\u001b[0;34m(self, name)\u001b[0m\n\u001b[1;32m   3079\u001b[0m             \u001b[0;32mif\u001b[0m \u001b[0mname\u001b[0m \u001b[0;32min\u001b[0m \u001b[0mself\u001b[0m\u001b[0;34m.\u001b[0m\u001b[0m_info_axis\u001b[0m\u001b[0;34m:\u001b[0m\u001b[0;34m\u001b[0m\u001b[0m\n\u001b[1;32m   3080\u001b[0m                 \u001b[0;32mreturn\u001b[0m \u001b[0mself\u001b[0m\u001b[0;34m[\u001b[0m\u001b[0mname\u001b[0m\u001b[0;34m]\u001b[0m\u001b[0;34m\u001b[0m\u001b[0m\n\u001b[0;32m-> 3081\u001b[0;31m             \u001b[0;32mreturn\u001b[0m \u001b[0mobject\u001b[0m\u001b[0;34m.\u001b[0m\u001b[0m__getattribute__\u001b[0m\u001b[0;34m(\u001b[0m\u001b[0mself\u001b[0m\u001b[0;34m,\u001b[0m \u001b[0mname\u001b[0m\u001b[0;34m)\u001b[0m\u001b[0;34m\u001b[0m\u001b[0m\n\u001b[0m\u001b[1;32m   3082\u001b[0m \u001b[0;34m\u001b[0m\u001b[0m\n\u001b[1;32m   3083\u001b[0m     \u001b[0;32mdef\u001b[0m \u001b[0m__setattr__\u001b[0m\u001b[0;34m(\u001b[0m\u001b[0mself\u001b[0m\u001b[0;34m,\u001b[0m \u001b[0mname\u001b[0m\u001b[0;34m,\u001b[0m \u001b[0mvalue\u001b[0m\u001b[0;34m)\u001b[0m\u001b[0;34m:\u001b[0m\u001b[0;34m\u001b[0m\u001b[0m\n",
      "\u001b[0;31mAttributeError\u001b[0m: 'DataFrame' object has no attribute 'unique'"
     ]
    }
   ],
   "source": [
    "quote.date.unique()"
   ]
  },
  {
   "cell_type": "markdown",
   "metadata": {
    "collapsed": true
   },
   "source": [
    "# Toms' algo to load dividend history"
   ]
  },
  {
   "cell_type": "code",
   "execution_count": null,
   "metadata": {
    "collapsed": true
   },
   "outputs": [],
   "source": [
    "\n",
    "class HistoryDownloader(object):\n",
    "    u\"\"\"Downloads history from http://financials.morningstar.com/\n",
    "    \"\"\"\n",
    "\n",
    "    def __init__(self, table_prefix = u'morningstar_'):\n",
    "        u\"\"\"Constructs the HistoryDownloader instance.\n",
    "        :param table_prefix: Prefix of the MySQL tables.\n",
    "        \"\"\"\n",
    "        self._table_prefix = table_prefix\n",
    "    \n",
    "    def download(self, ticker, start, stop, conn = None):\n",
    "        u\"\"\"Downloads and returns a dictionary containing pandas.DataFrames\n",
    "        representing the history (i.e. dividend history, OHLC Volume Ticker,\n",
    "        fairvalue ???) for the given Morningstar ticker. If the MySQL connection\n",
    "        is specified then the downloaded financials are uploaded to the MySQL\n",
    "        database.\n",
    "        :param ticker: Morningstar ticker.\n",
    "        :param start: starting date for history \n",
    "        :param stop : end date for history\n",
    "        :param conn: MySQL connection.\n",
    "        :return Dictionary containing pandas.DataFrames representing the\n",
    "        financials for the given Morningstar ticker.\n",
    "        \"\"\"\n",
    "        result = {}\n",
    "\n",
    "        ##########################\n",
    "        # Error Handling\n",
    "        ##########################\n",
    "\n",
    "        # Empty String\n",
    "        if len(ticker) == 0:\n",
    "            raise ValueError(\"You did not enter a ticker symbol.  Please\"\n",
    "                             \" try again.\")\n",
    "        \n",
    "        frame = self._download(ticker, start, stop)\n",
    "        result['dividend_table'] = frame[0]\n",
    "        result['history_table'] = frame[1]\n",
    "        result['fairvalue_table'] = frame[2]\n",
    "#         for report_type, table_name in [\n",
    "#                 (u'DividendData', u'dividend_history'),\n",
    "#                 (u'bs', u'balance_sheet'),\n",
    "#                 (u'cf', u'cash_flow')]:\n",
    "#             frame = self._download(ticker, start, stop)\n",
    "#             result[table_name] = frame\n",
    "#             if conn:\n",
    "#                 self._upload_frame(\n",
    "#                     frame, ticker, self._table_prefix + table_name, conn)\n",
    "#         if conn:\n",
    "#             self._upload_unit(ticker, self._table_prefix + u'unit', conn)\n",
    "#         result[u'period_range'] = self._period_range\n",
    "#         result[u'fiscal_year_end'] = self._fiscal_year_end\n",
    "#         result[u'currency'] = self._currency\n",
    "        return result\n",
    "    \n",
    "    def _parse_morningstar_hist_dict_to_dfs(self,jsondata):\n",
    "        \"\"\" \n",
    "        Parses the downloaded data into 3 dataframes : dividend historical data, \n",
    "historical data and fair value data\n",
    "        \"\"\"\n",
    "        df_dividend = pd.DataFrame(jsondata['DividendData'])\n",
    "        df_dividend.Desc= [float(y[0]) if len(y)>0 else np.NaN for y in \n",
    "[re.findall(\"\\d+\\.\\d+\",x) for x in df_dividend.Desc.values]]\n",
    "        list_dt = [serial_date_to_string(t) for t in \n",
    "jsondata['PriceDataList'][0]['DateIndexs']]\n",
    "        list_volume = [int(round(j*1e6)) for j in \n",
    "jsondata['VolumeList']['Datapoints']]\n",
    "        list_columns = [\"Open\",\"High\",\"Low\",\"Close\"]\n",
    "        list_symbol = [jsondata['PriceDataList'][0]['Symbol']] * len(list_volume)\n",
    "        df_hist = \n",
    "pd.DataFrame(jsondata['PriceDataList'][0]['Datapoints'],columns=list_columns)\n",
    "        df_hist['Date'] = list_dt\n",
    "        df_hist['Volume'] = list_volume\n",
    "        df_hist['Symbol'] = list_symbol\n",
    "        df_fairvalue = pd.DataFrame(jsondata['FairValueList'])\n",
    "    #     df_min = pd.DataFrame(JSONDATA['Min'])\n",
    "    #     df_max = pd.DataFrame(JSONDATA['Max'])\n",
    "    #     df_pricetype = pd.DataFrame(JSONDATA['PriceType'])\n",
    "        return df_dividend, df_hist, df_fairvalue\n",
    "    \n",
    "    def _download(self, ticker, start, stop):\n",
    "        u\"\"\"Downloads and returns a pandas.DataFrame corresponding to the\n",
    "        given Morningstar ticker and the given type of the report.\n",
    "        :param ticker: Morningstar ticker.\n",
    "        :param report_type: Type of the report ('is', 'bs', 'cf').\n",
    "        :return  pandas.DataFrame corresponding to the given Morningstar ticker\n",
    "        and the given type of the report.\n",
    "        \"\"\"\n",
    "        url = (r'http://globalquote.morningstar.com/globalcomponent/' +\n",
    "               r'RealtimeHistoricalStockData.ashx?ticker=' + ticker +\n",
    "               r'&showVol=true&dtype=his&f=d&curry=EUR&range=' + start + '|' + \n",
    "stop +\n",
    "               r'&isD=true&isS=true&hasF=true&ProdCode=DIRECT')\n",
    "        with urllib.request.urlopen(url) as response:\n",
    "            json_text = response.read().decode(u'utf-8')\n",
    "            # print(json_text)\n",
    "            ##############################\n",
    "            # Error Handling\n",
    "            ##############################\n",
    "\n",
    "            # Wrong ticker\n",
    "            if len(json_text)==0:\n",
    "                raise ValueError(\"MorningStar cannot find the ticker symbol \"\n",
    "                                 \"you entered or it is INVALID. Please try \"\n",
    "                                 \"again.\")\n",
    "\n",
    "            json_data = json.loads(json_text.replace('<br>','')) \n",
    "#s.replace('\\r\\n', '')\n",
    "            #print(json_data)\n",
    "        return self._parse_morningstar_hist_dict_to_dfs(json_data)"
   ]
  },
  {
   "cell_type": "code",
   "execution_count": null,
   "metadata": {
    "collapsed": true
   },
   "outputs": [],
   "source": []
  },
  {
   "cell_type": "code",
   "execution_count": null,
   "metadata": {
    "collapsed": true
   },
   "outputs": [],
   "source": [
    "url = (r'http://globalquote.morningstar.com/globalcomponent/' +\n",
    "               r'RealtimeHistoricalStockData.ashx?ticker=' + ticker +\n",
    "               r'&showVol=true&dtype=his&f=d&curry=EUR&range=' + start + '|' + \n",
    "stop +\n",
    "               r'&isD=true&isS=true&hasF=true&ProdCode=DIRECT')"
   ]
  },
  {
   "cell_type": "code",
   "execution_count": null,
   "metadata": {
    "collapsed": true
   },
   "outputs": [],
   "source": [
    "'http://globalquote.morningstar.com/globalcomponent/RealtimeHistoricalStockData.ashx?ticker=F&showVol=true&dtype=his&f=d&curry=USD&range=1900-1-1|2014-10-10&isD=true&isS=true&hasF=true&ProdCode=DIRECT '"
   ]
  }
 ],
 "metadata": {
  "kernelspec": {
   "display_name": "Python 3",
   "language": "python",
   "name": "python3"
  },
  "language_info": {
   "codemirror_mode": {
    "name": "ipython",
    "version": 3
   },
   "file_extension": ".py",
   "mimetype": "text/x-python",
   "name": "python",
   "nbconvert_exporter": "python",
   "pygments_lexer": "ipython3",
   "version": "3.6.1"
  }
 },
 "nbformat": 4,
 "nbformat_minor": 2
}
