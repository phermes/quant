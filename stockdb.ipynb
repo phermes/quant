{
 "cells": [
  {
   "cell_type": "code",
   "execution_count": 1,
   "metadata": {
    "collapsed": true
   },
   "outputs": [],
   "source": [
    "import pony.orm as po\n",
    "import numpy as np"
   ]
  },
  {
   "cell_type": "code",
   "execution_count": 2,
   "metadata": {
    "collapsed": false
   },
   "outputs": [],
   "source": [
    "db = po.Database()"
   ]
  },
  {
   "cell_type": "code",
   "execution_count": 3,
   "metadata": {
    "collapsed": false
   },
   "outputs": [
    {
     "ename": "ERDiagramError",
     "evalue": "Attribute Fundamentals.year conflicts with attribute Balance.year because both entities inherit from Company. To fix this, move attribute definition to base class",
     "output_type": "error",
     "traceback": [
      "\u001b[0;31m---------------------------------------------------------------------------\u001b[0m",
      "\u001b[0;31mERDiagramError\u001b[0m                            Traceback (most recent call last)",
      "\u001b[0;32m<ipython-input-3-e8cc316d2273>\u001b[0m in \u001b[0;36m<module>\u001b[0;34m()\u001b[0m\n\u001b[1;32m     42\u001b[0m     \u001b[0mtotlia\u001b[0m   \u001b[0;34m=\u001b[0m \u001b[0mpo\u001b[0m\u001b[0;34m.\u001b[0m\u001b[0mOptional\u001b[0m\u001b[0;34m(\u001b[0m\u001b[0mfloat\u001b[0m\u001b[0;34m)\u001b[0m                \u001b[0;31m# total liabilities\u001b[0m\u001b[0;34m\u001b[0m\u001b[0m\n\u001b[1;32m     43\u001b[0m \u001b[0;34m\u001b[0m\u001b[0m\n\u001b[0;32m---> 44\u001b[0;31m \u001b[0;32mclass\u001b[0m \u001b[0mFundamentals\u001b[0m\u001b[0;34m(\u001b[0m\u001b[0mCompany\u001b[0m\u001b[0;34m)\u001b[0m\u001b[0;34m:\u001b[0m\u001b[0;34m\u001b[0m\u001b[0m\n\u001b[0m\u001b[1;32m     45\u001b[0m \u001b[0;31m#     company  = po.Required(Company)\u001b[0m\u001b[0;34m\u001b[0m\u001b[0;34m\u001b[0m\u001b[0m\n\u001b[1;32m     46\u001b[0m \u001b[0;31m#     balance  = po.Required(balance)              # balance\u001b[0m\u001b[0;34m\u001b[0m\u001b[0;34m\u001b[0m\u001b[0m\n",
      "\u001b[0;32m/home/phermes/.local/lib/python2.7/site-packages/pony/orm/core.pyc\u001b[0m in \u001b[0;36m__init__\u001b[0;34m(entity, name, bases, cls_dict)\u001b[0m\n",
      "\u001b[0;32m/home/phermes/.local/lib/python2.7/site-packages/pony/utils/utils.pyc\u001b[0m in \u001b[0;36mcut_traceback\u001b[0;34m(func, *args, **kwargs)\u001b[0m\n\u001b[1;32m     73\u001b[0m             \u001b[0;32mif\u001b[0m \u001b[0mtb\u001b[0m\u001b[0;34m.\u001b[0m\u001b[0mtb_frame\u001b[0m\u001b[0;34m.\u001b[0m\u001b[0mf_globals\u001b[0m\u001b[0;34m.\u001b[0m\u001b[0mget\u001b[0m\u001b[0;34m(\u001b[0m\u001b[0;34m'__name__'\u001b[0m\u001b[0;34m)\u001b[0m \u001b[0;34m==\u001b[0m \u001b[0;34m'pony.utils'\u001b[0m \u001b[0;32mand\u001b[0m \u001b[0mtb\u001b[0m\u001b[0;34m.\u001b[0m\u001b[0mtb_frame\u001b[0m\u001b[0;34m.\u001b[0m\u001b[0mf_code\u001b[0m\u001b[0;34m.\u001b[0m\u001b[0mco_name\u001b[0m \u001b[0;34m==\u001b[0m \u001b[0;34m'throw'\u001b[0m\u001b[0;34m:\u001b[0m\u001b[0;34m\u001b[0m\u001b[0m\n\u001b[1;32m     74\u001b[0m                 \u001b[0mreraise\u001b[0m\u001b[0;34m(\u001b[0m\u001b[0mexc_type\u001b[0m\u001b[0;34m,\u001b[0m \u001b[0mexc\u001b[0m\u001b[0;34m,\u001b[0m \u001b[0mlast_pony_tb\u001b[0m\u001b[0;34m)\u001b[0m\u001b[0;34m\u001b[0m\u001b[0m\n\u001b[0;32m---> 75\u001b[0;31m             \u001b[0;32mraise\u001b[0m \u001b[0mexc\u001b[0m  \u001b[0;31m# Set \"pony.options.CUT_TRACEBACK = False\" to see full traceback\u001b[0m\u001b[0;34m\u001b[0m\u001b[0m\n\u001b[0m\u001b[1;32m     76\u001b[0m         \u001b[0;32mfinally\u001b[0m\u001b[0;34m:\u001b[0m\u001b[0;34m\u001b[0m\u001b[0m\n\u001b[1;32m     77\u001b[0m             \u001b[0;32mdel\u001b[0m \u001b[0mexc\u001b[0m\u001b[0;34m,\u001b[0m \u001b[0mtb\u001b[0m\u001b[0;34m,\u001b[0m \u001b[0mlast_pony_tb\u001b[0m\u001b[0;34m\u001b[0m\u001b[0m\n",
      "\u001b[0;31mERDiagramError\u001b[0m: Attribute Fundamentals.year conflicts with attribute Balance.year because both entities inherit from Company. To fix this, move attribute definition to base class"
     ]
    }
   ],
   "source": [
    "# A2A    IT0001233417   A2A 255 A2A-S-P-A-Aktie-IT0001233417    EAM.F     FTMIB.MDD    0\n",
    "\n",
    "class Company(db.Entity):\n",
    "    isin      = po.PrimaryKey(str)     # company isin\n",
    "    name      = po.Required(str,unique=True)       # company name\n",
    "    ticker    = po.Required(str,unique=True)       # ticker symbol\n",
    "    bench     = po.Set('Benchmark')                # ticker symbol of benchmark\n",
    "    branch    = po.Set('Branch')                   # branch\n",
    "    competitor= po.Set('Company')\n",
    "\n",
    "class Benchmark(db.Entity):\n",
    "    bench    = po.Required(str)\n",
    "    \n",
    "class Web_resources(Company):\n",
    "    finanzen = po.Required(str)                  # link to finanzen.net\n",
    "    onvista  = po.Required(str)                  # link to onvista (fundamentals) \n",
    "    page     = po.Optional(str)                  # company webpage\n",
    "    \n",
    "class Branch(Company):\n",
    "    bname   = po.Optional(str)\n",
    "    \n",
    "class Balance(Company):\n",
    "#     company  = po.Required(Company)\n",
    "    year     = po.Required(int) \n",
    "    currency = po.Required(str)                  # currency\n",
    "    # Current Assets\n",
    "    totass   = po.Optional(float)                # Total Assets\n",
    "    cash     = po.Optional(float)\n",
    "    mark_sec = po.Optional(float)                # marketable securities\n",
    "    acco_rec = po.Optional(float)                # accounts receivable\n",
    "    note_rec = po.Optional(float)                # notes receivable\n",
    "    invent   = po.Optional(float)                # inventory\n",
    "    prep_exp = po.Optional(float)                # prepaid expenses\n",
    "    # Long Term Assets\n",
    "    invest   = po.Optional(float)                # investments\n",
    "    fixe_ass = po.Optional(float)                # fixed assets\n",
    "    othe_ass = po.Optional(float)                # other assets\n",
    "    inta_ass = po.Optional(float)                # intangiable assets\n",
    "    # Current Liabilities\n",
    "    curr_lia = po.Optional(float)                # current liabilities\n",
    "    long_lia = po.Optional(float)                # long term liabilities\n",
    "    totlia   = po.Optional(float)                # total liabilities\n",
    "    \n",
    "class Fundamentals(Company):\n",
    "#     company  = po.Required(Company)\n",
    "#     balance  = po.Required(balance)              # balance\n",
    "    year     = po.Required(int)\n",
    "    EPS      = po.Optional(float)                # earnings per share\n",
    "    PER      = po.Optional(float)                # price earnings ratio\n",
    "    dividend = po.Optional(float)                # dividend\n",
    "    divyield = po.Optional(float)                # dividend yield\n",
    "    CPS      = po.Optional(float)                # cashflow per share\n",
    "    \n",
    "class Income_Statement(Company):\n",
    "#     company  = po.Required(Company)\n",
    "    year     = po.Required(int)       \n",
    "    currency = po.Required(str)\n",
    "    #\n",
    "    tot_rev  = po.Optional(float)                # total revenues\n",
    "    tot_cost = po.Optional(float)                # total cost and expenses\n",
    "    inc_oper = po.Optional(float)                # income from operations\n",
    "    pro_inct = po.Optional(float)                # provision for income taxes\n",
    "    net_incn = po.Optional(float)                # net income per share basic\n",
    "    net_incd = po.Optional(float)                # net income per share diluted\n",
    "    \n",
    "    "
   ]
  },
  {
   "cell_type": "code",
   "execution_count": 9,
   "metadata": {
    "collapsed": false
   },
   "outputs": [],
   "source": [
    "# db.bind('sqlite', ':memory:')\n",
    "# pwd\n",
    "db.bind('sqlite', '/home/phermes/Dropbox/codes/python/170102_stocks_sql/stockdb.sqlite', create_db=True)"
   ]
  },
  {
   "cell_type": "code",
   "execution_count": 7,
   "metadata": {
    "collapsed": false
   },
   "outputs": [
    {
     "data": {
      "text/plain": [
       "u'/home/phermes/Dropbox/codes/python/170102_stocks_sql'"
      ]
     },
     "execution_count": 7,
     "metadata": {},
     "output_type": "execute_result"
    }
   ],
   "source": [
    "pwd"
   ]
  },
  {
   "cell_type": "code",
   "execution_count": 10,
   "metadata": {
    "collapsed": false
   },
   "outputs": [],
   "source": [
    "db.generate_mapping(create_tables=True)"
   ]
  },
  {
   "cell_type": "code",
   "execution_count": 11,
   "metadata": {
    "collapsed": true
   },
   "outputs": [],
   "source": [
    "data = np.genfromtxt('stocks.lst',dtype='str')\n",
    "webp = np.genfromtxt('webpages.lst',dtype='str')"
   ]
  },
  {
   "cell_type": "code",
   "execution_count": 12,
   "metadata": {
    "collapsed": false
   },
   "outputs": [],
   "source": [
    "for [name, isin, finanzen, non, onvista, tick, btick, branch] in data:\n",
    "    \n",
    "    c1 = Company(\n",
    "            isin     =  isin,\n",
    "            name     =  name,\n",
    "            ticker   =  tick,\n",
    "            bench    =  btick,\n",
    "            branch   =  branch\n",
    "                )\n",
    "    \n",
    "    try:\n",
    "        w = webp[webp[:,0]==isin][0][1]\n",
    "    except:\n",
    "        w = 'http://www.google.com'\n",
    "        \n",
    "    w1 = Web_resources(\n",
    "            company  = c1,\n",
    "            onvista  = onvista,\n",
    "            finanzen = finanzen,\n",
    "            page     = w,\n",
    "            )\n",
    "    \n",
    "db.commit()"
   ]
  },
  {
   "cell_type": "code",
   "execution_count": 13,
   "metadata": {
    "collapsed": true
   },
   "outputs": [],
   "source": []
  },
  {
   "cell_type": "code",
   "execution_count": null,
   "metadata": {
    "collapsed": true
   },
   "outputs": [],
   "source": []
  },
  {
   "cell_type": "code",
   "execution_count": 12,
   "metadata": {
    "collapsed": false
   },
   "outputs": [
    {
     "name": "stdout",
     "output_type": "stream",
     "text": [
      "id |company     |finanzen            |onvista             |page                \n",
      "---+------------+--------------------+--------------------+--------------------\n",
      "1  |Company[1]  |A2A                 |A2A-S-P-A-Aktie-I...|http://www.a2a.eu...\n",
      "2  |Company[2]  |Aareal_Bank         |Aareal-Bank-Aktie...|http://www.aareal...\n",
      "3  |Company[3]  |ABB_1               |ABB-LTD-Aktie-US0...|http://www.abb.com  \n",
      "4  |Company[4]  |ABB                 |ABB-Aktie-CH00122...|http://www.abb.com  \n",
      "5  |Company[5]  |Abbott_Laboratories |ABBOTT-LABORATORI...|http://www.abbott...\n",
      "6  |Company[6]  |Abengoa             |ABENGOA-S-A-Aktie...|http://www.abengo...\n",
      "7  |Company[7]  |AbercrombieFitch    |ABERCROMBIE-Aktie...|http://www.abercr...\n",
      "8  |Company[8]  |Aberdeen_Asset_Ma...|ABERDEEN-ASSET-MA...|http://www.aberde...\n",
      "9  |Company[9]  |Abertis_Infraestr...|ABERTIS-INFRAESTR...|http://www.aberti...\n",
      "10 |Company[10] |ABIOMED             |ABIOMED-Aktie-US0...|http://www.abiome...\n",
      "11 |Company[11] |ACADIA_Pharmaceut...|ACADIA-PHARMA-Akt...|http://www.acadia...\n",
      "12 |Company[12] |Accenture           |ACCENTURE-PLC-Akt...|http://www.accent...\n",
      "13 |Company[13] |Acciona             |ACCIONA-S-A-Aktie...|http://www.accion...\n",
      "14 |Company[14] |Accor               |ACCOR-S-A-Aktie-F...|http://www.accor....\n",
      "15 |Company[15] |ACE_2               |ACE-LIMITED-Aktie...|http://www.ace.bm   \n",
      "16 |Company[16] |Acerinox            |ACERINOX-S-A-Akti...|http://www.acerin...\n",
      "17 |Company[17] |Ackermansvan_Haaren |ACKERMANS-VAN-HAA...|http://www.google...\n",
      "18 |Company[18] |Acom                |ACOM-Aktie-JP3108...|http://www.acom.c...\n",
      "19 |Company[19] |Acorda_Therapeutics,|ACORDA-THERAPEUTI...|http://www.acorda...\n",
      "20 |Company[20] |ACS                 |ACS-ACTIVIDADES-D...|http://www.grupoa...\n",
      "21 |Company[21] |Actelion            |ACTELION-LTD-Akti...|http://www.acteli...\n",
      "22 |Company[22] |Activa_Resources    |ACTIVA-RESOURCES-...|http://www.activa...\n",
      "23 |Company[23] |Active_Power        |ACTIVE-POWER-Akti...|http://www.active...\n",
      "24 |Company[24] |Activision_Blizzard |Activision-Blizza...|http://www.activi...\n",
      "25 |Company[25] |Actuant             |ACTUANT-CORPORATI...|http://www.actuan...\n",
      "26 |Company[26] |Acuity_Brands       |ACUITY-BRANDS-Akt...|http://www.google...\n",
      "27 |Company[27] |AdCapital           |ADCAPITAL-AG-Akti...|http://www.adcapi...\n",
      "28 |Company[28] |Adesso              |ADESSO-AG-Aktie-D...|http://www.adesso...\n",
      "29 |Company[29] |Admiral_Group       |ADMIRAL-GROUP-PLC...|http://www.admira...\n",
      "30 |Company[30] |Adroit_Resources    |ADROIT-RESOURCES-...|http://www.google...\n",
      "31 |Company[31] |ADTRAN              |ADTRAN-Aktie-US00...|http://www.adtran...\n",
      "32 |Company[32] |Advance_Auto_Parts  |ADVANCE-AUTO-PART...|http://www.advanc...\n",
      "33 |Company[33] |Advanced_Info_Ser...|None                |http://www.google...\n",
      "34 |Company[34] |Advanced_Vision_T...|None                |http://www.google...\n",
      "35 |Company[35] |Advantest           |ADVANTEST-Aktie-J...|http://www.advant...\n",
      "36 |Company[36] |ADVA_Optical_Netw...|Adva-Aktie-DE0005...|http://www.advaop...\n",
      "37 |Company[37] |AEGON               |AEGON-N-V-Aktie-N...|http://www.aegon.com\n",
      "38 |Company[38] |Aeon                |AEON-Aktie-JP3388...|http://www.aeon.info\n",
      "39 |Company[39] |AEROFLOT-Rossiysk...|AEROFLOT-Aktie-US...|http://www.google...\n",
      "40 |Company[40] |Aeroports_de_Pari...|AROPORTS-DE-PARIS...|http://www.google...\n",
      "41 |Company[41] |Aeropostale         |AEROPOSTALE-Aktie...|http://www.google...\n",
      "42 |Company[42] |AES                 |THE-AES-CORPORATI...|http://www.aesc.com \n",
      "43 |Company[43] |Aetna               |AETNA-INC-Aktie-U...|http://www.aetna.com\n",
      "44 |Company[44] |Affiliated_Manage...|AFFILIATED-MANAGE...|http://www.amg.com  \n",
      "45 |Company[45] |Affymetrix          |AFFYMETRIX-INC-Ak...|http://www.affyme...\n",
      "46 |Company[46] |Aflac               |AFLAC-INCORPORATE...|http://www.aflac.com\n",
      "47 |Company[47] |African_Barrick_Gold|AFRICAN-BARRICK-G...|http://www.barric...\n",
      "48 |Company[48] |AGCO                |AGCO-CORPORATION-...|http://www.agcoco...\n",
      "49 |Company[49] |Agennix             |AGENNIX-AG-I-A-Ak...|http://www.agenni...\n",
      "50 |Company[50] |Agenus              |AGENUS-INC-Aktie-...|http://www.agenus...\n",
      "51 |Company[51] |Agfa-Gevaert        |AGFA-GEVAERT-Akti...|http://www.agfa.de  \n",
      "52 |Company[52] |Agilent_Technologies|AGILENT-TECHNOLOG...|http://www.agilen...\n",
      "53 |Company[53] |Agilysys            |AGILYSYS-INC-Akti...|http://www.agilys...\n",
      "54 |Company[54] |AGL_Energy          |AGL-ENERGY-Aktie-...|http://www.google...\n",
      "55 |Company[55] |AGL_Resources       |AGL-RESOURCES-Akt...|http://www.aglr.com \n",
      "56 |Company[56] |Agnico-Eagle_Mines  |AGNICO-EAGLE-MINE...|http://www.agnico...\n",
      "57 |Company[57] |AGRANA              |AGRANA-BETEILIGUN...|http://www.agrana...\n",
      "58 |Company[58] |Agricultural_Bank...|Agricultural-Bank...|http://www.google...\n",
      "59 |Company[59] |Ahlers              |AHLERS-AG-Aktie-D...|http://www.ahlers...\n",
      "60 |Company[60] |Ahlers_vz           |AHLERS-AG-Aktie-D...|http://www.ahlers...\n",
      "61 |Company[61] |Aiful               |AIFUL-Aktie-JP310...|http://www.aiful....\n",
      "62 |Company[62] |Air_Berlin          |Air-Berlin-Aktie-...|http://www.airber...\n",
      "63 |Company[63] |Airbus              |Airbus-Group-EADS...|http://www.airbus...\n",
      "64 |Company[64] |Air_France-KLM      |Air-France-KLM-Ak...|http://www.airfra...\n",
      "65 |Company[65] |Airgas              |AIRGAS-Aktie-US00...|http://www.airgas...\n",
      "66 |Company[66] |Air_Liquide         |Air-Liquide-Aktie...|http://www.airliq...\n",
      "67 |Company[67] |Air_Products_and_...|AIR-PRODS-CHEM-Ak...|http://www.airpro...\n",
      "68 |Company[68] |AIXTRON             |Aixtron-Aktie-DE0...|http://www.aixtro...\n",
      "69 |Company[69] |Ajinomoto           |AJINOMOTO-Aktie-J...|http://www.ajinom...\n",
      "70 |Company[70] |Akamai_Technologies |Akamai-Technologi...|http://www.akamai...\n",
      "71 |Company[71] |Aker_Kvaerner_AS    |AKASTOR-ASA-Aktie...|http://www.akerso...\n",
      "72 |Company[72] |AK_Steel            |AK-STEEL-HOLDING-...|http://www.akstee...\n",
      "73 |Company[73] |Akzo_Nobel          |AKZO-NOBEL-N-V-Ak...|http://www.akzono...\n",
      "74 |Company[74] |Alaska_Air_Group    |ALASKA-AIR-GROUP-...|http://www.alaska...\n",
      "75 |Company[75] |Alaska_Communicat...|ALASKA-COMMS-Akti...|http://www.google...\n",
      "76 |Company[76] |Albany_Molecular_...|ALBANY-MOLECULAR-...|http://www.amrigl...\n",
      "77 |Company[77] |Albemarle           |ALBEMARLE-CORPORA...|http://www.google...\n",
      "78 |Company[78] |ALBIS_Leasing       |ALBIS-LEASING-AG-...|http://www.albis-...\n",
      "79 |Company[79] |Alcatel-Lucent      |Alcatel-Lucent-Ak...|http://www.alcate...\n",
      "80 |Company[80] |Alcatel-Lucent_(S...|ALCATEL-LUCENT-Ak...|http://www.alcate...\n",
      "81 |Company[81] |Alcoa               |Alcoa-Aktie-US013...|http://www.alcoa.com\n",
      "82 |Company[82] |Alcyone_Resources   |ALCYONE-RESOURCES...|http://www.alcyon...\n",
      "83 |Company[83] |Aldridge_Minerals   |ALDRIDGE-MINERALS...|http://www.google...\n",
      "84 |Company[84] |Aleo_Solar          |ALEO-SOLAR-AG-I-L...|http://www.as-abw...\n",
      "85 |Company[85] |Alere               |ALERE-INC-Aktie-U...|http://www..alere...\n",
      "86 |Company[86] |Alexanderwerk       |ALEXANDERWERK-AG-...|http://www.alexan...\n",
      "87 |Company[87] |Alexion_Pharmaceu...|Alexion-Aktie-US0...|http://www.alxn.com/\n",
      "88 |Company[88] |Alfa_Laval_AB       |ALFA-LAVAL-Aktie-...|http://www.alfala...\n",
      "89 |Company[89] |Alibaba             |Alibaba-Aktie-US0...|http://www.alibab...\n",
      "90 |Company[90] |Align_Technology    |ALIGN-TECHNOLOGY-...|http://www.alignt...\n",
      "91 |Company[91] |Alkane_Energy       |ALKANE-ENERGY-Akt...|http://www.alkane...\n",
      "92 |Company[92] |Allegheny_Technol...|ALLEGHENY-TECHNOL...|http://www.allegh...\n",
      "93 |Company[93] |Allegiant_Travel    |ALLEGIANT-TRAVEL-...|http://www.allegi...\n",
      "94 |Company[94] |Allergan            |ALLERGAN-INC-Akti...|http://www.google...\n",
      "95 |Company[95] |Allete              |ALLETE-INC-Aktie-...|http://www.google...\n",
      "96 |Company[96] |All_for_One_Steeb   |ALL-FOR-ONE-STEEB...|http://www.all-fo...\n",
      "97 |Company[97] |Allgeier            |ALLGEIER-SE-Aktie...|http://www.allgei...\n",
      "98 |Company[98] |AllianceBernstein   |ALLIANCEBERNSTEIN...|http://www.allian...\n",
      "99 |Company[99] |Alliance_Data_Sys...|ALLIANCE-DATA-SYS...|http://www.allian...\n",
      "100|Company[100]|Alliance_Resource...|ALLIANCE-RSC-Akti...|http://www.arlp.com \n"
     ]
    }
   ],
   "source": [
    "po.select(c for c in Web_resources).order_by(Web_resources.id)[:100].show()"
   ]
  },
  {
   "cell_type": "code",
   "execution_count": 11,
   "metadata": {
    "collapsed": false
   },
   "outputs": [
    {
     "name": "stdout",
     "output_type": "stream",
     "text": [
      "id |isin        |name                               |ticker |bench    |branch\n",
      "---+------------+-----------------------------------+-------+---------+------\n",
      "1  |IT0001233417|A2A                                |EAM.F  |FTMIB.MDD|0     \n",
      "2  |DE0005408116|Aareal_Bank                        |ARL.DE |^GDAXI   |1     \n",
      "3  |US0003752047|ABB_1                              |ABJA.DE|^GSPC    |0     \n",
      "4  |CH0012221716|ABB                                |ABJ.DE |^SSMI    |0     \n",
      "5  |US0028241000|Abbott_Laboratories                |ABL.DE |^GSPC    |0     \n",
      "6  |ES0105200416|Abengoa                            |AYO.DE |^IBEX    |0     \n",
      "7  |US0028962076|AbercrombieFitch                   |AFT.F  |^GSPC    |0     \n",
      "8  |GB0000031285|Aberdeen_Asset_Management          |324.F  |^FTSE    |0     \n",
      "9  |ES0111845014|Abertis_Infraestructuras           |AUC.F  |^IBEX    |0     \n",
      "10 |US0036541003|ABIOMED                            |AIO.F  |^GSPC    |0     \n",
      "11 |US0042251084|ACADIA_Pharmaceuticals             |DR6.F  |^GSPC    |0     \n",
      "12 |IE00B4BNMY34|Accenture                          |CSA.F  |^ISEQ    |0     \n",
      "13 |ES0125220311|Acciona                            |AJ3.DE |^IBEX    |0     \n",
      "14 |FR0000120404|Accor                              |ACR.DE |^FCHI    |0     \n",
      "15 |CH0044328745|ACE_2                              |AEX.F  |^SSMI    |0     \n",
      "16 |ES0132105018|Acerinox                           |ACE1.F |^IBEX    |0     \n",
      "17 |BE0003764785|Ackermansvan_Haaren                |B3K.F  |^BFX     |0     \n",
      "18 |JP3108600002|Acom                               |AK5.F  |^N225    |0     \n",
      "19 |US00484M1062|Acorda_Therapeutics,               |CDG.F  |^GSPC    |0     \n",
      "20 |ES0167050915|ACS                                |OCI1.DE|^IBEX    |0     \n",
      "21 |CH0010532478|Actelion                           |ACT.DE |^SSMI    |0     \n",
      "22 |DE0007471377|Activa_Resources                   |NXI.DE |^GDAXI   |0     \n",
      "23 |US00504W3088|Active_Power                       |AC3A.F |^GSPC    |0     \n",
      "24 |US00507V1098|Activision_Blizzard                |AIY.F  |^GSPC    |0     \n",
      "25 |US00508X2036|Actuant                            |PW9.F  |^GSPC    |0     \n",
      "26 |US00508Y1029|Acuity_Brands                      |AQ8.F  |^GSPC    |0     \n",
      "27 |DE0005214506|AdCapital                          |ADC.F  |^GDAXI   |0     \n",
      "28 |DE000A0Z23Q5|Adesso                             |ADN1.DE|^GDAXI   |0     \n",
      "29 |GB00B02J6398|Admiral_Group                      |FLN.DE |^FTSE    |0     \n",
      "30 |CA0073681037|Adroit_Resources                   |A7V.F  |^GSPTSE  |0     \n",
      "31 |US00738A1060|ADTRAN                             |ATN.F  |^GSPC    |0     \n",
      "32 |US00751Y1064|Advance_Auto_Parts                 |AWN.F  |^GSPC    |0     \n",
      "33 |TH0268010Z11|Advanced_Info_Service_PCL          |AISF.F |XWD.TO   |0     \n",
      "34 |IL0010837248|Advanced_Vision_Technology         |VSJ.DE |XWD.TO   |0     \n",
      "35 |JP3122400009|Advantest                          |VAN.F  |^N225    |0     \n",
      "36 |DE0005103006|ADVA_Optical_Networking_SE         |ADV.DE |^GDAXI   |0     \n",
      "37 |NL0000303709|AEGON                              |AEND.DE|^AEX     |0     \n",
      "38 |JP3388200002|Aeon                               |JUS1.F |^N225    |0     \n",
      "39 |US0077711085|AEROFLOT-Rossiyskiye_Avialinii     |AETG.F |^GSPC    |0     \n",
      "40 |FR0010340141|Aeroports_de_Paris_ADPAct          |W7L.F  |^FCHI    |0     \n",
      "41 |US0078651082|Aeropostale                        |AO5.F  |^GSPC    |0     \n",
      "42 |US00130H1059|AES                                |AES.F  |^GSPC    |0     \n",
      "43 |US00817Y1082|Aetna                              |HE8.F  |^GSPC    |0     \n",
      "44 |US0082521081|Affiliated_Managers_Group          |AFS.F  |^GSPC    |0     \n",
      "45 |US00826T1088|Affymetrix                         |AFF.F  |^GSPC    |0     \n",
      "46 |US0010551028|Aflac                              |AFL.F  |^GSPC    |0     \n",
      "47 |GB00B61D2N63|African_Barrick_Gold               |33A.F  |^FTSE    |0     \n",
      "48 |US0010841023|AGCO                               |AGJ.DE |^GSPC    |0     \n",
      "49 |DE000A1A6XX4|Agennix                            |AGX.F  |^GDAXI   |0     \n",
      "50 |US00847G7051|Agenus                             |AJ81.F |^GSPC    |0     \n",
      "51 |BE0003755692|Agfa-Gevaert                       |AGE.DE |^BFX     |0     \n",
      "52 |US00846U1016|Agilent_Technologies               |AG8.F  |^GSPC    |0     \n",
      "53 |US00847J1051|Agilysys                           |PS3.F  |^GSPC    |0     \n",
      "54 |AU000000AGK9|AGL_Energy                         |N9Z.F  |^AORD    |0     \n",
      "55 |US0012041069|AGL_Resources                      |AG5.F  |^GSPC    |0     \n",
      "56 |CA0084741085|Agnico-Eagle_Mines                 |AE9.F  |^GSPTSE  |0     \n",
      "57 |AT0000603709|AGRANA                             |AGB1.F |^ATX     |0     \n",
      "58 |CNE100000Q43|Agricultural_Bank_of_China_(H)     |EK7.DE |000001.SS|1     \n",
      "59 |DE0005009708|Ahlers                             |AAH.F  |^GDAXI   |0     \n",
      "60 |DE0005009732|Ahlers_vz                          |AAH3.F |^GDAXI   |0     \n",
      "61 |JP3105040004|Aiful                              |AAU.F  |^N225    |0     \n",
      "62 |GB00B128C026|Air_Berlin                         |AB1.DE |^FTSE    |0     \n",
      "63 |NL0000235190|Airbus                             |AIR.DE |^AEX     |0     \n",
      "64 |FR0000031122|Air_France-KLM                     |AFR.F  |^FCHI    |0     \n",
      "65 |US0093631028|Airgas                             |AAS.F  |^GSPC    |0     \n",
      "66 |FR0000120073|Air_Liquide                        |AIL.DE |^FCHI    |0     \n",
      "67 |US0091581068|Air_Products_and_Chemicals         |AP3.F  |^GSPC    |0     \n",
      "68 |DE000A0WMPJ6|AIXTRON                            |AIXA.DE|^GDAXI   |0     \n",
      "69 |JP3119600009|Ajinomoto                          |AJI.F  |^N225    |0     \n",
      "70 |US00971T1016|Akamai_Technologies                |AK3.F  |^GSPC    |0     \n",
      "71 |NO0010215684|Aker_Kvaerner_AS                   |KY7.F  |OBXBID.OL|0     \n",
      "72 |US0015471081|AK_Steel                           |AK2.F  |^GSPC    |0     \n",
      "73 |NL0000009132|Akzo_Nobel                         |AKU.F  |^AEX     |0     \n",
      "74 |US0116591092|Alaska_Air_Group                   |ALK.F  |^GSPC    |0     \n",
      "75 |US01167P1012|Alaska_Communications_Systems_Group|QLA.F  |^GSPC    |0     \n",
      "76 |US0124231095|Albany_Molecular_Research          |AYM.F  |^GSPC    |0     \n",
      "77 |US0126531013|Albemarle                          |AMC    |^GSPC    |0     \n",
      "78 |DE0006569403|ALBIS_Leasing                      |ALG.DE |^GDAXI   |0     \n",
      "79 |FR0000130007|Alcatel-Lucent                     |CGE.DE |^FCHI    |0     \n",
      "80 |US0139043055|Alcatel-Lucent_(Spons_ADRs)        |CGEA.DE|^GSPC    |0     \n",
      "81 |US0138171014|Alcoa                              |ALU.DE |^GSPC    |0     \n",
      "82 |AU000000AYN6|Alcyone_Resources                  |MM8.F  |^AORD    |0     \n",
      "83 |CA0144301029|Aldridge_Minerals                  |AIW.F  |^GSPTSE  |0     \n",
      "84 |DE000A0JM634|Aleo_Solar                         |AS1.DE |^GDAXI   |0     \n",
      "85 |US01449J1051|Alere                              |IM5.F  |^GSPC    |0     \n",
      "86 |DE0005032007|Alexanderwerk                      |ALX.F  |^GDAXI   |0     \n",
      "87 |US0153511094|Alexion_Pharmaceuticals            |AXP.DE |^GSPC    |0     \n",
      "88 |SE0000695876|Alfa_Laval_AB                      |AA9.F  |^OMXS30  |0     \n",
      "89 |US01609W1027|Alibaba                            |AHLA.DE|^GSPC    |0     \n",
      "90 |US0162551016|Align_Technology                   |AFW.F  |^GSPC    |0     \n",
      "91 |GB0003286613|Alkane_Energy                      |EY2.F  |^FTSE    |0     \n",
      "92 |US01741R1023|Allegheny_Technologies             |ATD.F  |^GSPC    |0     \n",
      "93 |US01748X1028|Allegiant_Travel                   |AGH.F  |^GSPC    |0     \n",
      "94 |US0184901025|Allergan                           |AG4.F  |^GSPC    |0     \n",
      "95 |US0185223007|Allete                             |AEBA.F |^GSPC    |0     \n",
      "96 |DE0005110001|All_for_One_Steeb                  |A1OS.DE|^GDAXI   |0     \n",
      "97 |DE0005086300|Allgeier                           |AEI.DE |^GDAXI   |0     \n",
      "98 |US01881G1067|AllianceBernstein                  |W4M.F  |^GSPC    |0     \n",
      "99 |US0185811082|Alliance_Data_Systems              |LID.F  |^GSPC    |0     \n",
      "100|US01877R1086|Alliance_Resource_Partners_LP      |AR6.F  |^GSPC    |0     \n"
     ]
    }
   ],
   "source": [
    "po.select(c for c in Company).order_by(Company.id)[:100].show()"
   ]
  },
  {
   "cell_type": "code",
   "execution_count": null,
   "metadata": {
    "collapsed": true
   },
   "outputs": [],
   "source": []
  }
 ],
 "metadata": {
  "kernelspec": {
   "display_name": "Python 2",
   "language": "python",
   "name": "python2"
  },
  "language_info": {
   "codemirror_mode": {
    "name": "ipython",
    "version": 2
   },
   "file_extension": ".py",
   "mimetype": "text/x-python",
   "name": "python",
   "nbconvert_exporter": "python",
   "pygments_lexer": "ipython2",
   "version": "2.7.12"
  }
 },
 "nbformat": 4,
 "nbformat_minor": 2
}
