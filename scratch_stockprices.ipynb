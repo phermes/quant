{
 "cells": [
  {
   "cell_type": "code",
   "execution_count": 9,
   "metadata": {
    "collapsed": true
   },
   "outputs": [],
   "source": [
    "import pandas_datareader.data as web\n",
    "import datetime\n",
    "import pandas as pd\n",
    "import matplotlib.pyplot as plt\n",
    "import numpy as np\n",
    "from pandas import HDFStore\n",
    "import quandl as ql"
   ]
  },
  {
   "cell_type": "code",
   "execution_count": 10,
   "metadata": {
    "collapsed": true
   },
   "outputs": [],
   "source": [
    "start = datetime.datetime(2000, 1, 1)\n",
    "end = datetime.datetime(2013, 1, 27)\n",
    "end = datetime.date.today()"
   ]
  },
  {
   "cell_type": "markdown",
   "metadata": {},
   "source": [
    "## Google"
   ]
  },
  {
   "cell_type": "code",
   "execution_count": 11,
   "metadata": {
    "collapsed": false
   },
   "outputs": [
    {
     "data": {
      "image/png": "[encoded data removed]",
      "text/plain": [
       "<matplotlib.figure.Figure at 0x7f6b9e727210>"
      ]
     },
     "metadata": {},
     "output_type": "display_data"
    }
   ],
   "source": [
    "f = web.DataReader(\"FRA:MUV2\", 'google', start, end)\n",
    "plt.plot(f.index,f.Close)\n",
    "plt.grid()\n",
    "plt.show()"
   ]
  },
  {
   "cell_type": "code",
   "execution_count": null,
   "metadata": {
    "collapsed": true
   },
   "outputs": [],
   "source": []
  },
  {
   "cell_type": "code",
   "execution_count": null,
   "metadata": {
    "collapsed": true
   },
   "outputs": [],
   "source": []
  },
  {
   "cell_type": "code",
   "execution_count": null,
   "metadata": {
    "collapsed": true
   },
   "outputs": [],
   "source": []
  },
  {
   "cell_type": "code",
   "execution_count": 107,
   "metadata": {
    "collapsed": false
   },
   "outputs": [
    {
     "data": {
      "text/html": [
       "<div>\n",
       "<table border=\"1\" class=\"dataframe\">\n",
       "  <thead>\n",
       "    <tr style=\"text-align: right;\">\n",
       "      <th></th>\n",
       "      <th>Shares</th>\n",
       "      <th>Revenue</th>\n",
       "      <th>EarningsPerShare</th>\n",
       "      <th>Dividends</th>\n",
       "      <th>BookValuePerShare</th>\n",
       "      <th>OperatingCashFlow</th>\n",
       "      <th>EBTMargin</th>\n",
       "      <th>ReturnonEquity</th>\n",
       "      <th>GrossMargin</th>\n",
       "      <th>OperatingIncome</th>\n",
       "      <th>...</th>\n",
       "      <th>COGS</th>\n",
       "      <th>EBTMargin</th>\n",
       "      <th>TaxRate</th>\n",
       "      <th>NetMargin</th>\n",
       "      <th>AssetTurnoverAverage</th>\n",
       "      <th>ReturnonAssets</th>\n",
       "      <th>FinancialLeverageAverage</th>\n",
       "      <th>ReturnonEquity</th>\n",
       "      <th>ReturnonInvestedCapital</th>\n",
       "      <th>InterestCoverage</th>\n",
       "    </tr>\n",
       "  </thead>\n",
       "  <tbody>\n",
       "    <tr>\n",
       "      <th>2006</th>\n",
       "      <td>1029.0</td>\n",
       "      <td>99222.0</td>\n",
       "      <td>3.64</td>\n",
       "      <td>NaN</td>\n",
       "      <td>NaN</td>\n",
       "      <td>14016.0</td>\n",
       "      <td>4.94</td>\n",
       "      <td>9.14</td>\n",
       "      <td>20.6</td>\n",
       "      <td>4661.0</td>\n",
       "      <td>...</td>\n",
       "      <td>79.40</td>\n",
       "      <td>4.94</td>\n",
       "      <td>17.69</td>\n",
       "      <td>2.13</td>\n",
       "      <td>0.77</td>\n",
       "      <td>1.65</td>\n",
       "      <td>5.56</td>\n",
       "      <td>9.14</td>\n",
       "      <td>4.66</td>\n",
       "      <td>NaN</td>\n",
       "    </tr>\n",
       "    <tr>\n",
       "      <th>2007</th>\n",
       "      <td>1046.0</td>\n",
       "      <td>99555.0</td>\n",
       "      <td>3.81</td>\n",
       "      <td>NaN</td>\n",
       "      <td>36.73</td>\n",
       "      <td>13108.0</td>\n",
       "      <td>9.24</td>\n",
       "      <td>11.24</td>\n",
       "      <td>24.1</td>\n",
       "      <td>7875.0</td>\n",
       "      <td>...</td>\n",
       "      <td>75.86</td>\n",
       "      <td>9.24</td>\n",
       "      <td>47.12</td>\n",
       "      <td>4.00</td>\n",
       "      <td>0.61</td>\n",
       "      <td>2.45</td>\n",
       "      <td>3.68</td>\n",
       "      <td>11.24</td>\n",
       "      <td>6.84</td>\n",
       "      <td>NaN</td>\n",
       "    </tr>\n",
       "    <tr>\n",
       "      <th>2008</th>\n",
       "      <td>959.0</td>\n",
       "      <td>98469.0</td>\n",
       "      <td>1.40</td>\n",
       "      <td>NaN</td>\n",
       "      <td>35.45</td>\n",
       "      <td>3212.0</td>\n",
       "      <td>2.84</td>\n",
       "      <td>3.11</td>\n",
       "      <td>21.9</td>\n",
       "      <td>2730.0</td>\n",
       "      <td>...</td>\n",
       "      <td>78.11</td>\n",
       "      <td>2.84</td>\n",
       "      <td>39.03</td>\n",
       "      <td>1.10</td>\n",
       "      <td>0.72</td>\n",
       "      <td>0.79</td>\n",
       "      <td>4.24</td>\n",
       "      <td>3.11</td>\n",
       "      <td>1.89</td>\n",
       "      <td>NaN</td>\n",
       "    </tr>\n",
       "    <tr>\n",
       "      <th>2009</th>\n",
       "      <td>1003.0</td>\n",
       "      <td>NaN</td>\n",
       "      <td>-2.63</td>\n",
       "      <td>NaN</td>\n",
       "      <td>29.73</td>\n",
       "      <td>10961.0</td>\n",
       "      <td>NaN</td>\n",
       "      <td>-8.58</td>\n",
       "      <td>NaN</td>\n",
       "      <td>-1513.0</td>\n",
       "      <td>...</td>\n",
       "      <td>NaN</td>\n",
       "      <td>NaN</td>\n",
       "      <td>NaN</td>\n",
       "      <td>NaN</td>\n",
       "      <td>NaN</td>\n",
       "      <td>-2.02</td>\n",
       "      <td>4.25</td>\n",
       "      <td>-8.58</td>\n",
       "      <td>-4.68</td>\n",
       "      <td>NaN</td>\n",
       "    </tr>\n",
       "    <tr>\n",
       "      <th>2010</th>\n",
       "      <td>1052.0</td>\n",
       "      <td>97761.0</td>\n",
       "      <td>4.28</td>\n",
       "      <td>NaN</td>\n",
       "      <td>32.28</td>\n",
       "      <td>8544.0</td>\n",
       "      <td>6.78</td>\n",
       "      <td>13.50</td>\n",
       "      <td>23.3</td>\n",
       "      <td>7274.0</td>\n",
       "      <td>...</td>\n",
       "      <td>76.71</td>\n",
       "      <td>6.78</td>\n",
       "      <td>29.48</td>\n",
       "      <td>NaN</td>\n",
       "      <td>NaN</td>\n",
       "      <td>3.40</td>\n",
       "      <td>3.73</td>\n",
       "      <td>13.50</td>\n",
       "      <td>8.22</td>\n",
       "      <td>5.51</td>\n",
       "    </tr>\n",
       "    <tr>\n",
       "      <th>2011</th>\n",
       "      <td>1067.0</td>\n",
       "      <td>106540.0</td>\n",
       "      <td>5.31</td>\n",
       "      <td>1.85</td>\n",
       "      <td>35.72</td>\n",
       "      <td>-696.0</td>\n",
       "      <td>7.93</td>\n",
       "      <td>14.91</td>\n",
       "      <td>24.0</td>\n",
       "      <td>8449.0</td>\n",
       "      <td>...</td>\n",
       "      <td>76.05</td>\n",
       "      <td>7.93</td>\n",
       "      <td>28.64</td>\n",
       "      <td>5.32</td>\n",
       "      <td>0.75</td>\n",
       "      <td>3.99</td>\n",
       "      <td>3.74</td>\n",
       "      <td>14.91</td>\n",
       "      <td>6.77</td>\n",
       "      <td>37.42</td>\n",
       "    </tr>\n",
       "    <tr>\n",
       "      <th>2012</th>\n",
       "      <td>1067.0</td>\n",
       "      <td>114297.0</td>\n",
       "      <td>6.02</td>\n",
       "      <td>2.20</td>\n",
       "      <td>38.64</td>\n",
       "      <td>-1100.0</td>\n",
       "      <td>7.10</td>\n",
       "      <td>14.60</td>\n",
       "      <td>22.3</td>\n",
       "      <td>8116.0</td>\n",
       "      <td>...</td>\n",
       "      <td>77.71</td>\n",
       "      <td>7.10</td>\n",
       "      <td>15.85</td>\n",
       "      <td>5.33</td>\n",
       "      <td>0.73</td>\n",
       "      <td>3.92</td>\n",
       "      <td>3.71</td>\n",
       "      <td>14.60</td>\n",
       "      <td>7.19</td>\n",
       "      <td>NaN</td>\n",
       "    </tr>\n",
       "    <tr>\n",
       "      <th>2013</th>\n",
       "      <td>1069.0</td>\n",
       "      <td>117982.0</td>\n",
       "      <td>6.40</td>\n",
       "      <td>2.20</td>\n",
       "      <td>38.42</td>\n",
       "      <td>3285.0</td>\n",
       "      <td>8.59</td>\n",
       "      <td>15.81</td>\n",
       "      <td>21.3</td>\n",
       "      <td>10139.0</td>\n",
       "      <td>...</td>\n",
       "      <td>78.70</td>\n",
       "      <td>8.59</td>\n",
       "      <td>14.00</td>\n",
       "      <td>5.80</td>\n",
       "      <td>0.71</td>\n",
       "      <td>4.13</td>\n",
       "      <td>3.95</td>\n",
       "      <td>15.81</td>\n",
       "      <td>7.21</td>\n",
       "      <td>NaN</td>\n",
       "    </tr>\n",
       "    <tr>\n",
       "      <th>2014</th>\n",
       "      <td>1069.0</td>\n",
       "      <td>129872.0</td>\n",
       "      <td>6.51</td>\n",
       "      <td>2.25</td>\n",
       "      <td>41.38</td>\n",
       "      <td>-1274.0</td>\n",
       "      <td>7.83</td>\n",
       "      <td>16.13</td>\n",
       "      <td>21.7</td>\n",
       "      <td>10173.0</td>\n",
       "      <td>...</td>\n",
       "      <td>78.30</td>\n",
       "      <td>7.83</td>\n",
       "      <td>28.34</td>\n",
       "      <td>5.36</td>\n",
       "      <td>0.73</td>\n",
       "      <td>3.89</td>\n",
       "      <td>4.34</td>\n",
       "      <td>16.13</td>\n",
       "      <td>6.43</td>\n",
       "      <td>NaN</td>\n",
       "    </tr>\n",
       "    <tr>\n",
       "      <th>2015</th>\n",
       "      <td>1069.0</td>\n",
       "      <td>149467.0</td>\n",
       "      <td>7.87</td>\n",
       "      <td>2.45</td>\n",
       "      <td>46.60</td>\n",
       "      <td>222.0</td>\n",
       "      <td>8.53</td>\n",
       "      <td>17.33</td>\n",
       "      <td>21.3</td>\n",
       "      <td>12744.0</td>\n",
       "      <td>...</td>\n",
       "      <td>78.73</td>\n",
       "      <td>8.53</td>\n",
       "      <td>31.65</td>\n",
       "      <td>5.64</td>\n",
       "      <td>0.73</td>\n",
       "      <td>4.14</td>\n",
       "      <td>4.05</td>\n",
       "      <td>17.33</td>\n",
       "      <td>6.81</td>\n",
       "      <td>NaN</td>\n",
       "    </tr>\n",
       "    <tr>\n",
       "      <th>2016</th>\n",
       "      <td>1071.0</td>\n",
       "      <td>152688.0</td>\n",
       "      <td>7.64</td>\n",
       "      <td>3.25</td>\n",
       "      <td>50.19</td>\n",
       "      <td>2175.0</td>\n",
       "      <td>7.86</td>\n",
       "      <td>15.81</td>\n",
       "      <td>20.7</td>\n",
       "      <td>12002.0</td>\n",
       "      <td>...</td>\n",
       "      <td>79.28</td>\n",
       "      <td>7.86</td>\n",
       "      <td>29.58</td>\n",
       "      <td>5.36</td>\n",
       "      <td>0.68</td>\n",
       "      <td>3.67</td>\n",
       "      <td>4.38</td>\n",
       "      <td>15.81</td>\n",
       "      <td>5.87</td>\n",
       "      <td>NaN</td>\n",
       "    </tr>\n",
       "  </tbody>\n",
       "</table>\n",
       "<p>11 rows × 27 columns</p>\n",
       "</div>"
      ],
      "text/plain": [
       "      Shares   Revenue  EarningsPerShare  Dividends  BookValuePerShare  \\\n",
       "2006  1029.0   99222.0              3.64        NaN                NaN   \n",
       "2007  1046.0   99555.0              3.81        NaN              36.73   \n",
       "2008   959.0   98469.0              1.40        NaN              35.45   \n",
       "2009  1003.0       NaN             -2.63        NaN              29.73   \n",
       "2010  1052.0   97761.0              4.28        NaN              32.28   \n",
       "2011  1067.0  106540.0              5.31       1.85              35.72   \n",
       "2012  1067.0  114297.0              6.02       2.20              38.64   \n",
       "2013  1069.0  117982.0              6.40       2.20              38.42   \n",
       "2014  1069.0  129872.0              6.51       2.25              41.38   \n",
       "2015  1069.0  149467.0              7.87       2.45              46.60   \n",
       "2016  1071.0  152688.0              7.64       3.25              50.19   \n",
       "\n",
       "      OperatingCashFlow  EBTMargin  ReturnonEquity  GrossMargin  \\\n",
       "2006            14016.0       4.94            9.14         20.6   \n",
       "2007            13108.0       9.24           11.24         24.1   \n",
       "2008             3212.0       2.84            3.11         21.9   \n",
       "2009            10961.0        NaN           -8.58          NaN   \n",
       "2010             8544.0       6.78           13.50         23.3   \n",
       "2011             -696.0       7.93           14.91         24.0   \n",
       "2012            -1100.0       7.10           14.60         22.3   \n",
       "2013             3285.0       8.59           15.81         21.3   \n",
       "2014            -1274.0       7.83           16.13         21.7   \n",
       "2015              222.0       8.53           17.33         21.3   \n",
       "2016             2175.0       7.86           15.81         20.7   \n",
       "\n",
       "      OperatingIncome        ...          COGS  EBTMargin  TaxRate  NetMargin  \\\n",
       "2006           4661.0        ...         79.40       4.94    17.69       2.13   \n",
       "2007           7875.0        ...         75.86       9.24    47.12       4.00   \n",
       "2008           2730.0        ...         78.11       2.84    39.03       1.10   \n",
       "2009          -1513.0        ...           NaN        NaN      NaN        NaN   \n",
       "2010           7274.0        ...         76.71       6.78    29.48        NaN   \n",
       "2011           8449.0        ...         76.05       7.93    28.64       5.32   \n",
       "2012           8116.0        ...         77.71       7.10    15.85       5.33   \n",
       "2013          10139.0        ...         78.70       8.59    14.00       5.80   \n",
       "2014          10173.0        ...         78.30       7.83    28.34       5.36   \n",
       "2015          12744.0        ...         78.73       8.53    31.65       5.64   \n",
       "2016          12002.0        ...         79.28       7.86    29.58       5.36   \n",
       "\n",
       "      AssetTurnoverAverage  ReturnonAssets  FinancialLeverageAverage  \\\n",
       "2006                  0.77            1.65                      5.56   \n",
       "2007                  0.61            2.45                      3.68   \n",
       "2008                  0.72            0.79                      4.24   \n",
       "2009                   NaN           -2.02                      4.25   \n",
       "2010                   NaN            3.40                      3.73   \n",
       "2011                  0.75            3.99                      3.74   \n",
       "2012                  0.73            3.92                      3.71   \n",
       "2013                  0.71            4.13                      3.95   \n",
       "2014                  0.73            3.89                      4.34   \n",
       "2015                  0.73            4.14                      4.05   \n",
       "2016                  0.68            3.67                      4.38   \n",
       "\n",
       "      ReturnonEquity  ReturnonInvestedCapital  InterestCoverage  \n",
       "2006            9.14                     4.66               NaN  \n",
       "2007           11.24                     6.84               NaN  \n",
       "2008            3.11                     1.89               NaN  \n",
       "2009           -8.58                    -4.68               NaN  \n",
       "2010           13.50                     8.22              5.51  \n",
       "2011           14.91                     6.77             37.42  \n",
       "2012           14.60                     7.19               NaN  \n",
       "2013           15.81                     7.21               NaN  \n",
       "2014           16.13                     6.43               NaN  \n",
       "2015           17.33                     6.81               NaN  \n",
       "2016           15.81                     5.87               NaN  \n",
       "\n",
       "[11 rows x 27 columns]"
      ]
     },
     "execution_count": 107,
     "metadata": {},
     "output_type": "execute_result"
    }
   ],
   "source": [
    "df"
   ]
  },
  {
   "cell_type": "code",
   "execution_count": 73,
   "metadata": {
    "collapsed": false
   },
   "outputs": [
    {
     "name": "stdout",
     "output_type": "stream",
     "text": [
      "2006 3.64\n",
      "2007 3.81\n",
      "2008 1.4\n",
      "2010 4.28\n",
      "2011 5.31\n",
      "2012 6.02\n",
      "2013 6.4\n",
      "2014 6.51\n",
      "2015 7.87\n",
      "2016 7.64\n"
     ]
    },
    {
     "data": {
      "image/png": "[encoded data removed]",
      "text/plain": [
       "<matplotlib.figure.Figure at 0x7f285fd43590>"
      ]
     },
     "metadata": {},
     "output_type": "display_data"
    }
   ],
   "source": [
    "for year,eps in df.EarningsPerShare.iteritems():\n",
    "    if eps>0:\n",
    "        start = datetime.datetime(year+1,   4, 1)\n",
    "        end   = datetime.datetime(year+2, 4, 1)\n",
    "\n",
    "        f = web.DataReader(\"FRA:DAI\", 'google', start, end)\n",
    "        plt.plot(f.index,f.Close/eps,'r-')\n",
    "        print year,eps\n",
    "plt.show()"
   ]
  },
  {
   "cell_type": "code",
   "execution_count": 98,
   "metadata": {
    "collapsed": false
   },
   "outputs": [
    {
     "name": "stdout",
     "output_type": "stream",
     "text": [
      "YEAR 2012 - EPS 5.31 - minquote 33.55  - maxquote 46.64\n",
      "YEAR 2013 - EPS 6.02 - minquote 38.59  - maxquote 69.72\n",
      "YEAR 2014 - EPS 6.4 - minquote 56.35  - maxquote 94.8\n",
      "YEAR 2015 - EPS 6.51 - minquote 59.0  - maxquote 90.11\n",
      "YEAR 2016 - EPS 7.87 - minquote 52.25  - maxquote 72.67\n",
      "YEAR 2017 - EPS 7.64 - minquote 59.68  - maxquote 69.17\n"
     ]
    }
   ],
   "source": [
    "data = []\n",
    "for year,e in df.EarningsPerShare.iteritems():\n",
    "    if eps>0 and year>2010:\n",
    "        start = datetime.datetime(year+1,   4, 1)\n",
    "        end   = datetime.datetime(year+2, 4, 1)\n",
    "        f = web.DataReader(\"FRA:DAI\", 'google', start, end)\n",
    "        \n",
    "        minquote = f.Close.min()\n",
    "        maxquote = f.Close.max()\n",
    "        avgquote = f.Close.mean()\n",
    "        \n",
    "        print 'YEAR {0} - EPS {1} - minquote {2}  - maxquote {3}'.format(year+1, e, minquote, maxquote)\n",
    "\n",
    "        data.append([year+1, minquote/e, avgquote/e, maxquote/e])\n",
    "        \n",
    "data = pd.DataFrame(data,columns=['year','mineps','avgeps','maxeps'])"
   ]
  },
  {
   "cell_type": "code",
   "execution_count": 103,
   "metadata": {
    "collapsed": false
   },
   "outputs": [
    {
     "data": {
      "image/png": "[encoded data removed]",
      "text/plain": [
       "<matplotlib.figure.Figure at 0x7f285f8a6e10>"
      ]
     },
     "metadata": {},
     "output_type": "display_data"
    }
   ],
   "source": [
    "plt.errorbar(data.year,data.avgeps,yerr=[data.avgeps-data.mineps,data.maxeps-data.avgeps])\n",
    "plt.ylim(0,15)\n",
    "plt.show()"
   ]
  },
  {
   "cell_type": "code",
   "execution_count": null,
   "metadata": {
    "collapsed": true
   },
   "outputs": [],
   "source": []
  },
  {
   "cell_type": "code",
   "execution_count": null,
   "metadata": {
    "collapsed": true
   },
   "outputs": [],
   "source": []
  },
  {
   "cell_type": "markdown",
   "metadata": {},
   "source": [
    "# Quandl data"
   ]
  },
  {
   "cell_type": "code",
   "execution_count": 12,
   "metadata": {
    "collapsed": true
   },
   "outputs": [],
   "source": [
    "import quandl as ql"
   ]
  },
  {
   "cell_type": "markdown",
   "metadata": {},
   "source": [
    "### German stocks"
   ]
  },
  {
   "cell_type": "code",
   "execution_count": 13,
   "metadata": {
    "collapsed": true
   },
   "outputs": [],
   "source": [
    "def get_quote_quandl(isin, ticker):\n",
    "    if isin[0:2]=='DE':\n",
    "        exchange = \"FSE\"\n",
    "        appendix = \"X\"\n",
    "        \n",
    "    \n",
    "    key = \"{0}/{1}_{2}\".format(exchange,ticker,appendix)\n",
    "    \n",
    "    df  = ql.get(key, authtoken=\"CkyBkkkbzfh3ePfDF_ip\")\n",
    "    df  = df[['Open','High','Low','Close','Traded Volume']]\n",
    "    df.columns = ['Open','High','Low','Close','Volume']\n",
    "    \n",
    "    return df"
   ]
  },
  {
   "cell_type": "code",
   "execution_count": 22,
   "metadata": {
    "collapsed": false
   },
   "outputs": [
    {
     "data": {
      "text/html": [
       "<div>\n",
       "<table border=\"1\" class=\"dataframe\">\n",
       "  <thead>\n",
       "    <tr style=\"text-align: right;\">\n",
       "      <th></th>\n",
       "      <th>Open</th>\n",
       "      <th>High</th>\n",
       "      <th>Low</th>\n",
       "      <th>Close</th>\n",
       "      <th>Volume</th>\n",
       "    </tr>\n",
       "    <tr>\n",
       "      <th>Date</th>\n",
       "      <th></th>\n",
       "      <th></th>\n",
       "      <th></th>\n",
       "      <th></th>\n",
       "      <th></th>\n",
       "    </tr>\n",
       "  </thead>\n",
       "  <tbody>\n",
       "    <tr>\n",
       "      <th>2000-01-18</th>\n",
       "      <td>NaN</td>\n",
       "      <td>NaN</td>\n",
       "      <td>NaN</td>\n",
       "      <td>298.90</td>\n",
       "      <td>0.0</td>\n",
       "    </tr>\n",
       "    <tr>\n",
       "      <th>2000-01-19</th>\n",
       "      <td>NaN</td>\n",
       "      <td>NaN</td>\n",
       "      <td>NaN</td>\n",
       "      <td>300.00</td>\n",
       "      <td>0.0</td>\n",
       "    </tr>\n",
       "    <tr>\n",
       "      <th>2000-01-20</th>\n",
       "      <td>NaN</td>\n",
       "      <td>NaN</td>\n",
       "      <td>NaN</td>\n",
       "      <td>287.60</td>\n",
       "      <td>0.0</td>\n",
       "    </tr>\n",
       "    <tr>\n",
       "      <th>2000-01-21</th>\n",
       "      <td>NaN</td>\n",
       "      <td>NaN</td>\n",
       "      <td>NaN</td>\n",
       "      <td>284.50</td>\n",
       "      <td>0.0</td>\n",
       "    </tr>\n",
       "    <tr>\n",
       "      <th>2000-01-24</th>\n",
       "      <td>NaN</td>\n",
       "      <td>NaN</td>\n",
       "      <td>NaN</td>\n",
       "      <td>276.50</td>\n",
       "      <td>0.0</td>\n",
       "    </tr>\n",
       "    <tr>\n",
       "      <th>2000-01-25</th>\n",
       "      <td>NaN</td>\n",
       "      <td>NaN</td>\n",
       "      <td>NaN</td>\n",
       "      <td>265.71</td>\n",
       "      <td>0.0</td>\n",
       "    </tr>\n",
       "    <tr>\n",
       "      <th>2000-01-26</th>\n",
       "      <td>NaN</td>\n",
       "      <td>NaN</td>\n",
       "      <td>NaN</td>\n",
       "      <td>280.40</td>\n",
       "      <td>0.0</td>\n",
       "    </tr>\n",
       "    <tr>\n",
       "      <th>2000-01-27</th>\n",
       "      <td>NaN</td>\n",
       "      <td>NaN</td>\n",
       "      <td>NaN</td>\n",
       "      <td>272.80</td>\n",
       "      <td>0.0</td>\n",
       "    </tr>\n",
       "    <tr>\n",
       "      <th>2000-01-28</th>\n",
       "      <td>NaN</td>\n",
       "      <td>NaN</td>\n",
       "      <td>NaN</td>\n",
       "      <td>281.01</td>\n",
       "      <td>0.0</td>\n",
       "    </tr>\n",
       "    <tr>\n",
       "      <th>2000-01-31</th>\n",
       "      <td>NaN</td>\n",
       "      <td>NaN</td>\n",
       "      <td>NaN</td>\n",
       "      <td>266.15</td>\n",
       "      <td>0.0</td>\n",
       "    </tr>\n",
       "    <tr>\n",
       "      <th>2000-02-01</th>\n",
       "      <td>NaN</td>\n",
       "      <td>NaN</td>\n",
       "      <td>NaN</td>\n",
       "      <td>274.00</td>\n",
       "      <td>0.0</td>\n",
       "    </tr>\n",
       "    <tr>\n",
       "      <th>2000-02-02</th>\n",
       "      <td>NaN</td>\n",
       "      <td>NaN</td>\n",
       "      <td>NaN</td>\n",
       "      <td>276.50</td>\n",
       "      <td>0.0</td>\n",
       "    </tr>\n",
       "    <tr>\n",
       "      <th>2000-02-03</th>\n",
       "      <td>NaN</td>\n",
       "      <td>NaN</td>\n",
       "      <td>NaN</td>\n",
       "      <td>274.00</td>\n",
       "      <td>0.0</td>\n",
       "    </tr>\n",
       "    <tr>\n",
       "      <th>2000-02-04</th>\n",
       "      <td>NaN</td>\n",
       "      <td>NaN</td>\n",
       "      <td>NaN</td>\n",
       "      <td>282.99</td>\n",
       "      <td>0.0</td>\n",
       "    </tr>\n",
       "    <tr>\n",
       "      <th>2000-02-07</th>\n",
       "      <td>NaN</td>\n",
       "      <td>NaN</td>\n",
       "      <td>NaN</td>\n",
       "      <td>274.10</td>\n",
       "      <td>0.0</td>\n",
       "    </tr>\n",
       "    <tr>\n",
       "      <th>2000-02-08</th>\n",
       "      <td>NaN</td>\n",
       "      <td>NaN</td>\n",
       "      <td>NaN</td>\n",
       "      <td>272.20</td>\n",
       "      <td>0.0</td>\n",
       "    </tr>\n",
       "    <tr>\n",
       "      <th>2000-02-09</th>\n",
       "      <td>NaN</td>\n",
       "      <td>NaN</td>\n",
       "      <td>NaN</td>\n",
       "      <td>277.99</td>\n",
       "      <td>0.0</td>\n",
       "    </tr>\n",
       "    <tr>\n",
       "      <th>2000-02-10</th>\n",
       "      <td>NaN</td>\n",
       "      <td>NaN</td>\n",
       "      <td>NaN</td>\n",
       "      <td>289.00</td>\n",
       "      <td>0.0</td>\n",
       "    </tr>\n",
       "    <tr>\n",
       "      <th>2000-02-11</th>\n",
       "      <td>NaN</td>\n",
       "      <td>NaN</td>\n",
       "      <td>NaN</td>\n",
       "      <td>295.00</td>\n",
       "      <td>0.0</td>\n",
       "    </tr>\n",
       "    <tr>\n",
       "      <th>2000-02-14</th>\n",
       "      <td>NaN</td>\n",
       "      <td>NaN</td>\n",
       "      <td>NaN</td>\n",
       "      <td>302.00</td>\n",
       "      <td>0.0</td>\n",
       "    </tr>\n",
       "    <tr>\n",
       "      <th>2000-02-15</th>\n",
       "      <td>NaN</td>\n",
       "      <td>NaN</td>\n",
       "      <td>NaN</td>\n",
       "      <td>300.50</td>\n",
       "      <td>0.0</td>\n",
       "    </tr>\n",
       "    <tr>\n",
       "      <th>2000-02-16</th>\n",
       "      <td>NaN</td>\n",
       "      <td>NaN</td>\n",
       "      <td>NaN</td>\n",
       "      <td>300.00</td>\n",
       "      <td>0.0</td>\n",
       "    </tr>\n",
       "    <tr>\n",
       "      <th>2000-02-17</th>\n",
       "      <td>NaN</td>\n",
       "      <td>NaN</td>\n",
       "      <td>NaN</td>\n",
       "      <td>292.00</td>\n",
       "      <td>0.0</td>\n",
       "    </tr>\n",
       "    <tr>\n",
       "      <th>2000-02-18</th>\n",
       "      <td>NaN</td>\n",
       "      <td>NaN</td>\n",
       "      <td>NaN</td>\n",
       "      <td>286.51</td>\n",
       "      <td>0.0</td>\n",
       "    </tr>\n",
       "    <tr>\n",
       "      <th>2000-02-21</th>\n",
       "      <td>NaN</td>\n",
       "      <td>NaN</td>\n",
       "      <td>NaN</td>\n",
       "      <td>290.00</td>\n",
       "      <td>0.0</td>\n",
       "    </tr>\n",
       "    <tr>\n",
       "      <th>2000-02-22</th>\n",
       "      <td>NaN</td>\n",
       "      <td>NaN</td>\n",
       "      <td>NaN</td>\n",
       "      <td>295.00</td>\n",
       "      <td>0.0</td>\n",
       "    </tr>\n",
       "    <tr>\n",
       "      <th>2000-02-23</th>\n",
       "      <td>NaN</td>\n",
       "      <td>NaN</td>\n",
       "      <td>NaN</td>\n",
       "      <td>300.00</td>\n",
       "      <td>0.0</td>\n",
       "    </tr>\n",
       "    <tr>\n",
       "      <th>2000-02-24</th>\n",
       "      <td>NaN</td>\n",
       "      <td>NaN</td>\n",
       "      <td>NaN</td>\n",
       "      <td>290.82</td>\n",
       "      <td>0.0</td>\n",
       "    </tr>\n",
       "    <tr>\n",
       "      <th>2000-02-25</th>\n",
       "      <td>NaN</td>\n",
       "      <td>NaN</td>\n",
       "      <td>NaN</td>\n",
       "      <td>290.00</td>\n",
       "      <td>0.0</td>\n",
       "    </tr>\n",
       "    <tr>\n",
       "      <th>2000-02-28</th>\n",
       "      <td>NaN</td>\n",
       "      <td>NaN</td>\n",
       "      <td>NaN</td>\n",
       "      <td>294.00</td>\n",
       "      <td>0.0</td>\n",
       "    </tr>\n",
       "    <tr>\n",
       "      <th>...</th>\n",
       "      <td>...</td>\n",
       "      <td>...</td>\n",
       "      <td>...</td>\n",
       "      <td>...</td>\n",
       "      <td>...</td>\n",
       "    </tr>\n",
       "    <tr>\n",
       "      <th>2017-02-22</th>\n",
       "      <td>179.12</td>\n",
       "      <td>180.65</td>\n",
       "      <td>178.90</td>\n",
       "      <td>180.25</td>\n",
       "      <td>569081.0</td>\n",
       "    </tr>\n",
       "    <tr>\n",
       "      <th>2017-02-23</th>\n",
       "      <td>180.03</td>\n",
       "      <td>180.55</td>\n",
       "      <td>179.30</td>\n",
       "      <td>180.25</td>\n",
       "      <td>404962.0</td>\n",
       "    </tr>\n",
       "    <tr>\n",
       "      <th>2017-02-24</th>\n",
       "      <td>180.73</td>\n",
       "      <td>180.80</td>\n",
       "      <td>177.00</td>\n",
       "      <td>178.40</td>\n",
       "      <td>629718.0</td>\n",
       "    </tr>\n",
       "    <tr>\n",
       "      <th>2017-02-27</th>\n",
       "      <td>178.50</td>\n",
       "      <td>178.90</td>\n",
       "      <td>177.80</td>\n",
       "      <td>177.95</td>\n",
       "      <td>262651.0</td>\n",
       "    </tr>\n",
       "    <tr>\n",
       "      <th>2017-02-28</th>\n",
       "      <td>178.17</td>\n",
       "      <td>178.50</td>\n",
       "      <td>176.85</td>\n",
       "      <td>178.40</td>\n",
       "      <td>509350.0</td>\n",
       "    </tr>\n",
       "    <tr>\n",
       "      <th>2017-03-01</th>\n",
       "      <td>178.40</td>\n",
       "      <td>181.10</td>\n",
       "      <td>179.10</td>\n",
       "      <td>180.60</td>\n",
       "      <td>468266.0</td>\n",
       "    </tr>\n",
       "    <tr>\n",
       "      <th>2017-03-02</th>\n",
       "      <td>180.42</td>\n",
       "      <td>181.55</td>\n",
       "      <td>180.05</td>\n",
       "      <td>181.35</td>\n",
       "      <td>358541.0</td>\n",
       "    </tr>\n",
       "    <tr>\n",
       "      <th>2017-03-03</th>\n",
       "      <td>180.57</td>\n",
       "      <td>181.85</td>\n",
       "      <td>180.20</td>\n",
       "      <td>180.30</td>\n",
       "      <td>449163.0</td>\n",
       "    </tr>\n",
       "    <tr>\n",
       "      <th>2017-03-06</th>\n",
       "      <td>180.00</td>\n",
       "      <td>181.55</td>\n",
       "      <td>179.65</td>\n",
       "      <td>181.10</td>\n",
       "      <td>428838.0</td>\n",
       "    </tr>\n",
       "    <tr>\n",
       "      <th>2017-03-07</th>\n",
       "      <td>181.25</td>\n",
       "      <td>181.50</td>\n",
       "      <td>180.45</td>\n",
       "      <td>180.60</td>\n",
       "      <td>391208.0</td>\n",
       "    </tr>\n",
       "    <tr>\n",
       "      <th>2017-03-08</th>\n",
       "      <td>180.50</td>\n",
       "      <td>180.85</td>\n",
       "      <td>179.10</td>\n",
       "      <td>179.60</td>\n",
       "      <td>571940.0</td>\n",
       "    </tr>\n",
       "    <tr>\n",
       "      <th>2017-03-09</th>\n",
       "      <td>179.05</td>\n",
       "      <td>181.20</td>\n",
       "      <td>179.05</td>\n",
       "      <td>180.20</td>\n",
       "      <td>492487.0</td>\n",
       "    </tr>\n",
       "    <tr>\n",
       "      <th>2017-03-10</th>\n",
       "      <td>180.50</td>\n",
       "      <td>181.00</td>\n",
       "      <td>179.10</td>\n",
       "      <td>179.55</td>\n",
       "      <td>480896.0</td>\n",
       "    </tr>\n",
       "    <tr>\n",
       "      <th>2017-03-13</th>\n",
       "      <td>180.50</td>\n",
       "      <td>181.75</td>\n",
       "      <td>180.00</td>\n",
       "      <td>181.15</td>\n",
       "      <td>535184.0</td>\n",
       "    </tr>\n",
       "    <tr>\n",
       "      <th>2017-03-14</th>\n",
       "      <td>180.55</td>\n",
       "      <td>180.75</td>\n",
       "      <td>179.05</td>\n",
       "      <td>179.40</td>\n",
       "      <td>656798.0</td>\n",
       "    </tr>\n",
       "    <tr>\n",
       "      <th>2017-03-15</th>\n",
       "      <td>177.10</td>\n",
       "      <td>178.30</td>\n",
       "      <td>176.10</td>\n",
       "      <td>178.10</td>\n",
       "      <td>947396.0</td>\n",
       "    </tr>\n",
       "    <tr>\n",
       "      <th>2017-03-16</th>\n",
       "      <td>180.40</td>\n",
       "      <td>180.40</td>\n",
       "      <td>177.50</td>\n",
       "      <td>178.20</td>\n",
       "      <td>742006.0</td>\n",
       "    </tr>\n",
       "    <tr>\n",
       "      <th>2017-03-17</th>\n",
       "      <td>178.05</td>\n",
       "      <td>180.20</td>\n",
       "      <td>177.85</td>\n",
       "      <td>179.40</td>\n",
       "      <td>1085579.0</td>\n",
       "    </tr>\n",
       "    <tr>\n",
       "      <th>2017-03-20</th>\n",
       "      <td>179.75</td>\n",
       "      <td>180.45</td>\n",
       "      <td>179.00</td>\n",
       "      <td>179.25</td>\n",
       "      <td>445381.0</td>\n",
       "    </tr>\n",
       "    <tr>\n",
       "      <th>2017-03-21</th>\n",
       "      <td>179.00</td>\n",
       "      <td>179.40</td>\n",
       "      <td>176.80</td>\n",
       "      <td>177.45</td>\n",
       "      <td>1017664.0</td>\n",
       "    </tr>\n",
       "    <tr>\n",
       "      <th>2017-03-22</th>\n",
       "      <td>176.55</td>\n",
       "      <td>177.85</td>\n",
       "      <td>176.25</td>\n",
       "      <td>177.20</td>\n",
       "      <td>605866.0</td>\n",
       "    </tr>\n",
       "    <tr>\n",
       "      <th>2017-03-23</th>\n",
       "      <td>177.55</td>\n",
       "      <td>180.35</td>\n",
       "      <td>177.15</td>\n",
       "      <td>180.20</td>\n",
       "      <td>626116.0</td>\n",
       "    </tr>\n",
       "    <tr>\n",
       "      <th>2017-03-27</th>\n",
       "      <td>178.00</td>\n",
       "      <td>179.15</td>\n",
       "      <td>176.90</td>\n",
       "      <td>179.00</td>\n",
       "      <td>457927.0</td>\n",
       "    </tr>\n",
       "    <tr>\n",
       "      <th>2017-03-28</th>\n",
       "      <td>181.10</td>\n",
       "      <td>182.10</td>\n",
       "      <td>180.30</td>\n",
       "      <td>182.05</td>\n",
       "      <td>725835.0</td>\n",
       "    </tr>\n",
       "    <tr>\n",
       "      <th>2017-03-29</th>\n",
       "      <td>182.35</td>\n",
       "      <td>182.95</td>\n",
       "      <td>181.95</td>\n",
       "      <td>182.55</td>\n",
       "      <td>478859.0</td>\n",
       "    </tr>\n",
       "    <tr>\n",
       "      <th>2017-03-30</th>\n",
       "      <td>183.00</td>\n",
       "      <td>184.00</td>\n",
       "      <td>182.60</td>\n",
       "      <td>183.70</td>\n",
       "      <td>555909.0</td>\n",
       "    </tr>\n",
       "    <tr>\n",
       "      <th>2017-03-31</th>\n",
       "      <td>183.60</td>\n",
       "      <td>183.95</td>\n",
       "      <td>182.75</td>\n",
       "      <td>183.50</td>\n",
       "      <td>676589.0</td>\n",
       "    </tr>\n",
       "    <tr>\n",
       "      <th>2017-04-03</th>\n",
       "      <td>184.40</td>\n",
       "      <td>184.50</td>\n",
       "      <td>182.75</td>\n",
       "      <td>182.75</td>\n",
       "      <td>472853.0</td>\n",
       "    </tr>\n",
       "    <tr>\n",
       "      <th>2017-04-04</th>\n",
       "      <td>183.05</td>\n",
       "      <td>183.95</td>\n",
       "      <td>182.80</td>\n",
       "      <td>183.90</td>\n",
       "      <td>458650.0</td>\n",
       "    </tr>\n",
       "    <tr>\n",
       "      <th>2017-04-05</th>\n",
       "      <td>NaN</td>\n",
       "      <td>184.00</td>\n",
       "      <td>182.20</td>\n",
       "      <td>182.90</td>\n",
       "      <td>469812.0</td>\n",
       "    </tr>\n",
       "  </tbody>\n",
       "</table>\n",
       "<p>4394 rows × 5 columns</p>\n",
       "</div>"
      ],
      "text/plain": [
       "              Open    High     Low   Close     Volume\n",
       "Date                                                 \n",
       "2000-01-18     NaN     NaN     NaN  298.90        0.0\n",
       "2000-01-19     NaN     NaN     NaN  300.00        0.0\n",
       "2000-01-20     NaN     NaN     NaN  287.60        0.0\n",
       "2000-01-21     NaN     NaN     NaN  284.50        0.0\n",
       "2000-01-24     NaN     NaN     NaN  276.50        0.0\n",
       "2000-01-25     NaN     NaN     NaN  265.71        0.0\n",
       "2000-01-26     NaN     NaN     NaN  280.40        0.0\n",
       "2000-01-27     NaN     NaN     NaN  272.80        0.0\n",
       "2000-01-28     NaN     NaN     NaN  281.01        0.0\n",
       "2000-01-31     NaN     NaN     NaN  266.15        0.0\n",
       "2000-02-01     NaN     NaN     NaN  274.00        0.0\n",
       "2000-02-02     NaN     NaN     NaN  276.50        0.0\n",
       "2000-02-03     NaN     NaN     NaN  274.00        0.0\n",
       "2000-02-04     NaN     NaN     NaN  282.99        0.0\n",
       "2000-02-07     NaN     NaN     NaN  274.10        0.0\n",
       "2000-02-08     NaN     NaN     NaN  272.20        0.0\n",
       "2000-02-09     NaN     NaN     NaN  277.99        0.0\n",
       "2000-02-10     NaN     NaN     NaN  289.00        0.0\n",
       "2000-02-11     NaN     NaN     NaN  295.00        0.0\n",
       "2000-02-14     NaN     NaN     NaN  302.00        0.0\n",
       "2000-02-15     NaN     NaN     NaN  300.50        0.0\n",
       "2000-02-16     NaN     NaN     NaN  300.00        0.0\n",
       "2000-02-17     NaN     NaN     NaN  292.00        0.0\n",
       "2000-02-18     NaN     NaN     NaN  286.51        0.0\n",
       "2000-02-21     NaN     NaN     NaN  290.00        0.0\n",
       "2000-02-22     NaN     NaN     NaN  295.00        0.0\n",
       "2000-02-23     NaN     NaN     NaN  300.00        0.0\n",
       "2000-02-24     NaN     NaN     NaN  290.82        0.0\n",
       "2000-02-25     NaN     NaN     NaN  290.00        0.0\n",
       "2000-02-28     NaN     NaN     NaN  294.00        0.0\n",
       "...            ...     ...     ...     ...        ...\n",
       "2017-02-22  179.12  180.65  178.90  180.25   569081.0\n",
       "2017-02-23  180.03  180.55  179.30  180.25   404962.0\n",
       "2017-02-24  180.73  180.80  177.00  178.40   629718.0\n",
       "2017-02-27  178.50  178.90  177.80  177.95   262651.0\n",
       "2017-02-28  178.17  178.50  176.85  178.40   509350.0\n",
       "2017-03-01  178.40  181.10  179.10  180.60   468266.0\n",
       "2017-03-02  180.42  181.55  180.05  181.35   358541.0\n",
       "2017-03-03  180.57  181.85  180.20  180.30   449163.0\n",
       "2017-03-06  180.00  181.55  179.65  181.10   428838.0\n",
       "2017-03-07  181.25  181.50  180.45  180.60   391208.0\n",
       "2017-03-08  180.50  180.85  179.10  179.60   571940.0\n",
       "2017-03-09  179.05  181.20  179.05  180.20   492487.0\n",
       "2017-03-10  180.50  181.00  179.10  179.55   480896.0\n",
       "2017-03-13  180.50  181.75  180.00  181.15   535184.0\n",
       "2017-03-14  180.55  180.75  179.05  179.40   656798.0\n",
       "2017-03-15  177.10  178.30  176.10  178.10   947396.0\n",
       "2017-03-16  180.40  180.40  177.50  178.20   742006.0\n",
       "2017-03-17  178.05  180.20  177.85  179.40  1085579.0\n",
       "2017-03-20  179.75  180.45  179.00  179.25   445381.0\n",
       "2017-03-21  179.00  179.40  176.80  177.45  1017664.0\n",
       "2017-03-22  176.55  177.85  176.25  177.20   605866.0\n",
       "2017-03-23  177.55  180.35  177.15  180.20   626116.0\n",
       "2017-03-27  178.00  179.15  176.90  179.00   457927.0\n",
       "2017-03-28  181.10  182.10  180.30  182.05   725835.0\n",
       "2017-03-29  182.35  182.95  181.95  182.55   478859.0\n",
       "2017-03-30  183.00  184.00  182.60  183.70   555909.0\n",
       "2017-03-31  183.60  183.95  182.75  183.50   676589.0\n",
       "2017-04-03  184.40  184.50  182.75  182.75   472853.0\n",
       "2017-04-04  183.05  183.95  182.80  183.90   458650.0\n",
       "2017-04-05     NaN  184.00  182.20  182.90   469812.0\n",
       "\n",
       "[4394 rows x 5 columns]"
      ]
     },
     "execution_count": 22,
     "metadata": {},
     "output_type": "execute_result"
    }
   ],
   "source": [
    "get_quote_quandl('DE1234','MUV2')"
   ]
  },
  {
   "cell_type": "code",
   "execution_count": null,
   "metadata": {
    "collapsed": true
   },
   "outputs": [],
   "source": []
  },
  {
   "cell_type": "code",
   "execution_count": null,
   "metadata": {
    "collapsed": true
   },
   "outputs": [],
   "source": []
  },
  {
   "cell_type": "code",
   "execution_count": null,
   "metadata": {
    "collapsed": true
   },
   "outputs": [],
   "source": []
  },
  {
   "cell_type": "markdown",
   "metadata": {
    "collapsed": true
   },
   "source": [
    "## Identify and correct for splits"
   ]
  },
  {
   "cell_type": "code",
   "execution_count": 70,
   "metadata": {
    "collapsed": false
   },
   "outputs": [],
   "source": [
    "df = ql.get(\"FSE/FPE3_X\", authtoken=\"CkyBkkkbzfh3ePfDF_ip\")"
   ]
  },
  {
   "cell_type": "code",
   "execution_count": 71,
   "metadata": {
    "collapsed": false
   },
   "outputs": [
    {
     "data": {
      "image/png": "[encoded data removed]",
      "text/plain": [
       "<matplotlib.figure.Figure at 0x7f6b9e5e9a10>"
      ]
     },
     "metadata": {},
     "output_type": "display_data"
    }
   ],
   "source": [
    "plt.plot(df.index, df.Close)\n",
    "plt.show()"
   ]
  },
  {
   "cell_type": "code",
   "execution_count": 138,
   "metadata": {
    "collapsed": true
   },
   "outputs": [],
   "source": [
    "# split 1:3 in 2007\n",
    "# idea: function to identify splits automatically!"
   ]
  },
  {
   "cell_type": "code",
   "execution_count": 80,
   "metadata": {
    "collapsed": false
   },
   "outputs": [],
   "source": [
    "splits = (relchange[relchange<-0.5]*(-1)+ 1).round()"
   ]
  },
  {
   "cell_type": "code",
   "execution_count": 81,
   "metadata": {
    "collapsed": false
   },
   "outputs": [
    {
     "data": {
      "text/plain": [
       "Date\n",
       "2003-07-28    3.0\n",
       "2005-06-23    3.0\n",
       "2011-06-30    3.0\n",
       "2014-06-05    2.0\n",
       "Name: Close, dtype: float64"
      ]
     },
     "execution_count": 81,
     "metadata": {},
     "output_type": "execute_result"
    }
   ],
   "source": [
    " splits"
   ]
  },
  {
   "cell_type": "code",
   "execution_count": 82,
   "metadata": {
    "collapsed": false
   },
   "outputs": [
    {
     "data": {
      "text/plain": [
       "DatetimeIndex(['2003-07-28', '2005-06-23', '2011-06-30', '2014-06-05'], dtype='datetime64[ns]', name=u'Date', freq=None)"
      ]
     },
     "execution_count": 82,
     "metadata": {},
     "output_type": "execute_result"
    }
   ],
   "source": [
    "splits.index"
   ]
  },
  {
   "cell_type": "code",
   "execution_count": 86,
   "metadata": {
    "collapsed": false
   },
   "outputs": [],
   "source": [
    "for i,splitdate in enumerate(splits.index):\n",
    "    df.loc[df.index<splitdate,'Close'] = df.loc[df.index<splitdate,'Close']/splits[i]"
   ]
  },
  {
   "cell_type": "code",
   "execution_count": 84,
   "metadata": {
    "collapsed": false
   },
   "outputs": [
    {
     "data": {
      "text/plain": [
       "2.0"
      ]
     },
     "execution_count": 84,
     "metadata": {},
     "output_type": "execute_result"
    }
   ],
   "source": [
    "splits[3]"
   ]
  },
  {
   "cell_type": "code",
   "execution_count": null,
   "metadata": {
    "collapsed": true
   },
   "outputs": [],
   "source": []
  },
  {
   "cell_type": "code",
   "execution_count": null,
   "metadata": {
    "collapsed": true
   },
   "outputs": [],
   "source": []
  },
  {
   "cell_type": "code",
   "execution_count": 88,
   "metadata": {
    "collapsed": false
   },
   "outputs": [
    {
     "data": {
      "image/png": "[encoded data removed]",
      "text/plain": [
       "<matplotlib.figure.Figure at 0x7f6b9ea7be90>"
      ]
     },
     "metadata": {},
     "output_type": "display_data"
    }
   ],
   "source": [
    "relchange = df.Close.diff()/df.Close\n",
    "plt.plot(relchange.index,relchange)\n",
    "plt.show()"
   ]
  },
  {
   "cell_type": "code",
   "execution_count": 96,
   "metadata": {
    "collapsed": false
   },
   "outputs": [
    {
     "data": {
      "text/plain": [
       "(0.0006283561357527978, 0.020139589935017372)"
      ]
     },
     "execution_count": 96,
     "metadata": {},
     "output_type": "execute_result"
    }
   ],
   "source": [
    "relchange.mean(),relchange.std()"
   ]
  },
  {
   "cell_type": "code",
   "execution_count": 67,
   "metadata": {
    "collapsed": true
   },
   "outputs": [],
   "source": [
    "def find_splits(data):\n",
    "    relchange  = data.Close.diff()/data.Close\n",
    "    splitratio = (-1)*round(relchange[relchange<-1.5]) + 1\n",
    "    splitdate  = relchange[relchange<-1.5].index[0]\n",
    "    data.loc[data.index<splitdate,'Close'] = data.loc[data.index<splitdate,'Close']/splitratio\n",
    "    return data"
   ]
  },
  {
   "cell_type": "code",
   "execution_count": 87,
   "metadata": {
    "collapsed": false
   },
   "outputs": [
    {
     "data": {
      "image/png": "[encoded data removed]",
      "text/plain": [
       "<matplotlib.figure.Figure at 0x7f6b9e5e98d0>"
      ]
     },
     "metadata": {},
     "output_type": "display_data"
    }
   ],
   "source": [
    "plt.plot(df.index,df.Close)\n",
    "plt.show()"
   ]
  },
  {
   "cell_type": "code",
   "execution_count": 97,
   "metadata": {
    "collapsed": false
   },
   "outputs": [
    {
     "data": {
      "image/png": "[encoded data removed]",
      "text/plain": [
       "<matplotlib.figure.Figure at 0x7f6b9e0decd0>"
      ]
     },
     "metadata": {},
     "output_type": "display_data"
    }
   ],
   "source": [
    "dfold = ql.get(\"FSE/FPE3_X\", authtoken=\"CkyBkkkbzfh3ePfDF_ip\")\n",
    "plt.plot(dfold.index, dfold.Close)\n",
    "plt.show()"
   ]
  },
  {
   "cell_type": "code",
   "execution_count": null,
   "metadata": {
    "collapsed": true
   },
   "outputs": [],
   "source": []
  }
 ],
 "metadata": {
  "kernelspec": {
   "display_name": "Python 2",
   "language": "python",
   "name": "python2"
  },
  "language_info": {
   "codemirror_mode": {
    "name": "ipython",
    "version": 2
   },
   "file_extension": ".py",
   "mimetype": "text/x-python",
   "name": "python",
   "nbconvert_exporter": "python",
   "pygments_lexer": "ipython2",
   "version": "2.7.13"
  }
 },
 "nbformat": 4,
 "nbformat_minor": 2
}
