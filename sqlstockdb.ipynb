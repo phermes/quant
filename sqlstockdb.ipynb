{
 "cells": [
  {
   "cell_type": "code",
   "execution_count": 1,
   "metadata": {
    "collapsed": false
   },
   "outputs": [],
   "source": [
    "import sqlite3 as sq\n",
    "import pandas as pd\n",
    "import numpy as np\n",
    "import os"
   ]
  },
  {
   "cell_type": "markdown",
   "metadata": {
    "collapsed": true
   },
   "source": [
    "## read data from file"
   ]
  },
  {
   "cell_type": "code",
   "execution_count": 2,
   "metadata": {
    "collapsed": false
   },
   "outputs": [],
   "source": [
    "df      = pd.read_csv('XETRA.csv')\n",
    "df      = df.drop_duplicates(subset='ISIN',keep='first')\n",
    "ctuples = [tuple(x) for x in df.values]"
   ]
  },
  {
   "cell_type": "code",
   "execution_count": 3,
   "metadata": {
    "collapsed": true
   },
   "outputs": [],
   "source": [
    "class Balance:\n",
    "    # morning star balance is always in millions\n",
    "    \n",
    "    def __init__(self):\n",
    "        self.currency = 'NON'\n",
    "    \n",
    "    def get_units(self):\n",
    "        self.currency = self.data.columns[0].split('.')[1].split()[0]\n",
    "        self.factors  = b.data.columns[0].split('in')[-1].split()[0]\n",
    "        \n",
    "    def readBalance(self,filename):\n",
    "        self.data = pd.read_csv(filename,skiprows=1)\n",
    "        self.get_units()"
   ]
  },
  {
   "cell_type": "code",
   "execution_count": 4,
   "metadata": {
    "collapsed": true
   },
   "outputs": [],
   "source": [
    "b = Balance()\n",
    "b.readBalance('XETRA_ms_balance/R6C3-ROYAL-DUTCH-SHELL-B-EO-07.csv')\n",
    "b.data.columns = ['Entity',2011,2012,2013,2014,2015]\n"
   ]
  },
  {
   "cell_type": "code",
   "execution_count": 5,
   "metadata": {
    "collapsed": false
   },
   "outputs": [],
   "source": [
    "b_categories = b.data.Entity.values.tolist()"
   ]
  },
  {
   "cell_type": "code",
   "execution_count": null,
   "metadata": {
    "collapsed": true
   },
   "outputs": [],
   "source": []
  },
  {
   "cell_type": "code",
   "execution_count": 6,
   "metadata": {
    "collapsed": false
   },
   "outputs": [
    {
     "data": {
      "text/plain": [
       "'USD'"
      ]
     },
     "execution_count": 6,
     "metadata": {},
     "output_type": "execute_result"
    }
   ],
   "source": [
    "b.currency"
   ]
  },
  {
   "cell_type": "code",
   "execution_count": 206,
   "metadata": {
    "collapsed": false
   },
   "outputs": [],
   "source": []
  },
  {
   "cell_type": "code",
   "execution_count": 68,
   "metadata": {
    "collapsed": false
   },
   "outputs": [
    {
     "name": "stdout",
     "output_type": "stream",
     "text": [
      "Current assets 1\n",
      "Non-current assets 10\n",
      "Liabilities and stockholders' equity 23\n",
      "Current liabilities 25\n"
     ]
    }
   ],
   "source": [
    "for i,v in enumerate(b.data.Entity.values):\n",
    "    \n",
    "    categories = ['Current assets','Non-current assets',\"Liabilities and stockholders' equity\", \n",
    "                  \"Current liabilities\"]\n",
    "    \n",
    "    if v in categories:\n",
    "        print v, i"
   ]
  },
  {
   "cell_type": "code",
   "execution_count": null,
   "metadata": {
    "collapsed": true
   },
   "outputs": [],
   "source": []
  },
  {
   "cell_type": "markdown",
   "metadata": {},
   "source": [
    "## read the different possible currencies"
   ]
  },
  {
   "cell_type": "code",
   "execution_count": 6,
   "metadata": {
    "collapsed": false
   },
   "outputs": [],
   "source": [
    "currencies = []\n",
    "factors    = []\n",
    "\n",
    "for filename in os.listdir('XETRA_ms_balance/'):\n",
    "    if filename.endswith(\".csv\"): \n",
    "        try:\n",
    "            b = Balance()\n",
    "            b.readBalance('XETRA_ms_balance/'+filename)\n",
    "            currencies.append(b.currency)\n",
    "            factors.append(b.factors)\n",
    "        except:\n",
    "            pass\n",
    "#         print filename\n",
    "    else:\n",
    "        continue\n",
    "        \n",
    "currencies = np.array(currencies)\n",
    "factors    = np.array(factors)"
   ]
  },
  {
   "cell_type": "code",
   "execution_count": 7,
   "metadata": {
    "collapsed": false
   },
   "outputs": [],
   "source": [
    "# list of all currencies\n",
    "currencies = np.unique(currencies)"
   ]
  },
  {
   "cell_type": "markdown",
   "metadata": {},
   "source": [
    "## Possible entries in Equity"
   ]
  },
  {
   "cell_type": "code",
   "execution_count": 8,
   "metadata": {
    "collapsed": false
   },
   "outputs": [],
   "source": [
    "def show_entries_in_category(startline,endline,nmax=0,silent=False):\n",
    "    pline    = False\n",
    "    entities = []\n",
    "    n        = 1\n",
    "    \n",
    "    #print startline\n",
    "    #print endline\n",
    "    \n",
    "    for filename in os.listdir('XETRA_ms_balance/'):\n",
    "        if filename.endswith(\".csv\"):\n",
    "#             print filename\n",
    "            n+=1\n",
    "            if n==nmax:\n",
    "                break\n",
    "            try:\n",
    "#             if True:\n",
    "                with open('XETRA_ms_balance/'+filename) as f:\n",
    "                    pline = False\n",
    "                    for line in f:\n",
    "#                         print line\n",
    "                        if line==endline+\"\\n\":\n",
    "                            pline = False\n",
    "                            \n",
    "                        if pline and line.split(',')[0].replace('\\n','').replace('\"','') not in entities:\n",
    "                            if not silent:\n",
    "                                print line.split(',')[0]        \n",
    "                            entities.append(line.split(',')[0].replace('\\n','').replace('\"',''))\n",
    "                            \n",
    "                        if line==startline+\"\\n\":\n",
    "                            pline=True\n",
    "            except:\n",
    "                pass\n",
    "        else:\n",
    "            continue    \n",
    "    \n",
    "    return np.array(entities)"
   ]
  },
  {
   "cell_type": "code",
   "execution_count": 9,
   "metadata": {
    "collapsed": true
   },
   "outputs": [],
   "source": [
    "balance_entries = {}"
   ]
  },
  {
   "cell_type": "code",
   "execution_count": 10,
   "metadata": {
    "collapsed": false
   },
   "outputs": [],
   "source": [
    "balance_entries['Current Assets'] = show_entries_in_category(\"Current assets\",\n",
    "                                                             \"Non-current assets\",\n",
    "                                                             nmax=0,\n",
    "                                                             silent=True)"
   ]
  },
  {
   "cell_type": "code",
   "execution_count": 11,
   "metadata": {
    "collapsed": false
   },
   "outputs": [],
   "source": [
    "balance_entries['Non-Current Assets'] = show_entries_in_category(\"Non-current assets\",\n",
    "                                                                 \"Liabilities and stockholders' equity\",\n",
    "                                                                 nmax=0,\n",
    "                                                                 silent=True)"
   ]
  },
  {
   "cell_type": "code",
   "execution_count": 12,
   "metadata": {
    "collapsed": false
   },
   "outputs": [],
   "source": [
    "balance_entries['Stockholders Equity'] = show_entries_in_category(\"Stockholders' equity\",\"---\",\n",
    "                                                                  nmax=0,\n",
    "                                                                  silent=True)"
   ]
  },
  {
   "cell_type": "code",
   "execution_count": 13,
   "metadata": {
    "collapsed": false
   },
   "outputs": [],
   "source": [
    "balance_entries['Current liabilities'] = show_entries_in_category(\"Current liabilities\",\n",
    "                                                                  \"Non-current liabilities\",\n",
    "                                                                  silent=True)"
   ]
  },
  {
   "cell_type": "code",
   "execution_count": 14,
   "metadata": {
    "collapsed": false
   },
   "outputs": [],
   "source": [
    "balance_entries['Non-current liabilities'] = show_entries_in_category(\"Non-current liabilities\",\"\",silent=True)"
   ]
  },
  {
   "cell_type": "markdown",
   "metadata": {},
   "source": [
    "## Define Categories and sub-categories"
   ]
  },
  {
   "cell_type": "code",
   "execution_count": 15,
   "metadata": {
    "collapsed": false
   },
   "outputs": [
    {
     "data": {
      "text/plain": [
       "array(['Long-term debt', 'Deferred taxes liabilities', 'Minority interest',\n",
       "       'Other long-term liabilities', 'Total non-current liabilities',\n",
       "       'Total liabilities', \"Stockholders' equity\", 'Preferred stock',\n",
       "       'Common stock', 'Additional paid-in capital', 'Retained earnings',\n",
       "       'Treasury stock', 'Accumulated other comprehensive income',\n",
       "       \"Total stockholders' equity\",\n",
       "       \"Total liabilities and stockholders' equity\", 'Capital leases',\n",
       "       \"Total Stockholders' equity\", 'Deferred tax liabilities',\n",
       "       'Pensions and other benefits', 'Accrued liabilities',\n",
       "       'Deferred revenues', 'Pensions and other postretirement benefits',\n",
       "       'Regulatory liabilities', \"stockholders' equity\", 'General Partner',\n",
       "       'Other Equity'], \n",
       "      dtype='|S42')"
      ]
     },
     "execution_count": 15,
     "metadata": {},
     "output_type": "execute_result"
    }
   ],
   "source": [
    "\n",
    "\n",
    "balance_entries['Non-current liabilities']"
   ]
  },
  {
   "cell_type": "code",
   "execution_count": null,
   "metadata": {
    "collapsed": true
   },
   "outputs": [],
   "source": []
  },
  {
   "cell_type": "code",
   "execution_count": null,
   "metadata": {
    "collapsed": true
   },
   "outputs": [],
   "source": []
  },
  {
   "cell_type": "code",
   "execution_count": null,
   "metadata": {
    "collapsed": true
   },
   "outputs": [],
   "source": []
  },
  {
   "cell_type": "code",
   "execution_count": null,
   "metadata": {
    "collapsed": true
   },
   "outputs": [],
   "source": []
  },
  {
   "cell_type": "code",
   "execution_count": null,
   "metadata": {
    "collapsed": true
   },
   "outputs": [],
   "source": []
  },
  {
   "cell_type": "code",
   "execution_count": null,
   "metadata": {
    "collapsed": true
   },
   "outputs": [],
   "source": []
  },
  {
   "cell_type": "code",
   "execution_count": null,
   "metadata": {
    "collapsed": true
   },
   "outputs": [],
   "source": []
  },
  {
   "cell_type": "code",
   "execution_count": 16,
   "metadata": {
    "collapsed": false
   },
   "outputs": [],
   "source": [
    "class BalanceSQL:\n",
    "    \n",
    "    def __init__(self):\n",
    "        self.filename = 'Undefined'\n",
    "        self.currency = 'NON'\n",
    "        self.factor   = 'ONE'\n",
    "        pass\n",
    "\n",
    "    def check_filename(self):\n",
    "        if self.filename=='Undefined':\n",
    "            print 'filename not defined. please indicate filename'\n",
    "            \n",
    "    def get_isin(self):\n",
    "        self.ticker = self.filename.split('/')[-1]\n",
    "        self.ticker = self.ticker.split('-')[0]\n",
    "        \n",
    "        self.name,self.isin,self.ticker = np.array(ctuples)[np.array(ctuples)[:,2]==self.ticker][0]\n",
    "        pass\n",
    "    \n",
    "    \n",
    "    \n",
    "    def get_header(self):\n",
    "        self.check_filename()\n",
    "        \n",
    "        with open(self.filename) as f:\n",
    "            for line in f:        \n",
    "                if 'Fiscal' in line:\n",
    "                    \n",
    "                    self.years = line.replace('\\n','').split(',')[1:]                \n",
    "                    self.years = [int(y.split('-')[0]) for y in self.years]\n",
    "                    \n",
    "                    self.currency = line.split('.')[1].split()[0]\n",
    "                    self.factor   = line.split('in')[-1].split()[0]\n",
    "\n",
    "    def return_SQL_tupel_from_line(self,line,category,subcategory,year):\n",
    "                \n",
    "        line      = line.replace('property,','property').replace('\"','')\n",
    "        line      = line.replace('Property,','Property').replace('\"','')\n",
    "                \n",
    "        line      = line.replace('\\n','').split(',')\n",
    "        \n",
    "        entryname = line[0] \n",
    "        values    = line[1:]\n",
    "        \n",
    "        year_indx = np.where(np.array(self.years)==year)[0][0]\n",
    "        \n",
    "        try:\n",
    "            values    = np.array(values).astype('float')\n",
    "        except:\n",
    "            for i,v in enumerate(values):\n",
    "                if v=='':\n",
    "                    values[i] = 0\n",
    "                else:\n",
    "                    values[i] = int(v)\n",
    "                    \n",
    "        values = np.array(values)\n",
    "                \n",
    "        return self.name, self.ticker, self.isin, self. currency, year, category, subcategory, entryname, values[year_indx]                    \n",
    "    \n",
    "    def get_category(self,line,ini_category,ini_subcategory):\n",
    "        \n",
    "        category    = \"None\"\n",
    "        subcategory = \"None\"\n",
    "        \n",
    "        if line==\"Assets\\n\":\n",
    "            category    = \"Assets\"\n",
    "            subcategory = \"Assets\"\n",
    "            \n",
    "        if line==\"Current assets\\n\":\n",
    "            category    = \"Assets\"\n",
    "            subcategory = \"Current assets\"            \n",
    "\n",
    "        if line==\"Non-current assets\\n\":\n",
    "            category    = \"Assets\"\n",
    "            subcategory = \"Non-current assets\"    \n",
    "\n",
    "        if \"Total assets\" in line:\n",
    "            category    = \"Assets\"\n",
    "            subcategory = \"Total assets\"\n",
    "            \n",
    "        if line==\"Liabilities\\n\":\n",
    "            category    = \"Liabilities and equity\"\n",
    "            subcategory = \"Liabilities\"\n",
    "\n",
    "        if line==\"Current liabilities\\n\":\n",
    "            category    = \"Liabilities and equity\"\n",
    "            subcategory = \"Current liabilities\"\n",
    "\n",
    "        if line==\"Non-current liabilities\\n\":\n",
    "            category    = \"Liabilities and equity\"\n",
    "            subcategory = \"Non-current liabilities\"\n",
    "\n",
    "        if \"Total liabilities\" in line and 'equity' not in line:\n",
    "            category    = \"Liabilities and equity\"\n",
    "            subcategory = \"Total liabilities\"                \n",
    "\n",
    "        if line==\"Stockholders' equity\\n\":\n",
    "            category    = \"Liabilities and equity\"\n",
    "            subcategory = \"Equity\"\n",
    "\n",
    "        if \"Total liabilities and stockholders' equity\" in line:\n",
    "            category    = \"Total liabilities and equity\"\n",
    "            subcategory = \"Total liabilities and equity\"  \n",
    "        \n",
    "        if category!=\"None\" and subcategory!=\"None\":\n",
    "            return category, subcategory\n",
    "        else:\n",
    "            return ini_category, ini_subcategory\n",
    "    \n",
    "    \n",
    "    def return_balance_with_categories(self,year,silent=False,show_sql=False):\n",
    "\n",
    "        balanceitems = []\n",
    "        \n",
    "        category    = \"None\"\n",
    "        subcategory = \"None\"        \n",
    "        \n",
    "        self.get_isin()\n",
    "        \n",
    "        if show_sql:\n",
    "            print '-->  SQL BALANCE INFORMATION'\n",
    "            print '-->  Currency  ', self.currency\n",
    "            print '-->  Factor    ', self.factor\n",
    "            print '-->  Year      ', year\n",
    "            print '-->  Name      ', self.name\n",
    "            print '-->  ISIN      ', self.isin\n",
    "            print '-->  Ticker    ', self.ticker\n",
    "            print \n",
    "        with open(self.filename) as f:\n",
    "            \n",
    "            for line in f:\n",
    "\n",
    "                category, subcategory = self.get_category(line,category,subcategory)\n",
    "                    \n",
    "                if category!=\"None\" and line !='':\n",
    "\n",
    "                    line = line.replace('property,','property')\n",
    "                    line = line.replace('Property,','Property')\n",
    "                    line = line.replace('\"','')\n",
    "                    \n",
    "                    \n",
    "                    if len(line.split(','))>1:\n",
    "                        tupel = self.return_SQL_tupel_from_line(line,category,subcategory,year)\n",
    "                        balanceitems.append(tupel)\n",
    "                        if show_sql:\n",
    "                            print tupel \n",
    "                            \n",
    "                    line = line.replace('property,','property').replace('\"','')\n",
    "                    line = line.replace(\"'\",\"\")\n",
    "\n",
    "                    try:\n",
    "                        if not silent:\n",
    "                            print '%29s  %29s  %42s  %10i'  % (category, subcategory,line.split(',')[0],\n",
    "                                                                    int(line.split(',')[1]))\n",
    "                    except:\n",
    "                        pass\n",
    "                    \n",
    "                    \n",
    "                if 'Total assets' in line and not silent:\n",
    "                    print \n",
    "\n",
    "        return balanceitems"
   ]
  },
  {
   "cell_type": "code",
   "execution_count": null,
   "metadata": {
    "collapsed": true
   },
   "outputs": [],
   "source": []
  },
  {
   "cell_type": "code",
   "execution_count": null,
   "metadata": {
    "collapsed": true
   },
   "outputs": [],
   "source": []
  },
  {
   "cell_type": "markdown",
   "metadata": {},
   "source": [
    "## Examples for single stocks"
   ]
  },
  {
   "cell_type": "code",
   "execution_count": 17,
   "metadata": {
    "collapsed": false
   },
   "outputs": [
    {
     "name": "stdout",
     "output_type": "stream",
     "text": [
      "-->  SQL BALANCE INFORMATION\n",
      "-->  Currency   USD\n",
      "-->  Factor     millions\n",
      "-->  Year       2013\n",
      "-->  Name       ROYAL DUTCH SHELL B EO-07\n",
      "-->  ISIN       GB00B03MM408\n",
      "-->  Ticker     R6C3\n",
      "\n",
      "('ROYAL DUTCH SHELL B EO-07', 'R6C3', 'GB00B03MM408', 'USD', 2013, 'Assets', 'Current assets', 'Cash and cash equivalents', 9696.0)\n",
      "('ROYAL DUTCH SHELL B EO-07', 'R6C3', 'GB00B03MM408', 'USD', 2013, 'Assets', 'Current assets', 'Total cash', 9696.0)\n",
      "('ROYAL DUTCH SHELL B EO-07', 'R6C3', 'GB00B03MM408', 'USD', 2013, 'Assets', 'Current assets', 'Receivables', 50357.0)\n",
      "('ROYAL DUTCH SHELL B EO-07', 'R6C3', 'GB00B03MM408', 'USD', 2013, 'Assets', 'Current assets', 'Inventories', 30009.0)\n",
      "('ROYAL DUTCH SHELL B EO-07', 'R6C3', 'GB00B03MM408', 'USD', 2013, 'Assets', 'Current assets', 'Prepaid expenses', 6836)\n",
      "('ROYAL DUTCH SHELL B EO-07', 'R6C3', 'GB00B03MM408', 'USD', 2013, 'Assets', 'Current assets', 'Other current assets', 6445)\n",
      "('ROYAL DUTCH SHELL B EO-07', 'R6C3', 'GB00B03MM408', 'USD', 2013, 'Assets', 'Current assets', 'Total current assets', 103343.0)\n",
      "('ROYAL DUTCH SHELL B EO-07', 'R6C3', 'GB00B03MM408', 'USD', 2013, 'Assets', 'Non-current assets', 'Gross property plant and equipment', 371115.0)\n",
      "('ROYAL DUTCH SHELL B EO-07', 'R6C3', 'GB00B03MM408', 'USD', 2013, 'Assets', 'Non-current assets', 'Accumulated Depreciation', -179218.0)\n",
      "('ROYAL DUTCH SHELL B EO-07', 'R6C3', 'GB00B03MM408', 'USD', 2013, 'Assets', 'Non-current assets', 'Net property plant and equipment', 191897.0)\n",
      "('ROYAL DUTCH SHELL B EO-07', 'R6C3', 'GB00B03MM408', 'USD', 2013, 'Assets', 'Non-current assets', 'Equity and other investments', 39328.0)\n",
      "('ROYAL DUTCH SHELL B EO-07', 'R6C3', 'GB00B03MM408', 'USD', 2013, 'Assets', 'Non-current assets', 'Goodwill', 2563)\n",
      "('ROYAL DUTCH SHELL B EO-07', 'R6C3', 'GB00B03MM408', 'USD', 2013, 'Assets', 'Non-current assets', 'Intangible assets', 1831.0)\n",
      "('ROYAL DUTCH SHELL B EO-07', 'R6C3', 'GB00B03MM408', 'USD', 2013, 'Assets', 'Non-current assets', 'Deferred income taxes', 5785.0)\n",
      "('ROYAL DUTCH SHELL B EO-07', 'R6C3', 'GB00B03MM408', 'USD', 2013, 'Assets', 'Non-current assets', 'Prepaid pension costs', 3574)\n",
      "('ROYAL DUTCH SHELL B EO-07', 'R6C3', 'GB00B03MM408', 'USD', 2013, 'Assets', 'Non-current assets', 'Other long-term assets', 9191.0)\n",
      "('ROYAL DUTCH SHELL B EO-07', 'R6C3', 'GB00B03MM408', 'USD', 2013, 'Assets', 'Non-current assets', 'Total non-current assets', 254169.0)\n",
      "('ROYAL DUTCH SHELL B EO-07', 'R6C3', 'GB00B03MM408', 'USD', 2013, 'Assets', 'Total assets', 'Total assets', 357512.0)\n",
      "('ROYAL DUTCH SHELL B EO-07', 'R6C3', 'GB00B03MM408', 'USD', 2013, 'Liabilities and equity', 'Current liabilities', 'Accounts payable', 41927)\n",
      "('ROYAL DUTCH SHELL B EO-07', 'R6C3', 'GB00B03MM408', 'USD', 2013, 'Liabilities and equity', 'Current liabilities', 'Short-term debt', 8344.0)\n",
      "('ROYAL DUTCH SHELL B EO-07', 'R6C3', 'GB00B03MM408', 'USD', 2013, 'Liabilities and equity', 'Current liabilities', 'Income taxes payable', 7085)\n",
      "('ROYAL DUTCH SHELL B EO-07', 'R6C3', 'GB00B03MM408', 'USD', 2013, 'Liabilities and equity', 'Current liabilities', 'Accrued liabilities', 382)\n",
      "('ROYAL DUTCH SHELL B EO-07', 'R6C3', 'GB00B03MM408', 'USD', 2013, 'Liabilities and equity', 'Current liabilities', 'Deferred revenues', 11820)\n",
      "('ROYAL DUTCH SHELL B EO-07', 'R6C3', 'GB00B03MM408', 'USD', 2013, 'Liabilities and equity', 'Current liabilities', 'Other current liabilities', 23700.0)\n",
      "('ROYAL DUTCH SHELL B EO-07', 'R6C3', 'GB00B03MM408', 'USD', 2013, 'Liabilities and equity', 'Current liabilities', 'Total current liabilities', 93258.0)\n",
      "('ROYAL DUTCH SHELL B EO-07', 'R6C3', 'GB00B03MM408', 'USD', 2013, 'Liabilities and equity', 'Non-current liabilities', 'Long-term debt', 36218.0)\n",
      "('ROYAL DUTCH SHELL B EO-07', 'R6C3', 'GB00B03MM408', 'USD', 2013, 'Liabilities and equity', 'Non-current liabilities', 'Deferred taxes liabilities', 11943.0)\n",
      "('ROYAL DUTCH SHELL B EO-07', 'R6C3', 'GB00B03MM408', 'USD', 2013, 'Liabilities and equity', 'Non-current liabilities', 'Deferred revenues', 1153)\n",
      "('ROYAL DUTCH SHELL B EO-07', 'R6C3', 'GB00B03MM408', 'USD', 2013, 'Liabilities and equity', 'Non-current liabilities', 'Pensions and other postretirement benefits', 11182)\n",
      "('ROYAL DUTCH SHELL B EO-07', 'R6C3', 'GB00B03MM408', 'USD', 2013, 'Liabilities and equity', 'Non-current liabilities', 'Minority interest', 1101.0)\n",
      "('ROYAL DUTCH SHELL B EO-07', 'R6C3', 'GB00B03MM408', 'USD', 2013, 'Liabilities and equity', 'Non-current liabilities', 'Other long-term liabilities', 22610.0)\n",
      "('ROYAL DUTCH SHELL B EO-07', 'R6C3', 'GB00B03MM408', 'USD', 2013, 'Liabilities and equity', 'Non-current liabilities', 'Total non-current liabilities', 84207.0)\n",
      "('ROYAL DUTCH SHELL B EO-07', 'R6C3', 'GB00B03MM408', 'USD', 2013, 'Liabilities and equity', 'Total liabilities', 'Total liabilities', 177465.0)\n",
      "('ROYAL DUTCH SHELL B EO-07', 'R6C3', 'GB00B03MM408', 'USD', 2013, 'Liabilities and equity', 'Equity', 'Common stock', 542.0)\n",
      "('ROYAL DUTCH SHELL B EO-07', 'R6C3', 'GB00B03MM408', 'USD', 2013, 'Liabilities and equity', 'Equity', 'Retained earnings', 183474.0)\n",
      "('ROYAL DUTCH SHELL B EO-07', 'R6C3', 'GB00B03MM408', 'USD', 2013, 'Liabilities and equity', 'Equity', 'Accumulated other comprehensive income', -3969.0)\n",
      "('ROYAL DUTCH SHELL B EO-07', 'R6C3', 'GB00B03MM408', 'USD', 2013, 'Liabilities and equity', 'Equity', \"Total Stockholders' equity\", 180047.0)\n",
      "('ROYAL DUTCH SHELL B EO-07', 'R6C3', 'GB00B03MM408', 'USD', 2013, 'Total liabilities and equity', 'Total liabilities and equity', \"Total liabilities and stockholders' equity\", 357512.0)\n"
     ]
    }
   ],
   "source": [
    "b = BalanceSQL()\n",
    "b.filename = 'XETRA_ms_balance/R6C3-ROYAL-DUTCH-SHELL-B-EO-07.csv'\n",
    "b.get_header()\n",
    "tupels = b.return_balance_with_categories(2013,silent=True,show_sql=True)"
   ]
  },
  {
   "cell_type": "code",
   "execution_count": 18,
   "metadata": {
    "collapsed": false
   },
   "outputs": [
    {
     "name": "stdout",
     "output_type": "stream",
     "text": [
      "-->  SQL BALANCE INFORMATION\n",
      "-->  Currency   EUR\n",
      "-->  Factor     millions\n",
      "-->  Year       2013\n",
      "-->  Name       MUENCH.RUECKVERS.VNA O.N.\n",
      "-->  ISIN       DE0008430026\n",
      "-->  Ticker     MUV2\n",
      "\n",
      "('MUENCH.RUECKVERS.VNA O.N.', 'MUV2', 'DE0008430026', 'EUR', 2013, 'Assets', 'Assets', 'Cash and cash equivalents', 2820.0)\n",
      "('MUENCH.RUECKVERS.VNA O.N.', 'MUV2', 'DE0008430026', 'EUR', 2013, 'Assets', 'Assets', 'Deferred policy acquisition costs', 9542)\n",
      "('MUENCH.RUECKVERS.VNA O.N.', 'MUV2', 'DE0008430026', 'EUR', 2013, 'Assets', 'Assets', 'Property and equipment', 3762.0)\n",
      "('MUENCH.RUECKVERS.VNA O.N.', 'MUV2', 'DE0008430026', 'EUR', 2013, 'Assets', 'Assets', 'Goodwill', 4672.0)\n",
      "('MUENCH.RUECKVERS.VNA O.N.', 'MUV2', 'DE0008430026', 'EUR', 2013, 'Assets', 'Assets', 'Other assets', 233492.0)\n",
      "('MUENCH.RUECKVERS.VNA O.N.', 'MUV2', 'DE0008430026', 'EUR', 2013, 'Assets', 'Total assets', 'Total assets', 254288.0)\n",
      "('MUENCH.RUECKVERS.VNA O.N.', 'MUV2', 'DE0008430026', 'EUR', 2013, 'Liabilities and equity', 'Liabilities', 'Unearned premiums', 7994.0)\n",
      "('MUENCH.RUECKVERS.VNA O.N.', 'MUV2', 'DE0008430026', 'EUR', 2013, 'Liabilities and equity', 'Liabilities', 'Long-term debt', 248.0)\n",
      "('MUENCH.RUECKVERS.VNA O.N.', 'MUV2', 'DE0008430026', 'EUR', 2013, 'Liabilities and equity', 'Liabilities', 'Deferred income taxes', 8188)\n",
      "('MUENCH.RUECKVERS.VNA O.N.', 'MUV2', 'DE0008430026', 'EUR', 2013, 'Liabilities and equity', 'Liabilities', 'Taxes payable', 2795.0)\n",
      "('MUENCH.RUECKVERS.VNA O.N.', 'MUV2', 'DE0008430026', 'EUR', 2013, 'Liabilities and equity', 'Liabilities', 'Other liabilities', 209080.0)\n",
      "('MUENCH.RUECKVERS.VNA O.N.', 'MUV2', 'DE0008430026', 'EUR', 2013, 'Liabilities and equity', 'Total liabilities', 'Total liabilities', 228305.0)\n",
      "('MUENCH.RUECKVERS.VNA O.N.', 'MUV2', 'DE0008430026', 'EUR', 2013, 'Liabilities and equity', 'Equity', 'Retained earnings', 16188.0)\n",
      "('MUENCH.RUECKVERS.VNA O.N.', 'MUV2', 'DE0008430026', 'EUR', 2013, 'Liabilities and equity', 'Equity', 'Accumulated other comprehensive income', 9795.0)\n",
      "('MUENCH.RUECKVERS.VNA O.N.', 'MUV2', 'DE0008430026', 'EUR', 2013, 'Liabilities and equity', 'Equity', \"Total stockholders' equity\", 25983.0)\n",
      "('MUENCH.RUECKVERS.VNA O.N.', 'MUV2', 'DE0008430026', 'EUR', 2013, 'Total liabilities and equity', 'Total liabilities and equity', \"Total liabilities and stockholders' equity\", 254288.0)\n"
     ]
    }
   ],
   "source": [
    "b = BalanceSQL()\n",
    "b.filename = 'XETRA_ms_balance/MUV2-MUENCH.RUECKVERS.VNA-O.N..csv'\n",
    "b.get_header()\n",
    "tupels = b.return_balance_with_categories(2013,silent=True,show_sql=True)"
   ]
  },
  {
   "cell_type": "code",
   "execution_count": null,
   "metadata": {
    "collapsed": true
   },
   "outputs": [],
   "source": []
  },
  {
   "cell_type": "markdown",
   "metadata": {},
   "source": [
    "## Populate SQL Database with Balance Data"
   ]
  },
  {
   "cell_type": "code",
   "execution_count": 247,
   "metadata": {
    "collapsed": false
   },
   "outputs": [],
   "source": [
    "failed = []\n",
    "\n",
    "conn = sq.connect('database/stocks.db')\n",
    "c    = conn.cursor()\n",
    "\n",
    "c.execute('''CREATE TABLE balance \n",
    "    (\n",
    "    name        TEXT NOT NULL,\n",
    "    ticker      TEXT NOT NULL,\n",
    "    isin        TEXT,    \n",
    "    currency    TEXT,\n",
    "    year        INT  NOT NULL,\n",
    "    category    TEXT NOT NULL,\n",
    "    subcategory TEXT NOT NULL,\n",
    "    entity      TEXT NOT NULL,\n",
    "    amount      REAL NOT NULL\n",
    "    );''')\n",
    "\n",
    "for filename in os.listdir('XETRA_ms_balance/'):\n",
    "    if filename.endswith(\".csv\"): \n",
    "        b = BalanceSQL()\n",
    "        b.filename = 'XETRA_ms_balance/'+filename\n",
    "        b.get_header()\n",
    "        try:\n",
    "            for y in b.years:\n",
    "                tupels = b.return_balance_with_categories(y,silent=True,show_sql=False)\n",
    "                c.executemany('INSERT INTO balance VALUES (?,?,?,?,?,?,?,?,?)', tupels)\n",
    "        except:\n",
    "            failed.append(filename)\n",
    "\n",
    "conn.commit()\n",
    "conn.close()\n",
    "\n"
   ]
  },
  {
   "cell_type": "code",
   "execution_count": null,
   "metadata": {
    "collapsed": true
   },
   "outputs": [],
   "source": []
  },
  {
   "cell_type": "markdown",
   "metadata": {
    "collapsed": true
   },
   "source": [
    "## LOAD KEYRATIOS"
   ]
  },
  {
   "cell_type": "code",
   "execution_count": 2,
   "metadata": {
    "collapsed": false
   },
   "outputs": [],
   "source": [
    "df = pd.read_csv('XETRA_ms_keyratios/MUV2-MUENCH.RUECKVERS.VNA-O.N..csv',skiprows=2)"
   ]
  },
  {
   "cell_type": "code",
   "execution_count": 3,
   "metadata": {
    "collapsed": false
   },
   "outputs": [
    {
     "data": {
      "text/plain": [
       "Index([u'Unnamed: 0', u'2006-12', u'2007-12', u'2008-12', u'2009-12',\n",
       "       u'2010-12', u'2011-12', u'2012-12', u'2013-12', u'2014-12', u'2015-12',\n",
       "       u'TTM'],\n",
       "      dtype='object')"
      ]
     },
     "execution_count": 3,
     "metadata": {},
     "output_type": "execute_result"
    }
   ],
   "source": [
    "df.columns"
   ]
  },
  {
   "cell_type": "code",
   "execution_count": 4,
   "metadata": {
    "collapsed": false
   },
   "outputs": [],
   "source": [
    "newcols = []\n",
    "for i in df.columns:\n",
    "    if 'Unnamed' in i:\n",
    "        newcols.append('Parameter')        \n",
    "    elif i=='TTM':\n",
    "        newcols.append(2016)\n",
    "    else:\n",
    "        newcols.append(int(i.split('-')[0]))\n"
   ]
  },
  {
   "cell_type": "code",
   "execution_count": 5,
   "metadata": {
    "collapsed": false
   },
   "outputs": [
    {
     "data": {
      "text/plain": [
       "['Parameter', 2006, 2007, 2008, 2009, 2010, 2011, 2012, 2013, 2014, 2015, 2016]"
      ]
     },
     "execution_count": 5,
     "metadata": {},
     "output_type": "execute_result"
    }
   ],
   "source": [
    "newcols"
   ]
  },
  {
   "cell_type": "code",
   "execution_count": 6,
   "metadata": {
    "collapsed": true
   },
   "outputs": [],
   "source": [
    "df.columns = newcols"
   ]
  },
  {
   "cell_type": "code",
   "execution_count": 7,
   "metadata": {
    "collapsed": false
   },
   "outputs": [
    {
     "data": {
      "text/html": [
       "<div>\n",
       "<table border=\"1\" class=\"dataframe\">\n",
       "  <thead>\n",
       "    <tr style=\"text-align: right;\">\n",
       "      <th></th>\n",
       "      <th>Parameter</th>\n",
       "      <th>2006</th>\n",
       "      <th>2007</th>\n",
       "      <th>2008</th>\n",
       "      <th>2009</th>\n",
       "      <th>2010</th>\n",
       "      <th>2011</th>\n",
       "      <th>2012</th>\n",
       "      <th>2013</th>\n",
       "      <th>2014</th>\n",
       "      <th>2015</th>\n",
       "      <th>2016</th>\n",
       "    </tr>\n",
       "  </thead>\n",
       "  <tbody>\n",
       "    <tr>\n",
       "      <th>0</th>\n",
       "      <td>Revenue EUR Mil</td>\n",
       "      <td>49,880</td>\n",
       "      <td>53,124</td>\n",
       "      <td>61,383</td>\n",
       "      <td>59,583</td>\n",
       "      <td>59,111</td>\n",
       "      <td>60,688</td>\n",
       "      <td>72,286</td>\n",
       "      <td>56,718</td>\n",
       "      <td>55,634</td>\n",
       "      <td>55,985</td>\n",
       "      <td>54,911</td>\n",
       "    </tr>\n",
       "    <tr>\n",
       "      <th>1</th>\n",
       "      <td>Gross Margin %</td>\n",
       "      <td>NaN</td>\n",
       "      <td>NaN</td>\n",
       "      <td>NaN</td>\n",
       "      <td>NaN</td>\n",
       "      <td>NaN</td>\n",
       "      <td>NaN</td>\n",
       "      <td>NaN</td>\n",
       "      <td>NaN</td>\n",
       "      <td>NaN</td>\n",
       "      <td>NaN</td>\n",
       "      <td>NaN</td>\n",
       "    </tr>\n",
       "    <tr>\n",
       "      <th>2</th>\n",
       "      <td>Operating Income EUR Mil</td>\n",
       "      <td>5,477</td>\n",
       "      <td>5,057</td>\n",
       "      <td>3,834</td>\n",
       "      <td>4,721</td>\n",
       "      <td>3,978</td>\n",
       "      <td>1,180</td>\n",
       "      <td>5,349</td>\n",
       "      <td>4,398</td>\n",
       "      <td>4,027</td>\n",
       "      <td>4,819</td>\n",
       "      <td>4,629</td>\n",
       "    </tr>\n",
       "    <tr>\n",
       "      <th>3</th>\n",
       "      <td>Operating Margin %</td>\n",
       "      <td>11.0</td>\n",
       "      <td>9.5</td>\n",
       "      <td>6.2</td>\n",
       "      <td>7.9</td>\n",
       "      <td>6.7</td>\n",
       "      <td>1.9</td>\n",
       "      <td>7.4</td>\n",
       "      <td>7.8</td>\n",
       "      <td>7.2</td>\n",
       "      <td>8.6</td>\n",
       "      <td>8.4</td>\n",
       "    </tr>\n",
       "  </tbody>\n",
       "</table>\n",
       "</div>"
      ],
      "text/plain": [
       "                  Parameter    2006    2007    2008    2009    2010    2011  \\\n",
       "0           Revenue EUR Mil  49,880  53,124  61,383  59,583  59,111  60,688   \n",
       "1            Gross Margin %     NaN     NaN     NaN     NaN     NaN     NaN   \n",
       "2  Operating Income EUR Mil   5,477   5,057   3,834   4,721   3,978   1,180   \n",
       "3        Operating Margin %    11.0     9.5     6.2     7.9     6.7     1.9   \n",
       "\n",
       "     2012    2013    2014    2015    2016  \n",
       "0  72,286  56,718  55,634  55,985  54,911  \n",
       "1     NaN     NaN     NaN     NaN     NaN  \n",
       "2   5,349   4,398   4,027   4,819   4,629  \n",
       "3     7.4     7.8     7.2     8.6     8.4  "
      ]
     },
     "execution_count": 7,
     "metadata": {},
     "output_type": "execute_result"
    }
   ],
   "source": [
    "df[0:4]"
   ]
  },
  {
   "cell_type": "code",
   "execution_count": 12,
   "metadata": {
    "collapsed": false
   },
   "outputs": [
    {
     "data": {
      "text/html": [
       "<div>\n",
       "<table border=\"1\" class=\"dataframe\">\n",
       "  <thead>\n",
       "    <tr style=\"text-align: right;\">\n",
       "      <th></th>\n",
       "      <th>Parameter</th>\n",
       "      <th>2006</th>\n",
       "      <th>2007</th>\n",
       "      <th>2008</th>\n",
       "      <th>2009</th>\n",
       "      <th>2010</th>\n",
       "      <th>2011</th>\n",
       "      <th>2012</th>\n",
       "      <th>2013</th>\n",
       "      <th>2014</th>\n",
       "      <th>2015</th>\n",
       "      <th>2016</th>\n",
       "    </tr>\n",
       "  </thead>\n",
       "  <tbody>\n",
       "    <tr>\n",
       "      <th>0</th>\n",
       "      <td>Revenue EUR Mil</td>\n",
       "      <td>49,880</td>\n",
       "      <td>53,124</td>\n",
       "      <td>61,383</td>\n",
       "      <td>59,583</td>\n",
       "      <td>59,111</td>\n",
       "      <td>60,688</td>\n",
       "      <td>72,286</td>\n",
       "      <td>56,718</td>\n",
       "      <td>55,634</td>\n",
       "      <td>55,985</td>\n",
       "      <td>54,911</td>\n",
       "    </tr>\n",
       "  </tbody>\n",
       "</table>\n",
       "</div>"
      ],
      "text/plain": [
       "         Parameter    2006    2007    2008    2009    2010    2011    2012  \\\n",
       "0  Revenue EUR Mil  49,880  53,124  61,383  59,583  59,111  60,688  72,286   \n",
       "\n",
       "     2013    2014    2015    2016  \n",
       "0  56,718  55,634  55,985  54,911  "
      ]
     },
     "execution_count": 12,
     "metadata": {},
     "output_type": "execute_result"
    }
   ],
   "source": [
    "df[df.Parameter=='Revenue EUR Mil']"
   ]
  },
  {
   "cell_type": "code",
   "execution_count": null,
   "metadata": {
    "collapsed": true
   },
   "outputs": [],
   "source": []
  }
 ],
 "metadata": {
  "kernelspec": {
   "display_name": "Python 2",
   "language": "python",
   "name": "python2"
  },
  "language_info": {
   "codemirror_mode": {
    "name": "ipython",
    "version": 2
   },
   "file_extension": ".py",
   "mimetype": "text/x-python",
   "name": "python",
   "nbconvert_exporter": "python",
   "pygments_lexer": "ipython2",
   "version": "2.7.13"
  }
 },
 "nbformat": 4,
 "nbformat_minor": 2
}
