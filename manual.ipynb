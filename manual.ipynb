{
 "cells": [
  {
   "cell_type": "markdown",
   "metadata": {},
   "source": [
    "# Q-AnT Manual\n",
    "\n",
    "Quantitative Analysis Trading (Q-AnT) is a platform to gather and manage information about corporate shares.\n",
    "\n",
    "This document explains the most important steps in the usage of Q-Ant. It includes the basic commands to perform operation, run the classification algorithm and download input data."
   ]
  },
  {
   "cell_type": "markdown",
   "metadata": {},
   "source": [
    "## Initialize"
   ]
  },
  {
   "cell_type": "code",
   "execution_count": 1,
   "metadata": {
    "ExecuteTime": {
     "end_time": "2018-02-04T17:03:49.101676",
     "start_time": "2018-02-04T17:03:46.947061"
    },
    "collapsed": false
   },
   "outputs": [],
   "source": [
    "import pandas as pd\n",
    "import sqlite3\n",
    "import numpy as np\n",
    "import matplotlib.pyplot as plt\n",
    "import plotly\n",
    "import plotly.graph_objs as go\n",
    "import datetime as dt\n",
    "import time as tt\n",
    "from QAnT import stock\n",
    "from QAnT import Index\n",
    "import datetime\n",
    "\n",
    "from scipy.stats import norm\n",
    "from scipy.stats import levy\n",
    "import matplotlib.mlab as mlab"
   ]
  },
  {
   "cell_type": "markdown",
   "metadata": {},
   "source": [
    "# Basic functions of the stock and index classes\n",
    "\n",
    "## Initialization\n",
    "The initialization of the stock and index classes is done by the following commands:"
   ]
  },
  {
   "cell_type": "code",
   "execution_count": 2,
   "metadata": {
    "ExecuteTime": {
     "end_time": "2018-02-04T17:03:49.223061",
     "start_time": "2018-02-04T17:03:49.103842"
    },
    "collapsed": true
   },
   "outputs": [],
   "source": [
    "s = stock(debug=True, verbose=True)"
   ]
  },
  {
   "cell_type": "code",
   "execution_count": 3,
   "metadata": {
    "ExecuteTime": {
     "end_time": "2018-02-04T17:03:49.231282",
     "start_time": "2018-02-04T17:03:49.224670"
    },
    "collapsed": false
   },
   "outputs": [
    {
     "name": "stdout",
     "output_type": "stream",
     "text": [
      "reading stored quotes\n"
     ]
    }
   ],
   "source": [
    "i = Index(debug=True, verbose=True)"
   ]
  },
  {
   "cell_type": "markdown",
   "metadata": {},
   "source": [
    "## Search the stock database\n",
    "We can search the database by the name of the company."
   ]
  },
  {
   "cell_type": "code",
   "execution_count": 4,
   "metadata": {
    "ExecuteTime": {
     "end_time": "2018-02-04T17:03:49.264484",
     "start_time": "2018-02-04T17:03:49.233184"
    },
    "collapsed": false
   },
   "outputs": [
    {
     "data": {
      "text/html": [
       "<div>\n",
       "<table border=\"1\" class=\"dataframe\">\n",
       "  <thead>\n",
       "    <tr style=\"text-align: right;\">\n",
       "      <th></th>\n",
       "      <th>name</th>\n",
       "      <th>isin</th>\n",
       "      <th>ticker_YF</th>\n",
       "      <th>ticker_MS</th>\n",
       "      <th>branch</th>\n",
       "      <th>benchmark</th>\n",
       "      <th>finanzen_net</th>\n",
       "    </tr>\n",
       "  </thead>\n",
       "  <tbody>\n",
       "    <tr>\n",
       "      <th>2037</th>\n",
       "      <td>PROCTER GAMBLE</td>\n",
       "      <td>US7427181091</td>\n",
       "      <td>PRG</td>\n",
       "      <td>PG</td>\n",
       "      <td>0.0</td>\n",
       "      <td>^GSPC</td>\n",
       "      <td>ProcterGamble</td>\n",
       "    </tr>\n",
       "  </tbody>\n",
       "</table>\n",
       "</div>"
      ],
      "text/plain": [
       "                name          isin ticker_YF ticker_MS  branch benchmark  \\\n",
       "2037  PROCTER GAMBLE  US7427181091       PRG        PG     0.0     ^GSPC   \n",
       "\n",
       "       finanzen_net  \n",
       "2037  ProcterGamble  "
      ]
     },
     "execution_count": 4,
     "metadata": {},
     "output_type": "execute_result"
    }
   ],
   "source": [
    "s = stock(verbose=True)\n",
    "search_results = s.find_by_name(\"PROCTER\")\n",
    "search_results"
   ]
  },
  {
   "cell_type": "markdown",
   "metadata": {},
   "source": [
    "# Downloading data\n",
    "## Download keyratios from MorningStar and save to database\n",
    "\n",
    "If we have new companies in our database, we may want to download the keyratios from morningstar."
   ]
  },
  {
   "cell_type": "code",
   "execution_count": 5,
   "metadata": {
    "ExecuteTime": {
     "end_time": "2018-02-04T17:03:49.600898",
     "start_time": "2018-02-04T17:03:49.442139"
    },
    "collapsed": false
   },
   "outputs": [
    {
     "name": "stdout",
     "output_type": "stream",
     "text": [
      "File existing: tmpfiles/US_PG.csv\n"
     ]
    }
   ],
   "source": [
    "s.switch_isin('US7427181091')\n",
    "s.ticker_ms = 'PRG'\n",
    "s.load_keyratios(deletecsv=False)"
   ]
  },
  {
   "cell_type": "markdown",
   "metadata": {},
   "source": [
    "## Download quotes from Yahoo\n",
    "\n",
    "Let's select the Munich Re stock and download the quote. There are two different modes of operation for the quote downloading algorithm. If the algorithm is called for the first time, Q-AnT tries all exchanges and selects that with the largest available data set. If quotes are already stored for the stock, Q-AnT uses the same exchange as for the previous data. "
   ]
  },
  {
   "cell_type": "code",
   "execution_count": 6,
   "metadata": {
    "ExecuteTime": {
     "end_time": "2018-02-04T17:03:50.912567",
     "start_time": "2018-02-04T17:03:50.780785"
    },
    "collapsed": false
   },
   "outputs": [],
   "source": [
    "s.switch_isin('US7427181091')"
   ]
  },
  {
   "cell_type": "code",
   "execution_count": 7,
   "metadata": {
    "ExecuteTime": {
     "end_time": "2018-02-04T17:04:03.835426",
     "start_time": "2018-02-04T17:03:51.362741"
    },
    "collapsed": false
   },
   "outputs": [
    {
     "name": "stdout",
     "output_type": "stream",
     "text": [
      "\n",
      "\n",
      "fail\n",
      "\n",
      "succes\n",
      "{'':              Open   High    Low  Close  Adj Close     Volume\n",
      "Date                                                        \n",
      "2000-01-04  2.200  2.200  2.200  2.200      2.200     9000.0\n",
      "2000-01-05  2.225  2.400  2.225  2.225      2.225        0.0\n",
      "2000-01-06  2.000  2.400  2.000  2.000      2.000        0.0\n",
      "2000-01-07  2.000  2.100  2.000  2.075      2.075    50000.0\n",
      "2000-01-10  2.050  2.150  2.050  2.050      2.050        0.0\n",
      "2000-01-11  2.050  2.150  2.050  2.050      2.050        0.0\n",
      "2000-01-12  2.075  2.075  2.075  2.075      2.075    10000.0\n",
      "2000-01-13  2.075  2.075  2.075  2.075      2.075    50000.0\n",
      "2000-01-14  2.075  2.075  2.075  2.075      2.075    70000.0\n",
      "2000-01-18  2.050  2.075  2.050  2.050      2.050  1024000.0\n",
      "2000-01-19  2.050  2.150  2.050  2.050      2.050        0.0\n",
      "2000-01-20  2.075  2.075  2.075  2.075      2.075     5000.0\n",
      "2000-01-21  2.050  2.150  2.050  2.050      2.050        0.0\n",
      "2000-01-24  2.075  2.125  2.075  2.075      2.075        0.0\n",
      "2000-01-25  2.075  2.150  2.075  2.075      2.075        0.0\n",
      "2000-01-26  2.075  2.150  2.075  2.075      2.075        0.0\n",
      "2000-01-27  2.100  2.100  2.100  2.100      2.100    50000.0\n",
      "2000-01-28  2.100  2.100  2.100  2.100      2.100     5000.0\n",
      "2000-01-31  2.075  2.150  2.075  2.075      2.075        0.0\n",
      "2000-02-01  2.075  2.150  2.075  2.075      2.075        0.0\n",
      "2000-02-02  2.075  2.150  2.075  2.075      2.075        0.0\n",
      "2000-02-03  2.075  2.075  2.075  2.075      2.075    10000.0\n",
      "2000-02-04  2.075  2.150  2.075  2.075      2.075        0.0\n",
      "2000-02-07  2.075  2.125  2.075  2.075      2.075        0.0\n",
      "2000-02-08  2.075  2.150  2.075  2.075      2.075        0.0\n",
      "2000-02-09  2.075  2.075  2.075  2.075      2.075    30000.0\n",
      "2000-02-10  2.075  2.150  2.075  2.075      2.075        0.0\n",
      "2000-02-11  2.075  2.150  2.075  2.075      2.075        0.0\n",
      "2000-02-14  2.075  2.075  2.075  2.075      2.075    15000.0\n",
      "2000-02-15  2.075  2.075  2.000  2.000      2.000   230000.0\n",
      "...           ...    ...    ...    ...        ...        ...\n",
      "2017-09-19    NaN    NaN    NaN    NaN        NaN        NaN\n",
      "2017-09-20    NaN    NaN    NaN    NaN        NaN        NaN\n",
      "2017-09-21    NaN    NaN    NaN    NaN        NaN        NaN\n",
      "2017-09-22    NaN    NaN    NaN    NaN        NaN        NaN\n",
      "2017-09-25    NaN    NaN    NaN    NaN        NaN        NaN\n",
      "2017-09-26    NaN    NaN    NaN    NaN        NaN        NaN\n",
      "2017-09-27    NaN    NaN    NaN    NaN        NaN        NaN\n",
      "2017-09-28    NaN    NaN    NaN    NaN        NaN        NaN\n",
      "2017-09-29    NaN    NaN    NaN    NaN        NaN        NaN\n",
      "2017-10-02    NaN    NaN    NaN    NaN        NaN        NaN\n",
      "2017-10-03    NaN    NaN    NaN    NaN        NaN        NaN\n",
      "2017-10-04    NaN    NaN    NaN    NaN        NaN        NaN\n",
      "2017-10-05    NaN    NaN    NaN    NaN        NaN        NaN\n",
      "2017-10-06    NaN    NaN    NaN    NaN        NaN        NaN\n",
      "2017-10-09    NaN    NaN    NaN    NaN        NaN        NaN\n",
      "2017-10-10    NaN    NaN    NaN    NaN        NaN        NaN\n",
      "2017-10-11    NaN    NaN    NaN    NaN        NaN        NaN\n",
      "2017-10-12    NaN    NaN    NaN    NaN        NaN        NaN\n",
      "2017-10-13    NaN    NaN    NaN    NaN        NaN        NaN\n",
      "2017-10-16  3.010  3.010  3.010  3.010      3.010        0.0\n",
      "2017-10-17  3.010  3.010  3.010  3.010      3.010        0.0\n",
      "2017-10-18  3.010  3.010  3.010  3.010      3.010        0.0\n",
      "2017-10-19  3.010  3.010  3.010  3.010      3.010        0.0\n",
      "2017-10-20  3.010  3.010  3.010  3.010      3.010        0.0\n",
      "2017-10-23  3.010  3.010  3.010  3.010      3.010        0.0\n",
      "2017-10-24  3.010  3.010  3.010  3.010      3.010        0.0\n",
      "2017-10-25  3.010  3.010  3.010  3.010      3.010        0.0\n",
      "2017-10-26  3.010  3.010  3.010  3.010      3.010        0.0\n",
      "2017-10-27  3.010  3.010  3.010  3.010      3.010        0.0\n",
      "2017-10-30  3.010  3.010  3.010  3.010      3.010        0.0\n",
      "\n",
      "[4485 rows x 6 columns]}\n",
      "\n",
      "{'':              Open   High    Low  Close  Adj Close     Volume\n",
      "Date                                                        \n",
      "2000-01-04  2.200  2.200  2.200  2.200      2.200     9000.0\n",
      "2000-01-05  2.225  2.400  2.225  2.225      2.225        0.0\n",
      "2000-01-06  2.000  2.400  2.000  2.000      2.000        0.0\n",
      "2000-01-07  2.000  2.100  2.000  2.075      2.075    50000.0\n",
      "2000-01-10  2.050  2.150  2.050  2.050      2.050        0.0\n",
      "2000-01-11  2.050  2.150  2.050  2.050      2.050        0.0\n",
      "2000-01-12  2.075  2.075  2.075  2.075      2.075    10000.0\n",
      "2000-01-13  2.075  2.075  2.075  2.075      2.075    50000.0\n",
      "2000-01-14  2.075  2.075  2.075  2.075      2.075    70000.0\n",
      "2000-01-18  2.050  2.075  2.050  2.050      2.050  1024000.0\n",
      "2000-01-19  2.050  2.150  2.050  2.050      2.050        0.0\n",
      "2000-01-20  2.075  2.075  2.075  2.075      2.075     5000.0\n",
      "2000-01-21  2.050  2.150  2.050  2.050      2.050        0.0\n",
      "2000-01-24  2.075  2.125  2.075  2.075      2.075        0.0\n",
      "2000-01-25  2.075  2.150  2.075  2.075      2.075        0.0\n",
      "2000-01-26  2.075  2.150  2.075  2.075      2.075        0.0\n",
      "2000-01-27  2.100  2.100  2.100  2.100      2.100    50000.0\n",
      "2000-01-28  2.100  2.100  2.100  2.100      2.100     5000.0\n",
      "2000-01-31  2.075  2.150  2.075  2.075      2.075        0.0\n",
      "2000-02-01  2.075  2.150  2.075  2.075      2.075        0.0\n",
      "2000-02-02  2.075  2.150  2.075  2.075      2.075        0.0\n",
      "2000-02-03  2.075  2.075  2.075  2.075      2.075    10000.0\n",
      "2000-02-04  2.075  2.150  2.075  2.075      2.075        0.0\n",
      "2000-02-07  2.075  2.125  2.075  2.075      2.075        0.0\n",
      "2000-02-08  2.075  2.150  2.075  2.075      2.075        0.0\n",
      "2000-02-09  2.075  2.075  2.075  2.075      2.075    30000.0\n",
      "2000-02-10  2.075  2.150  2.075  2.075      2.075        0.0\n",
      "2000-02-11  2.075  2.150  2.075  2.075      2.075        0.0\n",
      "2000-02-14  2.075  2.075  2.075  2.075      2.075    15000.0\n",
      "2000-02-15  2.075  2.075  2.000  2.000      2.000   230000.0\n",
      "...           ...    ...    ...    ...        ...        ...\n",
      "2017-09-19    NaN    NaN    NaN    NaN        NaN        NaN\n",
      "2017-09-20    NaN    NaN    NaN    NaN        NaN        NaN\n",
      "2017-09-21    NaN    NaN    NaN    NaN        NaN        NaN\n",
      "2017-09-22    NaN    NaN    NaN    NaN        NaN        NaN\n",
      "2017-09-25    NaN    NaN    NaN    NaN        NaN        NaN\n",
      "2017-09-26    NaN    NaN    NaN    NaN        NaN        NaN\n",
      "2017-09-27    NaN    NaN    NaN    NaN        NaN        NaN\n",
      "2017-09-28    NaN    NaN    NaN    NaN        NaN        NaN\n",
      "2017-09-29    NaN    NaN    NaN    NaN        NaN        NaN\n",
      "2017-10-02    NaN    NaN    NaN    NaN        NaN        NaN\n",
      "2017-10-03    NaN    NaN    NaN    NaN        NaN        NaN\n",
      "2017-10-04    NaN    NaN    NaN    NaN        NaN        NaN\n",
      "2017-10-05    NaN    NaN    NaN    NaN        NaN        NaN\n",
      "2017-10-06    NaN    NaN    NaN    NaN        NaN        NaN\n",
      "2017-10-09    NaN    NaN    NaN    NaN        NaN        NaN\n",
      "2017-10-10    NaN    NaN    NaN    NaN        NaN        NaN\n",
      "2017-10-11    NaN    NaN    NaN    NaN        NaN        NaN\n",
      "2017-10-12    NaN    NaN    NaN    NaN        NaN        NaN\n",
      "2017-10-13    NaN    NaN    NaN    NaN        NaN        NaN\n",
      "2017-10-16  3.010  3.010  3.010  3.010      3.010        0.0\n",
      "2017-10-17  3.010  3.010  3.010  3.010      3.010        0.0\n",
      "2017-10-18  3.010  3.010  3.010  3.010      3.010        0.0\n",
      "2017-10-19  3.010  3.010  3.010  3.010      3.010        0.0\n",
      "2017-10-20  3.010  3.010  3.010  3.010      3.010        0.0\n",
      "2017-10-23  3.010  3.010  3.010  3.010      3.010        0.0\n",
      "2017-10-24  3.010  3.010  3.010  3.010      3.010        0.0\n",
      "2017-10-25  3.010  3.010  3.010  3.010      3.010        0.0\n",
      "2017-10-26  3.010  3.010  3.010  3.010      3.010        0.0\n",
      "2017-10-27  3.010  3.010  3.010  3.010      3.010        0.0\n",
      "2017-10-30  3.010  3.010  3.010  3.010      3.010        0.0\n",
      "\n",
      "[4485 rows x 6 columns]}\n",
      "             Open   High    Low  Close  Adj Close     Volume\n",
      "Date                                                        \n",
      "2000-01-04  2.200  2.200  2.200  2.200      2.200     9000.0\n",
      "2000-01-05  2.225  2.400  2.225  2.225      2.225        0.0\n",
      "2000-01-06  2.000  2.400  2.000  2.000      2.000        0.0\n",
      "2000-01-07  2.000  2.100  2.000  2.075      2.075    50000.0\n",
      "2000-01-10  2.050  2.150  2.050  2.050      2.050        0.0\n",
      "2000-01-11  2.050  2.150  2.050  2.050      2.050        0.0\n",
      "2000-01-12  2.075  2.075  2.075  2.075      2.075    10000.0\n",
      "2000-01-13  2.075  2.075  2.075  2.075      2.075    50000.0\n",
      "2000-01-14  2.075  2.075  2.075  2.075      2.075    70000.0\n",
      "2000-01-18  2.050  2.075  2.050  2.050      2.050  1024000.0\n",
      "2000-01-19  2.050  2.150  2.050  2.050      2.050        0.0\n",
      "2000-01-20  2.075  2.075  2.075  2.075      2.075     5000.0\n",
      "2000-01-21  2.050  2.150  2.050  2.050      2.050        0.0\n",
      "2000-01-24  2.075  2.125  2.075  2.075      2.075        0.0\n",
      "2000-01-25  2.075  2.150  2.075  2.075      2.075        0.0\n",
      "2000-01-26  2.075  2.150  2.075  2.075      2.075        0.0\n",
      "2000-01-27  2.100  2.100  2.100  2.100      2.100    50000.0\n",
      "2000-01-28  2.100  2.100  2.100  2.100      2.100     5000.0\n",
      "2000-01-31  2.075  2.150  2.075  2.075      2.075        0.0\n",
      "2000-02-01  2.075  2.150  2.075  2.075      2.075        0.0\n",
      "2000-02-02  2.075  2.150  2.075  2.075      2.075        0.0\n",
      "2000-02-03  2.075  2.075  2.075  2.075      2.075    10000.0\n",
      "2000-02-04  2.075  2.150  2.075  2.075      2.075        0.0\n",
      "2000-02-07  2.075  2.125  2.075  2.075      2.075        0.0\n",
      "2000-02-08  2.075  2.150  2.075  2.075      2.075        0.0\n",
      "2000-02-09  2.075  2.075  2.075  2.075      2.075    30000.0\n",
      "2000-02-10  2.075  2.150  2.075  2.075      2.075        0.0\n",
      "2000-02-11  2.075  2.150  2.075  2.075      2.075        0.0\n",
      "2000-02-14  2.075  2.075  2.075  2.075      2.075    15000.0\n",
      "2000-02-15  2.075  2.075  2.000  2.000      2.000   230000.0\n",
      "...           ...    ...    ...    ...        ...        ...\n",
      "2017-09-19    NaN    NaN    NaN    NaN        NaN        NaN\n",
      "2017-09-20    NaN    NaN    NaN    NaN        NaN        NaN\n",
      "2017-09-21    NaN    NaN    NaN    NaN        NaN        NaN\n",
      "2017-09-22    NaN    NaN    NaN    NaN        NaN        NaN\n",
      "2017-09-25    NaN    NaN    NaN    NaN        NaN        NaN\n",
      "2017-09-26    NaN    NaN    NaN    NaN        NaN        NaN\n",
      "2017-09-27    NaN    NaN    NaN    NaN        NaN        NaN\n",
      "2017-09-28    NaN    NaN    NaN    NaN        NaN        NaN\n",
      "2017-09-29    NaN    NaN    NaN    NaN        NaN        NaN\n",
      "2017-10-02    NaN    NaN    NaN    NaN        NaN        NaN\n",
      "2017-10-03    NaN    NaN    NaN    NaN        NaN        NaN\n",
      "2017-10-04    NaN    NaN    NaN    NaN        NaN        NaN\n",
      "2017-10-05    NaN    NaN    NaN    NaN        NaN        NaN\n",
      "2017-10-06    NaN    NaN    NaN    NaN        NaN        NaN\n",
      "2017-10-09    NaN    NaN    NaN    NaN        NaN        NaN\n",
      "2017-10-10    NaN    NaN    NaN    NaN        NaN        NaN\n",
      "2017-10-11    NaN    NaN    NaN    NaN        NaN        NaN\n",
      "2017-10-12    NaN    NaN    NaN    NaN        NaN        NaN\n",
      "2017-10-13    NaN    NaN    NaN    NaN        NaN        NaN\n",
      "2017-10-16  3.010  3.010  3.010  3.010      3.010        0.0\n",
      "2017-10-17  3.010  3.010  3.010  3.010      3.010        0.0\n",
      "2017-10-18  3.010  3.010  3.010  3.010      3.010        0.0\n",
      "2017-10-19  3.010  3.010  3.010  3.010      3.010        0.0\n",
      "2017-10-20  3.010  3.010  3.010  3.010      3.010        0.0\n",
      "2017-10-23  3.010  3.010  3.010  3.010      3.010        0.0\n",
      "2017-10-24  3.010  3.010  3.010  3.010      3.010        0.0\n",
      "2017-10-25  3.010  3.010  3.010  3.010      3.010        0.0\n",
      "2017-10-26  3.010  3.010  3.010  3.010      3.010        0.0\n",
      "2017-10-27  3.010  3.010  3.010  3.010      3.010        0.0\n",
      "2017-10-30  3.010  3.010  3.010  3.010      3.010        0.0\n",
      "\n",
      "[4485 rows x 6 columns]\n",
      "2018-02-04 17:04:03  US7427181091  PROCTER GAMBLE   |err|  Found suspiciously many potential splits (31), escaping\n"
     ]
    }
   ],
   "source": [
    "s._download_quote_yahoo(useexchange='EUR')"
   ]
  },
  {
   "cell_type": "markdown",
   "metadata": {},
   "source": [
    "## Download Quarterly Report Dates "
   ]
  },
  {
   "cell_type": "code",
   "execution_count": 8,
   "metadata": {
    "ExecuteTime": {
     "end_time": "2018-02-04T16:49:35.551882",
     "start_time": "2018-02-04T16:49:33.904934"
    },
    "collapsed": false
   },
   "outputs": [],
   "source": [
    "s.debug=False\n",
    "s._save_unsaved_quarterly_report_dates()"
   ]
  },
  {
   "cell_type": "markdown",
   "metadata": {},
   "source": [
    "# Deploying the algorithm\n",
    "\n",
    "## Quantitative Analysis of Fundamentals and Quotes\n",
    "\n",
    "Run the Q-AnT algorithm for the stock presently loaded. "
   ]
  },
  {
   "cell_type": "code",
   "execution_count": 9,
   "metadata": {
    "ExecuteTime": {
     "end_time": "2018-02-04T16:49:44.659914",
     "start_time": "2018-02-04T16:49:44.539979"
    },
    "collapsed": false
   },
   "outputs": [],
   "source": [
    "s.get_summary(save=True)"
   ]
  },
  {
   "cell_type": "markdown",
   "metadata": {},
   "source": [
    "Show the result of the quantitative analysis"
   ]
  },
  {
   "cell_type": "code",
   "execution_count": 10,
   "metadata": {
    "ExecuteTime": {
     "end_time": "2018-02-04T16:49:46.660848",
     "start_time": "2018-02-04T16:49:46.647967"
    },
    "collapsed": false
   },
   "outputs": [
    {
     "data": {
      "text/html": [
       "<div>\n",
       "<table border=\"1\" class=\"dataframe\">\n",
       "  <thead>\n",
       "    <tr style=\"text-align: right;\">\n",
       "      <th></th>\n",
       "      <th>Name</th>\n",
       "      <th>ISIN</th>\n",
       "      <th>Parameter</th>\n",
       "      <th>Value</th>\n",
       "      <th>Point</th>\n",
       "    </tr>\n",
       "  </thead>\n",
       "  <tbody>\n",
       "    <tr>\n",
       "      <th>0</th>\n",
       "      <td>PROCTER GAMBLE</td>\n",
       "      <td>US7427181091</td>\n",
       "      <td>OnlyPositiveEarnings</td>\n",
       "      <td>0</td>\n",
       "      <td>1.0</td>\n",
       "    </tr>\n",
       "    <tr>\n",
       "      <th>1</th>\n",
       "      <td>PROCTER GAMBLE</td>\n",
       "      <td>US7427181091</td>\n",
       "      <td>AnnualEarningsGrowth</td>\n",
       "      <td>-1.9</td>\n",
       "      <td>-1.0</td>\n",
       "    </tr>\n",
       "    <tr>\n",
       "      <th>2</th>\n",
       "      <td>PROCTER GAMBLE</td>\n",
       "      <td>US7427181091</td>\n",
       "      <td>BookValueGrowth</td>\n",
       "      <td>31.5</td>\n",
       "      <td>0.0</td>\n",
       "    </tr>\n",
       "    <tr>\n",
       "      <th>3</th>\n",
       "      <td>PROCTER GAMBLE</td>\n",
       "      <td>US7427181091</td>\n",
       "      <td>HistoricROE</td>\n",
       "      <td>10.5</td>\n",
       "      <td>0.0</td>\n",
       "    </tr>\n",
       "    <tr>\n",
       "      <th>4</th>\n",
       "      <td>PROCTER GAMBLE</td>\n",
       "      <td>US7427181091</td>\n",
       "      <td>PresentROE</td>\n",
       "      <td>27.3</td>\n",
       "      <td>1.0</td>\n",
       "    </tr>\n",
       "    <tr>\n",
       "      <th>5</th>\n",
       "      <td>PROCTER GAMBLE</td>\n",
       "      <td>US7427181091</td>\n",
       "      <td>PresentRoIC</td>\n",
       "      <td>17.7</td>\n",
       "      <td>1.0</td>\n",
       "    </tr>\n",
       "    <tr>\n",
       "      <th>6</th>\n",
       "      <td>PROCTER GAMBLE</td>\n",
       "      <td>US7427181091</td>\n",
       "      <td>EquityRatio</td>\n",
       "      <td>45.8</td>\n",
       "      <td>1.0</td>\n",
       "    </tr>\n",
       "    <tr>\n",
       "      <th>7</th>\n",
       "      <td>PROCTER GAMBLE</td>\n",
       "      <td>US7427181091</td>\n",
       "      <td>EBTMargin</td>\n",
       "      <td>20.4</td>\n",
       "      <td>1.0</td>\n",
       "    </tr>\n",
       "    <tr>\n",
       "      <th>8</th>\n",
       "      <td>PROCTER GAMBLE</td>\n",
       "      <td>US7427181091</td>\n",
       "      <td>DividendGrowth</td>\n",
       "      <td>nan</td>\n",
       "      <td>0.0</td>\n",
       "    </tr>\n",
       "  </tbody>\n",
       "</table>\n",
       "</div>"
      ],
      "text/plain": [
       "             Name          ISIN             Parameter Value  Point\n",
       "0  PROCTER GAMBLE  US7427181091  OnlyPositiveEarnings     0    1.0\n",
       "1  PROCTER GAMBLE  US7427181091  AnnualEarningsGrowth  -1.9   -1.0\n",
       "2  PROCTER GAMBLE  US7427181091       BookValueGrowth  31.5    0.0\n",
       "3  PROCTER GAMBLE  US7427181091           HistoricROE  10.5    0.0\n",
       "4  PROCTER GAMBLE  US7427181091            PresentROE  27.3    1.0\n",
       "5  PROCTER GAMBLE  US7427181091           PresentRoIC  17.7    1.0\n",
       "6  PROCTER GAMBLE  US7427181091           EquityRatio  45.8    1.0\n",
       "7  PROCTER GAMBLE  US7427181091             EBTMargin  20.4    1.0\n",
       "8  PROCTER GAMBLE  US7427181091        DividendGrowth   nan    0.0"
      ]
     },
     "execution_count": 10,
     "metadata": {},
     "output_type": "execute_result"
    }
   ],
   "source": [
    "s.quant_result"
   ]
  },
  {
   "cell_type": "code",
   "execution_count": 11,
   "metadata": {
    "ExecuteTime": {
     "end_time": "2018-02-04T16:49:47.008531",
     "start_time": "2018-02-04T16:49:46.998161"
    },
    "collapsed": false
   },
   "outputs": [
    {
     "data": {
      "text/html": [
       "<div>\n",
       "<table border=\"1\" class=\"dataframe\">\n",
       "  <thead>\n",
       "    <tr style=\"text-align: right;\">\n",
       "      <th></th>\n",
       "      <th>Name</th>\n",
       "      <th>ISIN</th>\n",
       "      <th>FairPrice</th>\n",
       "      <th>FairPricePE</th>\n",
       "      <th>Price</th>\n",
       "      <th>Points</th>\n",
       "    </tr>\n",
       "  </thead>\n",
       "  <tbody>\n",
       "    <tr>\n",
       "      <th>0</th>\n",
       "      <td>PROCTER GAMBLE</td>\n",
       "      <td>US7427181091</td>\n",
       "      <td>58.265791</td>\n",
       "      <td>7.947321</td>\n",
       "      <td>3.01</td>\n",
       "      <td>4.0</td>\n",
       "    </tr>\n",
       "  </tbody>\n",
       "</table>\n",
       "</div>"
      ],
      "text/plain": [
       "             Name          ISIN  FairPrice  FairPricePE  Price  Points\n",
       "0  PROCTER GAMBLE  US7427181091  58.265791     7.947321   3.01     4.0"
      ]
     },
     "execution_count": 11,
     "metadata": {},
     "output_type": "execute_result"
    }
   ],
   "source": [
    "s.summary"
   ]
  },
  {
   "cell_type": "markdown",
   "metadata": {},
   "source": [
    "If we want to save the output to \n",
    "\n",
    "    output/algo_results.db\n",
    "    \n",
    "we can use the save option. The conservative option is used to specify wheter the calculation of the fair price should take into account earnings growth which is determined from historical earnings growth."
   ]
  },
  {
   "cell_type": "code",
   "execution_count": 12,
   "metadata": {
    "ExecuteTime": {
     "end_time": "2018-02-04T16:49:55.967003",
     "start_time": "2018-02-04T16:49:55.759953"
    },
    "collapsed": false
   },
   "outputs": [],
   "source": [
    "s.get_summary(save=True,conservative=True)\n",
    "s.analyze_quote()"
   ]
  },
  {
   "cell_type": "code",
   "execution_count": 13,
   "metadata": {
    "ExecuteTime": {
     "end_time": "2018-02-04T16:49:57.142511",
     "start_time": "2018-02-04T16:49:57.127067"
    },
    "collapsed": false
   },
   "outputs": [
    {
     "data": {
      "text/html": [
       "<div>\n",
       "<table border=\"1\" class=\"dataframe\">\n",
       "  <thead>\n",
       "    <tr style=\"text-align: right;\">\n",
       "      <th></th>\n",
       "      <th>Name</th>\n",
       "      <th>ISIN</th>\n",
       "      <th>Parameter</th>\n",
       "      <th>Value</th>\n",
       "      <th>Point</th>\n",
       "    </tr>\n",
       "  </thead>\n",
       "  <tbody>\n",
       "    <tr>\n",
       "      <th>0</th>\n",
       "      <td>PROCTER GAMBLE</td>\n",
       "      <td>US7427181091</td>\n",
       "      <td>OnlyPositiveEarnings</td>\n",
       "      <td>0</td>\n",
       "      <td>1.0</td>\n",
       "    </tr>\n",
       "    <tr>\n",
       "      <th>1</th>\n",
       "      <td>PROCTER GAMBLE</td>\n",
       "      <td>US7427181091</td>\n",
       "      <td>AnnualEarningsGrowth</td>\n",
       "      <td>-1.9</td>\n",
       "      <td>-1.0</td>\n",
       "    </tr>\n",
       "    <tr>\n",
       "      <th>2</th>\n",
       "      <td>PROCTER GAMBLE</td>\n",
       "      <td>US7427181091</td>\n",
       "      <td>BookValueGrowth</td>\n",
       "      <td>31.5</td>\n",
       "      <td>0.0</td>\n",
       "    </tr>\n",
       "    <tr>\n",
       "      <th>3</th>\n",
       "      <td>PROCTER GAMBLE</td>\n",
       "      <td>US7427181091</td>\n",
       "      <td>HistoricROE</td>\n",
       "      <td>10.5</td>\n",
       "      <td>0.0</td>\n",
       "    </tr>\n",
       "    <tr>\n",
       "      <th>4</th>\n",
       "      <td>PROCTER GAMBLE</td>\n",
       "      <td>US7427181091</td>\n",
       "      <td>PresentROE</td>\n",
       "      <td>27.3</td>\n",
       "      <td>1.0</td>\n",
       "    </tr>\n",
       "    <tr>\n",
       "      <th>5</th>\n",
       "      <td>PROCTER GAMBLE</td>\n",
       "      <td>US7427181091</td>\n",
       "      <td>PresentRoIC</td>\n",
       "      <td>17.7</td>\n",
       "      <td>1.0</td>\n",
       "    </tr>\n",
       "    <tr>\n",
       "      <th>6</th>\n",
       "      <td>PROCTER GAMBLE</td>\n",
       "      <td>US7427181091</td>\n",
       "      <td>EquityRatio</td>\n",
       "      <td>45.8</td>\n",
       "      <td>1.0</td>\n",
       "    </tr>\n",
       "    <tr>\n",
       "      <th>7</th>\n",
       "      <td>PROCTER GAMBLE</td>\n",
       "      <td>US7427181091</td>\n",
       "      <td>EBTMargin</td>\n",
       "      <td>20.4</td>\n",
       "      <td>1.0</td>\n",
       "    </tr>\n",
       "    <tr>\n",
       "      <th>8</th>\n",
       "      <td>PROCTER GAMBLE</td>\n",
       "      <td>US7427181091</td>\n",
       "      <td>DividendGrowth</td>\n",
       "      <td>nan</td>\n",
       "      <td>0.0</td>\n",
       "    </tr>\n",
       "    <tr>\n",
       "      <th>9</th>\n",
       "      <td>PROCTER GAMBLE</td>\n",
       "      <td>US7427181091</td>\n",
       "      <td>OnlyPositiveEarnings</td>\n",
       "      <td>0</td>\n",
       "      <td>1.0</td>\n",
       "    </tr>\n",
       "    <tr>\n",
       "      <th>10</th>\n",
       "      <td>PROCTER GAMBLE</td>\n",
       "      <td>US7427181091</td>\n",
       "      <td>AnnualEarningsGrowth</td>\n",
       "      <td>-1.9</td>\n",
       "      <td>-1.0</td>\n",
       "    </tr>\n",
       "    <tr>\n",
       "      <th>11</th>\n",
       "      <td>PROCTER GAMBLE</td>\n",
       "      <td>US7427181091</td>\n",
       "      <td>BookValueGrowth</td>\n",
       "      <td>31.5</td>\n",
       "      <td>0.0</td>\n",
       "    </tr>\n",
       "    <tr>\n",
       "      <th>12</th>\n",
       "      <td>PROCTER GAMBLE</td>\n",
       "      <td>US7427181091</td>\n",
       "      <td>HistoricROE</td>\n",
       "      <td>10.5</td>\n",
       "      <td>0.0</td>\n",
       "    </tr>\n",
       "    <tr>\n",
       "      <th>13</th>\n",
       "      <td>PROCTER GAMBLE</td>\n",
       "      <td>US7427181091</td>\n",
       "      <td>PresentROE</td>\n",
       "      <td>27.3</td>\n",
       "      <td>1.0</td>\n",
       "    </tr>\n",
       "    <tr>\n",
       "      <th>14</th>\n",
       "      <td>PROCTER GAMBLE</td>\n",
       "      <td>US7427181091</td>\n",
       "      <td>PresentRoIC</td>\n",
       "      <td>17.7</td>\n",
       "      <td>1.0</td>\n",
       "    </tr>\n",
       "    <tr>\n",
       "      <th>15</th>\n",
       "      <td>PROCTER GAMBLE</td>\n",
       "      <td>US7427181091</td>\n",
       "      <td>EquityRatio</td>\n",
       "      <td>45.8</td>\n",
       "      <td>1.0</td>\n",
       "    </tr>\n",
       "    <tr>\n",
       "      <th>16</th>\n",
       "      <td>PROCTER GAMBLE</td>\n",
       "      <td>US7427181091</td>\n",
       "      <td>EBTMargin</td>\n",
       "      <td>20.4</td>\n",
       "      <td>1.0</td>\n",
       "    </tr>\n",
       "    <tr>\n",
       "      <th>17</th>\n",
       "      <td>PROCTER GAMBLE</td>\n",
       "      <td>US7427181091</td>\n",
       "      <td>DividendGrowth</td>\n",
       "      <td>nan</td>\n",
       "      <td>0.0</td>\n",
       "    </tr>\n",
       "  </tbody>\n",
       "</table>\n",
       "</div>"
      ],
      "text/plain": [
       "              Name          ISIN             Parameter Value  Point\n",
       "0   PROCTER GAMBLE  US7427181091  OnlyPositiveEarnings     0    1.0\n",
       "1   PROCTER GAMBLE  US7427181091  AnnualEarningsGrowth  -1.9   -1.0\n",
       "2   PROCTER GAMBLE  US7427181091       BookValueGrowth  31.5    0.0\n",
       "3   PROCTER GAMBLE  US7427181091           HistoricROE  10.5    0.0\n",
       "4   PROCTER GAMBLE  US7427181091            PresentROE  27.3    1.0\n",
       "5   PROCTER GAMBLE  US7427181091           PresentRoIC  17.7    1.0\n",
       "6   PROCTER GAMBLE  US7427181091           EquityRatio  45.8    1.0\n",
       "7   PROCTER GAMBLE  US7427181091             EBTMargin  20.4    1.0\n",
       "8   PROCTER GAMBLE  US7427181091        DividendGrowth   nan    0.0\n",
       "9   PROCTER GAMBLE  US7427181091  OnlyPositiveEarnings     0    1.0\n",
       "10  PROCTER GAMBLE  US7427181091  AnnualEarningsGrowth  -1.9   -1.0\n",
       "11  PROCTER GAMBLE  US7427181091       BookValueGrowth  31.5    0.0\n",
       "12  PROCTER GAMBLE  US7427181091           HistoricROE  10.5    0.0\n",
       "13  PROCTER GAMBLE  US7427181091            PresentROE  27.3    1.0\n",
       "14  PROCTER GAMBLE  US7427181091           PresentRoIC  17.7    1.0\n",
       "15  PROCTER GAMBLE  US7427181091           EquityRatio  45.8    1.0\n",
       "16  PROCTER GAMBLE  US7427181091             EBTMargin  20.4    1.0\n",
       "17  PROCTER GAMBLE  US7427181091        DividendGrowth   nan    0.0"
      ]
     },
     "execution_count": 13,
     "metadata": {},
     "output_type": "execute_result"
    }
   ],
   "source": [
    "s.quant_result"
   ]
  },
  {
   "cell_type": "markdown",
   "metadata": {},
   "source": [
    "We can have a look at the fair price calculated by means of different valuation models. "
   ]
  },
  {
   "cell_type": "code",
   "execution_count": 14,
   "metadata": {
    "ExecuteTime": {
     "end_time": "2018-02-04T16:50:08.194682",
     "start_time": "2018-02-04T16:50:08.189152"
    },
    "collapsed": false
   },
   "outputs": [
    {
     "data": {
      "text/plain": [
       "(3.0099999999999998,\n",
       " 60.230619697110782,\n",
       " 56.300962633181456,\n",
       " 7.9473214285714286)"
      ]
     },
     "execution_count": 14,
     "metadata": {},
     "output_type": "execute_result"
    }
   ],
   "source": [
    "s.price, s.fairprice_low, s.fairprice_high, s.fairprice_pe"
   ]
  },
  {
   "cell_type": "markdown",
   "metadata": {},
   "source": [
    "# Study daily returns, outperformance, covariance etc.\n",
    "\n",
    "We can merge two quote dataframes to study covariance or outperformance. "
   ]
  },
  {
   "cell_type": "code",
   "execution_count": null,
   "metadata": {
    "ExecuteTime": {
     "end_time": "2018-01-29T20:08:02.955069",
     "start_time": "2018-01-29T20:08:02.952379"
    },
    "collapsed": true
   },
   "outputs": [],
   "source": [
    "from QAnT.risk import merge_quotes"
   ]
  },
  {
   "cell_type": "markdown",
   "metadata": {},
   "source": [
    "## Correlation\n",
    "\n",
    "Let's study the covariance first between Coca-Cola and Pepsi and then between Coca-Cola and VISA.\n",
    "### Between Coca Cola and Pepsi"
   ]
  },
  {
   "cell_type": "code",
   "execution_count": null,
   "metadata": {
    "ExecuteTime": {
     "end_time": "2018-01-29T20:08:04.567334",
     "start_time": "2018-01-29T20:08:04.553121"
    },
    "collapsed": false
   },
   "outputs": [],
   "source": [
    "s.find_by_name(\"PEPS\")"
   ]
  },
  {
   "cell_type": "code",
   "execution_count": null,
   "metadata": {
    "ExecuteTime": {
     "end_time": "2018-01-29T20:08:12.512159",
     "start_time": "2018-01-29T20:08:06.279003"
    },
    "collapsed": false
   },
   "outputs": [],
   "source": [
    "cocac = stock(isin='US1912161007')\n",
    "pepsi = stock(isin='US7134481081')\n",
    "visa  = stock(isin='US92826C8394')"
   ]
  },
  {
   "cell_type": "code",
   "execution_count": null,
   "metadata": {
    "ExecuteTime": {
     "end_time": "2018-01-29T20:08:41.835701",
     "start_time": "2018-01-29T20:08:41.771339"
    },
    "collapsed": false
   },
   "outputs": [],
   "source": [
    "plt.plot(cocac.quote['date'],cocac.quote['close'],label='Coca Cola')\n",
    "plt.plot(pepsi.quote['date'],pepsi.quote['close'],label='Pepsi')\n",
    "plt.plot(visa.quote['date'],visa.quote['close'],label='VISA')\n",
    "\n",
    "plt.legend()\n",
    "plt.show()"
   ]
  },
  {
   "cell_type": "code",
   "execution_count": null,
   "metadata": {
    "collapsed": false
   },
   "outputs": [],
   "source": [
    "allquotes = merge_quotes(cocac,pepsi, visa)\n",
    "allquotes.head()"
   ]
  },
  {
   "cell_type": "code",
   "execution_count": null,
   "metadata": {
    "collapsed": false
   },
   "outputs": [],
   "source": [
    "plt.hist(allquotes['return_COCA-C'].dropna(),bins=100,histtype='step', normed=True)\n",
    "plt.hist(allquotes['return_PEPSIC'].dropna(),bins=100,histtype='step', normed=True)\n",
    "plt.hist(allquotes['return_VISA I'].dropna(),bins=100,histtype='step', normed=True)\n",
    "\n",
    "plt.xlim(-0.1,0.1)\n",
    "plt.show()"
   ]
  },
  {
   "cell_type": "code",
   "execution_count": null,
   "metadata": {
    "collapsed": false
   },
   "outputs": [],
   "source": [
    "covmatrix = allquotes.cov()\n",
    "covmatrix"
   ]
  },
  {
   "cell_type": "code",
   "execution_count": null,
   "metadata": {
    "collapsed": false
   },
   "outputs": [],
   "source": [
    "allquotes.describe()"
   ]
  },
  {
   "cell_type": "code",
   "execution_count": null,
   "metadata": {
    "collapsed": true
   },
   "outputs": [],
   "source": [
    "w1 = np.arange(0,1,0.01)\n",
    "w2 = 1-w1"
   ]
  },
  {
   "cell_type": "code",
   "execution_count": null,
   "metadata": {
    "collapsed": true
   },
   "outputs": [],
   "source": [
    "cov  = covmatrix[allquotes.keys()[1]][allquotes.keys()[3]]\n",
    "var1 = allquotes[allquotes.keys()[1]].std()**2\n",
    "var2 = allquotes[allquotes.keys()[3]].std()**2\n",
    "r1   = allquotes[allquotes.keys()[1]].mean()\n",
    "r2   = allquotes[allquotes.keys()[3]].mean()"
   ]
  },
  {
   "cell_type": "code",
   "execution_count": null,
   "metadata": {
    "collapsed": true
   },
   "outputs": [],
   "source": [
    "def _portfolio_return_var(r1,r2,w1,w2,var1,var2,cov):\n",
    "    preturn   = w1*r1 + w2*r2\n",
    "    pvariance = w1*w1*var1 + w2*w2*var2\n",
    "    pvariance = pvariance + 2*w1*w2*cov\n",
    "    return preturn, pvariance\n",
    "\n",
    "def portfolio_return_var(allquotes,col1,col2):\n",
    "    cov  = covmatrix[allquotes.keys()[col1]][allquotes.keys()[col2]]\n",
    "    var1 = allquotes[allquotes.keys()[col1]].std()**2\n",
    "    var2 = allquotes[allquotes.keys()[col2]].std()**2\n",
    "    r1   = allquotes[allquotes.keys()[col1]].mean()\n",
    "    r2   = allquotes[allquotes.keys()[col2]].mean()\n",
    "    return _portfolio_return_var(r1,r2,w1,w2,var1,var2,cov)"
   ]
  },
  {
   "cell_type": "code",
   "execution_count": null,
   "metadata": {
    "collapsed": false
   },
   "outputs": [],
   "source": [
    "for j in range(1,3):\n",
    "    output = []\n",
    "    for w1 in np.arange(0,1,0.01):\n",
    "        w2 = 1-w1\n",
    "        preturn, pvariance = portfolio_return_var(allquotes,j,3)\n",
    "        output.append([w1,preturn,pvariance])\n",
    "    output = pd.DataFrame(output,columns=['w1','pret','pvar'])\n",
    "\n",
    "    plt.scatter(np.sqrt(output['pvar']),output['pret']*100)\n",
    "plt.show()"
   ]
  },
  {
   "cell_type": "code",
   "execution_count": null,
   "metadata": {
    "collapsed": false
   },
   "outputs": [],
   "source": [
    "plt.scatter(np.sqrt(output['pvar']),output['pret']*100)\n",
    "plt.show()"
   ]
  },
  {
   "cell_type": "markdown",
   "metadata": {},
   "source": [
    "## Multi asset portfolios"
   ]
  },
  {
   "cell_type": "code",
   "execution_count": null,
   "metadata": {
    "collapsed": true
   },
   "outputs": [],
   "source": [
    "def _get_returns_variance(allquotes):\n",
    "    returns  = []\n",
    "    variance = []\n",
    "    for j in allquotes.keys()[1:]:\n",
    "        returns.append(np.mean(allquotes[j]))\n",
    "        variance.append(np.std(allquotes[j])**2)\n",
    "\n",
    "    returns  = np.array(returns)\n",
    "    variance = np.array(variance)\n",
    "    return returns, variance\n",
    "    \n",
    "def get_portfolio_return_risk(allquotes,weights=None):\n",
    "    # get the returns and the variances for the individual assets\n",
    "    returns, variance = _get_returns_variance(allquotes)\n",
    "    \n",
    "    nassets = len(allquotes.keys()[1:]) # number of assets in the portfolio\n",
    "\n",
    "    if weights is None:                     # use random weights unless the user specifies them \n",
    "        weights = np.random.rand(nassets)   # \n",
    "        weights = weights/np.sum(weights)   # \n",
    "    \n",
    "    # calculate the portfolio return\n",
    "    portfolio_return = np.sum(returns*weights)\n",
    "    \n",
    "    # calculate the covariance matrix\n",
    "    covmatrix = allquotes.cov()\n",
    "\n",
    "    # calculate the portfolio variance\n",
    "    portfolio_variance = np.sum(weights*weights*variance)\n",
    "\n",
    "    for ii, i in enumerate(covmatrix.keys()):\n",
    "        for jj, j in enumerate(covmatrix.keys()):\n",
    "            if i==j:\n",
    "                continue\n",
    "            portfolio_variance += covmatrix[i][j]*weights[ii]*weights[jj]\n",
    "            \n",
    "    return weights, portfolio_return, portfolio_variance\n",
    "\n",
    "def calculate_efficient_frontier(allquotes,niter=5000):\n",
    "    output = []\n",
    "    allweights = []\n",
    "    for _ in range(niter):\n",
    "        weights, pret, pvar = get_portfolio_return_risk(allquotes)\n",
    "        output.append([pret, pvar])\n",
    "        allweights.append(weights)\n",
    "    output = pd.DataFrame(output, columns=['pret','pvar'])\n",
    "    \n",
    "    return allweights, output\n",
    "\n",
    "def get_min_std_portfolio(allquotes,allweights=None, output=None, niter=5000):\n",
    "\n",
    "    if allweights is None or output is None:\n",
    "        allweights, output  = calculate_efficient_frontier(allquotes,niter=niter)\n",
    "    minrisk_index = output['pvar'].idxmin()\n",
    "\n",
    "    return allweights[minrisk_index], output['pvar'][minrisk_index], output['pret'][minrisk_index]*100"
   ]
  },
  {
   "cell_type": "code",
   "execution_count": null,
   "metadata": {
    "collapsed": true
   },
   "outputs": [],
   "source": [
    "allquotes = merge_quotes(cocac, visa, pepsi)"
   ]
  },
  {
   "cell_type": "code",
   "execution_count": null,
   "metadata": {
    "collapsed": true
   },
   "outputs": [],
   "source": [
    "_, output = calculate_efficient_frontier(allquotes)"
   ]
  },
  {
   "cell_type": "code",
   "execution_count": null,
   "metadata": {
    "collapsed": false
   },
   "outputs": [],
   "source": [
    "plt.scatter(output['pvar']**0.5, output['pret']*100)\n",
    "\n",
    "for i in allquotes.keys()[1:]:\n",
    "    plt.plot(allquotes[i].std(),allquotes[i].mean()*100,'r^')\n",
    "\n",
    "plt.xlabel(\"Portfolio Standard Deviation on Expected Return\")\n",
    "plt.ylabel(\"Expected Return [%]\")\n",
    "plt.show()"
   ]
  },
  {
   "cell_type": "markdown",
   "metadata": {},
   "source": [
    "We can now calculate the portfolio with the lowest risk"
   ]
  },
  {
   "cell_type": "code",
   "execution_count": null,
   "metadata": {
    "collapsed": true
   },
   "outputs": [],
   "source": [
    "weights, varminrisk, retminrisk = get_min_std_portfolio(allquotes)"
   ]
  },
  {
   "cell_type": "code",
   "execution_count": null,
   "metadata": {
    "collapsed": false
   },
   "outputs": [],
   "source": [
    "weights"
   ]
  },
  {
   "cell_type": "markdown",
   "metadata": {},
   "source": [
    "The standard deviation and expected return for this portfolio are"
   ]
  },
  {
   "cell_type": "code",
   "execution_count": null,
   "metadata": {
    "collapsed": false
   },
   "outputs": [],
   "source": [
    "varminrisk**0.5, retminrisk"
   ]
  },
  {
   "cell_type": "markdown",
   "metadata": {},
   "source": [
    "## Include more assets"
   ]
  },
  {
   "cell_type": "code",
   "execution_count": null,
   "metadata": {
    "collapsed": true
   },
   "outputs": [],
   "source": [
    "gilead  = stock(isin='US3755581036')\n",
    "flavors = stock(isin='US4595061015')\n",
    "visa    = stock(isin='US92826C8394')\n",
    "fuchs   = stock(isin='DE0005790430')\n",
    "johnson = stock(isin='US4781601046')"
   ]
  },
  {
   "cell_type": "code",
   "execution_count": null,
   "metadata": {
    "collapsed": true
   },
   "outputs": [],
   "source": [
    "allquotes = merge_quotes(gilead, flavors, visa, fuchs, johnson)"
   ]
  },
  {
   "cell_type": "code",
   "execution_count": null,
   "metadata": {
    "collapsed": true
   },
   "outputs": [],
   "source": [
    "allweights, output = calculate_efficient_frontier(allquotes,niter=10000)"
   ]
  },
  {
   "cell_type": "code",
   "execution_count": null,
   "metadata": {
    "collapsed": false
   },
   "outputs": [],
   "source": [
    "plt.scatter(output['pvar']**0.5, output['pret']*100)\n",
    "\n",
    "for i in allquotes.keys()[1:]:\n",
    "    plt.plot(allquotes[i].std(),allquotes[i].mean()*100,'r^')\n",
    "\n",
    "plt.xlabel(\"Portfolio Standard Deviation on Expected Return\")\n",
    "plt.ylabel(\"Expected Return [%]\")\n",
    "plt.show()"
   ]
  },
  {
   "cell_type": "code",
   "execution_count": null,
   "metadata": {
    "collapsed": true
   },
   "outputs": [],
   "source": [
    "weights, varminrisk, retminrisk = get_min_std_portfolio(allquotes,allweights=allweights, output=output)"
   ]
  },
  {
   "cell_type": "code",
   "execution_count": null,
   "metadata": {
    "collapsed": false
   },
   "outputs": [],
   "source": [
    "weights, varminrisk**0.5, retminrisk"
   ]
  },
  {
   "cell_type": "code",
   "execution_count": null,
   "metadata": {
    "collapsed": true
   },
   "outputs": [],
   "source": [
    ""
   ]
  },
  {
   "cell_type": "code",
   "execution_count": null,
   "metadata": {
    "collapsed": true
   },
   "outputs": [],
   "source": [
    ""
   ]
  },
  {
   "cell_type": "code",
   "execution_count": null,
   "metadata": {
    "collapsed": true
   },
   "outputs": [],
   "source": [
    ""
   ]
  },
  {
   "cell_type": "markdown",
   "metadata": {},
   "source": [
    "### Between Coca Cola and VISA"
   ]
  },
  {
   "cell_type": "code",
   "execution_count": null,
   "metadata": {
    "collapsed": false
   },
   "outputs": [],
   "source": [
    "s.find_by_name(\"VISA\")"
   ]
  },
  {
   "cell_type": "code",
   "execution_count": null,
   "metadata": {
    "collapsed": true
   },
   "outputs": [],
   "source": [
    "visa = stock(isin='US92826C8394')\n",
    "visa._calculate_volatility()\n",
    "visa.quote['dailyreturn'] = visa.dailychange\n",
    "visa.dailychange.dropna(inplace=True)"
   ]
  },
  {
   "cell_type": "code",
   "execution_count": null,
   "metadata": {
    "collapsed": true
   },
   "outputs": [],
   "source": [
    "both = pd.merge(cocac.quote, visa.quote,on='date')\n",
    "both = both[['date','name_x','name_y','close_x','close_y','dailyreturn_x','dailyreturn_y']]"
   ]
  },
  {
   "cell_type": "code",
   "execution_count": null,
   "metadata": {
    "collapsed": false
   },
   "outputs": [],
   "source": [
    "both[['dailyreturn_x','dailyreturn_y']].corr()"
   ]
  },
  {
   "cell_type": "code",
   "execution_count": null,
   "metadata": {
    "collapsed": true
   },
   "outputs": [],
   "source": [
    ""
   ]
  },
  {
   "cell_type": "code",
   "execution_count": null,
   "metadata": {
    "collapsed": false
   },
   "outputs": [],
   "source": [
    "visa.quote"
   ]
  },
  {
   "cell_type": "code",
   "execution_count": null,
   "metadata": {
    "collapsed": true
   },
   "outputs": [],
   "source": [
    ""
   ]
  },
  {
   "cell_type": "code",
   "execution_count": null,
   "metadata": {
    "collapsed": true
   },
   "outputs": [],
   "source": [
    ""
   ]
  },
  {
   "cell_type": "code",
   "execution_count": null,
   "metadata": {
    "collapsed": true
   },
   "outputs": [],
   "source": [
    ""
   ]
  },
  {
   "cell_type": "markdown",
   "metadata": {},
   "source": [
    "# Plotting \n",
    "\n",
    "## Interactive Summary\n",
    "Q-AnT includes a basic plotting algorithm to summarize essential quantities. It can be called using the following function which will load an interactive plot in a new tab."
   ]
  },
  {
   "cell_type": "code",
   "execution_count": null,
   "metadata": {
    "collapsed": false
   },
   "outputs": [],
   "source": [
    "s.interactive_summary()"
   ]
  },
  {
   "cell_type": "markdown",
   "metadata": {},
   "source": [
    "## Basic Plotting"
   ]
  },
  {
   "cell_type": "code",
   "execution_count": null,
   "metadata": {
    "collapsed": false
   },
   "outputs": [],
   "source": [
    "s.switch_isin('DE0005408116')\n",
    "plt.plot(s.quote['date'], s.quote['close'],'.')\n",
    "plt.xlabel(\"Date\")\n",
    "plt.ylabel(\"Close [EUR]\")\n",
    "plt.xlim(datetime.date(2010, 4, 1), datetime.date.today())\n",
    "plt.show()"
   ]
  },
  {
   "cell_type": "code",
   "execution_count": null,
   "metadata": {
    "collapsed": false
   },
   "outputs": [],
   "source": [
    "plt.plot(i.quote_saved['^GDAXI']['date'], i.quote_saved['^GDAXI']['close'])\n",
    "plt.xlim(datetime.date(2010, 4, 1), datetime.date.today())\n",
    "\n",
    "plt.show()"
   ]
  },
  {
   "cell_type": "code",
   "execution_count": null,
   "metadata": {
    "collapsed": true
   },
   "outputs": [],
   "source": [
    "def merge_quotes(quote1, quote2):\n",
    "    '''Returns a dataframe with the merged quotes'''\n",
    "    newdf = pd.merge(quote1, quote2, how='inner',on='date')\n",
    "    newdf = newdf[['date','name_x','name_y','close_x','close_y']]\n",
    "    newdf = newdf.assign(return_x=newdf['close_x'].diff()/newdf['close_x'][1:])\n",
    "    newdf = newdf.assign(return_y=newdf['close_y'].diff()/newdf['close_y'][1:])\n",
    "    return newdf"
   ]
  },
  {
   "cell_type": "code",
   "execution_count": null,
   "metadata": {
    "collapsed": false
   },
   "outputs": [],
   "source": [
    "newdf = merge_quotes(i.quote_saved['^GDAXI'], s.quote)\n",
    "# newdf = newdf.head()\n",
    "newdf.head()"
   ]
  },
  {
   "cell_type": "code",
   "execution_count": null,
   "metadata": {
    "collapsed": true
   },
   "outputs": [],
   "source": [
    ""
   ]
  },
  {
   "cell_type": "code",
   "execution_count": null,
   "metadata": {
    "collapsed": true
   },
   "outputs": [],
   "source": [
    ""
   ]
  },
  {
   "cell_type": "code",
   "execution_count": null,
   "metadata": {
    "collapsed": false
   },
   "outputs": [],
   "source": [
    ""
   ]
  },
  {
   "cell_type": "code",
   "execution_count": null,
   "metadata": {
    "collapsed": false
   },
   "outputs": [],
   "source": [
    "newdf[['return_x','return_y']].corr()"
   ]
  },
  {
   "cell_type": "code",
   "execution_count": null,
   "metadata": {
    "collapsed": true
   },
   "outputs": [],
   "source": [
    "def _assign_colnames(df):\n",
    "    name = df['name'][0][0:6]\n",
    "    df   = df[['date','close']]    \n",
    "    df   = df.assign(dailyreturn=df['close'].diff()/df['close'][1:])\n",
    "    df.columns = ['date','{0}'.format(name), 'return_{0}'.format(name)]    \n",
    "    return df\n",
    "\n",
    "def merge_quotes(*args):\n",
    "    '''Merge multiple quote dataframes to allow studies of correlation'''\n",
    "    newdf = _assign_colnames(args[0])\n",
    "    for k in range(1,len(args)):\n",
    "        dftoadd = _assign_colnames(args[k])\n",
    "        newdf = pd.merge(newdf, dftoadd, how='inner',on='date')\n",
    "    return newdf"
   ]
  },
  {
   "cell_type": "code",
   "execution_count": null,
   "metadata": {
    "collapsed": true
   },
   "outputs": [],
   "source": [
    "df = merge_quotes(i.quote_saved['^GDAXI'], s.quote, t.quote)"
   ]
  },
  {
   "cell_type": "code",
   "execution_count": null,
   "metadata": {
    "collapsed": false
   },
   "outputs": [],
   "source": [
    "df.corr()"
   ]
  },
  {
   "cell_type": "code",
   "execution_count": null,
   "metadata": {
    "collapsed": false
   },
   "outputs": [],
   "source": [
    "plt.hist((df['return_AAREAL']-df['return_DAX'])[1:],bins=100)\n",
    "plt.show()"
   ]
  },
  {
   "cell_type": "code",
   "execution_count": null,
   "metadata": {
    "collapsed": false
   },
   "outputs": [],
   "source": [
    "plt.plot(df['return_AAREAL']-df['return_DAX'], df['return_MUENCH']-df['return_DAX'],'o')\n",
    "plt.xlabel(\"Outperformance AAREAL\")\n",
    "plt.ylabel(\"Outperformance MUNICH RE\")\n",
    "plt.show()"
   ]
  },
  {
   "cell_type": "code",
   "execution_count": null,
   "metadata": {
    "collapsed": false
   },
   "outputs": [],
   "source": [
    "plt.hist(np.diff(df['return_AAREAL']-df['return_DAX'])[1:],bins=100)\n",
    "plt.show()"
   ]
  },
  {
   "cell_type": "code",
   "execution_count": null,
   "metadata": {
    "collapsed": true
   },
   "outputs": [],
   "source": [
    ""
   ]
  },
  {
   "cell_type": "code",
   "execution_count": null,
   "metadata": {
    "collapsed": true
   },
   "outputs": [],
   "source": [
    ""
   ]
  },
  {
   "cell_type": "code",
   "execution_count": null,
   "metadata": {
    "collapsed": true
   },
   "outputs": [],
   "source": [
    ""
   ]
  },
  {
   "cell_type": "code",
   "execution_count": null,
   "metadata": {
    "collapsed": true
   },
   "outputs": [],
   "source": [
    ""
   ]
  },
  {
   "cell_type": "code",
   "execution_count": null,
   "metadata": {
    "collapsed": false
   },
   "outputs": [],
   "source": [
    "t = stock(verbose=True, isin='DE0008430026')"
   ]
  },
  {
   "cell_type": "code",
   "execution_count": null,
   "metadata": {
    "collapsed": true
   },
   "outputs": [],
   "source": [
    ""
   ]
  },
  {
   "cell_type": "code",
   "execution_count": null,
   "metadata": {
    "collapsed": true
   },
   "outputs": [],
   "source": [
    ""
   ]
  },
  {
   "cell_type": "code",
   "execution_count": null,
   "metadata": {
    "collapsed": true
   },
   "outputs": [],
   "source": [
    ""
   ]
  },
  {
   "cell_type": "code",
   "execution_count": null,
   "metadata": {
    "collapsed": true
   },
   "outputs": [],
   "source": [
    ""
   ]
  },
  {
   "cell_type": "code",
   "execution_count": null,
   "metadata": {
    "collapsed": true
   },
   "outputs": [],
   "source": [
    ""
   ]
  },
  {
   "cell_type": "markdown",
   "metadata": {},
   "source": [
    "# Logging\n",
    "\n",
    "The stock and index classes save every generated output to the logging databases stored in the files\n",
    "\n",
    "    output/algo.log\n",
    "    output/algo.err"
   ]
  },
  {
   "cell_type": "code",
   "execution_count": null,
   "metadata": {
    "collapsed": true
   },
   "outputs": [],
   "source": [
    ""
   ]
  }
 ],
 "metadata": {
  "anaconda-cloud": {},
  "kernelspec": {
   "display_name": "Python [conda env:py35]",
   "language": "python",
   "name": "conda-env-py35-py"
  },
  "language_info": {
   "codemirror_mode": {
    "name": "ipython",
    "version": 3.0
   },
   "file_extension": ".py",
   "mimetype": "text/x-python",
   "name": "python",
   "nbconvert_exporter": "python",
   "pygments_lexer": "ipython3",
   "version": "3.5.2"
  }
 },
 "nbformat": 4,
 "nbformat_minor": 0
}