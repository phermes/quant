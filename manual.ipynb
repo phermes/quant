{
 "cells": [
  {
   "cell_type": "markdown",
   "metadata": {},
   "source": [
    "# Q-AnT Manual\n",
    "\n",
    "Quantitative Analysis Trading (Q-AnT) is a platform to gather and manage information about corporate shares.\n",
    "\n",
    "This document explains the most important steps in the usage of Q-Ant. It includes the basic commands to perform operation, run the classification algorithm and download input data."
   ]
  },
  {
   "cell_type": "markdown",
   "metadata": {},
   "source": [
    "## Initialize"
   ]
  },
  {
   "cell_type": "code",
   "execution_count": 1,
   "metadata": {
    "collapsed": true
   },
   "outputs": [],
   "source": [
    "import pandas as pd\n",
    "import sqlite3\n",
    "import numpy as np\n",
    "import matplotlib.pyplot as plt\n",
    "import plotly\n",
    "import plotly.graph_objs as go\n",
    "import datetime as dt\n",
    "import time as tt\n",
    "from QAnT import stock\n",
    "from QAnT import Index\n",
    "import datetime\n",
    "\n",
    "from scipy.stats import norm\n",
    "from scipy.stats import levy\n",
    "import matplotlib.mlab as mlab"
   ]
  },
  {
   "cell_type": "markdown",
   "metadata": {},
   "source": [
    "# Basic functions of the stock and index classes\n",
    "\n",
    "## Initialization\n",
    "The initialization of the stock and index classes is done by the following commands:"
   ]
  },
  {
   "cell_type": "code",
   "execution_count": 2,
   "metadata": {},
   "outputs": [],
   "source": [
    "s = stock(debug=True, verbose=True)"
   ]
  },
  {
   "cell_type": "code",
   "execution_count": 3,
   "metadata": {},
   "outputs": [
    {
     "name": "stdout",
     "output_type": "stream",
     "text": [
      "2018-01-26 16:00:27  ^GDAXI        DAX               |deb|  Reading saved quote for all indices\n",
      "2018-01-26 16:00:29  ^GDAXI        DAX               |deb|  Found 141442 quotes in database\n",
      "2018-01-26 16:00:29  ^GDAXI        DAX               |deb|  Splitting quote_saved into dictionary\n"
     ]
    }
   ],
   "source": [
    "i = Index(debug=True, verbose=True)"
   ]
  },
  {
   "cell_type": "markdown",
   "metadata": {},
   "source": [
    "## Search the stock database\n",
    "We can search the database by the name of the company."
   ]
  },
  {
   "cell_type": "code",
   "execution_count": 6,
   "metadata": {},
   "outputs": [
    {
     "data": {
      "text/html": [
       "<div>\n",
       "<style>\n",
       "    .dataframe thead tr:only-child th {\n",
       "        text-align: right;\n",
       "    }\n",
       "\n",
       "    .dataframe thead th {\n",
       "        text-align: left;\n",
       "    }\n",
       "\n",
       "    .dataframe tbody tr th {\n",
       "        vertical-align: top;\n",
       "    }\n",
       "</style>\n",
       "<table border=\"1\" class=\"dataframe\">\n",
       "  <thead>\n",
       "    <tr style=\"text-align: right;\">\n",
       "      <th></th>\n",
       "      <th>name</th>\n",
       "      <th>isin</th>\n",
       "      <th>ticker_YF</th>\n",
       "      <th>ticker_MS</th>\n",
       "      <th>branch</th>\n",
       "      <th>benchmark</th>\n",
       "      <th>finanzen_net</th>\n",
       "    </tr>\n",
       "  </thead>\n",
       "  <tbody>\n",
       "    <tr>\n",
       "      <th>2037</th>\n",
       "      <td>PROCTER GAMBLE</td>\n",
       "      <td>US7427181091</td>\n",
       "      <td>PRG</td>\n",
       "      <td>PG</td>\n",
       "      <td>0.0</td>\n",
       "      <td>^GSPC</td>\n",
       "      <td>ProcterGamble</td>\n",
       "    </tr>\n",
       "  </tbody>\n",
       "</table>\n",
       "</div>"
      ],
      "text/plain": [
       "                name          isin ticker_YF ticker_MS  branch benchmark  \\\n",
       "2037  PROCTER GAMBLE  US7427181091       PRG        PG     0.0     ^GSPC   \n",
       "\n",
       "       finanzen_net  \n",
       "2037  ProcterGamble  "
      ]
     },
     "execution_count": 6,
     "metadata": {},
     "output_type": "execute_result"
    }
   ],
   "source": [
    "s = stock(verbose=True)\n",
    "search_results = s.find_by_name(\"PROCTER\")\n",
    "search_results"
   ]
  },
  {
   "cell_type": "markdown",
   "metadata": {},
   "source": [
    "# Downloading data\n",
    "## Download keyratios from MorningStar and save to database\n",
    "\n",
    "If we have new companies in our database, we may want to download the keyratios from morningstar."
   ]
  },
  {
   "cell_type": "code",
   "execution_count": 4,
   "metadata": {},
   "outputs": [
    {
     "name": "stdout",
     "output_type": "stream",
     "text": [
      "2018-01-26 14:40:30  US7427181091  PROCTER GAMBLE    |log|  Changed to new stock\n",
      "2018-01-26 14:40:30  US7427181091  PROCTER GAMBLE    |deb|  New stock selected - PROCTER GAMBLE\n",
      "2018-01-26 14:40:30  US7427181091  PROCTER GAMBLE    |deb|  ISIN & Ticker:       US7427181091, PRG\n",
      "2018-01-26 14:40:30  US7427181091  PROCTER GAMBLE    |deb|  Reading saved quote\n",
      "2018-01-26 14:40:30  US7427181091  PROCTER GAMBLE    |log|  Found 4546 quotes\n",
      "2018-01-26 14:40:31  US7427181091  PROCTER GAMBLE    |log|  Found 0 keyratios\n",
      "2018-01-26 14:40:32  US7427181091  PROCTER GAMBLE    |deb|  Writing output to tmpfiles/US_PRG.csv\n",
      "2018-01-26 14:40:32  US7427181091  PROCTER GAMBLE    |log|  Name: PROCTER GAMBLE         |    Procter & Gamble Co\n",
      "2018-01-26 14:40:32  US7427181091  PROCTER GAMBLE    |deb|  Correcting column names\n",
      "2018-01-26 14:40:32  US7427181091  PROCTER GAMBLE    |deb|  Formatting keyratios\n",
      "2018-01-26 14:40:32  US7427181091  PROCTER GAMBLE    |deb|  Cleaning up the column strings\n",
      "2018-01-26 14:40:32  US7427181091  PROCTER GAMBLE    |deb|  Formatting keyratios\n",
      "2018-01-26 14:40:32  US7427181091  PROCTER GAMBLE    |log|  Found saved and downloaded keyratio tables with sizes 11 and 0\n",
      "2018-01-26 14:40:32  US7427181091  PROCTER GAMBLE    |log|  Saving 10 entries in fundamentals database\n"
     ]
    }
   ],
   "source": [
    "s.switch_isin('US7427181091')\n",
    "s.ticker_ms = 'PRG'\n",
    "s.load_keyratios(deletecsv=False)"
   ]
  },
  {
   "cell_type": "markdown",
   "metadata": {},
   "source": [
    "## Download quotes from Yahoo\n",
    "\n",
    "Let's select the Munich Re stock and download the quote. There are two different modes of operation for the quote downloading algorithm. If the algorithm is called for the first time, Q-AnT tries all exchanges and selects that with the largest available data set. If quotes are already stored for the stock, Q-AnT uses the same exchange as for the previous data. "
   ]
  },
  {
   "cell_type": "code",
   "execution_count": 11,
   "metadata": {},
   "outputs": [
    {
     "name": "stdout",
     "output_type": "stream",
     "text": [
      "2017-12-11 21:16:05  US7427181091  PROCTER GAMBLE    |deb|  Switched to new stock: PROCTER GAMBLE\n",
      "2017-12-11 21:16:05  US7427181091  PROCTER GAMBLE    |deb|  ISIN & Ticker:         US7427181091, PRG\n",
      "2017-12-11 21:16:05  US7427181091  PROCTER GAMBLE    |deb|  Reading saved quote\n",
      "2017-12-11 21:16:06  US7427181091  PROCTER GAMBLE    |log|  Found 0 quotes\n"
     ]
    }
   ],
   "source": [
    "s.switch_isin('US7427181091')"
   ]
  },
  {
   "cell_type": "code",
   "execution_count": 12,
   "metadata": {},
   "outputs": [
    {
     "name": "stdout",
     "output_type": "stream",
     "text": [
      "2017-12-11 21:16:07  US7427181091  PROCTER GAMBLE    |log|  Donwloading quote with ticker symbol PRG\n",
      "2017-12-11 21:16:07  US7427181091  PROCTER GAMBLE    |log|  Found the following unit of the key ratios: EUR\n",
      "2017-12-11 21:16:08  US7427181091  PROCTER GAMBLE    |log|  Attempts to load PRG.VI quote: 1/5\n",
      "2017-12-11 21:16:10  US7427181091  PROCTER GAMBLE    |log|  Attempts to load PRG.VI quote: 2/5\n",
      "2017-12-11 21:16:11  US7427181091  PROCTER GAMBLE    |log|  Attempts to load PRG.VI quote: 3/5\n",
      "2017-12-11 21:16:13  US7427181091  PROCTER GAMBLE    |log|  Attempts to load PRG.VI quote: 4/5\n",
      "2017-12-11 21:16:14  US7427181091  PROCTER GAMBLE    |log|  Attempts to load PRG.VI quote: 5/5\n",
      "2017-12-11 21:16:16  US7427181091  PROCTER GAMBLE    |log|  Attempts to load PRG.DE quote: 1/5\n",
      "2017-12-11 21:16:18  US7427181091  PROCTER GAMBLE    |log|  Attempts to load PRG.DE quote: 2/5\n",
      "2017-12-11 21:16:19  US7427181091  PROCTER GAMBLE    |log|  Attempts to load PRG.DE quote: 3/5\n",
      "2017-12-11 21:16:21  US7427181091  PROCTER GAMBLE    |log|  Attempts to load PRG.DE quote: 4/5\n",
      "2017-12-11 21:16:22  US7427181091  PROCTER GAMBLE    |log|  Attempts to load PRG.DE quote: 5/5\n",
      "2017-12-11 21:16:24  US7427181091  PROCTER GAMBLE    |log|  Successfully loaded quote for PRG from yahoo, exchange .F\n",
      "2017-12-11 21:16:26  US7427181091  PROCTER GAMBLE    |log|  Successfully loaded quote for PRG from yahoo, exchange .SG\n",
      "2017-12-11 21:16:27  US7427181091  PROCTER GAMBLE    |log|  Successfully loaded quote for PRG from yahoo, exchange .BE\n",
      "2017-12-11 21:16:29  US7427181091  PROCTER GAMBLE    |log|  Successfully loaded quote for PRG from yahoo, exchange .DU\n",
      "2017-12-11 21:16:31  US7427181091  PROCTER GAMBLE    |log|  Attempts to load PRG.HM quote: 1/5\n",
      "2017-12-11 21:16:32  US7427181091  PROCTER GAMBLE    |log|  Successfully loaded quote for PRG from yahoo, exchange .HM\n",
      "2017-12-11 21:16:33  US7427181091  PROCTER GAMBLE    |log|  Successfully loaded quote for PRG from yahoo, exchange .HA\n",
      "2017-12-11 21:16:36  US7427181091  PROCTER GAMBLE    |log|  Attempts to load PRG.MU quote: 1/5\n",
      "2017-12-11 21:16:38  US7427181091  PROCTER GAMBLE    |log|  Successfully loaded quote for PRG from yahoo, exchange .MU\n",
      "2017-12-11 21:16:39  US7427181091  PROCTER GAMBLE    |log|  Attempts to load PRG.PA quote: 1/5\n",
      "2017-12-11 21:16:41  US7427181091  PROCTER GAMBLE    |log|  Attempts to load PRG.PA quote: 2/5\n",
      "2017-12-11 21:16:43  US7427181091  PROCTER GAMBLE    |log|  Attempts to load PRG.PA quote: 3/5\n",
      "2017-12-11 21:16:44  US7427181091  PROCTER GAMBLE    |log|  Attempts to load PRG.PA quote: 4/5\n",
      "2017-12-11 21:16:46  US7427181091  PROCTER GAMBLE    |log|  Attempts to load PRG.PA quote: 5/5\n",
      "2017-12-11 21:16:48  US7427181091  PROCTER GAMBLE    |log|  Attempts to load PRG.MC quote: 1/5\n",
      "2017-12-11 21:16:49  US7427181091  PROCTER GAMBLE    |log|  Attempts to load PRG.MC quote: 2/5\n",
      "2017-12-11 21:16:51  US7427181091  PROCTER GAMBLE    |log|  Attempts to load PRG.MC quote: 3/5\n",
      "2017-12-11 21:16:53  US7427181091  PROCTER GAMBLE    |log|  Attempts to load PRG.MC quote: 4/5\n",
      "2017-12-11 21:16:54  US7427181091  PROCTER GAMBLE    |log|  Attempts to load PRG.MC quote: 5/5\n",
      "2017-12-11 21:16:54  US7427181091  PROCTER GAMBLE    |deb|  Finding longest quote\n",
      "2017-12-11 21:16:54  US7427181091  PROCTER GAMBLE    |log|  Check stock info at https://finance.yahoo.com/quote/PRG.F?p=PRG.F\n"
     ]
    },
    {
     "name": "stderr",
     "output_type": "stream",
     "text": [
      "/home/phermes/.conda/envs/py36/lib/python3.6/site-packages/pandas/core/indexing.py:517: SettingWithCopyWarning:\n",
      "\n",
      "\n",
      "A value is trying to be set on a copy of a slice from a DataFrame.\n",
      "Try using .loc[row_indexer,col_indexer] = value instead\n",
      "\n",
      "See the caveats in the documentation: http://pandas.pydata.org/pandas-docs/stable/indexing.html#indexing-view-versus-copy\n",
      "\n"
     ]
    },
    {
     "name": "stdout",
     "output_type": "stream",
     "text": [
      "2017-12-11 21:16:55  US7427181091  PROCTER GAMBLE    |deb|  Reading saved quote\n",
      "2017-12-11 21:16:55  US7427181091  PROCTER GAMBLE    |log|  Found 0 quotes\n",
      "2017-12-11 21:16:55  US7427181091  PROCTER GAMBLE    |log|  Found 4546 quotes to save\n",
      "2017-12-11 21:16:55  US7427181091  PROCTER GAMBLE    |deb|  Currency of quote_to_save: ['EUR']\n",
      "2017-12-11 21:16:55  US7427181091  PROCTER GAMBLE    |deb|  Currency of quote_saved  : []\n",
      "2017-12-11 21:16:55  US7427181091  PROCTER GAMBLE    |log|  No quote saved, adding new entry\n",
      "2017-12-11 21:16:55  US7427181091  PROCTER GAMBLE    |log|  Successfully saved 4546 entries in quote database\n"
     ]
    }
   ],
   "source": [
    "s._download_quote_yahoo()"
   ]
  },
  {
   "cell_type": "markdown",
   "metadata": {},
   "source": [
    "## Download Quarterly Report Dates "
   ]
  },
  {
   "cell_type": "code",
   "execution_count": 6,
   "metadata": {},
   "outputs": [
    {
     "name": "stdout",
     "output_type": "stream",
     "text": [
      "2017-12-06 11:31:25  DE0008430026  MUENCH.RUECKVERS. |log|  Downloading quarterly report dates from\n",
      "2017-12-06 11:31:25  DE0008430026  MUENCH.RUECKVERS. |log|  http://www.finanzen.net/termine/Muenchener_Rueck\n",
      "2017-12-06 11:31:25  DE0008430026  MUENCH.RUECKVERS. |log|  Found quarterly report table with 4 entries\n",
      "2017-12-06 11:31:25  DE0008430026  MUENCH.RUECKVERS. |log|  Reading saved quarterly report dates\n",
      "2017-12-06 11:31:25  DE0008430026  MUENCH.RUECKVERS. |log|  Found 1 quarterly report dates to save\n",
      "2017-12-06 11:31:25  DE0008430026  MUENCH.RUECKVERS. |log|  Successfully saved 1 entries in quarterly report database\n",
      "2017-12-06 11:31:25  DE0008430026  MUENCH.RUECKVERS. |log|  Reading saved quarterly report dates\n"
     ]
    }
   ],
   "source": [
    "s.debug=False\n",
    "s._save_unsaved_quarterly_report_dates()"
   ]
  },
  {
   "cell_type": "markdown",
   "metadata": {},
   "source": [
    "# Deploying the algorithm\n",
    "\n",
    "## Quantitative Analysis of Fundamentals and Quotes\n",
    "\n",
    "Run the Q-AnT algorithm for the stock presently loaded. "
   ]
  },
  {
   "cell_type": "code",
   "execution_count": 6,
   "metadata": {},
   "outputs": [
    {
     "name": "stdout",
     "output_type": "stream",
     "text": [
      "2017-12-06 10:43:07  DE0005408116  AAREAL BANK AG    |log|  Earnings Growth: 0.07962780402683078\n",
      "2017-12-06 10:43:07  DE0005408116  AAREAL BANK AG   |err|  PresentRoIC is of type None\n",
      "2017-12-06 10:43:07  DE0005408116  AAREAL BANK AG    |log|  Financial company, applying different criteria for equity ratio\n",
      "2017-12-06 10:43:07  DE0005408116  AAREAL BANK AG    |log|  Checking dividend growth\n",
      "2017-12-06 10:43:07  DE0005408116  AAREAL BANK AG    |log|  Latest dividend 1.2\n",
      "2017-12-06 10:43:07  DE0005408116  AAREAL BANK AG    |log|  Previous dividend nan\n",
      "2017-12-06 10:43:07  DE0005408116  AAREAL BANK AG    |log|  Calculating fair price from P/E ratio\n",
      "2017-12-06 10:43:07  DE0005408116  AAREAL BANK AG    |log|  Selected quantile: 0.5\n",
      "2017-12-06 10:43:07  DE0005408116  AAREAL BANK AG    |log|  Connected to sqlite database algo_results.db\n",
      "2017-12-06 10:43:07  DE0005408116  AAREAL BANK AG    |log|  Removing old output\n",
      "2017-12-06 10:43:07  DE0005408116  AAREAL BANK AG    |log|  Adding new result\n",
      "2017-12-06 10:43:07  DE0005408116  AAREAL BANK AG    |log|  Completed get_summary\n"
     ]
    }
   ],
   "source": [
    "s.get_summary(save=True)"
   ]
  },
  {
   "cell_type": "markdown",
   "metadata": {},
   "source": [
    "Show the result of the quantitative analysis"
   ]
  },
  {
   "cell_type": "code",
   "execution_count": 7,
   "metadata": {},
   "outputs": [
    {
     "data": {
      "text/html": [
       "<div>\n",
       "<style>\n",
       "    .dataframe thead tr:only-child th {\n",
       "        text-align: right;\n",
       "    }\n",
       "\n",
       "    .dataframe thead th {\n",
       "        text-align: left;\n",
       "    }\n",
       "\n",
       "    .dataframe tbody tr th {\n",
       "        vertical-align: top;\n",
       "    }\n",
       "</style>\n",
       "<table border=\"1\" class=\"dataframe\">\n",
       "  <thead>\n",
       "    <tr style=\"text-align: right;\">\n",
       "      <th></th>\n",
       "      <th>Name</th>\n",
       "      <th>ISIN</th>\n",
       "      <th>Parameter</th>\n",
       "      <th>Value</th>\n",
       "      <th>Point</th>\n",
       "    </tr>\n",
       "  </thead>\n",
       "  <tbody>\n",
       "    <tr>\n",
       "      <th>0</th>\n",
       "      <td>AAREAL BANK AG</td>\n",
       "      <td>DE0005408116</td>\n",
       "      <td>OnlyPositiveEarnings</td>\n",
       "      <td>0</td>\n",
       "      <td>1</td>\n",
       "    </tr>\n",
       "    <tr>\n",
       "      <th>1</th>\n",
       "      <td>AAREAL BANK AG</td>\n",
       "      <td>DE0005408116</td>\n",
       "      <td>AnnualEarningsGrowth</td>\n",
       "      <td>8.0</td>\n",
       "      <td>1</td>\n",
       "    </tr>\n",
       "    <tr>\n",
       "      <th>2</th>\n",
       "      <td>AAREAL BANK AG</td>\n",
       "      <td>DE0005408116</td>\n",
       "      <td>BookValueGrowth</td>\n",
       "      <td>69.2</td>\n",
       "      <td>0</td>\n",
       "    </tr>\n",
       "    <tr>\n",
       "      <th>3</th>\n",
       "      <td>AAREAL BANK AG</td>\n",
       "      <td>DE0005408116</td>\n",
       "      <td>HistoricROE</td>\n",
       "      <td>3.3</td>\n",
       "      <td>-1</td>\n",
       "    </tr>\n",
       "    <tr>\n",
       "      <th>4</th>\n",
       "      <td>AAREAL BANK AG</td>\n",
       "      <td>DE0005408116</td>\n",
       "      <td>PresentROE</td>\n",
       "      <td>7.0</td>\n",
       "      <td>-1</td>\n",
       "    </tr>\n",
       "    <tr>\n",
       "      <th>5</th>\n",
       "      <td>AAREAL BANK AG</td>\n",
       "      <td>DE0005408116</td>\n",
       "      <td>PresentRoIC</td>\n",
       "      <td>0.0</td>\n",
       "      <td>-1</td>\n",
       "    </tr>\n",
       "    <tr>\n",
       "      <th>6</th>\n",
       "      <td>AAREAL BANK AG</td>\n",
       "      <td>DE0005408116</td>\n",
       "      <td>EquityRatio</td>\n",
       "      <td>6.0</td>\n",
       "      <td>0</td>\n",
       "    </tr>\n",
       "    <tr>\n",
       "      <th>7</th>\n",
       "      <td>AAREAL BANK AG</td>\n",
       "      <td>DE0005408116</td>\n",
       "      <td>EBTMargin</td>\n",
       "      <td>100.0</td>\n",
       "      <td>1</td>\n",
       "    </tr>\n",
       "    <tr>\n",
       "      <th>8</th>\n",
       "      <td>AAREAL BANK AG</td>\n",
       "      <td>DE0005408116</td>\n",
       "      <td>DividendGrowth</td>\n",
       "      <td>nan</td>\n",
       "      <td>0</td>\n",
       "    </tr>\n",
       "    <tr>\n",
       "      <th>9</th>\n",
       "      <td>AAREAL BANK AG</td>\n",
       "      <td>DE0005408116</td>\n",
       "      <td>SixMonthReturn</td>\n",
       "      <td>-6.2</td>\n",
       "      <td>-1</td>\n",
       "    </tr>\n",
       "    <tr>\n",
       "      <th>10</th>\n",
       "      <td>AAREAL BANK AG</td>\n",
       "      <td>DE0005408116</td>\n",
       "      <td>TwelveMonthReturn</td>\n",
       "      <td>8.6</td>\n",
       "      <td>1</td>\n",
       "    </tr>\n",
       "  </tbody>\n",
       "</table>\n",
       "</div>"
      ],
      "text/plain": [
       "              Name          ISIN             Parameter  Value Point\n",
       "0   AAREAL BANK AG  DE0005408116  OnlyPositiveEarnings      0     1\n",
       "1   AAREAL BANK AG  DE0005408116  AnnualEarningsGrowth    8.0     1\n",
       "2   AAREAL BANK AG  DE0005408116       BookValueGrowth   69.2     0\n",
       "3   AAREAL BANK AG  DE0005408116           HistoricROE    3.3    -1\n",
       "4   AAREAL BANK AG  DE0005408116            PresentROE    7.0    -1\n",
       "5   AAREAL BANK AG  DE0005408116           PresentRoIC    0.0    -1\n",
       "6   AAREAL BANK AG  DE0005408116           EquityRatio    6.0     0\n",
       "7   AAREAL BANK AG  DE0005408116             EBTMargin  100.0     1\n",
       "8   AAREAL BANK AG  DE0005408116        DividendGrowth    nan     0\n",
       "9   AAREAL BANK AG  DE0005408116        SixMonthReturn   -6.2    -1\n",
       "10  AAREAL BANK AG  DE0005408116     TwelveMonthReturn    8.6     1"
      ]
     },
     "execution_count": 7,
     "metadata": {},
     "output_type": "execute_result"
    }
   ],
   "source": [
    "s.quant_result"
   ]
  },
  {
   "cell_type": "code",
   "execution_count": 8,
   "metadata": {},
   "outputs": [
    {
     "data": {
      "text/html": [
       "<div>\n",
       "<style>\n",
       "    .dataframe thead tr:only-child th {\n",
       "        text-align: right;\n",
       "    }\n",
       "\n",
       "    .dataframe thead th {\n",
       "        text-align: left;\n",
       "    }\n",
       "\n",
       "    .dataframe tbody tr th {\n",
       "        vertical-align: top;\n",
       "    }\n",
       "</style>\n",
       "<table border=\"1\" class=\"dataframe\">\n",
       "  <thead>\n",
       "    <tr style=\"text-align: right;\">\n",
       "      <th></th>\n",
       "      <th>Name</th>\n",
       "      <th>ISIN</th>\n",
       "      <th>FairPrice</th>\n",
       "      <th>FairPricePE</th>\n",
       "      <th>Price</th>\n",
       "      <th>Points</th>\n",
       "    </tr>\n",
       "  </thead>\n",
       "  <tbody>\n",
       "    <tr>\n",
       "      <th>0</th>\n",
       "      <td>AAREAL BANK AG</td>\n",
       "      <td>DE0005408116</td>\n",
       "      <td>110.642442</td>\n",
       "      <td>29.418995</td>\n",
       "      <td>35.994999</td>\n",
       "      <td>0</td>\n",
       "    </tr>\n",
       "  </tbody>\n",
       "</table>\n",
       "</div>"
      ],
      "text/plain": [
       "             Name          ISIN   FairPrice  FairPricePE      Price  Points\n",
       "0  AAREAL BANK AG  DE0005408116  110.642442    29.418995  35.994999       0"
      ]
     },
     "execution_count": 8,
     "metadata": {},
     "output_type": "execute_result"
    }
   ],
   "source": [
    "s.summary"
   ]
  },
  {
   "cell_type": "markdown",
   "metadata": {},
   "source": [
    "If we want to save the output to \n",
    "\n",
    "    output/algo_results.db\n",
    "    \n",
    "we can use the save option. The conservative option is used to specify wheter the calculation of the fair price should take into account earnings growth which is determined from historical earnings growth."
   ]
  },
  {
   "cell_type": "code",
   "execution_count": 7,
   "metadata": {},
   "outputs": [
    {
     "name": "stdout",
     "output_type": "stream",
     "text": [
      "2017-12-06 11:35:19  DE0008430026  MUENCH.RUECKVERS. |log|  Earnings Growth: -0.0025444379905804615\n",
      "2017-12-06 11:35:19  DE0008430026  MUENCH.RUECKVERS.|err|  PresentRoIC is of type None\n",
      "2017-12-06 11:35:19  DE0008430026  MUENCH.RUECKVERS. |log|  Financial company, applying different criteria for equity ratio\n",
      "2017-12-06 11:35:19  DE0008430026  MUENCH.RUECKVERS. |log|  Checking dividend growth\n",
      "2017-12-06 11:35:19  DE0008430026  MUENCH.RUECKVERS. |log|  Latest dividend 7.75\n",
      "2017-12-06 11:35:19  DE0008430026  MUENCH.RUECKVERS. |log|  Previous dividend nan\n",
      "2017-12-06 11:35:19  DE0008430026  MUENCH.RUECKVERS. |log|  Calculating fair price from P/E ratio\n",
      "2017-12-06 11:35:19  DE0008430026  MUENCH.RUECKVERS. |log|  Selected quantile: 0.5\n",
      "2017-12-06 11:35:19  DE0008430026  MUENCH.RUECKVERS. |log|  Connected to sqlite database algo_results.db\n",
      "2017-12-06 11:35:19  DE0008430026  MUENCH.RUECKVERS. |log|  Removing old output\n",
      "2017-12-06 11:35:19  DE0008430026  MUENCH.RUECKVERS. |log|  Adding new result\n",
      "2017-12-06 11:35:19  DE0008430026  MUENCH.RUECKVERS. |log|  Completed get_summary\n",
      "2017-12-06 11:35:19  DE0008430026  MUENCH.RUECKVERS. |log|  Found 4957 quotes\n"
     ]
    }
   ],
   "source": [
    "s.get_summary(save=True,conservative=True)\n",
    "s.analyze_quote()"
   ]
  },
  {
   "cell_type": "code",
   "execution_count": 12,
   "metadata": {},
   "outputs": [
    {
     "data": {
      "text/html": [
       "<div>\n",
       "<style>\n",
       "    .dataframe thead tr:only-child th {\n",
       "        text-align: right;\n",
       "    }\n",
       "\n",
       "    .dataframe thead th {\n",
       "        text-align: left;\n",
       "    }\n",
       "\n",
       "    .dataframe tbody tr th {\n",
       "        vertical-align: top;\n",
       "    }\n",
       "</style>\n",
       "<table border=\"1\" class=\"dataframe\">\n",
       "  <thead>\n",
       "    <tr style=\"text-align: right;\">\n",
       "      <th></th>\n",
       "      <th>Name</th>\n",
       "      <th>ISIN</th>\n",
       "      <th>Parameter</th>\n",
       "      <th>Value</th>\n",
       "      <th>Point</th>\n",
       "    </tr>\n",
       "  </thead>\n",
       "  <tbody>\n",
       "    <tr>\n",
       "      <th>0</th>\n",
       "      <td>MUENCH.RUECKVERS.VNA O.N.</td>\n",
       "      <td>DE0008430026</td>\n",
       "      <td>OnlyPositiveEarnings</td>\n",
       "      <td>0</td>\n",
       "      <td>1</td>\n",
       "    </tr>\n",
       "    <tr>\n",
       "      <th>1</th>\n",
       "      <td>MUENCH.RUECKVERS.VNA O.N.</td>\n",
       "      <td>DE0008430026</td>\n",
       "      <td>AnnualEarningsGrowth</td>\n",
       "      <td>-0.3</td>\n",
       "      <td>-1</td>\n",
       "    </tr>\n",
       "    <tr>\n",
       "      <th>2</th>\n",
       "      <td>MUENCH.RUECKVERS.VNA O.N.</td>\n",
       "      <td>DE0008430026</td>\n",
       "      <td>BookValueGrowth</td>\n",
       "      <td>72.5</td>\n",
       "      <td>0</td>\n",
       "    </tr>\n",
       "    <tr>\n",
       "      <th>3</th>\n",
       "      <td>MUENCH.RUECKVERS.VNA O.N.</td>\n",
       "      <td>DE0008430026</td>\n",
       "      <td>HistoricROE</td>\n",
       "      <td>3.1</td>\n",
       "      <td>-1</td>\n",
       "    </tr>\n",
       "    <tr>\n",
       "      <th>4</th>\n",
       "      <td>MUENCH.RUECKVERS.VNA O.N.</td>\n",
       "      <td>DE0008430026</td>\n",
       "      <td>PresentROE</td>\n",
       "      <td>8.3</td>\n",
       "      <td>-1</td>\n",
       "    </tr>\n",
       "    <tr>\n",
       "      <th>5</th>\n",
       "      <td>MUENCH.RUECKVERS.VNA O.N.</td>\n",
       "      <td>DE0008430026</td>\n",
       "      <td>PresentRoIC</td>\n",
       "      <td>0.0</td>\n",
       "      <td>-1</td>\n",
       "    </tr>\n",
       "    <tr>\n",
       "      <th>6</th>\n",
       "      <td>MUENCH.RUECKVERS.VNA O.N.</td>\n",
       "      <td>DE0008430026</td>\n",
       "      <td>EquityRatio</td>\n",
       "      <td>11.8</td>\n",
       "      <td>1</td>\n",
       "    </tr>\n",
       "    <tr>\n",
       "      <th>7</th>\n",
       "      <td>MUENCH.RUECKVERS.VNA O.N.</td>\n",
       "      <td>DE0008430026</td>\n",
       "      <td>EBTMargin</td>\n",
       "      <td>6.2</td>\n",
       "      <td>0</td>\n",
       "    </tr>\n",
       "    <tr>\n",
       "      <th>8</th>\n",
       "      <td>MUENCH.RUECKVERS.VNA O.N.</td>\n",
       "      <td>DE0008430026</td>\n",
       "      <td>DividendGrowth</td>\n",
       "      <td>nan</td>\n",
       "      <td>0</td>\n",
       "    </tr>\n",
       "    <tr>\n",
       "      <th>9</th>\n",
       "      <td>MUENCH.RUECKVERS.VNA O.N.</td>\n",
       "      <td>DE0008430026</td>\n",
       "      <td>SixMonthReturn</td>\n",
       "      <td>3.7</td>\n",
       "      <td>0</td>\n",
       "    </tr>\n",
       "    <tr>\n",
       "      <th>10</th>\n",
       "      <td>MUENCH.RUECKVERS.VNA O.N.</td>\n",
       "      <td>DE0008430026</td>\n",
       "      <td>TwelveMonthReturn</td>\n",
       "      <td>5.0</td>\n",
       "      <td>1</td>\n",
       "    </tr>\n",
       "  </tbody>\n",
       "</table>\n",
       "</div>"
      ],
      "text/plain": [
       "                         Name          ISIN             Parameter Value Point\n",
       "0   MUENCH.RUECKVERS.VNA O.N.  DE0008430026  OnlyPositiveEarnings     0     1\n",
       "1   MUENCH.RUECKVERS.VNA O.N.  DE0008430026  AnnualEarningsGrowth  -0.3    -1\n",
       "2   MUENCH.RUECKVERS.VNA O.N.  DE0008430026       BookValueGrowth  72.5     0\n",
       "3   MUENCH.RUECKVERS.VNA O.N.  DE0008430026           HistoricROE   3.1    -1\n",
       "4   MUENCH.RUECKVERS.VNA O.N.  DE0008430026            PresentROE   8.3    -1\n",
       "5   MUENCH.RUECKVERS.VNA O.N.  DE0008430026           PresentRoIC   0.0    -1\n",
       "6   MUENCH.RUECKVERS.VNA O.N.  DE0008430026           EquityRatio  11.8     1\n",
       "7   MUENCH.RUECKVERS.VNA O.N.  DE0008430026             EBTMargin   6.2     0\n",
       "8   MUENCH.RUECKVERS.VNA O.N.  DE0008430026        DividendGrowth   nan     0\n",
       "9   MUENCH.RUECKVERS.VNA O.N.  DE0008430026        SixMonthReturn   3.7     0\n",
       "10  MUENCH.RUECKVERS.VNA O.N.  DE0008430026     TwelveMonthReturn   5.0     1"
      ]
     },
     "execution_count": 12,
     "metadata": {},
     "output_type": "execute_result"
    }
   ],
   "source": [
    "s.quant_result"
   ]
  },
  {
   "cell_type": "markdown",
   "metadata": {},
   "source": [
    "We can have a look at the fair price calculated by means of different valuation models. "
   ]
  },
  {
   "cell_type": "code",
   "execution_count": 13,
   "metadata": {},
   "outputs": [
    {
     "data": {
      "text/plain": [
       "(183.89999399999999,\n",
       " 395.60890352349668,\n",
       " 393.06927705589942,\n",
       " 128.63416001283358)"
      ]
     },
     "execution_count": 13,
     "metadata": {},
     "output_type": "execute_result"
    }
   ],
   "source": [
    "s.price, s.fairprice_low, s.fairprice_high, s.fairprice_pe"
   ]
  },
  {
   "cell_type": "markdown",
   "metadata": {},
   "source": [
    "# Study daily returns, outperformance, covariance etc.\n",
    "\n",
    "We can merge two quote dataframes to study covariance or outperformance. "
   ]
  },
  {
   "cell_type": "code",
   "execution_count": 4,
   "metadata": {
    "collapsed": true
   },
   "outputs": [],
   "source": [
    "from QAnT.risk import merge_quotes"
   ]
  },
  {
   "cell_type": "markdown",
   "metadata": {},
   "source": [
    "## Correlation\n",
    "\n",
    "Let's study the covariance first between Coca-Cola and Pepsi and then between Coca-Cola and VISA.\n",
    "### Between Coca Cola and Pepsi"
   ]
  },
  {
   "cell_type": "code",
   "execution_count": 20,
   "metadata": {},
   "outputs": [
    {
     "data": {
      "text/html": [
       "<div>\n",
       "<style>\n",
       "    .dataframe thead tr:only-child th {\n",
       "        text-align: right;\n",
       "    }\n",
       "\n",
       "    .dataframe thead th {\n",
       "        text-align: left;\n",
       "    }\n",
       "\n",
       "    .dataframe tbody tr th {\n",
       "        vertical-align: top;\n",
       "    }\n",
       "</style>\n",
       "<table border=\"1\" class=\"dataframe\">\n",
       "  <thead>\n",
       "    <tr style=\"text-align: right;\">\n",
       "      <th></th>\n",
       "      <th>name</th>\n",
       "      <th>isin</th>\n",
       "      <th>ticker_YF</th>\n",
       "      <th>ticker_MS</th>\n",
       "      <th>branch</th>\n",
       "      <th>benchmark</th>\n",
       "      <th>finanzen_net</th>\n",
       "    </tr>\n",
       "  </thead>\n",
       "  <tbody>\n",
       "    <tr>\n",
       "      <th>1941</th>\n",
       "      <td>PEPSICO INC.     DL-,0166</td>\n",
       "      <td>US7134481081</td>\n",
       "      <td>PEP</td>\n",
       "      <td>PEP</td>\n",
       "      <td>0.0</td>\n",
       "      <td>^GSPC</td>\n",
       "      <td>PepsiCo</td>\n",
       "    </tr>\n",
       "  </tbody>\n",
       "</table>\n",
       "</div>"
      ],
      "text/plain": [
       "                           name          isin ticker_YF ticker_MS  branch  \\\n",
       "1941  PEPSICO INC.     DL-,0166  US7134481081       PEP       PEP     0.0   \n",
       "\n",
       "     benchmark finanzen_net  \n",
       "1941     ^GSPC      PepsiCo  "
      ]
     },
     "execution_count": 20,
     "metadata": {},
     "output_type": "execute_result"
    }
   ],
   "source": [
    "s.find_by_name(\"PEPS\")"
   ]
  },
  {
   "cell_type": "code",
   "execution_count": 5,
   "metadata": {},
   "outputs": [],
   "source": [
    "cocac = stock(isin='US1912161007')\n",
    "pepsi = stock(isin='US7134481081')\n",
    "visa  = stock(isin='US92826C8394')"
   ]
  },
  {
   "cell_type": "code",
   "execution_count": 16,
   "metadata": {},
   "outputs": [
    {
     "data": {
      "image/png": "[encoded data removed]",
      "text/plain": [
       "<matplotlib.figure.Figure at 0x7f416ca84780>"
      ]
     },
     "metadata": {},
     "output_type": "display_data"
    }
   ],
   "source": [
    "plt.plot(cocac.quote['date'],cocac.quote['close'],label='Coca Cola')\n",
    "plt.plot(pepsi.quote['date'],pepsi.quote['close'],label='Pepsi')\n",
    "plt.plot(visa.quote['date'],visa.quote['close'],label='VISA')\n",
    "\n",
    "plt.legend()\n",
    "plt.show()"
   ]
  },
  {
   "cell_type": "code",
   "execution_count": 6,
   "metadata": {},
   "outputs": [
    {
     "data": {
      "text/html": [
       "<div>\n",
       "<style>\n",
       "    .dataframe thead tr:only-child th {\n",
       "        text-align: right;\n",
       "    }\n",
       "\n",
       "    .dataframe thead th {\n",
       "        text-align: left;\n",
       "    }\n",
       "\n",
       "    .dataframe tbody tr th {\n",
       "        vertical-align: top;\n",
       "    }\n",
       "</style>\n",
       "<table border=\"1\" class=\"dataframe\">\n",
       "  <thead>\n",
       "    <tr style=\"text-align: right;\">\n",
       "      <th></th>\n",
       "      <th>date</th>\n",
       "      <th>return_COCA-C</th>\n",
       "      <th>return_PEPSIC</th>\n",
       "      <th>return_VISA I</th>\n",
       "    </tr>\n",
       "  </thead>\n",
       "  <tbody>\n",
       "    <tr>\n",
       "      <th>0</th>\n",
       "      <td>2008-03-19</td>\n",
       "      <td>0.009173</td>\n",
       "      <td>0.002280</td>\n",
       "      <td>NaN</td>\n",
       "    </tr>\n",
       "    <tr>\n",
       "      <th>1</th>\n",
       "      <td>2008-03-20</td>\n",
       "      <td>0.017693</td>\n",
       "      <td>0.014187</td>\n",
       "      <td>0.121989</td>\n",
       "    </tr>\n",
       "    <tr>\n",
       "      <th>2</th>\n",
       "      <td>2008-03-24</td>\n",
       "      <td>0.002288</td>\n",
       "      <td>0.003639</td>\n",
       "      <td>-0.077348</td>\n",
       "    </tr>\n",
       "    <tr>\n",
       "      <th>3</th>\n",
       "      <td>2008-03-25</td>\n",
       "      <td>0.003745</td>\n",
       "      <td>0.001258</td>\n",
       "      <td>0.055652</td>\n",
       "    </tr>\n",
       "    <tr>\n",
       "      <th>4</th>\n",
       "      <td>2008-03-26</td>\n",
       "      <td>-0.004252</td>\n",
       "      <td>-0.005340</td>\n",
       "      <td>0.011101</td>\n",
       "    </tr>\n",
       "  </tbody>\n",
       "</table>\n",
       "</div>"
      ],
      "text/plain": [
       "         date  return_COCA-C  return_PEPSIC  return_VISA I\n",
       "0  2008-03-19       0.009173       0.002280            NaN\n",
       "1  2008-03-20       0.017693       0.014187       0.121989\n",
       "2  2008-03-24       0.002288       0.003639      -0.077348\n",
       "3  2008-03-25       0.003745       0.001258       0.055652\n",
       "4  2008-03-26      -0.004252      -0.005340       0.011101"
      ]
     },
     "execution_count": 6,
     "metadata": {},
     "output_type": "execute_result"
    }
   ],
   "source": [
    "allquotes = merge_quotes(cocac,pepsi, visa)\n",
    "allquotes.head()"
   ]
  },
  {
   "cell_type": "code",
   "execution_count": 7,
   "metadata": {},
   "outputs": [
    {
     "data": {
      "image/png": "[encoded data removed]",
      "text/plain": [
       "<matplotlib.figure.Figure at 0x7ff5f620d358>"
      ]
     },
     "metadata": {},
     "output_type": "display_data"
    }
   ],
   "source": [
    "plt.hist(allquotes['return_COCA-C'].dropna(),bins=100,histtype='step', normed=True)\n",
    "plt.hist(allquotes['return_PEPSIC'].dropna(),bins=100,histtype='step', normed=True)\n",
    "plt.hist(allquotes['return_VISA I'].dropna(),bins=100,histtype='step', normed=True)\n",
    "\n",
    "plt.xlim(-0.1,0.1)\n",
    "plt.show()"
   ]
  },
  {
   "cell_type": "code",
   "execution_count": 40,
   "metadata": {},
   "outputs": [
    {
     "data": {
      "text/html": [
       "<div>\n",
       "<style>\n",
       "    .dataframe thead tr:only-child th {\n",
       "        text-align: right;\n",
       "    }\n",
       "\n",
       "    .dataframe thead th {\n",
       "        text-align: left;\n",
       "    }\n",
       "\n",
       "    .dataframe tbody tr th {\n",
       "        vertical-align: top;\n",
       "    }\n",
       "</style>\n",
       "<table border=\"1\" class=\"dataframe\">\n",
       "  <thead>\n",
       "    <tr style=\"text-align: right;\">\n",
       "      <th></th>\n",
       "      <th>return_COCA-C</th>\n",
       "      <th>return_PEPSIC</th>\n",
       "      <th>return_VISA I</th>\n",
       "    </tr>\n",
       "  </thead>\n",
       "  <tbody>\n",
       "    <tr>\n",
       "      <th>return_COCA-C</th>\n",
       "      <td>0.000134</td>\n",
       "      <td>0.000086</td>\n",
       "      <td>0.000071</td>\n",
       "    </tr>\n",
       "    <tr>\n",
       "      <th>return_PEPSIC</th>\n",
       "      <td>0.000086</td>\n",
       "      <td>0.000119</td>\n",
       "      <td>0.000075</td>\n",
       "    </tr>\n",
       "    <tr>\n",
       "      <th>return_VISA I</th>\n",
       "      <td>0.000071</td>\n",
       "      <td>0.000075</td>\n",
       "      <td>0.000366</td>\n",
       "    </tr>\n",
       "  </tbody>\n",
       "</table>\n",
       "</div>"
      ],
      "text/plain": [
       "               return_COCA-C  return_PEPSIC  return_VISA I\n",
       "return_COCA-C       0.000134       0.000086       0.000071\n",
       "return_PEPSIC       0.000086       0.000119       0.000075\n",
       "return_VISA I       0.000071       0.000075       0.000366"
      ]
     },
     "execution_count": 40,
     "metadata": {},
     "output_type": "execute_result"
    }
   ],
   "source": [
    "covmatrix = allquotes.cov()\n",
    "covmatrix"
   ]
  },
  {
   "cell_type": "code",
   "execution_count": 10,
   "metadata": {},
   "outputs": [
    {
     "data": {
      "text/html": [
       "<div>\n",
       "<style>\n",
       "    .dataframe thead tr:only-child th {\n",
       "        text-align: right;\n",
       "    }\n",
       "\n",
       "    .dataframe thead th {\n",
       "        text-align: left;\n",
       "    }\n",
       "\n",
       "    .dataframe tbody tr th {\n",
       "        vertical-align: top;\n",
       "    }\n",
       "</style>\n",
       "<table border=\"1\" class=\"dataframe\">\n",
       "  <thead>\n",
       "    <tr style=\"text-align: right;\">\n",
       "      <th></th>\n",
       "      <th>return_COCA-C</th>\n",
       "      <th>return_PEPSIC</th>\n",
       "      <th>return_VISA I</th>\n",
       "    </tr>\n",
       "  </thead>\n",
       "  <tbody>\n",
       "    <tr>\n",
       "      <th>count</th>\n",
       "      <td>2478.000000</td>\n",
       "      <td>2478.000000</td>\n",
       "      <td>2477.000000</td>\n",
       "    </tr>\n",
       "    <tr>\n",
       "      <th>mean</th>\n",
       "      <td>0.000119</td>\n",
       "      <td>0.000159</td>\n",
       "      <td>0.000690</td>\n",
       "    </tr>\n",
       "    <tr>\n",
       "      <th>std</th>\n",
       "      <td>0.011565</td>\n",
       "      <td>0.010905</td>\n",
       "      <td>0.019133</td>\n",
       "    </tr>\n",
       "    <tr>\n",
       "      <th>min</th>\n",
       "      <td>-0.094919</td>\n",
       "      <td>-0.135478</td>\n",
       "      <td>-0.157990</td>\n",
       "    </tr>\n",
       "    <tr>\n",
       "      <th>25%</th>\n",
       "      <td>-0.004945</td>\n",
       "      <td>-0.005095</td>\n",
       "      <td>-0.007839</td>\n",
       "    </tr>\n",
       "    <tr>\n",
       "      <th>50%</th>\n",
       "      <td>0.000443</td>\n",
       "      <td>0.000228</td>\n",
       "      <td>0.001004</td>\n",
       "    </tr>\n",
       "    <tr>\n",
       "      <th>75%</th>\n",
       "      <td>0.005658</td>\n",
       "      <td>0.005570</td>\n",
       "      <td>0.009432</td>\n",
       "    </tr>\n",
       "    <tr>\n",
       "      <th>max</th>\n",
       "      <td>0.121879</td>\n",
       "      <td>0.078769</td>\n",
       "      <td>0.130415</td>\n",
       "    </tr>\n",
       "  </tbody>\n",
       "</table>\n",
       "</div>"
      ],
      "text/plain": [
       "       return_COCA-C  return_PEPSIC  return_VISA I\n",
       "count    2478.000000    2478.000000    2477.000000\n",
       "mean        0.000119       0.000159       0.000690\n",
       "std         0.011565       0.010905       0.019133\n",
       "min        -0.094919      -0.135478      -0.157990\n",
       "25%        -0.004945      -0.005095      -0.007839\n",
       "50%         0.000443       0.000228       0.001004\n",
       "75%         0.005658       0.005570       0.009432\n",
       "max         0.121879       0.078769       0.130415"
      ]
     },
     "execution_count": 10,
     "metadata": {},
     "output_type": "execute_result"
    }
   ],
   "source": [
    "allquotes.describe()"
   ]
  },
  {
   "cell_type": "code",
   "execution_count": 13,
   "metadata": {
    "collapsed": true
   },
   "outputs": [],
   "source": [
    "w1 = np.arange(0,1,0.01)\n",
    "w2 = 1-w1"
   ]
  },
  {
   "cell_type": "code",
   "execution_count": 45,
   "metadata": {
    "collapsed": true
   },
   "outputs": [],
   "source": [
    "cov  = covmatrix[allquotes.keys()[1]][allquotes.keys()[3]]\n",
    "var1 = allquotes[allquotes.keys()[1]].std()**2\n",
    "var2 = allquotes[allquotes.keys()[3]].std()**2\n",
    "r1   = allquotes[allquotes.keys()[1]].mean()\n",
    "r2   = allquotes[allquotes.keys()[3]].mean()"
   ]
  },
  {
   "cell_type": "code",
   "execution_count": 49,
   "metadata": {
    "collapsed": true
   },
   "outputs": [],
   "source": [
    "def _portfolio_return_var(r1,r2,w1,w2,var1,var2,cov):\n",
    "    preturn   = w1*r1 + w2*r2\n",
    "    pvariance = w1*w1*var1 + w2*w2*var2\n",
    "    pvariance = pvariance + 2*w1*w2*cov\n",
    "    return preturn, pvariance\n",
    "\n",
    "def portfolio_return_var(allquotes,col1,col2):\n",
    "    cov  = covmatrix[allquotes.keys()[col1]][allquotes.keys()[col2]]\n",
    "    var1 = allquotes[allquotes.keys()[col1]].std()**2\n",
    "    var2 = allquotes[allquotes.keys()[col2]].std()**2\n",
    "    r1   = allquotes[allquotes.keys()[col1]].mean()\n",
    "    r2   = allquotes[allquotes.keys()[col2]].mean()\n",
    "    return _portfolio_return_var(r1,r2,w1,w2,var1,var2,cov)"
   ]
  },
  {
   "cell_type": "code",
   "execution_count": 58,
   "metadata": {},
   "outputs": [
    {
     "data": {
      "image/png": "[encoded data removed]",
      "text/plain": [
       "<matplotlib.figure.Figure at 0x7ff5f5c7f8d0>"
      ]
     },
     "metadata": {},
     "output_type": "display_data"
    }
   ],
   "source": [
    "for j in range(1,3):\n",
    "    output = []\n",
    "    for w1 in np.arange(0,1,0.01):\n",
    "        w2 = 1-w1\n",
    "        preturn, pvariance = portfolio_return_var(allquotes,j,3)\n",
    "        output.append([w1,preturn,pvariance])\n",
    "    output = pd.DataFrame(output,columns=['w1','pret','pvar'])\n",
    "\n",
    "    plt.scatter(np.sqrt(output['pvar']),output['pret']*100)\n",
    "plt.show()"
   ]
  },
  {
   "cell_type": "code",
   "execution_count": 57,
   "metadata": {},
   "outputs": [
    {
     "data": {
      "image/png": "[encoded data removed]",
      "text/plain": [
       "<matplotlib.figure.Figure at 0x7ff5f6d174e0>"
      ]
     },
     "metadata": {},
     "output_type": "display_data"
    }
   ],
   "source": [
    "plt.scatter(np.sqrt(output['pvar']),output['pret']*100)\n",
    "plt.show()"
   ]
  },
  {
   "cell_type": "markdown",
   "metadata": {},
   "source": [
    "## Multi asset portfolios"
   ]
  },
  {
   "cell_type": "code",
   "execution_count": 224,
   "metadata": {
    "collapsed": true
   },
   "outputs": [],
   "source": [
    "def _get_returns_variance(allquotes):\n",
    "    returns  = []\n",
    "    variance = []\n",
    "    for j in allquotes.keys()[1:]:\n",
    "        returns.append(np.mean(allquotes[j]))\n",
    "        variance.append(np.std(allquotes[j])**2)\n",
    "\n",
    "    returns  = np.array(returns)\n",
    "    variance = np.array(variance)\n",
    "    return returns, variance\n",
    "    \n",
    "def get_portfolio_return_risk(allquotes,weights=None):\n",
    "    # get the returns and the variances for the individual assets\n",
    "    returns, variance = _get_returns_variance(allquotes)\n",
    "    \n",
    "    nassets = len(allquotes.keys()[1:]) # number of assets in the portfolio\n",
    "\n",
    "    if weights is None:                     # use random weights unless the user specifies them \n",
    "        weights = np.random.rand(nassets)   # \n",
    "        weights = weights/np.sum(weights)   # \n",
    "    \n",
    "    # calculate the portfolio return\n",
    "    portfolio_return = np.sum(returns*weights)\n",
    "    \n",
    "    # calculate the covariance matrix\n",
    "    covmatrix = allquotes.cov()\n",
    "\n",
    "    # calculate the portfolio variance\n",
    "    portfolio_variance = np.sum(weights*weights*variance)\n",
    "\n",
    "    for ii, i in enumerate(covmatrix.keys()):\n",
    "        for jj, j in enumerate(covmatrix.keys()):\n",
    "            if i==j:\n",
    "                continue\n",
    "            portfolio_variance += covmatrix[i][j]*weights[ii]*weights[jj]\n",
    "            \n",
    "    return weights, portfolio_return, portfolio_variance\n",
    "\n",
    "def calculate_efficient_frontier(allquotes,niter=5000):\n",
    "    output = []\n",
    "    allweights = []\n",
    "    for _ in range(niter):\n",
    "        weights, pret, pvar = get_portfolio_return_risk(allquotes)\n",
    "        output.append([pret, pvar])\n",
    "        allweights.append(weights)\n",
    "    output = pd.DataFrame(output, columns=['pret','pvar'])\n",
    "    \n",
    "    return allweights, output\n",
    "\n",
    "def get_min_std_portfolio(allquotes,allweights=None, output=None, niter=5000):\n",
    "\n",
    "    if allweights is None or output is None:\n",
    "        allweights, output  = calculate_efficient_frontier(allquotes,niter=niter)\n",
    "    minrisk_index = output['pvar'].idxmin()\n",
    "\n",
    "    return allweights[minrisk_index], output['pvar'][minrisk_index], output['pret'][minrisk_index]*100"
   ]
  },
  {
   "cell_type": "code",
   "execution_count": 172,
   "metadata": {},
   "outputs": [],
   "source": [
    "allquotes = merge_quotes(cocac, visa, pepsi)"
   ]
  },
  {
   "cell_type": "code",
   "execution_count": 215,
   "metadata": {},
   "outputs": [],
   "source": [
    "_, output = calculate_efficient_frontier(allquotes)"
   ]
  },
  {
   "cell_type": "code",
   "execution_count": 216,
   "metadata": {},
   "outputs": [
    {
     "data": {
      "image/png": "[encoded data removed]",
      "text/plain": [
       "<matplotlib.figure.Figure at 0x7ff5f740a320>"
      ]
     },
     "metadata": {},
     "output_type": "display_data"
    }
   ],
   "source": [
    "plt.scatter(output['pvar']**0.5, output['pret']*100)\n",
    "\n",
    "for i in allquotes.keys()[1:]:\n",
    "    plt.plot(allquotes[i].std(),allquotes[i].mean()*100,'r^')\n",
    "\n",
    "plt.xlabel(\"Portfolio Standard Deviation on Expected Return\")\n",
    "plt.ylabel(\"Expected Return [%]\")\n",
    "plt.show()"
   ]
  },
  {
   "cell_type": "markdown",
   "metadata": {},
   "source": [
    "We can now calculate the portfolio with the lowest risk"
   ]
  },
  {
   "cell_type": "code",
   "execution_count": 212,
   "metadata": {},
   "outputs": [],
   "source": [
    "weights, varminrisk, retminrisk = get_min_std_portfolio(allquotes)"
   ]
  },
  {
   "cell_type": "code",
   "execution_count": 213,
   "metadata": {},
   "outputs": [
    {
     "data": {
      "text/plain": [
       "array([ 0.3769812 ,  0.09661041,  0.5264084 ])"
      ]
     },
     "execution_count": 213,
     "metadata": {},
     "output_type": "execute_result"
    }
   ],
   "source": [
    "weights"
   ]
  },
  {
   "cell_type": "markdown",
   "metadata": {},
   "source": [
    "The standard deviation and expected return for this portfolio are"
   ]
  },
  {
   "cell_type": "code",
   "execution_count": 214,
   "metadata": {},
   "outputs": [
    {
     "data": {
      "text/plain": [
       "(0.010110136827401937, 0.019523735234775661)"
      ]
     },
     "execution_count": 214,
     "metadata": {},
     "output_type": "execute_result"
    }
   ],
   "source": [
    "varminrisk**0.5, retminrisk"
   ]
  },
  {
   "cell_type": "markdown",
   "metadata": {},
   "source": [
    "## Include more assets"
   ]
  },
  {
   "cell_type": "code",
   "execution_count": 217,
   "metadata": {
    "collapsed": true
   },
   "outputs": [],
   "source": [
    "gilead  = stock(isin='US3755581036')\n",
    "flavors = stock(isin='US4595061015')\n",
    "visa    = stock(isin='US92826C8394')\n",
    "fuchs   = stock(isin='DE0005790430')\n",
    "johnson = stock(isin='US4781601046')"
   ]
  },
  {
   "cell_type": "code",
   "execution_count": 218,
   "metadata": {
    "collapsed": true
   },
   "outputs": [],
   "source": [
    "allquotes = merge_quotes(gilead, flavors, visa, fuchs, johnson)"
   ]
  },
  {
   "cell_type": "code",
   "execution_count": 225,
   "metadata": {
    "collapsed": true
   },
   "outputs": [],
   "source": [
    "allweights, output = calculate_efficient_frontier(allquotes,niter=10000)"
   ]
  },
  {
   "cell_type": "code",
   "execution_count": 226,
   "metadata": {},
   "outputs": [
    {
     "data": {
      "image/png": "[encoded data removed]",
      "text/plain": [
       "<matplotlib.figure.Figure at 0x7ff5f86efcc0>"
      ]
     },
     "metadata": {},
     "output_type": "display_data"
    }
   ],
   "source": [
    "plt.scatter(output['pvar']**0.5, output['pret']*100)\n",
    "\n",
    "for i in allquotes.keys()[1:]:\n",
    "    plt.plot(allquotes[i].std(),allquotes[i].mean()*100,'r^')\n",
    "\n",
    "plt.xlabel(\"Portfolio Standard Deviation on Expected Return\")\n",
    "plt.ylabel(\"Expected Return [%]\")\n",
    "plt.show()"
   ]
  },
  {
   "cell_type": "code",
   "execution_count": 227,
   "metadata": {
    "collapsed": true
   },
   "outputs": [],
   "source": [
    "weights, varminrisk, retminrisk = get_min_std_portfolio(allquotes,allweights=allweights, output=output)"
   ]
  },
  {
   "cell_type": "code",
   "execution_count": 229,
   "metadata": {},
   "outputs": [
    {
     "data": {
      "text/plain": [
       "(array([ 0.08549853,  0.12377503,  0.02119382,  0.10874573,  0.66078689]),\n",
       " 0.0099735647226369718,\n",
       " 0.032303790598363337)"
      ]
     },
     "execution_count": 229,
     "metadata": {},
     "output_type": "execute_result"
    }
   ],
   "source": [
    "weights, varminrisk**0.5, retminrisk"
   ]
  },
  {
   "cell_type": "code",
   "execution_count": null,
   "metadata": {
    "collapsed": true
   },
   "outputs": [],
   "source": []
  },
  {
   "cell_type": "code",
   "execution_count": null,
   "metadata": {
    "collapsed": true
   },
   "outputs": [],
   "source": []
  },
  {
   "cell_type": "code",
   "execution_count": null,
   "metadata": {
    "collapsed": true
   },
   "outputs": [],
   "source": []
  },
  {
   "cell_type": "markdown",
   "metadata": {},
   "source": [
    "### Between Coca Cola and VISA"
   ]
  },
  {
   "cell_type": "code",
   "execution_count": 72,
   "metadata": {},
   "outputs": [
    {
     "data": {
      "text/html": [
       "<div>\n",
       "<style>\n",
       "    .dataframe thead tr:only-child th {\n",
       "        text-align: right;\n",
       "    }\n",
       "\n",
       "    .dataframe thead th {\n",
       "        text-align: left;\n",
       "    }\n",
       "\n",
       "    .dataframe tbody tr th {\n",
       "        vertical-align: top;\n",
       "    }\n",
       "</style>\n",
       "<table border=\"1\" class=\"dataframe\">\n",
       "  <thead>\n",
       "    <tr style=\"text-align: right;\">\n",
       "      <th></th>\n",
       "      <th>name</th>\n",
       "      <th>isin</th>\n",
       "      <th>ticker_YF</th>\n",
       "      <th>ticker_MS</th>\n",
       "      <th>branch</th>\n",
       "      <th>benchmark</th>\n",
       "      <th>finanzen_net</th>\n",
       "    </tr>\n",
       "  </thead>\n",
       "  <tbody>\n",
       "    <tr>\n",
       "      <th>1081</th>\n",
       "      <td>GRUPO TELEVISA  CPO A,L,D</td>\n",
       "      <td>MXP4987V1378</td>\n",
       "      <td>TLV1</td>\n",
       "      <td>TLV1</td>\n",
       "      <td>0.0</td>\n",
       "      <td>XWD.TO</td>\n",
       "      <td>Grupo_Televisa_1</td>\n",
       "    </tr>\n",
       "    <tr>\n",
       "      <th>2886</th>\n",
       "      <td>VISA INC. CL. A DL -,0001</td>\n",
       "      <td>US92826C8394</td>\n",
       "      <td>V</td>\n",
       "      <td>V</td>\n",
       "      <td>1.0</td>\n",
       "      <td>^GSPC</td>\n",
       "      <td>Visa</td>\n",
       "    </tr>\n",
       "  </tbody>\n",
       "</table>\n",
       "</div>"
      ],
      "text/plain": [
       "                           name          isin ticker_YF ticker_MS  branch  \\\n",
       "1081  GRUPO TELEVISA  CPO A,L,D  MXP4987V1378      TLV1      TLV1     0.0   \n",
       "2886  VISA INC. CL. A DL -,0001  US92826C8394         V         V     1.0   \n",
       "\n",
       "     benchmark      finanzen_net  \n",
       "1081    XWD.TO  Grupo_Televisa_1  \n",
       "2886     ^GSPC              Visa  "
      ]
     },
     "execution_count": 72,
     "metadata": {},
     "output_type": "execute_result"
    }
   ],
   "source": [
    "s.find_by_name(\"VISA\")"
   ]
  },
  {
   "cell_type": "code",
   "execution_count": 74,
   "metadata": {
    "collapsed": true
   },
   "outputs": [],
   "source": [
    "visa = stock(isin='US92826C8394')\n",
    "visa._calculate_volatility()\n",
    "visa.quote['dailyreturn'] = visa.dailychange\n",
    "visa.dailychange.dropna(inplace=True)"
   ]
  },
  {
   "cell_type": "code",
   "execution_count": 76,
   "metadata": {},
   "outputs": [],
   "source": [
    "both = pd.merge(cocac.quote, visa.quote,on='date')\n",
    "both = both[['date','name_x','name_y','close_x','close_y','dailyreturn_x','dailyreturn_y']]"
   ]
  },
  {
   "cell_type": "code",
   "execution_count": 77,
   "metadata": {},
   "outputs": [
    {
     "data": {
      "text/html": [
       "<div>\n",
       "<style>\n",
       "    .dataframe thead tr:only-child th {\n",
       "        text-align: right;\n",
       "    }\n",
       "\n",
       "    .dataframe thead th {\n",
       "        text-align: left;\n",
       "    }\n",
       "\n",
       "    .dataframe tbody tr th {\n",
       "        vertical-align: top;\n",
       "    }\n",
       "</style>\n",
       "<table border=\"1\" class=\"dataframe\">\n",
       "  <thead>\n",
       "    <tr style=\"text-align: right;\">\n",
       "      <th></th>\n",
       "      <th>dailyreturn_x</th>\n",
       "      <th>dailyreturn_y</th>\n",
       "    </tr>\n",
       "  </thead>\n",
       "  <tbody>\n",
       "    <tr>\n",
       "      <th>dailyreturn_x</th>\n",
       "      <td>1.000000</td>\n",
       "      <td>0.326827</td>\n",
       "    </tr>\n",
       "    <tr>\n",
       "      <th>dailyreturn_y</th>\n",
       "      <td>0.326827</td>\n",
       "      <td>1.000000</td>\n",
       "    </tr>\n",
       "  </tbody>\n",
       "</table>\n",
       "</div>"
      ],
      "text/plain": [
       "               dailyreturn_x  dailyreturn_y\n",
       "dailyreturn_x       1.000000       0.326827\n",
       "dailyreturn_y       0.326827       1.000000"
      ]
     },
     "execution_count": 77,
     "metadata": {},
     "output_type": "execute_result"
    }
   ],
   "source": [
    "both[['dailyreturn_x','dailyreturn_y']].corr()"
   ]
  },
  {
   "cell_type": "code",
   "execution_count": null,
   "metadata": {
    "collapsed": true
   },
   "outputs": [],
   "source": []
  },
  {
   "cell_type": "code",
   "execution_count": 79,
   "metadata": {},
   "outputs": [
    {
     "data": {
      "text/html": [
       "<div>\n",
       "<style>\n",
       "    .dataframe thead tr:only-child th {\n",
       "        text-align: right;\n",
       "    }\n",
       "\n",
       "    .dataframe thead th {\n",
       "        text-align: left;\n",
       "    }\n",
       "\n",
       "    .dataframe tbody tr th {\n",
       "        vertical-align: top;\n",
       "    }\n",
       "</style>\n",
       "<table border=\"1\" class=\"dataframe\">\n",
       "  <thead>\n",
       "    <tr style=\"text-align: right;\">\n",
       "      <th></th>\n",
       "      <th>date</th>\n",
       "      <th>name</th>\n",
       "      <th>isin</th>\n",
       "      <th>exchange</th>\n",
       "      <th>currency</th>\n",
       "      <th>open</th>\n",
       "      <th>high</th>\n",
       "      <th>low</th>\n",
       "      <th>close</th>\n",
       "      <th>volume</th>\n",
       "      <th>dailyreturn</th>\n",
       "    </tr>\n",
       "  </thead>\n",
       "  <tbody>\n",
       "    <tr>\n",
       "      <th>0</th>\n",
       "      <td>2008-03-19</td>\n",
       "      <td>VISA INC. CL. A DL -,0001</td>\n",
       "      <td>US92826C8394</td>\n",
       "      <td>Y V</td>\n",
       "      <td>USD</td>\n",
       "      <td>14.875000</td>\n",
       "      <td>17.250000</td>\n",
       "      <td>13.750000</td>\n",
       "      <td>14.125000</td>\n",
       "      <td>708486000.0</td>\n",
       "      <td>0.138938</td>\n",
       "    </tr>\n",
       "    <tr>\n",
       "      <th>1</th>\n",
       "      <td>2008-03-20</td>\n",
       "      <td>VISA INC. CL. A DL -,0001</td>\n",
       "      <td>US92826C8394</td>\n",
       "      <td>Y V</td>\n",
       "      <td>USD</td>\n",
       "      <td>14.600000</td>\n",
       "      <td>16.250000</td>\n",
       "      <td>14.375000</td>\n",
       "      <td>16.087500</td>\n",
       "      <td>198985200.0</td>\n",
       "      <td>-0.071795</td>\n",
       "    </tr>\n",
       "    <tr>\n",
       "      <th>2</th>\n",
       "      <td>2008-03-24</td>\n",
       "      <td>VISA INC. CL. A DL -,0001</td>\n",
       "      <td>US92826C8394</td>\n",
       "      <td>Y V</td>\n",
       "      <td>USD</td>\n",
       "      <td>16.809999</td>\n",
       "      <td>16.924999</td>\n",
       "      <td>14.750000</td>\n",
       "      <td>14.932500</td>\n",
       "      <td>149566400.0</td>\n",
       "      <td>0.058932</td>\n",
       "    </tr>\n",
       "    <tr>\n",
       "      <th>3</th>\n",
       "      <td>2008-03-25</td>\n",
       "      <td>VISA INC. CL. A DL -,0001</td>\n",
       "      <td>US92826C8394</td>\n",
       "      <td>Y V</td>\n",
       "      <td>USD</td>\n",
       "      <td>15.145000</td>\n",
       "      <td>16.062500</td>\n",
       "      <td>14.955000</td>\n",
       "      <td>15.812500</td>\n",
       "      <td>87092000.0</td>\n",
       "      <td>0.011225</td>\n",
       "    </tr>\n",
       "    <tr>\n",
       "      <th>4</th>\n",
       "      <td>2008-03-26</td>\n",
       "      <td>VISA INC. CL. A DL -,0001</td>\n",
       "      <td>US92826C8394</td>\n",
       "      <td>Y V</td>\n",
       "      <td>USD</td>\n",
       "      <td>15.682500</td>\n",
       "      <td>16.120001</td>\n",
       "      <td>15.392500</td>\n",
       "      <td>15.990000</td>\n",
       "      <td>43111600.0</td>\n",
       "      <td>-0.016417</td>\n",
       "    </tr>\n",
       "    <tr>\n",
       "      <th>5</th>\n",
       "      <td>2008-03-27</td>\n",
       "      <td>VISA INC. CL. A DL -,0001</td>\n",
       "      <td>US92826C8394</td>\n",
       "      <td>Y V</td>\n",
       "      <td>USD</td>\n",
       "      <td>16.012501</td>\n",
       "      <td>16.184999</td>\n",
       "      <td>15.662500</td>\n",
       "      <td>15.727500</td>\n",
       "      <td>39829600.0</td>\n",
       "      <td>-0.002384</td>\n",
       "    </tr>\n",
       "    <tr>\n",
       "      <th>6</th>\n",
       "      <td>2008-03-28</td>\n",
       "      <td>VISA INC. CL. A DL -,0001</td>\n",
       "      <td>US92826C8394</td>\n",
       "      <td>Y V</td>\n",
       "      <td>USD</td>\n",
       "      <td>15.842500</td>\n",
       "      <td>15.860000</td>\n",
       "      <td>15.540000</td>\n",
       "      <td>15.690000</td>\n",
       "      <td>24675200.0</td>\n",
       "      <td>-0.006373</td>\n",
       "    </tr>\n",
       "    <tr>\n",
       "      <th>7</th>\n",
       "      <td>2008-03-31</td>\n",
       "      <td>VISA INC. CL. A DL -,0001</td>\n",
       "      <td>US92826C8394</td>\n",
       "      <td>Y V</td>\n",
       "      <td>USD</td>\n",
       "      <td>15.650000</td>\n",
       "      <td>15.870000</td>\n",
       "      <td>15.512500</td>\n",
       "      <td>15.590000</td>\n",
       "      <td>22157200.0</td>\n",
       "      <td>-0.012027</td>\n",
       "    </tr>\n",
       "    <tr>\n",
       "      <th>8</th>\n",
       "      <td>2008-04-01</td>\n",
       "      <td>VISA INC. CL. A DL -,0001</td>\n",
       "      <td>US92826C8394</td>\n",
       "      <td>Y V</td>\n",
       "      <td>USD</td>\n",
       "      <td>15.765000</td>\n",
       "      <td>15.920000</td>\n",
       "      <td>15.077500</td>\n",
       "      <td>15.402500</td>\n",
       "      <td>60410800.0</td>\n",
       "      <td>0.011524</td>\n",
       "    </tr>\n",
       "    <tr>\n",
       "      <th>9</th>\n",
       "      <td>2008-04-02</td>\n",
       "      <td>VISA INC. CL. A DL -,0001</td>\n",
       "      <td>US92826C8394</td>\n",
       "      <td>Y V</td>\n",
       "      <td>USD</td>\n",
       "      <td>15.430000</td>\n",
       "      <td>15.580000</td>\n",
       "      <td>15.125000</td>\n",
       "      <td>15.580000</td>\n",
       "      <td>43836400.0</td>\n",
       "      <td>0.051027</td>\n",
       "    </tr>\n",
       "    <tr>\n",
       "      <th>10</th>\n",
       "      <td>2008-04-03</td>\n",
       "      <td>VISA INC. CL. A DL -,0001</td>\n",
       "      <td>US92826C8394</td>\n",
       "      <td>Y V</td>\n",
       "      <td>USD</td>\n",
       "      <td>15.487500</td>\n",
       "      <td>16.572500</td>\n",
       "      <td>15.455000</td>\n",
       "      <td>16.375000</td>\n",
       "      <td>100868000.0</td>\n",
       "      <td>-0.015572</td>\n",
       "    </tr>\n",
       "    <tr>\n",
       "      <th>11</th>\n",
       "      <td>2008-04-04</td>\n",
       "      <td>VISA INC. CL. A DL -,0001</td>\n",
       "      <td>US92826C8394</td>\n",
       "      <td>Y V</td>\n",
       "      <td>USD</td>\n",
       "      <td>16.225000</td>\n",
       "      <td>16.330000</td>\n",
       "      <td>15.937500</td>\n",
       "      <td>16.120001</td>\n",
       "      <td>36394400.0</td>\n",
       "      <td>0.008685</td>\n",
       "    </tr>\n",
       "    <tr>\n",
       "      <th>12</th>\n",
       "      <td>2008-04-07</td>\n",
       "      <td>VISA INC. CL. A DL -,0001</td>\n",
       "      <td>US92826C8394</td>\n",
       "      <td>Y V</td>\n",
       "      <td>USD</td>\n",
       "      <td>16.275000</td>\n",
       "      <td>16.450001</td>\n",
       "      <td>16.004999</td>\n",
       "      <td>16.260000</td>\n",
       "      <td>28301600.0</td>\n",
       "      <td>0.046894</td>\n",
       "    </tr>\n",
       "    <tr>\n",
       "      <th>13</th>\n",
       "      <td>2008-04-08</td>\n",
       "      <td>VISA INC. CL. A DL -,0001</td>\n",
       "      <td>US92826C8394</td>\n",
       "      <td>Y V</td>\n",
       "      <td>USD</td>\n",
       "      <td>16.225000</td>\n",
       "      <td>17.059999</td>\n",
       "      <td>16.202499</td>\n",
       "      <td>17.022499</td>\n",
       "      <td>53925600.0</td>\n",
       "      <td>-0.033779</td>\n",
       "    </tr>\n",
       "    <tr>\n",
       "      <th>14</th>\n",
       "      <td>2008-04-09</td>\n",
       "      <td>VISA INC. CL. A DL -,0001</td>\n",
       "      <td>US92826C8394</td>\n",
       "      <td>Y V</td>\n",
       "      <td>USD</td>\n",
       "      <td>17.110001</td>\n",
       "      <td>17.180000</td>\n",
       "      <td>16.402500</td>\n",
       "      <td>16.447500</td>\n",
       "      <td>48324400.0</td>\n",
       "      <td>0.004864</td>\n",
       "    </tr>\n",
       "    <tr>\n",
       "      <th>15</th>\n",
       "      <td>2008-04-10</td>\n",
       "      <td>VISA INC. CL. A DL -,0001</td>\n",
       "      <td>US92826C8394</td>\n",
       "      <td>Y V</td>\n",
       "      <td>USD</td>\n",
       "      <td>16.540001</td>\n",
       "      <td>16.682501</td>\n",
       "      <td>16.277500</td>\n",
       "      <td>16.527500</td>\n",
       "      <td>22372000.0</td>\n",
       "      <td>0.000000</td>\n",
       "    </tr>\n",
       "    <tr>\n",
       "      <th>16</th>\n",
       "      <td>2008-04-11</td>\n",
       "      <td>VISA INC. CL. A DL -,0001</td>\n",
       "      <td>US92826C8394</td>\n",
       "      <td>Y V</td>\n",
       "      <td>USD</td>\n",
       "      <td>16.312500</td>\n",
       "      <td>16.692499</td>\n",
       "      <td>16.312500</td>\n",
       "      <td>16.527500</td>\n",
       "      <td>26421600.0</td>\n",
       "      <td>-0.006504</td>\n",
       "    </tr>\n",
       "    <tr>\n",
       "      <th>17</th>\n",
       "      <td>2008-04-14</td>\n",
       "      <td>VISA INC. CL. A DL -,0001</td>\n",
       "      <td>US92826C8394</td>\n",
       "      <td>Y V</td>\n",
       "      <td>USD</td>\n",
       "      <td>16.674999</td>\n",
       "      <td>16.809999</td>\n",
       "      <td>16.382500</td>\n",
       "      <td>16.420000</td>\n",
       "      <td>28443600.0</td>\n",
       "      <td>-0.020250</td>\n",
       "    </tr>\n",
       "    <tr>\n",
       "      <th>18</th>\n",
       "      <td>2008-04-15</td>\n",
       "      <td>VISA INC. CL. A DL -,0001</td>\n",
       "      <td>US92826C8394</td>\n",
       "      <td>Y V</td>\n",
       "      <td>USD</td>\n",
       "      <td>16.572500</td>\n",
       "      <td>16.637501</td>\n",
       "      <td>16.000000</td>\n",
       "      <td>16.087500</td>\n",
       "      <td>23888000.0</td>\n",
       "      <td>0.027817</td>\n",
       "    </tr>\n",
       "    <tr>\n",
       "      <th>19</th>\n",
       "      <td>2008-04-16</td>\n",
       "      <td>VISA INC. CL. A DL -,0001</td>\n",
       "      <td>US92826C8394</td>\n",
       "      <td>Y V</td>\n",
       "      <td>USD</td>\n",
       "      <td>16.139999</td>\n",
       "      <td>16.737499</td>\n",
       "      <td>16.139999</td>\n",
       "      <td>16.535000</td>\n",
       "      <td>25136800.0</td>\n",
       "      <td>0.013607</td>\n",
       "    </tr>\n",
       "    <tr>\n",
       "      <th>20</th>\n",
       "      <td>2008-04-17</td>\n",
       "      <td>VISA INC. CL. A DL -,0001</td>\n",
       "      <td>US92826C8394</td>\n",
       "      <td>Y V</td>\n",
       "      <td>USD</td>\n",
       "      <td>16.565001</td>\n",
       "      <td>16.937500</td>\n",
       "      <td>16.502501</td>\n",
       "      <td>16.760000</td>\n",
       "      <td>22459600.0</td>\n",
       "      <td>0.029236</td>\n",
       "    </tr>\n",
       "    <tr>\n",
       "      <th>21</th>\n",
       "      <td>2008-04-18</td>\n",
       "      <td>VISA INC. CL. A DL -,0001</td>\n",
       "      <td>US92826C8394</td>\n",
       "      <td>Y V</td>\n",
       "      <td>USD</td>\n",
       "      <td>17.002501</td>\n",
       "      <td>17.612499</td>\n",
       "      <td>16.799999</td>\n",
       "      <td>17.250000</td>\n",
       "      <td>104099600.0</td>\n",
       "      <td>0.028551</td>\n",
       "    </tr>\n",
       "    <tr>\n",
       "      <th>22</th>\n",
       "      <td>2008-04-21</td>\n",
       "      <td>VISA INC. CL. A DL -,0001</td>\n",
       "      <td>US92826C8394</td>\n",
       "      <td>Y V</td>\n",
       "      <td>USD</td>\n",
       "      <td>17.370001</td>\n",
       "      <td>18.125000</td>\n",
       "      <td>17.212500</td>\n",
       "      <td>17.742500</td>\n",
       "      <td>58848000.0</td>\n",
       "      <td>-0.009722</td>\n",
       "    </tr>\n",
       "    <tr>\n",
       "      <th>23</th>\n",
       "      <td>2008-04-22</td>\n",
       "      <td>VISA INC. CL. A DL -,0001</td>\n",
       "      <td>US92826C8394</td>\n",
       "      <td>Y V</td>\n",
       "      <td>USD</td>\n",
       "      <td>17.980000</td>\n",
       "      <td>18.100000</td>\n",
       "      <td>17.500000</td>\n",
       "      <td>17.570000</td>\n",
       "      <td>47357600.0</td>\n",
       "      <td>-0.002846</td>\n",
       "    </tr>\n",
       "    <tr>\n",
       "      <th>24</th>\n",
       "      <td>2008-04-23</td>\n",
       "      <td>VISA INC. CL. A DL -,0001</td>\n",
       "      <td>US92826C8394</td>\n",
       "      <td>Y V</td>\n",
       "      <td>USD</td>\n",
       "      <td>17.737499</td>\n",
       "      <td>17.924999</td>\n",
       "      <td>17.422501</td>\n",
       "      <td>17.520000</td>\n",
       "      <td>37319600.0</td>\n",
       "      <td>0.031678</td>\n",
       "    </tr>\n",
       "    <tr>\n",
       "      <th>25</th>\n",
       "      <td>2008-04-24</td>\n",
       "      <td>VISA INC. CL. A DL -,0001</td>\n",
       "      <td>US92826C8394</td>\n",
       "      <td>Y V</td>\n",
       "      <td>USD</td>\n",
       "      <td>17.799999</td>\n",
       "      <td>18.247499</td>\n",
       "      <td>17.510000</td>\n",
       "      <td>18.075001</td>\n",
       "      <td>38086800.0</td>\n",
       "      <td>0.038727</td>\n",
       "    </tr>\n",
       "    <tr>\n",
       "      <th>26</th>\n",
       "      <td>2008-04-25</td>\n",
       "      <td>VISA INC. CL. A DL -,0001</td>\n",
       "      <td>US92826C8394</td>\n",
       "      <td>Y V</td>\n",
       "      <td>USD</td>\n",
       "      <td>19.000000</td>\n",
       "      <td>19.020000</td>\n",
       "      <td>18.477501</td>\n",
       "      <td>18.775000</td>\n",
       "      <td>101460000.0</td>\n",
       "      <td>0.007057</td>\n",
       "    </tr>\n",
       "    <tr>\n",
       "      <th>27</th>\n",
       "      <td>2008-04-28</td>\n",
       "      <td>VISA INC. CL. A DL -,0001</td>\n",
       "      <td>US92826C8394</td>\n",
       "      <td>Y V</td>\n",
       "      <td>USD</td>\n",
       "      <td>19.125000</td>\n",
       "      <td>19.322500</td>\n",
       "      <td>18.725000</td>\n",
       "      <td>18.907499</td>\n",
       "      <td>132517200.0</td>\n",
       "      <td>0.069417</td>\n",
       "    </tr>\n",
       "    <tr>\n",
       "      <th>28</th>\n",
       "      <td>2008-04-29</td>\n",
       "      <td>VISA INC. CL. A DL -,0001</td>\n",
       "      <td>US92826C8394</td>\n",
       "      <td>Y V</td>\n",
       "      <td>USD</td>\n",
       "      <td>18.537500</td>\n",
       "      <td>20.219999</td>\n",
       "      <td>17.750000</td>\n",
       "      <td>20.219999</td>\n",
       "      <td>197308400.0</td>\n",
       "      <td>0.031775</td>\n",
       "    </tr>\n",
       "    <tr>\n",
       "      <th>29</th>\n",
       "      <td>2008-04-30</td>\n",
       "      <td>VISA INC. CL. A DL -,0001</td>\n",
       "      <td>US92826C8394</td>\n",
       "      <td>Y V</td>\n",
       "      <td>USD</td>\n",
       "      <td>20.350000</td>\n",
       "      <td>21.202499</td>\n",
       "      <td>20.267500</td>\n",
       "      <td>20.862499</td>\n",
       "      <td>147543600.0</td>\n",
       "      <td>0.023367</td>\n",
       "    </tr>\n",
       "    <tr>\n",
       "      <th>...</th>\n",
       "      <td>...</td>\n",
       "      <td>...</td>\n",
       "      <td>...</td>\n",
       "      <td>...</td>\n",
       "      <td>...</td>\n",
       "      <td>...</td>\n",
       "      <td>...</td>\n",
       "      <td>...</td>\n",
       "      <td>...</td>\n",
       "      <td>...</td>\n",
       "      <td>...</td>\n",
       "    </tr>\n",
       "    <tr>\n",
       "      <th>2448</th>\n",
       "      <td>2017-12-06</td>\n",
       "      <td>VISA INC. CL. A DL -,0001</td>\n",
       "      <td>US92826C8394</td>\n",
       "      <td>Y V</td>\n",
       "      <td>USD</td>\n",
       "      <td>108.489998</td>\n",
       "      <td>110.169998</td>\n",
       "      <td>108.260002</td>\n",
       "      <td>109.739998</td>\n",
       "      <td>7532100.0</td>\n",
       "      <td>0.015127</td>\n",
       "    </tr>\n",
       "    <tr>\n",
       "      <th>2449</th>\n",
       "      <td>2017-12-07</td>\n",
       "      <td>VISA INC. CL. A DL -,0001</td>\n",
       "      <td>US92826C8394</td>\n",
       "      <td>Y V</td>\n",
       "      <td>USD</td>\n",
       "      <td>109.769997</td>\n",
       "      <td>111.410004</td>\n",
       "      <td>109.449997</td>\n",
       "      <td>111.400002</td>\n",
       "      <td>7384900.0</td>\n",
       "      <td>0.010772</td>\n",
       "    </tr>\n",
       "    <tr>\n",
       "      <th>2450</th>\n",
       "      <td>2017-12-08</td>\n",
       "      <td>VISA INC. CL. A DL -,0001</td>\n",
       "      <td>US92826C8394</td>\n",
       "      <td>Y V</td>\n",
       "      <td>USD</td>\n",
       "      <td>112.129997</td>\n",
       "      <td>112.610001</td>\n",
       "      <td>111.820000</td>\n",
       "      <td>112.599998</td>\n",
       "      <td>7594900.0</td>\n",
       "      <td>-0.002043</td>\n",
       "    </tr>\n",
       "    <tr>\n",
       "      <th>2451</th>\n",
       "      <td>2017-12-11</td>\n",
       "      <td>VISA INC. CL. A DL -,0001</td>\n",
       "      <td>US92826C8394</td>\n",
       "      <td>Y V</td>\n",
       "      <td>USD</td>\n",
       "      <td>112.500000</td>\n",
       "      <td>113.349998</td>\n",
       "      <td>112.160004</td>\n",
       "      <td>112.370003</td>\n",
       "      <td>7538600.0</td>\n",
       "      <td>0.009700</td>\n",
       "    </tr>\n",
       "    <tr>\n",
       "      <th>2452</th>\n",
       "      <td>2017-12-12</td>\n",
       "      <td>VISA INC. CL. A DL -,0001</td>\n",
       "      <td>US92826C8394</td>\n",
       "      <td>Y V</td>\n",
       "      <td>USD</td>\n",
       "      <td>112.370003</td>\n",
       "      <td>113.730003</td>\n",
       "      <td>112.000000</td>\n",
       "      <td>113.459999</td>\n",
       "      <td>8703400.0</td>\n",
       "      <td>-0.001322</td>\n",
       "    </tr>\n",
       "    <tr>\n",
       "      <th>2453</th>\n",
       "      <td>2017-12-13</td>\n",
       "      <td>VISA INC. CL. A DL -,0001</td>\n",
       "      <td>US92826C8394</td>\n",
       "      <td>Y V</td>\n",
       "      <td>USD</td>\n",
       "      <td>113.750000</td>\n",
       "      <td>114.370003</td>\n",
       "      <td>113.190002</td>\n",
       "      <td>113.309998</td>\n",
       "      <td>8088900.0</td>\n",
       "      <td>-0.003442</td>\n",
       "    </tr>\n",
       "    <tr>\n",
       "      <th>2454</th>\n",
       "      <td>2017-12-14</td>\n",
       "      <td>VISA INC. CL. A DL -,0001</td>\n",
       "      <td>US92826C8394</td>\n",
       "      <td>Y V</td>\n",
       "      <td>USD</td>\n",
       "      <td>113.550003</td>\n",
       "      <td>114.089996</td>\n",
       "      <td>112.919998</td>\n",
       "      <td>112.919998</td>\n",
       "      <td>9815600.0</td>\n",
       "      <td>0.007970</td>\n",
       "    </tr>\n",
       "    <tr>\n",
       "      <th>2455</th>\n",
       "      <td>2017-12-15</td>\n",
       "      <td>VISA INC. CL. A DL -,0001</td>\n",
       "      <td>US92826C8394</td>\n",
       "      <td>Y V</td>\n",
       "      <td>USD</td>\n",
       "      <td>113.970001</td>\n",
       "      <td>114.199997</td>\n",
       "      <td>112.389999</td>\n",
       "      <td>113.820000</td>\n",
       "      <td>16388000.0</td>\n",
       "      <td>-0.002372</td>\n",
       "    </tr>\n",
       "    <tr>\n",
       "      <th>2456</th>\n",
       "      <td>2017-12-18</td>\n",
       "      <td>VISA INC. CL. A DL -,0001</td>\n",
       "      <td>US92826C8394</td>\n",
       "      <td>Y V</td>\n",
       "      <td>USD</td>\n",
       "      <td>114.690002</td>\n",
       "      <td>114.750000</td>\n",
       "      <td>113.250000</td>\n",
       "      <td>113.550003</td>\n",
       "      <td>8961800.0</td>\n",
       "      <td>-0.012417</td>\n",
       "    </tr>\n",
       "    <tr>\n",
       "      <th>2457</th>\n",
       "      <td>2017-12-19</td>\n",
       "      <td>VISA INC. CL. A DL -,0001</td>\n",
       "      <td>US92826C8394</td>\n",
       "      <td>Y V</td>\n",
       "      <td>USD</td>\n",
       "      <td>113.279999</td>\n",
       "      <td>113.279999</td>\n",
       "      <td>112.080002</td>\n",
       "      <td>112.139999</td>\n",
       "      <td>7899400.0</td>\n",
       "      <td>-0.000178</td>\n",
       "    </tr>\n",
       "    <tr>\n",
       "      <th>2458</th>\n",
       "      <td>2017-12-20</td>\n",
       "      <td>VISA INC. CL. A DL -,0001</td>\n",
       "      <td>US92826C8394</td>\n",
       "      <td>Y V</td>\n",
       "      <td>USD</td>\n",
       "      <td>112.720001</td>\n",
       "      <td>113.099998</td>\n",
       "      <td>111.989998</td>\n",
       "      <td>112.120003</td>\n",
       "      <td>6201900.0</td>\n",
       "      <td>0.002587</td>\n",
       "    </tr>\n",
       "    <tr>\n",
       "      <th>2459</th>\n",
       "      <td>2017-12-21</td>\n",
       "      <td>VISA INC. CL. A DL -,0001</td>\n",
       "      <td>US92826C8394</td>\n",
       "      <td>Y V</td>\n",
       "      <td>USD</td>\n",
       "      <td>112.599998</td>\n",
       "      <td>113.099998</td>\n",
       "      <td>112.320000</td>\n",
       "      <td>112.410004</td>\n",
       "      <td>8866400.0</td>\n",
       "      <td>0.002491</td>\n",
       "    </tr>\n",
       "    <tr>\n",
       "      <th>2460</th>\n",
       "      <td>2017-12-22</td>\n",
       "      <td>VISA INC. CL. A DL -,0001</td>\n",
       "      <td>US92826C8394</td>\n",
       "      <td>Y V</td>\n",
       "      <td>USD</td>\n",
       "      <td>112.389999</td>\n",
       "      <td>113.110001</td>\n",
       "      <td>112.250000</td>\n",
       "      <td>112.690002</td>\n",
       "      <td>6190100.0</td>\n",
       "      <td>0.002662</td>\n",
       "    </tr>\n",
       "    <tr>\n",
       "      <th>2461</th>\n",
       "      <td>2017-12-26</td>\n",
       "      <td>VISA INC. CL. A DL -,0001</td>\n",
       "      <td>US92826C8394</td>\n",
       "      <td>Y V</td>\n",
       "      <td>USD</td>\n",
       "      <td>112.070000</td>\n",
       "      <td>113.440002</td>\n",
       "      <td>112.070000</td>\n",
       "      <td>112.989998</td>\n",
       "      <td>3948900.0</td>\n",
       "      <td>0.009116</td>\n",
       "    </tr>\n",
       "    <tr>\n",
       "      <th>2462</th>\n",
       "      <td>2017-12-27</td>\n",
       "      <td>VISA INC. CL. A DL -,0001</td>\n",
       "      <td>US92826C8394</td>\n",
       "      <td>Y V</td>\n",
       "      <td>USD</td>\n",
       "      <td>112.690002</td>\n",
       "      <td>114.070000</td>\n",
       "      <td>112.650002</td>\n",
       "      <td>114.019997</td>\n",
       "      <td>7073100.0</td>\n",
       "      <td>0.002894</td>\n",
       "    </tr>\n",
       "    <tr>\n",
       "      <th>2463</th>\n",
       "      <td>2017-12-28</td>\n",
       "      <td>VISA INC. CL. A DL -,0001</td>\n",
       "      <td>US92826C8394</td>\n",
       "      <td>Y V</td>\n",
       "      <td>USD</td>\n",
       "      <td>114.300003</td>\n",
       "      <td>114.919998</td>\n",
       "      <td>113.989998</td>\n",
       "      <td>114.349998</td>\n",
       "      <td>6937100.0</td>\n",
       "      <td>-0.002886</td>\n",
       "    </tr>\n",
       "    <tr>\n",
       "      <th>2464</th>\n",
       "      <td>2017-12-29</td>\n",
       "      <td>VISA INC. CL. A DL -,0001</td>\n",
       "      <td>US92826C8394</td>\n",
       "      <td>Y V</td>\n",
       "      <td>USD</td>\n",
       "      <td>114.750000</td>\n",
       "      <td>114.889999</td>\n",
       "      <td>114.019997</td>\n",
       "      <td>114.019997</td>\n",
       "      <td>5249000.0</td>\n",
       "      <td>0.004298</td>\n",
       "    </tr>\n",
       "    <tr>\n",
       "      <th>2465</th>\n",
       "      <td>2018-01-02</td>\n",
       "      <td>VISA INC. CL. A DL -,0001</td>\n",
       "      <td>US92826C8394</td>\n",
       "      <td>Y V</td>\n",
       "      <td>USD</td>\n",
       "      <td>114.570000</td>\n",
       "      <td>115.080002</td>\n",
       "      <td>113.949997</td>\n",
       "      <td>114.510002</td>\n",
       "      <td>6080900.0</td>\n",
       "      <td>0.009955</td>\n",
       "    </tr>\n",
       "    <tr>\n",
       "      <th>2466</th>\n",
       "      <td>2018-01-03</td>\n",
       "      <td>VISA INC. CL. A DL -,0001</td>\n",
       "      <td>US92826C8394</td>\n",
       "      <td>Y V</td>\n",
       "      <td>USD</td>\n",
       "      <td>114.949997</td>\n",
       "      <td>115.790001</td>\n",
       "      <td>114.660004</td>\n",
       "      <td>115.650002</td>\n",
       "      <td>6946100.0</td>\n",
       "      <td>0.003718</td>\n",
       "    </tr>\n",
       "    <tr>\n",
       "      <th>2467</th>\n",
       "      <td>2018-01-04</td>\n",
       "      <td>VISA INC. CL. A DL -,0001</td>\n",
       "      <td>US92826C8394</td>\n",
       "      <td>Y V</td>\n",
       "      <td>USD</td>\n",
       "      <td>116.250000</td>\n",
       "      <td>117.360001</td>\n",
       "      <td>116.029999</td>\n",
       "      <td>116.080002</td>\n",
       "      <td>7805300.0</td>\n",
       "      <td>0.023949</td>\n",
       "    </tr>\n",
       "    <tr>\n",
       "      <th>2468</th>\n",
       "      <td>2018-01-05</td>\n",
       "      <td>VISA INC. CL. A DL -,0001</td>\n",
       "      <td>US92826C8394</td>\n",
       "      <td>Y V</td>\n",
       "      <td>USD</td>\n",
       "      <td>116.989998</td>\n",
       "      <td>119.000000</td>\n",
       "      <td>116.419998</td>\n",
       "      <td>118.860001</td>\n",
       "      <td>8590500.0</td>\n",
       "      <td>0.004038</td>\n",
       "    </tr>\n",
       "    <tr>\n",
       "      <th>2469</th>\n",
       "      <td>2018-01-08</td>\n",
       "      <td>VISA INC. CL. A DL -,0001</td>\n",
       "      <td>US92826C8394</td>\n",
       "      <td>Y V</td>\n",
       "      <td>USD</td>\n",
       "      <td>118.610001</td>\n",
       "      <td>120.480003</td>\n",
       "      <td>118.070000</td>\n",
       "      <td>119.339996</td>\n",
       "      <td>6660700.0</td>\n",
       "      <td>-0.001927</td>\n",
       "    </tr>\n",
       "    <tr>\n",
       "      <th>2470</th>\n",
       "      <td>2018-01-09</td>\n",
       "      <td>VISA INC. CL. A DL -,0001</td>\n",
       "      <td>US92826C8394</td>\n",
       "      <td>Y V</td>\n",
       "      <td>USD</td>\n",
       "      <td>119.970001</td>\n",
       "      <td>119.970001</td>\n",
       "      <td>118.660004</td>\n",
       "      <td>119.110001</td>\n",
       "      <td>6562400.0</td>\n",
       "      <td>-0.001091</td>\n",
       "    </tr>\n",
       "    <tr>\n",
       "      <th>2471</th>\n",
       "      <td>2018-01-10</td>\n",
       "      <td>VISA INC. CL. A DL -,0001</td>\n",
       "      <td>US92826C8394</td>\n",
       "      <td>Y V</td>\n",
       "      <td>USD</td>\n",
       "      <td>118.690002</td>\n",
       "      <td>119.050003</td>\n",
       "      <td>117.459999</td>\n",
       "      <td>118.980003</td>\n",
       "      <td>7490300.0</td>\n",
       "      <td>0.007228</td>\n",
       "    </tr>\n",
       "    <tr>\n",
       "      <th>2472</th>\n",
       "      <td>2018-01-11</td>\n",
       "      <td>VISA INC. CL. A DL -,0001</td>\n",
       "      <td>US92826C8394</td>\n",
       "      <td>Y V</td>\n",
       "      <td>USD</td>\n",
       "      <td>118.800003</td>\n",
       "      <td>119.980003</td>\n",
       "      <td>118.680000</td>\n",
       "      <td>119.839996</td>\n",
       "      <td>5982100.0</td>\n",
       "      <td>0.002086</td>\n",
       "    </tr>\n",
       "    <tr>\n",
       "      <th>2473</th>\n",
       "      <td>2018-01-12</td>\n",
       "      <td>VISA INC. CL. A DL -,0001</td>\n",
       "      <td>US92826C8394</td>\n",
       "      <td>Y V</td>\n",
       "      <td>USD</td>\n",
       "      <td>120.120003</td>\n",
       "      <td>120.349998</td>\n",
       "      <td>119.709999</td>\n",
       "      <td>120.089996</td>\n",
       "      <td>5585800.0</td>\n",
       "      <td>0.002498</td>\n",
       "    </tr>\n",
       "    <tr>\n",
       "      <th>2474</th>\n",
       "      <td>2018-01-16</td>\n",
       "      <td>VISA INC. CL. A DL -,0001</td>\n",
       "      <td>US92826C8394</td>\n",
       "      <td>Y V</td>\n",
       "      <td>USD</td>\n",
       "      <td>121.180000</td>\n",
       "      <td>121.940002</td>\n",
       "      <td>119.910004</td>\n",
       "      <td>120.389999</td>\n",
       "      <td>8803800.0</td>\n",
       "      <td>0.013207</td>\n",
       "    </tr>\n",
       "    <tr>\n",
       "      <th>2475</th>\n",
       "      <td>2018-01-17</td>\n",
       "      <td>VISA INC. CL. A DL -,0001</td>\n",
       "      <td>US92826C8394</td>\n",
       "      <td>Y V</td>\n",
       "      <td>USD</td>\n",
       "      <td>121.199997</td>\n",
       "      <td>122.160004</td>\n",
       "      <td>120.730003</td>\n",
       "      <td>121.980003</td>\n",
       "      <td>7991500.0</td>\n",
       "      <td>0.009264</td>\n",
       "    </tr>\n",
       "    <tr>\n",
       "      <th>2476</th>\n",
       "      <td>2018-01-18</td>\n",
       "      <td>VISA INC. CL. A DL -,0001</td>\n",
       "      <td>US92826C8394</td>\n",
       "      <td>Y V</td>\n",
       "      <td>USD</td>\n",
       "      <td>122.519997</td>\n",
       "      <td>123.199997</td>\n",
       "      <td>122.029999</td>\n",
       "      <td>123.110001</td>\n",
       "      <td>8661000.0</td>\n",
       "      <td>-0.003330</td>\n",
       "    </tr>\n",
       "    <tr>\n",
       "      <th>2477</th>\n",
       "      <td>2018-01-19</td>\n",
       "      <td>VISA INC. CL. A DL -,0001</td>\n",
       "      <td>US92826C8394</td>\n",
       "      <td>Y V</td>\n",
       "      <td>USD</td>\n",
       "      <td>123.050003</td>\n",
       "      <td>123.650002</td>\n",
       "      <td>121.919998</td>\n",
       "      <td>122.699997</td>\n",
       "      <td>8215700.0</td>\n",
       "      <td>NaN</td>\n",
       "    </tr>\n",
       "  </tbody>\n",
       "</table>\n",
       "<p>2478 rows × 11 columns</p>\n",
       "</div>"
      ],
      "text/plain": [
       "            date                       name          isin exchange currency  \\\n",
       "0     2008-03-19  VISA INC. CL. A DL -,0001  US92826C8394      Y V      USD   \n",
       "1     2008-03-20  VISA INC. CL. A DL -,0001  US92826C8394      Y V      USD   \n",
       "2     2008-03-24  VISA INC. CL. A DL -,0001  US92826C8394      Y V      USD   \n",
       "3     2008-03-25  VISA INC. CL. A DL -,0001  US92826C8394      Y V      USD   \n",
       "4     2008-03-26  VISA INC. CL. A DL -,0001  US92826C8394      Y V      USD   \n",
       "5     2008-03-27  VISA INC. CL. A DL -,0001  US92826C8394      Y V      USD   \n",
       "6     2008-03-28  VISA INC. CL. A DL -,0001  US92826C8394      Y V      USD   \n",
       "7     2008-03-31  VISA INC. CL. A DL -,0001  US92826C8394      Y V      USD   \n",
       "8     2008-04-01  VISA INC. CL. A DL -,0001  US92826C8394      Y V      USD   \n",
       "9     2008-04-02  VISA INC. CL. A DL -,0001  US92826C8394      Y V      USD   \n",
       "10    2008-04-03  VISA INC. CL. A DL -,0001  US92826C8394      Y V      USD   \n",
       "11    2008-04-04  VISA INC. CL. A DL -,0001  US92826C8394      Y V      USD   \n",
       "12    2008-04-07  VISA INC. CL. A DL -,0001  US92826C8394      Y V      USD   \n",
       "13    2008-04-08  VISA INC. CL. A DL -,0001  US92826C8394      Y V      USD   \n",
       "14    2008-04-09  VISA INC. CL. A DL -,0001  US92826C8394      Y V      USD   \n",
       "15    2008-04-10  VISA INC. CL. A DL -,0001  US92826C8394      Y V      USD   \n",
       "16    2008-04-11  VISA INC. CL. A DL -,0001  US92826C8394      Y V      USD   \n",
       "17    2008-04-14  VISA INC. CL. A DL -,0001  US92826C8394      Y V      USD   \n",
       "18    2008-04-15  VISA INC. CL. A DL -,0001  US92826C8394      Y V      USD   \n",
       "19    2008-04-16  VISA INC. CL. A DL -,0001  US92826C8394      Y V      USD   \n",
       "20    2008-04-17  VISA INC. CL. A DL -,0001  US92826C8394      Y V      USD   \n",
       "21    2008-04-18  VISA INC. CL. A DL -,0001  US92826C8394      Y V      USD   \n",
       "22    2008-04-21  VISA INC. CL. A DL -,0001  US92826C8394      Y V      USD   \n",
       "23    2008-04-22  VISA INC. CL. A DL -,0001  US92826C8394      Y V      USD   \n",
       "24    2008-04-23  VISA INC. CL. A DL -,0001  US92826C8394      Y V      USD   \n",
       "25    2008-04-24  VISA INC. CL. A DL -,0001  US92826C8394      Y V      USD   \n",
       "26    2008-04-25  VISA INC. CL. A DL -,0001  US92826C8394      Y V      USD   \n",
       "27    2008-04-28  VISA INC. CL. A DL -,0001  US92826C8394      Y V      USD   \n",
       "28    2008-04-29  VISA INC. CL. A DL -,0001  US92826C8394      Y V      USD   \n",
       "29    2008-04-30  VISA INC. CL. A DL -,0001  US92826C8394      Y V      USD   \n",
       "...          ...                        ...           ...      ...      ...   \n",
       "2448  2017-12-06  VISA INC. CL. A DL -,0001  US92826C8394      Y V      USD   \n",
       "2449  2017-12-07  VISA INC. CL. A DL -,0001  US92826C8394      Y V      USD   \n",
       "2450  2017-12-08  VISA INC. CL. A DL -,0001  US92826C8394      Y V      USD   \n",
       "2451  2017-12-11  VISA INC. CL. A DL -,0001  US92826C8394      Y V      USD   \n",
       "2452  2017-12-12  VISA INC. CL. A DL -,0001  US92826C8394      Y V      USD   \n",
       "2453  2017-12-13  VISA INC. CL. A DL -,0001  US92826C8394      Y V      USD   \n",
       "2454  2017-12-14  VISA INC. CL. A DL -,0001  US92826C8394      Y V      USD   \n",
       "2455  2017-12-15  VISA INC. CL. A DL -,0001  US92826C8394      Y V      USD   \n",
       "2456  2017-12-18  VISA INC. CL. A DL -,0001  US92826C8394      Y V      USD   \n",
       "2457  2017-12-19  VISA INC. CL. A DL -,0001  US92826C8394      Y V      USD   \n",
       "2458  2017-12-20  VISA INC. CL. A DL -,0001  US92826C8394      Y V      USD   \n",
       "2459  2017-12-21  VISA INC. CL. A DL -,0001  US92826C8394      Y V      USD   \n",
       "2460  2017-12-22  VISA INC. CL. A DL -,0001  US92826C8394      Y V      USD   \n",
       "2461  2017-12-26  VISA INC. CL. A DL -,0001  US92826C8394      Y V      USD   \n",
       "2462  2017-12-27  VISA INC. CL. A DL -,0001  US92826C8394      Y V      USD   \n",
       "2463  2017-12-28  VISA INC. CL. A DL -,0001  US92826C8394      Y V      USD   \n",
       "2464  2017-12-29  VISA INC. CL. A DL -,0001  US92826C8394      Y V      USD   \n",
       "2465  2018-01-02  VISA INC. CL. A DL -,0001  US92826C8394      Y V      USD   \n",
       "2466  2018-01-03  VISA INC. CL. A DL -,0001  US92826C8394      Y V      USD   \n",
       "2467  2018-01-04  VISA INC. CL. A DL -,0001  US92826C8394      Y V      USD   \n",
       "2468  2018-01-05  VISA INC. CL. A DL -,0001  US92826C8394      Y V      USD   \n",
       "2469  2018-01-08  VISA INC. CL. A DL -,0001  US92826C8394      Y V      USD   \n",
       "2470  2018-01-09  VISA INC. CL. A DL -,0001  US92826C8394      Y V      USD   \n",
       "2471  2018-01-10  VISA INC. CL. A DL -,0001  US92826C8394      Y V      USD   \n",
       "2472  2018-01-11  VISA INC. CL. A DL -,0001  US92826C8394      Y V      USD   \n",
       "2473  2018-01-12  VISA INC. CL. A DL -,0001  US92826C8394      Y V      USD   \n",
       "2474  2018-01-16  VISA INC. CL. A DL -,0001  US92826C8394      Y V      USD   \n",
       "2475  2018-01-17  VISA INC. CL. A DL -,0001  US92826C8394      Y V      USD   \n",
       "2476  2018-01-18  VISA INC. CL. A DL -,0001  US92826C8394      Y V      USD   \n",
       "2477  2018-01-19  VISA INC. CL. A DL -,0001  US92826C8394      Y V      USD   \n",
       "\n",
       "            open        high         low       close       volume  dailyreturn  \n",
       "0      14.875000   17.250000   13.750000   14.125000  708486000.0     0.138938  \n",
       "1      14.600000   16.250000   14.375000   16.087500  198985200.0    -0.071795  \n",
       "2      16.809999   16.924999   14.750000   14.932500  149566400.0     0.058932  \n",
       "3      15.145000   16.062500   14.955000   15.812500   87092000.0     0.011225  \n",
       "4      15.682500   16.120001   15.392500   15.990000   43111600.0    -0.016417  \n",
       "5      16.012501   16.184999   15.662500   15.727500   39829600.0    -0.002384  \n",
       "6      15.842500   15.860000   15.540000   15.690000   24675200.0    -0.006373  \n",
       "7      15.650000   15.870000   15.512500   15.590000   22157200.0    -0.012027  \n",
       "8      15.765000   15.920000   15.077500   15.402500   60410800.0     0.011524  \n",
       "9      15.430000   15.580000   15.125000   15.580000   43836400.0     0.051027  \n",
       "10     15.487500   16.572500   15.455000   16.375000  100868000.0    -0.015572  \n",
       "11     16.225000   16.330000   15.937500   16.120001   36394400.0     0.008685  \n",
       "12     16.275000   16.450001   16.004999   16.260000   28301600.0     0.046894  \n",
       "13     16.225000   17.059999   16.202499   17.022499   53925600.0    -0.033779  \n",
       "14     17.110001   17.180000   16.402500   16.447500   48324400.0     0.004864  \n",
       "15     16.540001   16.682501   16.277500   16.527500   22372000.0     0.000000  \n",
       "16     16.312500   16.692499   16.312500   16.527500   26421600.0    -0.006504  \n",
       "17     16.674999   16.809999   16.382500   16.420000   28443600.0    -0.020250  \n",
       "18     16.572500   16.637501   16.000000   16.087500   23888000.0     0.027817  \n",
       "19     16.139999   16.737499   16.139999   16.535000   25136800.0     0.013607  \n",
       "20     16.565001   16.937500   16.502501   16.760000   22459600.0     0.029236  \n",
       "21     17.002501   17.612499   16.799999   17.250000  104099600.0     0.028551  \n",
       "22     17.370001   18.125000   17.212500   17.742500   58848000.0    -0.009722  \n",
       "23     17.980000   18.100000   17.500000   17.570000   47357600.0    -0.002846  \n",
       "24     17.737499   17.924999   17.422501   17.520000   37319600.0     0.031678  \n",
       "25     17.799999   18.247499   17.510000   18.075001   38086800.0     0.038727  \n",
       "26     19.000000   19.020000   18.477501   18.775000  101460000.0     0.007057  \n",
       "27     19.125000   19.322500   18.725000   18.907499  132517200.0     0.069417  \n",
       "28     18.537500   20.219999   17.750000   20.219999  197308400.0     0.031775  \n",
       "29     20.350000   21.202499   20.267500   20.862499  147543600.0     0.023367  \n",
       "...          ...         ...         ...         ...          ...          ...  \n",
       "2448  108.489998  110.169998  108.260002  109.739998    7532100.0     0.015127  \n",
       "2449  109.769997  111.410004  109.449997  111.400002    7384900.0     0.010772  \n",
       "2450  112.129997  112.610001  111.820000  112.599998    7594900.0    -0.002043  \n",
       "2451  112.500000  113.349998  112.160004  112.370003    7538600.0     0.009700  \n",
       "2452  112.370003  113.730003  112.000000  113.459999    8703400.0    -0.001322  \n",
       "2453  113.750000  114.370003  113.190002  113.309998    8088900.0    -0.003442  \n",
       "2454  113.550003  114.089996  112.919998  112.919998    9815600.0     0.007970  \n",
       "2455  113.970001  114.199997  112.389999  113.820000   16388000.0    -0.002372  \n",
       "2456  114.690002  114.750000  113.250000  113.550003    8961800.0    -0.012417  \n",
       "2457  113.279999  113.279999  112.080002  112.139999    7899400.0    -0.000178  \n",
       "2458  112.720001  113.099998  111.989998  112.120003    6201900.0     0.002587  \n",
       "2459  112.599998  113.099998  112.320000  112.410004    8866400.0     0.002491  \n",
       "2460  112.389999  113.110001  112.250000  112.690002    6190100.0     0.002662  \n",
       "2461  112.070000  113.440002  112.070000  112.989998    3948900.0     0.009116  \n",
       "2462  112.690002  114.070000  112.650002  114.019997    7073100.0     0.002894  \n",
       "2463  114.300003  114.919998  113.989998  114.349998    6937100.0    -0.002886  \n",
       "2464  114.750000  114.889999  114.019997  114.019997    5249000.0     0.004298  \n",
       "2465  114.570000  115.080002  113.949997  114.510002    6080900.0     0.009955  \n",
       "2466  114.949997  115.790001  114.660004  115.650002    6946100.0     0.003718  \n",
       "2467  116.250000  117.360001  116.029999  116.080002    7805300.0     0.023949  \n",
       "2468  116.989998  119.000000  116.419998  118.860001    8590500.0     0.004038  \n",
       "2469  118.610001  120.480003  118.070000  119.339996    6660700.0    -0.001927  \n",
       "2470  119.970001  119.970001  118.660004  119.110001    6562400.0    -0.001091  \n",
       "2471  118.690002  119.050003  117.459999  118.980003    7490300.0     0.007228  \n",
       "2472  118.800003  119.980003  118.680000  119.839996    5982100.0     0.002086  \n",
       "2473  120.120003  120.349998  119.709999  120.089996    5585800.0     0.002498  \n",
       "2474  121.180000  121.940002  119.910004  120.389999    8803800.0     0.013207  \n",
       "2475  121.199997  122.160004  120.730003  121.980003    7991500.0     0.009264  \n",
       "2476  122.519997  123.199997  122.029999  123.110001    8661000.0    -0.003330  \n",
       "2477  123.050003  123.650002  121.919998  122.699997    8215700.0          NaN  \n",
       "\n",
       "[2478 rows x 11 columns]"
      ]
     },
     "execution_count": 79,
     "metadata": {},
     "output_type": "execute_result"
    }
   ],
   "source": [
    "visa.quote"
   ]
  },
  {
   "cell_type": "code",
   "execution_count": null,
   "metadata": {
    "collapsed": true
   },
   "outputs": [],
   "source": []
  },
  {
   "cell_type": "code",
   "execution_count": null,
   "metadata": {
    "collapsed": true
   },
   "outputs": [],
   "source": []
  },
  {
   "cell_type": "code",
   "execution_count": null,
   "metadata": {
    "collapsed": true
   },
   "outputs": [],
   "source": []
  },
  {
   "cell_type": "markdown",
   "metadata": {},
   "source": [
    "# Plotting \n",
    "\n",
    "## Interactive Summary\n",
    "Q-AnT includes a basic plotting algorithm to summarize essential quantities. It can be called using the following function which will load an interactive plot in a new tab."
   ]
  },
  {
   "cell_type": "code",
   "execution_count": 15,
   "metadata": {},
   "outputs": [
    {
     "name": "stdout",
     "output_type": "stream",
     "text": [
      "This is the format of your plot grid:\n",
      "[ (1,1) x1,y1 ]  [ (1,2) x2,y2 ]\n",
      "[ (2,1) x3,y3 ]  [ (2,2) x4,y4 ]\n",
      "[ (3,1) x5,y5 ]  [ (3,2) x6,y6 ]\n",
      "[ (4,1) x7,y7 ]  [ (4,2) x8,y8 ]\n",
      "\n"
     ]
    }
   ],
   "source": [
    "s.interactive_summary()"
   ]
  },
  {
   "cell_type": "markdown",
   "metadata": {},
   "source": [
    "## Basic Plotting"
   ]
  },
  {
   "cell_type": "code",
   "execution_count": 24,
   "metadata": {},
   "outputs": [
    {
     "name": "stdout",
     "output_type": "stream",
     "text": [
      "2017-12-13 15:26:03  DE0005408116  AAREAL BANK AG    |deb|  Switched to new stock: AAREAL BANK AG\n",
      "2017-12-13 15:26:03  DE0005408116  AAREAL BANK AG    |deb|  ISIN & Ticker:         DE0005408116, ARL\n",
      "2017-12-13 15:26:03  DE0005408116  AAREAL BANK AG    |deb|  Reading saved quote\n",
      "2017-12-13 15:26:03  DE0005408116  AAREAL BANK AG    |log|  Found 3993 quotes\n"
     ]
    },
    {
     "data": {
      "image/png": "[encoded data removed]",
      "text/plain": [
       "<matplotlib.figure.Figure at 0x7f557e16c4a8>"
      ]
     },
     "metadata": {},
     "output_type": "display_data"
    }
   ],
   "source": [
    "s.switch_isin('DE0005408116')\n",
    "plt.plot(s.quote['date'], s.quote['close'],'.')\n",
    "plt.xlabel(\"Date\")\n",
    "plt.ylabel(\"Close [EUR]\")\n",
    "plt.xlim(datetime.date(2010, 4, 1), datetime.date.today())\n",
    "plt.show()"
   ]
  },
  {
   "cell_type": "code",
   "execution_count": 30,
   "metadata": {},
   "outputs": [
    {
     "data": {
      "image/png": "[encoded data removed]",
      "text/plain": [
       "<matplotlib.figure.Figure at 0x7f557bcea128>"
      ]
     },
     "metadata": {},
     "output_type": "display_data"
    }
   ],
   "source": [
    "plt.plot(i.quote_saved['^GDAXI']['date'], i.quote_saved['^GDAXI']['close'])\n",
    "plt.xlim(datetime.date(2010, 4, 1), datetime.date.today())\n",
    "\n",
    "plt.show()"
   ]
  },
  {
   "cell_type": "code",
   "execution_count": 77,
   "metadata": {
    "collapsed": true
   },
   "outputs": [],
   "source": [
    "def merge_quotes(quote1, quote2):\n",
    "    '''Returns a dataframe with the merged quotes'''\n",
    "    newdf = pd.merge(quote1, quote2, how='inner',on='date')\n",
    "    newdf = newdf[['date','name_x','name_y','close_x','close_y']]\n",
    "    newdf = newdf.assign(return_x=newdf['close_x'].diff()/newdf['close_x'][1:])\n",
    "    newdf = newdf.assign(return_y=newdf['close_y'].diff()/newdf['close_y'][1:])\n",
    "    return newdf"
   ]
  },
  {
   "cell_type": "code",
   "execution_count": 80,
   "metadata": {},
   "outputs": [
    {
     "data": {
      "text/html": [
       "<div>\n",
       "<style>\n",
       "    .dataframe thead tr:only-child th {\n",
       "        text-align: right;\n",
       "    }\n",
       "\n",
       "    .dataframe thead th {\n",
       "        text-align: left;\n",
       "    }\n",
       "\n",
       "    .dataframe tbody tr th {\n",
       "        vertical-align: top;\n",
       "    }\n",
       "</style>\n",
       "<table border=\"1\" class=\"dataframe\">\n",
       "  <thead>\n",
       "    <tr style=\"text-align: right;\">\n",
       "      <th></th>\n",
       "      <th>date</th>\n",
       "      <th>name_x</th>\n",
       "      <th>name_y</th>\n",
       "      <th>close_x</th>\n",
       "      <th>close_y</th>\n",
       "      <th>return_x</th>\n",
       "      <th>return_y</th>\n",
       "    </tr>\n",
       "  </thead>\n",
       "  <tbody>\n",
       "    <tr>\n",
       "      <th>0</th>\n",
       "      <td>2002-03-21</td>\n",
       "      <td>DAX</td>\n",
       "      <td>AAREAL BANK AG</td>\n",
       "      <td>5348.680176</td>\n",
       "      <td>12.002167</td>\n",
       "      <td>NaN</td>\n",
       "      <td>NaN</td>\n",
       "    </tr>\n",
       "    <tr>\n",
       "      <th>1</th>\n",
       "      <td>2002-03-22</td>\n",
       "      <td>DAX</td>\n",
       "      <td>AAREAL BANK AG</td>\n",
       "      <td>5366.129883</td>\n",
       "      <td>12.291733</td>\n",
       "      <td>0.003252</td>\n",
       "      <td>0.023558</td>\n",
       "    </tr>\n",
       "    <tr>\n",
       "      <th>2</th>\n",
       "      <td>2002-03-25</td>\n",
       "      <td>DAX</td>\n",
       "      <td>AAREAL BANK AG</td>\n",
       "      <td>5317.379883</td>\n",
       "      <td>12.017184</td>\n",
       "      <td>-0.009168</td>\n",
       "      <td>-0.022846</td>\n",
       "    </tr>\n",
       "    <tr>\n",
       "      <th>3</th>\n",
       "      <td>2002-03-26</td>\n",
       "      <td>DAX</td>\n",
       "      <td>AAREAL BANK AG</td>\n",
       "      <td>5390.589844</td>\n",
       "      <td>11.852150</td>\n",
       "      <td>0.013581</td>\n",
       "      <td>-0.013924</td>\n",
       "    </tr>\n",
       "    <tr>\n",
       "      <th>4</th>\n",
       "      <td>2002-03-27</td>\n",
       "      <td>DAX</td>\n",
       "      <td>AAREAL BANK AG</td>\n",
       "      <td>5348.000000</td>\n",
       "      <td>11.927167</td>\n",
       "      <td>-0.007964</td>\n",
       "      <td>0.006290</td>\n",
       "    </tr>\n",
       "  </tbody>\n",
       "</table>\n",
       "</div>"
      ],
      "text/plain": [
       "         date name_x          name_y      close_x    close_y  return_x  \\\n",
       "0  2002-03-21    DAX  AAREAL BANK AG  5348.680176  12.002167       NaN   \n",
       "1  2002-03-22    DAX  AAREAL BANK AG  5366.129883  12.291733  0.003252   \n",
       "2  2002-03-25    DAX  AAREAL BANK AG  5317.379883  12.017184 -0.009168   \n",
       "3  2002-03-26    DAX  AAREAL BANK AG  5390.589844  11.852150  0.013581   \n",
       "4  2002-03-27    DAX  AAREAL BANK AG  5348.000000  11.927167 -0.007964   \n",
       "\n",
       "   return_y  \n",
       "0       NaN  \n",
       "1  0.023558  \n",
       "2 -0.022846  \n",
       "3 -0.013924  \n",
       "4  0.006290  "
      ]
     },
     "execution_count": 80,
     "metadata": {},
     "output_type": "execute_result"
    }
   ],
   "source": [
    "newdf = merge_quotes(i.quote_saved['^GDAXI'], s.quote)\n",
    "# newdf = newdf.head()\n",
    "newdf.head()"
   ]
  },
  {
   "cell_type": "code",
   "execution_count": null,
   "metadata": {
    "collapsed": true
   },
   "outputs": [],
   "source": []
  },
  {
   "cell_type": "code",
   "execution_count": null,
   "metadata": {
    "collapsed": true
   },
   "outputs": [],
   "source": []
  },
  {
   "cell_type": "code",
   "execution_count": 83,
   "metadata": {},
   "outputs": [
    {
     "data": {
      "image/png": "[encoded data removed]",
      "text/plain": [
       "<matplotlib.figure.Figure at 0x7f557b49ab70>"
      ]
     },
     "metadata": {},
     "output_type": "display_data"
    }
   ],
   "source": []
  },
  {
   "cell_type": "code",
   "execution_count": 86,
   "metadata": {},
   "outputs": [
    {
     "data": {
      "text/html": [
       "<div>\n",
       "<style>\n",
       "    .dataframe thead tr:only-child th {\n",
       "        text-align: right;\n",
       "    }\n",
       "\n",
       "    .dataframe thead th {\n",
       "        text-align: left;\n",
       "    }\n",
       "\n",
       "    .dataframe tbody tr th {\n",
       "        vertical-align: top;\n",
       "    }\n",
       "</style>\n",
       "<table border=\"1\" class=\"dataframe\">\n",
       "  <thead>\n",
       "    <tr style=\"text-align: right;\">\n",
       "      <th></th>\n",
       "      <th>return_x</th>\n",
       "      <th>return_y</th>\n",
       "    </tr>\n",
       "  </thead>\n",
       "  <tbody>\n",
       "    <tr>\n",
       "      <th>return_x</th>\n",
       "      <td>1.000000</td>\n",
       "      <td>0.519849</td>\n",
       "    </tr>\n",
       "    <tr>\n",
       "      <th>return_y</th>\n",
       "      <td>0.519849</td>\n",
       "      <td>1.000000</td>\n",
       "    </tr>\n",
       "  </tbody>\n",
       "</table>\n",
       "</div>"
      ],
      "text/plain": [
       "          return_x  return_y\n",
       "return_x  1.000000  0.519849\n",
       "return_y  0.519849  1.000000"
      ]
     },
     "execution_count": 86,
     "metadata": {},
     "output_type": "execute_result"
    }
   ],
   "source": [
    "newdf[['return_x','return_y']].corr()"
   ]
  },
  {
   "cell_type": "code",
   "execution_count": 192,
   "metadata": {
    "collapsed": true
   },
   "outputs": [],
   "source": [
    "def _assign_colnames(df):\n",
    "    name = df['name'][0][0:6]\n",
    "    df   = df[['date','close']]    \n",
    "    df   = df.assign(dailyreturn=df['close'].diff()/df['close'][1:])\n",
    "    df.columns = ['date','{0}'.format(name), 'return_{0}'.format(name)]    \n",
    "    return df\n",
    "\n",
    "def merge_quotes(*args):\n",
    "    '''Merge multiple quote dataframes to allow studies of correlation'''\n",
    "    newdf = _assign_colnames(args[0])\n",
    "    for k in range(1,len(args)):\n",
    "        dftoadd = _assign_colnames(args[k])\n",
    "        newdf = pd.merge(newdf, dftoadd, how='inner',on='date')\n",
    "    return newdf"
   ]
  },
  {
   "cell_type": "code",
   "execution_count": 193,
   "metadata": {
    "collapsed": true
   },
   "outputs": [],
   "source": [
    "df = merge_quotes(i.quote_saved['^GDAXI'], s.quote, t.quote)"
   ]
  },
  {
   "cell_type": "code",
   "execution_count": 194,
   "metadata": {},
   "outputs": [
    {
     "data": {
      "text/html": [
       "<div>\n",
       "<style>\n",
       "    .dataframe thead tr:only-child th {\n",
       "        text-align: right;\n",
       "    }\n",
       "\n",
       "    .dataframe thead th {\n",
       "        text-align: left;\n",
       "    }\n",
       "\n",
       "    .dataframe tbody tr th {\n",
       "        vertical-align: top;\n",
       "    }\n",
       "</style>\n",
       "<table border=\"1\" class=\"dataframe\">\n",
       "  <thead>\n",
       "    <tr style=\"text-align: right;\">\n",
       "      <th></th>\n",
       "      <th>DAX</th>\n",
       "      <th>return_DAX</th>\n",
       "      <th>AAREAL</th>\n",
       "      <th>return_AAREAL</th>\n",
       "      <th>MUENCH</th>\n",
       "      <th>return_MUENCH</th>\n",
       "    </tr>\n",
       "  </thead>\n",
       "  <tbody>\n",
       "    <tr>\n",
       "      <th>DAX</th>\n",
       "      <td>1.000000</td>\n",
       "      <td>0.027833</td>\n",
       "      <td>0.928955</td>\n",
       "      <td>0.014491</td>\n",
       "      <td>0.691363</td>\n",
       "      <td>0.037104</td>\n",
       "    </tr>\n",
       "    <tr>\n",
       "      <th>return_DAX</th>\n",
       "      <td>0.027833</td>\n",
       "      <td>1.000000</td>\n",
       "      <td>0.029771</td>\n",
       "      <td>0.518904</td>\n",
       "      <td>0.005662</td>\n",
       "      <td>0.740693</td>\n",
       "    </tr>\n",
       "    <tr>\n",
       "      <th>AAREAL</th>\n",
       "      <td>0.928955</td>\n",
       "      <td>0.029771</td>\n",
       "      <td>1.000000</td>\n",
       "      <td>0.032601</td>\n",
       "      <td>0.656505</td>\n",
       "      <td>0.030413</td>\n",
       "    </tr>\n",
       "    <tr>\n",
       "      <th>return_AAREAL</th>\n",
       "      <td>0.014491</td>\n",
       "      <td>0.518904</td>\n",
       "      <td>0.032601</td>\n",
       "      <td>1.000000</td>\n",
       "      <td>0.001516</td>\n",
       "      <td>0.388952</td>\n",
       "    </tr>\n",
       "    <tr>\n",
       "      <th>MUENCH</th>\n",
       "      <td>0.691363</td>\n",
       "      <td>0.005662</td>\n",
       "      <td>0.656505</td>\n",
       "      <td>0.001516</td>\n",
       "      <td>1.000000</td>\n",
       "      <td>0.019396</td>\n",
       "    </tr>\n",
       "    <tr>\n",
       "      <th>return_MUENCH</th>\n",
       "      <td>0.037104</td>\n",
       "      <td>0.740693</td>\n",
       "      <td>0.030413</td>\n",
       "      <td>0.388952</td>\n",
       "      <td>0.019396</td>\n",
       "      <td>1.000000</td>\n",
       "    </tr>\n",
       "  </tbody>\n",
       "</table>\n",
       "</div>"
      ],
      "text/plain": [
       "                    DAX  return_DAX    AAREAL  return_AAREAL    MUENCH  \\\n",
       "DAX            1.000000    0.027833  0.928955       0.014491  0.691363   \n",
       "return_DAX     0.027833    1.000000  0.029771       0.518904  0.005662   \n",
       "AAREAL         0.928955    0.029771  1.000000       0.032601  0.656505   \n",
       "return_AAREAL  0.014491    0.518904  0.032601       1.000000  0.001516   \n",
       "MUENCH         0.691363    0.005662  0.656505       0.001516  1.000000   \n",
       "return_MUENCH  0.037104    0.740693  0.030413       0.388952  0.019396   \n",
       "\n",
       "               return_MUENCH  \n",
       "DAX                 0.037104  \n",
       "return_DAX          0.740693  \n",
       "AAREAL              0.030413  \n",
       "return_AAREAL       0.388952  \n",
       "MUENCH              0.019396  \n",
       "return_MUENCH       1.000000  "
      ]
     },
     "execution_count": 194,
     "metadata": {},
     "output_type": "execute_result"
    }
   ],
   "source": [
    "df.corr()"
   ]
  },
  {
   "cell_type": "code",
   "execution_count": 199,
   "metadata": {},
   "outputs": [
    {
     "data": {
      "image/png": "[encoded data removed]",
      "text/plain": [
       "<matplotlib.figure.Figure at 0x7f557a837b70>"
      ]
     },
     "metadata": {},
     "output_type": "display_data"
    }
   ],
   "source": [
    "plt.hist((df['return_AAREAL']-df['return_DAX'])[1:],bins=100)\n",
    "plt.show()"
   ]
  },
  {
   "cell_type": "code",
   "execution_count": 202,
   "metadata": {},
   "outputs": [
    {
     "data": {
      "image/png": "[encoded data removed]",
      "text/plain": [
       "<matplotlib.figure.Figure at 0x7f557dfc1f98>"
      ]
     },
     "metadata": {},
     "output_type": "display_data"
    }
   ],
   "source": [
    "plt.plot(df['return_AAREAL']-df['return_DAX'], df['return_MUENCH']-df['return_DAX'],'o')\n",
    "plt.xlabel(\"Outperformance AAREAL\")\n",
    "plt.ylabel(\"Outperformance MUNICH RE\")\n",
    "plt.show()"
   ]
  },
  {
   "cell_type": "code",
   "execution_count": 206,
   "metadata": {},
   "outputs": [
    {
     "data": {
      "image/png": "[encoded data removed]",
      "text/plain": [
       "<matplotlib.figure.Figure at 0x7f557d20a668>"
      ]
     },
     "metadata": {},
     "output_type": "display_data"
    }
   ],
   "source": [
    "plt.hist(np.diff(df['return_AAREAL']-df['return_DAX'])[1:],bins=100)\n",
    "plt.show()"
   ]
  },
  {
   "cell_type": "code",
   "execution_count": null,
   "metadata": {
    "collapsed": true
   },
   "outputs": [],
   "source": []
  },
  {
   "cell_type": "code",
   "execution_count": null,
   "metadata": {
    "collapsed": true
   },
   "outputs": [],
   "source": []
  },
  {
   "cell_type": "code",
   "execution_count": null,
   "metadata": {
    "collapsed": true
   },
   "outputs": [],
   "source": []
  },
  {
   "cell_type": "code",
   "execution_count": null,
   "metadata": {
    "collapsed": true
   },
   "outputs": [],
   "source": []
  },
  {
   "cell_type": "code",
   "execution_count": 96,
   "metadata": {},
   "outputs": [
    {
     "name": "stdout",
     "output_type": "stream",
     "text": [
      "2017-12-13 16:23:27  DE0008430026  MUENCH.RUECKVERS. |log|  Found 4958 quotes\n",
      "2017-12-13 16:23:28  DE0008430026  MUENCH.RUECKVERS. |log|  Found 4958 quotes\n"
     ]
    }
   ],
   "source": [
    "t = stock(verbose=True, isin='DE0008430026')"
   ]
  },
  {
   "cell_type": "code",
   "execution_count": null,
   "metadata": {
    "collapsed": true
   },
   "outputs": [],
   "source": []
  },
  {
   "cell_type": "code",
   "execution_count": null,
   "metadata": {
    "collapsed": true
   },
   "outputs": [],
   "source": []
  },
  {
   "cell_type": "code",
   "execution_count": null,
   "metadata": {
    "collapsed": true
   },
   "outputs": [],
   "source": []
  },
  {
   "cell_type": "code",
   "execution_count": null,
   "metadata": {
    "collapsed": true
   },
   "outputs": [],
   "source": []
  },
  {
   "cell_type": "code",
   "execution_count": null,
   "metadata": {
    "collapsed": true
   },
   "outputs": [],
   "source": []
  },
  {
   "cell_type": "markdown",
   "metadata": {},
   "source": [
    "# Logging\n",
    "\n",
    "The stock and index classes save every generated output to the logging databases stored in the files\n",
    "\n",
    "    output/algo.log\n",
    "    output/algo.err"
   ]
  },
  {
   "cell_type": "code",
   "execution_count": null,
   "metadata": {
    "collapsed": true
   },
   "outputs": [],
   "source": []
  }
 ],
 "metadata": {
  "kernelspec": {
   "display_name": "Python 3",
   "language": "python",
   "name": "python3"
  },
  "language_info": {
   "codemirror_mode": {
    "name": "ipython",
    "version": 3
   },
   "file_extension": ".py",
   "mimetype": "text/x-python",
   "name": "python",
   "nbconvert_exporter": "python",
   "pygments_lexer": "ipython3",
   "version": "3.6.3"
  }
 },
 "nbformat": 4,
 "nbformat_minor": 2
}
