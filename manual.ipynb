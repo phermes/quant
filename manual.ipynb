{
 "cells": [
  {
   "cell_type": "markdown",
   "metadata": {},
   "source": [
    "# Q-AnT Manual\n",
    "\n",
    "Quantitative Analysis Trading (Q-AnT) is a platform to gather and manage information about corporate shares.\n",
    "\n",
    "This document explains the most important steps in the usage of Q-Ant. It includes the basic commands to perform operation, run the classification algorithm and download input data."
   ]
  },
  {
   "cell_type": "markdown",
   "metadata": {},
   "source": [
    "## Initialize"
   ]
  },
  {
   "cell_type": "code",
   "execution_count": 2,
   "metadata": {},
   "outputs": [],
   "source": [
    "import pandas as pd\n",
    "import sqlite3\n",
    "import numpy as np\n",
    "import matplotlib.pyplot as plt\n",
    "import plotly\n",
    "import plotly.graph_objs as go\n",
    "import datetime as dt\n",
    "import time as tt\n",
    "from QAnT import stock\n",
    "from QAnT import Index\n",
    "\n",
    "from scipy.stats import norm\n",
    "from scipy.stats import levy\n",
    "import matplotlib.mlab as mlab"
   ]
  },
  {
   "cell_type": "markdown",
   "metadata": {},
   "source": [
    "# Load the stock and index classes\n",
    "\n",
    "The initialization of the stock and index classes is done by the following commands:"
   ]
  },
  {
   "cell_type": "code",
   "execution_count": 3,
   "metadata": {},
   "outputs": [
    {
     "name": "stdout",
     "output_type": "stream",
     "text": [
      "2017-12-06 11:30:30  IT0001233417  A2A               |deb|  Reading saved quote\n",
      "2017-12-06 11:30:30  IT0001233417  A2A               |log|  Found 0 quotes\n"
     ]
    }
   ],
   "source": [
    "s = stock(debug=True, verbose=True)"
   ]
  },
  {
   "cell_type": "code",
   "execution_count": 4,
   "metadata": {},
   "outputs": [
    {
     "name": "stdout",
     "output_type": "stream",
     "text": [
      "2017-12-06 11:30:30  ^GDAXI        DAX               |deb|  Reading saved quote for all indices\n",
      "2017-12-06 11:30:32  ^GDAXI        DAX               |deb|  Found 140801 quotes in database\n",
      "2017-12-06 11:30:32  ^GDAXI        DAX               |deb|  Splitting quote_saved into dictionary\n"
     ]
    }
   ],
   "source": [
    "i = Index(debug=True, verbose=True)"
   ]
  },
  {
   "cell_type": "markdown",
   "metadata": {},
   "source": [
    "# Downloading data\n",
    "## Download keyratios from MorningStar and save to database\n",
    "\n",
    "If we have new companies in our database, we may want to download the keyratios from morningstar."
   ]
  },
  {
   "cell_type": "code",
   "execution_count": 5,
   "metadata": {},
   "outputs": [
    {
     "name": "stdout",
     "output_type": "stream",
     "text": [
      "2017-12-06 10:35:52  DE0005408116  AAREAL BANK AG    |log|  Reading saved quote for stock AAREAL BANK AG\n",
      "2017-12-06 10:35:53  DE0005408116  AAREAL BANK AG    |log|  Writing output to tmpfiles/DE_ARL.csv\n",
      "2017-12-06 10:35:53  DE0005408116  AAREAL BANK AG    |log|  Name: AAREAL BANK AG         |    Aareal Bank AG     \n",
      "2017-12-06 10:35:53  DE0005408116  AAREAL BANK AG    |deb|  Correcting column names\n",
      "2017-12-06 10:35:53  DE0005408116  AAREAL BANK AG    |deb|  Formatting keyratios\n",
      "2017-12-06 10:35:53  DE0005408116  AAREAL BANK AG    |deb|  Cleaning up the column strings\n",
      "2017-12-06 10:35:53  DE0005408116  AAREAL BANK AG    |deb|  Formatting keyratios\n",
      "2017-12-06 10:35:53  DE0005408116  AAREAL BANK AG    |deb|  Found saved and downloaded keyratio tables with sizes 11 and 11\n",
      "2017-12-06 10:35:53  DE0005408116  AAREAL BANK AG    |log|  No entries to save\n",
      "2017-12-06 10:35:53  DE0005408116  AAREAL BANK AG    |log|  Removing temporary output file tmpfiles/DE_ARL.csv\n"
     ]
    }
   ],
   "source": [
    "s.switch_next()\n",
    "s.load_keyratios(deletecsv=True)"
   ]
  },
  {
   "cell_type": "markdown",
   "metadata": {},
   "source": [
    "## Download quotes from Yahoo\n",
    "\n",
    "Let's select the Munich Re stock and download the quote. There are two different modes of operation for the quote downloading algorithm. If the algorithm is called for the first time, Q-AnT tries all exchanges and selects that with the largest available data set. If quotes are already stored for the stock, Q-AnT uses the same exchange as for the previous data. "
   ]
  },
  {
   "cell_type": "code",
   "execution_count": 5,
   "metadata": {},
   "outputs": [
    {
     "name": "stdout",
     "output_type": "stream",
     "text": [
      "2017-12-06 11:30:34  DE0008430026  MUENCH.RUECKVERS. |deb|  Switched to new stock: MUENCH.RUECKVERS.VNA O.N.\n",
      "2017-12-06 11:30:34  DE0008430026  MUENCH.RUECKVERS. |deb|  ISIN & Ticker:         DE0008430026, MUV2\n",
      "2017-12-06 11:30:34  DE0008430026  MUENCH.RUECKVERS. |deb|  Reading saved quote\n",
      "2017-12-06 11:30:34  DE0008430026  MUENCH.RUECKVERS. |log|  Found 4957 quotes\n"
     ]
    }
   ],
   "source": [
    "s.switch_isin('DE0008430026')"
   ]
  },
  {
   "cell_type": "code",
   "execution_count": 5,
   "metadata": {},
   "outputs": [
    {
     "name": "stdout",
     "output_type": "stream",
     "text": [
      "2017-12-06 11:19:00  DE0008430026  MUENCH.RUECKVERS. |log|  Donwloading quote with ticker symbol MUV2\n",
      "2017-12-06 11:19:00  DE0008430026  MUENCH.RUECKVERS. |log|  Found the following unit of the key ratios: EUR\n",
      "2017-12-06 11:19:02  DE0008430026  MUENCH.RUECKVERS. |log|  Successfully loaded quote for MUV2 from yahoo, exchange .DE\n",
      "2017-12-06 11:19:02  DE0008430026  MUENCH.RUECKVERS. |deb|  Finding longest quote\n",
      "2017-12-06 11:19:02  DE0008430026  MUENCH.RUECKVERS. |log|  Check stock info at https://finance.yahoo.com/quote/MUV2.DE?p=MUV2.DE\n",
      "2017-12-06 11:19:02  DE0008430026  MUENCH.RUECKVERS. |deb|  Reading saved quote\n",
      "2017-12-06 11:19:02  DE0008430026  MUENCH.RUECKVERS. |log|  Found 4938 quotes\n",
      "2017-12-06 11:19:02  DE0008430026  MUENCH.RUECKVERS. |log|  Found 19 quotes to save\n",
      "2017-12-06 11:19:02  DE0008430026  MUENCH.RUECKVERS. |deb|  currency of quote_to_save: ['EUR']\n",
      "2017-12-06 11:19:02  DE0008430026  MUENCH.RUECKVERS. |deb|  currency of quote_saved  : ['EUR']\n",
      "2017-12-06 11:19:02  DE0008430026  MUENCH.RUECKVERS. |log|  Comparing currencies of saved and downloaded quote\n",
      "2017-12-06 11:19:02  DE0008430026  MUENCH.RUECKVERS. |log|  Saved quote and quote to save have the same currency: ['EUR']\n",
      "2017-12-06 11:19:02  DE0008430026  MUENCH.RUECKVERS. |log|  Successfully saved 19 entries in quote database\n"
     ]
    }
   ],
   "source": [
    "s._download_quote_yahoo()"
   ]
  },
  {
   "cell_type": "markdown",
   "metadata": {},
   "source": [
    "## Download Quarterly Report Dates "
   ]
  },
  {
   "cell_type": "code",
   "execution_count": 6,
   "metadata": {},
   "outputs": [
    {
     "name": "stdout",
     "output_type": "stream",
     "text": [
      "2017-12-06 11:31:25  DE0008430026  MUENCH.RUECKVERS. |log|  Downloading quarterly report dates from\n",
      "2017-12-06 11:31:25  DE0008430026  MUENCH.RUECKVERS. |log|  http://www.finanzen.net/termine/Muenchener_Rueck\n",
      "2017-12-06 11:31:25  DE0008430026  MUENCH.RUECKVERS. |log|  Found quarterly report table with 4 entries\n",
      "2017-12-06 11:31:25  DE0008430026  MUENCH.RUECKVERS. |log|  Reading saved quarterly report dates\n",
      "2017-12-06 11:31:25  DE0008430026  MUENCH.RUECKVERS. |log|  Found 1 quarterly report dates to save\n",
      "2017-12-06 11:31:25  DE0008430026  MUENCH.RUECKVERS. |log|  Successfully saved 1 entries in quarterly report database\n",
      "2017-12-06 11:31:25  DE0008430026  MUENCH.RUECKVERS. |log|  Reading saved quarterly report dates\n"
     ]
    }
   ],
   "source": [
    "s.debug=False\n",
    "s._save_unsaved_quarterly_report_dates()"
   ]
  },
  {
   "cell_type": "markdown",
   "metadata": {},
   "source": [
    "# Deploying the algorithm\n",
    "\n",
    "## Quantitative Analysis of Fundamentals and Quotes\n",
    "\n",
    "Run the Q-AnT algorithm for the stock presently loaded. "
   ]
  },
  {
   "cell_type": "code",
   "execution_count": 6,
   "metadata": {},
   "outputs": [
    {
     "name": "stdout",
     "output_type": "stream",
     "text": [
      "2017-12-06 10:43:07  DE0005408116  AAREAL BANK AG    |log|  Earnings Growth: 0.07962780402683078\n",
      "2017-12-06 10:43:07  DE0005408116  AAREAL BANK AG   |err|  PresentRoIC is of type None\n",
      "2017-12-06 10:43:07  DE0005408116  AAREAL BANK AG    |log|  Financial company, applying different criteria for equity ratio\n",
      "2017-12-06 10:43:07  DE0005408116  AAREAL BANK AG    |log|  Checking dividend growth\n",
      "2017-12-06 10:43:07  DE0005408116  AAREAL BANK AG    |log|  Latest dividend 1.2\n",
      "2017-12-06 10:43:07  DE0005408116  AAREAL BANK AG    |log|  Previous dividend nan\n",
      "2017-12-06 10:43:07  DE0005408116  AAREAL BANK AG    |log|  Calculating fair price from P/E ratio\n",
      "2017-12-06 10:43:07  DE0005408116  AAREAL BANK AG    |log|  Selected quantile: 0.5\n",
      "2017-12-06 10:43:07  DE0005408116  AAREAL BANK AG    |log|  Connected to sqlite database algo_results.db\n",
      "2017-12-06 10:43:07  DE0005408116  AAREAL BANK AG    |log|  Removing old output\n",
      "2017-12-06 10:43:07  DE0005408116  AAREAL BANK AG    |log|  Adding new result\n",
      "2017-12-06 10:43:07  DE0005408116  AAREAL BANK AG    |log|  Completed get_summary\n"
     ]
    }
   ],
   "source": [
    "s.get_summary(save=True)"
   ]
  },
  {
   "cell_type": "markdown",
   "metadata": {},
   "source": [
    "Show the result of the quantitative analysis"
   ]
  },
  {
   "cell_type": "code",
   "execution_count": 7,
   "metadata": {},
   "outputs": [
    {
     "data": {
      "text/html": [
       "<div>\n",
       "<style>\n",
       "    .dataframe thead tr:only-child th {\n",
       "        text-align: right;\n",
       "    }\n",
       "\n",
       "    .dataframe thead th {\n",
       "        text-align: left;\n",
       "    }\n",
       "\n",
       "    .dataframe tbody tr th {\n",
       "        vertical-align: top;\n",
       "    }\n",
       "</style>\n",
       "<table border=\"1\" class=\"dataframe\">\n",
       "  <thead>\n",
       "    <tr style=\"text-align: right;\">\n",
       "      <th></th>\n",
       "      <th>Name</th>\n",
       "      <th>ISIN</th>\n",
       "      <th>Parameter</th>\n",
       "      <th>Value</th>\n",
       "      <th>Point</th>\n",
       "    </tr>\n",
       "  </thead>\n",
       "  <tbody>\n",
       "    <tr>\n",
       "      <th>0</th>\n",
       "      <td>AAREAL BANK AG</td>\n",
       "      <td>DE0005408116</td>\n",
       "      <td>OnlyPositiveEarnings</td>\n",
       "      <td>0</td>\n",
       "      <td>1</td>\n",
       "    </tr>\n",
       "    <tr>\n",
       "      <th>1</th>\n",
       "      <td>AAREAL BANK AG</td>\n",
       "      <td>DE0005408116</td>\n",
       "      <td>AnnualEarningsGrowth</td>\n",
       "      <td>8.0</td>\n",
       "      <td>1</td>\n",
       "    </tr>\n",
       "    <tr>\n",
       "      <th>2</th>\n",
       "      <td>AAREAL BANK AG</td>\n",
       "      <td>DE0005408116</td>\n",
       "      <td>BookValueGrowth</td>\n",
       "      <td>69.2</td>\n",
       "      <td>0</td>\n",
       "    </tr>\n",
       "    <tr>\n",
       "      <th>3</th>\n",
       "      <td>AAREAL BANK AG</td>\n",
       "      <td>DE0005408116</td>\n",
       "      <td>HistoricROE</td>\n",
       "      <td>3.3</td>\n",
       "      <td>-1</td>\n",
       "    </tr>\n",
       "    <tr>\n",
       "      <th>4</th>\n",
       "      <td>AAREAL BANK AG</td>\n",
       "      <td>DE0005408116</td>\n",
       "      <td>PresentROE</td>\n",
       "      <td>7.0</td>\n",
       "      <td>-1</td>\n",
       "    </tr>\n",
       "    <tr>\n",
       "      <th>5</th>\n",
       "      <td>AAREAL BANK AG</td>\n",
       "      <td>DE0005408116</td>\n",
       "      <td>PresentRoIC</td>\n",
       "      <td>0.0</td>\n",
       "      <td>-1</td>\n",
       "    </tr>\n",
       "    <tr>\n",
       "      <th>6</th>\n",
       "      <td>AAREAL BANK AG</td>\n",
       "      <td>DE0005408116</td>\n",
       "      <td>EquityRatio</td>\n",
       "      <td>6.0</td>\n",
       "      <td>0</td>\n",
       "    </tr>\n",
       "    <tr>\n",
       "      <th>7</th>\n",
       "      <td>AAREAL BANK AG</td>\n",
       "      <td>DE0005408116</td>\n",
       "      <td>EBTMargin</td>\n",
       "      <td>100.0</td>\n",
       "      <td>1</td>\n",
       "    </tr>\n",
       "    <tr>\n",
       "      <th>8</th>\n",
       "      <td>AAREAL BANK AG</td>\n",
       "      <td>DE0005408116</td>\n",
       "      <td>DividendGrowth</td>\n",
       "      <td>nan</td>\n",
       "      <td>0</td>\n",
       "    </tr>\n",
       "    <tr>\n",
       "      <th>9</th>\n",
       "      <td>AAREAL BANK AG</td>\n",
       "      <td>DE0005408116</td>\n",
       "      <td>SixMonthReturn</td>\n",
       "      <td>-6.2</td>\n",
       "      <td>-1</td>\n",
       "    </tr>\n",
       "    <tr>\n",
       "      <th>10</th>\n",
       "      <td>AAREAL BANK AG</td>\n",
       "      <td>DE0005408116</td>\n",
       "      <td>TwelveMonthReturn</td>\n",
       "      <td>8.6</td>\n",
       "      <td>1</td>\n",
       "    </tr>\n",
       "  </tbody>\n",
       "</table>\n",
       "</div>"
      ],
      "text/plain": [
       "              Name          ISIN             Parameter  Value Point\n",
       "0   AAREAL BANK AG  DE0005408116  OnlyPositiveEarnings      0     1\n",
       "1   AAREAL BANK AG  DE0005408116  AnnualEarningsGrowth    8.0     1\n",
       "2   AAREAL BANK AG  DE0005408116       BookValueGrowth   69.2     0\n",
       "3   AAREAL BANK AG  DE0005408116           HistoricROE    3.3    -1\n",
       "4   AAREAL BANK AG  DE0005408116            PresentROE    7.0    -1\n",
       "5   AAREAL BANK AG  DE0005408116           PresentRoIC    0.0    -1\n",
       "6   AAREAL BANK AG  DE0005408116           EquityRatio    6.0     0\n",
       "7   AAREAL BANK AG  DE0005408116             EBTMargin  100.0     1\n",
       "8   AAREAL BANK AG  DE0005408116        DividendGrowth    nan     0\n",
       "9   AAREAL BANK AG  DE0005408116        SixMonthReturn   -6.2    -1\n",
       "10  AAREAL BANK AG  DE0005408116     TwelveMonthReturn    8.6     1"
      ]
     },
     "execution_count": 7,
     "metadata": {},
     "output_type": "execute_result"
    }
   ],
   "source": [
    "s.quant_result"
   ]
  },
  {
   "cell_type": "code",
   "execution_count": 8,
   "metadata": {},
   "outputs": [
    {
     "data": {
      "text/html": [
       "<div>\n",
       "<style>\n",
       "    .dataframe thead tr:only-child th {\n",
       "        text-align: right;\n",
       "    }\n",
       "\n",
       "    .dataframe thead th {\n",
       "        text-align: left;\n",
       "    }\n",
       "\n",
       "    .dataframe tbody tr th {\n",
       "        vertical-align: top;\n",
       "    }\n",
       "</style>\n",
       "<table border=\"1\" class=\"dataframe\">\n",
       "  <thead>\n",
       "    <tr style=\"text-align: right;\">\n",
       "      <th></th>\n",
       "      <th>Name</th>\n",
       "      <th>ISIN</th>\n",
       "      <th>FairPrice</th>\n",
       "      <th>FairPricePE</th>\n",
       "      <th>Price</th>\n",
       "      <th>Points</th>\n",
       "    </tr>\n",
       "  </thead>\n",
       "  <tbody>\n",
       "    <tr>\n",
       "      <th>0</th>\n",
       "      <td>AAREAL BANK AG</td>\n",
       "      <td>DE0005408116</td>\n",
       "      <td>110.642442</td>\n",
       "      <td>29.418995</td>\n",
       "      <td>35.994999</td>\n",
       "      <td>0</td>\n",
       "    </tr>\n",
       "  </tbody>\n",
       "</table>\n",
       "</div>"
      ],
      "text/plain": [
       "             Name          ISIN   FairPrice  FairPricePE      Price  Points\n",
       "0  AAREAL BANK AG  DE0005408116  110.642442    29.418995  35.994999       0"
      ]
     },
     "execution_count": 8,
     "metadata": {},
     "output_type": "execute_result"
    }
   ],
   "source": [
    "s.summary"
   ]
  },
  {
   "cell_type": "markdown",
   "metadata": {},
   "source": [
    "If we want to save the output to \n",
    "\n",
    "    output/algo_results.db\n",
    "    \n",
    "we can use the save option. The conservative option is used to specify wheter the calculation of the fair price should take into account earnings growth which is determined from historical earnings growth."
   ]
  },
  {
   "cell_type": "code",
   "execution_count": 7,
   "metadata": {},
   "outputs": [
    {
     "name": "stdout",
     "output_type": "stream",
     "text": [
      "2017-12-06 11:35:19  DE0008430026  MUENCH.RUECKVERS. |log|  Earnings Growth: -0.0025444379905804615\n",
      "2017-12-06 11:35:19  DE0008430026  MUENCH.RUECKVERS.|err|  PresentRoIC is of type None\n",
      "2017-12-06 11:35:19  DE0008430026  MUENCH.RUECKVERS. |log|  Financial company, applying different criteria for equity ratio\n",
      "2017-12-06 11:35:19  DE0008430026  MUENCH.RUECKVERS. |log|  Checking dividend growth\n",
      "2017-12-06 11:35:19  DE0008430026  MUENCH.RUECKVERS. |log|  Latest dividend 7.75\n",
      "2017-12-06 11:35:19  DE0008430026  MUENCH.RUECKVERS. |log|  Previous dividend nan\n",
      "2017-12-06 11:35:19  DE0008430026  MUENCH.RUECKVERS. |log|  Calculating fair price from P/E ratio\n",
      "2017-12-06 11:35:19  DE0008430026  MUENCH.RUECKVERS. |log|  Selected quantile: 0.5\n",
      "2017-12-06 11:35:19  DE0008430026  MUENCH.RUECKVERS. |log|  Connected to sqlite database algo_results.db\n",
      "2017-12-06 11:35:19  DE0008430026  MUENCH.RUECKVERS. |log|  Removing old output\n",
      "2017-12-06 11:35:19  DE0008430026  MUENCH.RUECKVERS. |log|  Adding new result\n",
      "2017-12-06 11:35:19  DE0008430026  MUENCH.RUECKVERS. |log|  Completed get_summary\n",
      "2017-12-06 11:35:19  DE0008430026  MUENCH.RUECKVERS. |log|  Found 4957 quotes\n"
     ]
    }
   ],
   "source": [
    "s.get_summary(save=True,conservative=True)\n",
    "s.analyze_quote()"
   ]
  },
  {
   "cell_type": "code",
   "execution_count": 12,
   "metadata": {},
   "outputs": [
    {
     "data": {
      "text/html": [
       "<div>\n",
       "<style>\n",
       "    .dataframe thead tr:only-child th {\n",
       "        text-align: right;\n",
       "    }\n",
       "\n",
       "    .dataframe thead th {\n",
       "        text-align: left;\n",
       "    }\n",
       "\n",
       "    .dataframe tbody tr th {\n",
       "        vertical-align: top;\n",
       "    }\n",
       "</style>\n",
       "<table border=\"1\" class=\"dataframe\">\n",
       "  <thead>\n",
       "    <tr style=\"text-align: right;\">\n",
       "      <th></th>\n",
       "      <th>Name</th>\n",
       "      <th>ISIN</th>\n",
       "      <th>Parameter</th>\n",
       "      <th>Value</th>\n",
       "      <th>Point</th>\n",
       "    </tr>\n",
       "  </thead>\n",
       "  <tbody>\n",
       "    <tr>\n",
       "      <th>0</th>\n",
       "      <td>MUENCH.RUECKVERS.VNA O.N.</td>\n",
       "      <td>DE0008430026</td>\n",
       "      <td>OnlyPositiveEarnings</td>\n",
       "      <td>0</td>\n",
       "      <td>1</td>\n",
       "    </tr>\n",
       "    <tr>\n",
       "      <th>1</th>\n",
       "      <td>MUENCH.RUECKVERS.VNA O.N.</td>\n",
       "      <td>DE0008430026</td>\n",
       "      <td>AnnualEarningsGrowth</td>\n",
       "      <td>-0.3</td>\n",
       "      <td>-1</td>\n",
       "    </tr>\n",
       "    <tr>\n",
       "      <th>2</th>\n",
       "      <td>MUENCH.RUECKVERS.VNA O.N.</td>\n",
       "      <td>DE0008430026</td>\n",
       "      <td>BookValueGrowth</td>\n",
       "      <td>72.5</td>\n",
       "      <td>0</td>\n",
       "    </tr>\n",
       "    <tr>\n",
       "      <th>3</th>\n",
       "      <td>MUENCH.RUECKVERS.VNA O.N.</td>\n",
       "      <td>DE0008430026</td>\n",
       "      <td>HistoricROE</td>\n",
       "      <td>3.1</td>\n",
       "      <td>-1</td>\n",
       "    </tr>\n",
       "    <tr>\n",
       "      <th>4</th>\n",
       "      <td>MUENCH.RUECKVERS.VNA O.N.</td>\n",
       "      <td>DE0008430026</td>\n",
       "      <td>PresentROE</td>\n",
       "      <td>8.3</td>\n",
       "      <td>-1</td>\n",
       "    </tr>\n",
       "    <tr>\n",
       "      <th>5</th>\n",
       "      <td>MUENCH.RUECKVERS.VNA O.N.</td>\n",
       "      <td>DE0008430026</td>\n",
       "      <td>PresentRoIC</td>\n",
       "      <td>0.0</td>\n",
       "      <td>-1</td>\n",
       "    </tr>\n",
       "    <tr>\n",
       "      <th>6</th>\n",
       "      <td>MUENCH.RUECKVERS.VNA O.N.</td>\n",
       "      <td>DE0008430026</td>\n",
       "      <td>EquityRatio</td>\n",
       "      <td>11.8</td>\n",
       "      <td>1</td>\n",
       "    </tr>\n",
       "    <tr>\n",
       "      <th>7</th>\n",
       "      <td>MUENCH.RUECKVERS.VNA O.N.</td>\n",
       "      <td>DE0008430026</td>\n",
       "      <td>EBTMargin</td>\n",
       "      <td>6.2</td>\n",
       "      <td>0</td>\n",
       "    </tr>\n",
       "    <tr>\n",
       "      <th>8</th>\n",
       "      <td>MUENCH.RUECKVERS.VNA O.N.</td>\n",
       "      <td>DE0008430026</td>\n",
       "      <td>DividendGrowth</td>\n",
       "      <td>nan</td>\n",
       "      <td>0</td>\n",
       "    </tr>\n",
       "    <tr>\n",
       "      <th>9</th>\n",
       "      <td>MUENCH.RUECKVERS.VNA O.N.</td>\n",
       "      <td>DE0008430026</td>\n",
       "      <td>SixMonthReturn</td>\n",
       "      <td>3.7</td>\n",
       "      <td>0</td>\n",
       "    </tr>\n",
       "    <tr>\n",
       "      <th>10</th>\n",
       "      <td>MUENCH.RUECKVERS.VNA O.N.</td>\n",
       "      <td>DE0008430026</td>\n",
       "      <td>TwelveMonthReturn</td>\n",
       "      <td>5.0</td>\n",
       "      <td>1</td>\n",
       "    </tr>\n",
       "  </tbody>\n",
       "</table>\n",
       "</div>"
      ],
      "text/plain": [
       "                         Name          ISIN             Parameter Value Point\n",
       "0   MUENCH.RUECKVERS.VNA O.N.  DE0008430026  OnlyPositiveEarnings     0     1\n",
       "1   MUENCH.RUECKVERS.VNA O.N.  DE0008430026  AnnualEarningsGrowth  -0.3    -1\n",
       "2   MUENCH.RUECKVERS.VNA O.N.  DE0008430026       BookValueGrowth  72.5     0\n",
       "3   MUENCH.RUECKVERS.VNA O.N.  DE0008430026           HistoricROE   3.1    -1\n",
       "4   MUENCH.RUECKVERS.VNA O.N.  DE0008430026            PresentROE   8.3    -1\n",
       "5   MUENCH.RUECKVERS.VNA O.N.  DE0008430026           PresentRoIC   0.0    -1\n",
       "6   MUENCH.RUECKVERS.VNA O.N.  DE0008430026           EquityRatio  11.8     1\n",
       "7   MUENCH.RUECKVERS.VNA O.N.  DE0008430026             EBTMargin   6.2     0\n",
       "8   MUENCH.RUECKVERS.VNA O.N.  DE0008430026        DividendGrowth   nan     0\n",
       "9   MUENCH.RUECKVERS.VNA O.N.  DE0008430026        SixMonthReturn   3.7     0\n",
       "10  MUENCH.RUECKVERS.VNA O.N.  DE0008430026     TwelveMonthReturn   5.0     1"
      ]
     },
     "execution_count": 12,
     "metadata": {},
     "output_type": "execute_result"
    }
   ],
   "source": [
    "s.quant_result"
   ]
  },
  {
   "cell_type": "markdown",
   "metadata": {},
   "source": [
    "We can have a look at the fair price calculated by means of different valuation models. "
   ]
  },
  {
   "cell_type": "code",
   "execution_count": 13,
   "metadata": {},
   "outputs": [
    {
     "data": {
      "text/plain": [
       "(183.89999399999999,\n",
       " 395.60890352349668,\n",
       " 393.06927705589942,\n",
       " 128.63416001283358)"
      ]
     },
     "execution_count": 13,
     "metadata": {},
     "output_type": "execute_result"
    }
   ],
   "source": [
    "s.price, s.fairprice_low, s.fairprice_high, s.fairprice_pe"
   ]
  },
  {
   "cell_type": "markdown",
   "metadata": {},
   "source": [
    "# Plotting \n",
    "\n",
    "## Interactive Summary\n",
    "Q-AnT includes a basic plotting algorithm to summarize essential quantities. It can be called using the following function which will load an interactive plot in a new tab."
   ]
  },
  {
   "cell_type": "code",
   "execution_count": 15,
   "metadata": {},
   "outputs": [
    {
     "name": "stdout",
     "output_type": "stream",
     "text": [
      "This is the format of your plot grid:\n",
      "[ (1,1) x1,y1 ]  [ (1,2) x2,y2 ]\n",
      "[ (2,1) x3,y3 ]  [ (2,2) x4,y4 ]\n",
      "[ (3,1) x5,y5 ]  [ (3,2) x6,y6 ]\n",
      "[ (4,1) x7,y7 ]  [ (4,2) x8,y8 ]\n",
      "\n"
     ]
    }
   ],
   "source": [
    "s.interactive_summary()"
   ]
  },
  {
   "cell_type": "markdown",
   "metadata": {},
   "source": [
    "## Basic Plotting"
   ]
  },
  {
   "cell_type": "code",
   "execution_count": 19,
   "metadata": {},
   "outputs": [
    {
     "data": {
      "image/png": "[encoded data removed]",
      "text/plain": [
       "<matplotlib.figure.Figure at 0x7f6d0f439630>"
      ]
     },
     "metadata": {},
     "output_type": "display_data"
    }
   ],
   "source": [
    "plt.plot(s.quote['date'], s.quote['close'],'.')\n",
    "plt.xlabel(\"Date\")\n",
    "plt.ylabel(\"Close ['EUR']\")\n",
    "plt.show()"
   ]
  },
  {
   "cell_type": "markdown",
   "metadata": {},
   "source": [
    "# Logging\n",
    "\n",
    "The stock and index classes save every generated output to the logging databases stored in the files\n",
    "\n",
    "    output/algo.log\n",
    "    output/algo.err"
   ]
  },
  {
   "cell_type": "code",
   "execution_count": null,
   "metadata": {
    "collapsed": true
   },
   "outputs": [],
   "source": []
  }
 ],
 "metadata": {
  "kernelspec": {
   "display_name": "Python 3",
   "language": "python",
   "name": "python3"
  },
  "language_info": {
   "codemirror_mode": {
    "name": "ipython",
    "version": 3
   },
   "file_extension": ".py",
   "mimetype": "text/x-python",
   "name": "python",
   "nbconvert_exporter": "python",
   "pygments_lexer": "ipython3",
   "version": "3.6.3"
  }
 },
 "nbformat": 4,
 "nbformat_minor": 2
}
