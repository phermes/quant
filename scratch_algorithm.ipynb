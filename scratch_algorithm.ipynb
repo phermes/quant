{
 "cells": [
  {
   "cell_type": "markdown",
   "metadata": {},
   "source": [
    "# Algorithm"
   ]
  },
  {
   "cell_type": "markdown",
   "metadata": {},
   "source": [
    "Tentative strategic plan (to be verified in the backtesting algo):\n",
    "\n",
    "1. Select only equitys which have not have negative earnings in the last 15 years.\n",
    "2. Select only equitys with an equity ratio of >25%\n",
    "3. Select RoE in the upper half of all (more than 60% or 70% depending on the outcome of the backtesting)\n",
    "4. Reasonable earnings growth history\n",
    "5. Optional point: price-book-ratio<1\n",
    "6. P/E ratio not more than 10% above the min historical P/E ratio\n",
    "7. P/E ratio (historical over past three years) < 20\n",
    "8. Positive reaction to quartery report\n",
    "9. [+1/0] if rating is negative/positive\n",
    "10. EBT margin >12%"
   ]
  },
  {
   "cell_type": "code",
   "execution_count": 39,
   "metadata": {
    "collapsed": true
   },
   "outputs": [],
   "source": [
    "import pandas as pd\n",
    "import sqlite3\n",
    "import numpy as np\n",
    "import matplotlib.pyplot as plt\n",
    "import datetime as dt\n",
    "\n",
    "cnx        = sqlite3.connect('database/stocks_main.db')\n",
    "xetra      = pd.read_sql(\"SELECT * FROM XETRA;\", cnx)"
   ]
  },
  {
   "cell_type": "code",
   "execution_count": 508,
   "metadata": {
    "collapsed": true
   },
   "outputs": [],
   "source": [
    "def get_datetime(inputobj):\n",
    "    return dt.datetime.date(inputobj)\n",
    "\n",
    "def convert_sql_date_to_datetime_date(string):\n",
    "    return dt.datetime.strptime(string,'%Y-%m-%d').date()\n",
    "\n",
    "class quotes:\n",
    "    def __init__(self):\n",
    "        pass\n",
    "\n",
    "    def _get_lastprice(self):\n",
    "        self.lastquote = self.quote[self.quote.date==self.quote.date.max()].close.values\n",
    "    \n",
    "    def _get_quote(self):\n",
    "        # load the entries for the current stock from the database\n",
    "        cnx         = sqlite3.connect('database/stocks_quotes.db')\n",
    "        sql         = pd.read_sql_query(\"SELECT * FROM quotes WHERE isin = '{0}';\".format(self.isin), cnx)\n",
    "        cnx.close()    \n",
    "        if sql is not None:\n",
    "            sql['date'] = sql.date.apply(convert_sql_date_to_datetime_date)\n",
    "        self.quote  = sql\n",
    "        \n",
    "        self._get_lastprice()\n",
    "        \n",
    "    def get_highwatermark(self):\n",
    "        '''Calculate the high watermark of the dataset'''\n",
    "        hw = []\n",
    "        mark = 0\n",
    "        for i,j in self.quote.iterrows():\n",
    "            if j['close']>mark and j['close']>0:\n",
    "                mark = j['close']\n",
    "            hw.append(mark)\n",
    "        self.quote = self.quote.assign(highwatermark=pd.Series(hw))\n",
    "        \n",
    "class fundamentals:\n",
    "    def __init__(self):\n",
    "        pass\n",
    "\n",
    "    def _get_keyratios(self):\n",
    "        # load the entries for the current stock from the database\n",
    "        cnx         = sqlite3.connect('database/stocks_keyratios.db')\n",
    "        sql         = pd.read_sql_query(\"SELECT * FROM fundamentals WHERE ISIN = '{0}';\".format(self.isin), cnx)\n",
    "        cnx.close()    \n",
    "        sql = sql.sort_values(by='year',ascending=False)\n",
    "        sql = sql.reset_index(drop=True)\n",
    "        \n",
    "        self.keyratios = sql\n",
    "        \n",
    "    def _get_pe_for_year(self, pe_year, month=4, day=1, detailed=False):\n",
    "        '''Get the price/earnings ratio for every day of the subsequent year'''\n",
    "        # get the min/max date for quotes\n",
    "        mindate = dt.date(pe_year+1, month, day)                                             \n",
    "        maxdate = dt.date(pe_year+2, month, day)\n",
    "\n",
    "        # get the eps for the year under consideration\n",
    "        eps   = self.keyratios[self.keyratios.year==pe_year]['EarningsPerShare'].values[0]\n",
    "\n",
    "        # extract the quote \n",
    "        quote = self.quote[(self.quote.date>mindate) & (self.quote.date<maxdate)]\n",
    "\n",
    "        quote = quote.assign(pe=(quote.close/eps).values)\n",
    "        quote = quote.assign(eps=np.ones(len(quote))*eps)\n",
    "\n",
    "        if detailed:\n",
    "            return quote\n",
    "        return quote[['date','close','pe', 'eps']]\n",
    "    \n",
    "    def _get_all_pe(self,detailed=False):\n",
    "        '''Creates an object with the price to earnings ratio for every day of all years'''\n",
    "        finalquote = None\n",
    "        year = self.keyratios.year.min()+1 \n",
    "\n",
    "        for _ in range(len(self.keyratios.year)-1):\n",
    "            if finalquote is None:\n",
    "                finalquote = get_pe_for_year(year,detailed=detailed)\n",
    "            else:\n",
    "                finalquote = finalquote.append(get_pe_for_year(year,detailed=detailed),ignore_index=True)\n",
    "            year+=1\n",
    "        self.per_table = finalquote"
   ]
  },
  {
   "cell_type": "code",
   "execution_count": 525,
   "metadata": {
    "collapsed": true
   },
   "outputs": [],
   "source": [
    "class algo:\n",
    "    def _initialize_algo(self):\n",
    "        self.cols         = ['Name','ISIN', 'Parameter', 'Value', 'Point']\n",
    "        self.quant_result = pd.DataFrame(columns=self.cols)\n",
    "    \n",
    "    def _add_result(self,para,val,point):\n",
    "        '''Add the result of the individual analysis to the total result.'''\n",
    "        res = [[self.name, self.isin, para, val, point]]\n",
    "        self.quant_result = self.quant_result.append(pd.DataFrame(res,columns=self.cols),ignore_index=True)\n",
    "    \n",
    "    def get_best_column(self,*args):\n",
    "        '''If multiple columns can be used for the analysis, select the column with the best data quality'''\n",
    "        vals = args\n",
    "\n",
    "        _length = []\n",
    "        for _i, _s in enumerate(vals):\n",
    "            _length.append([_i,len(self.keyratios[self.keyratios[_s].isnull()])])\n",
    "        _length = np.array(_length)\n",
    "        _bestcol = vals[_length[_length[:,1].argmin()][0]]\n",
    "\n",
    "        return _bestcol\n",
    "    \n",
    "    def positive_earnings(self,verbose=False):\n",
    "        \n",
    "        _col = self.get_best_column('NetIncome','EarningsPerShare')\n",
    "        if (self.keyratios[_col]<0).any():\n",
    "            val   = -1\n",
    "            point = -1\n",
    "        else:\n",
    "            val   = 1\n",
    "            point = 1 \n",
    "        self._add_result('OnlyPositiveEarnings', _col, point)\n",
    "        \n",
    "    def per_vs_historic_per(self,verbose=False):\n",
    "        self._get_all_pe()\n",
    "        \n",
    "        _current = self.per_table[self.per_table.date == self.per_table.date.max()].pe.values[0]\n",
    "        _limit1  = self.per_table.pe.quantile(0.33)\n",
    "        _limit2  = self.per_table.pe.quantile(0.66)\n",
    "\n",
    "        if _current<_limit1:\n",
    "            point = 1\n",
    "        elif _current>_limit2: \n",
    "            point = -1\n",
    "        else:\n",
    "            point = 0\n",
    "            \n",
    "        self._add_result('EPSvsHistoricEPS', '{0:0.1f}/{1:0.1f}: {2:0.1f}'.format(_limit1, _limit2, _current), point)\n",
    "    \n",
    "    def historic_roe(self):\n",
    "        '''Checks if the historic ROE was never below 20%'''\n",
    "        _roe = self.keyratios['ReturnonEquity'][1:]\n",
    "        _roe = _roe[_roe>0]\n",
    "\n",
    "        if not (_roe<20).any():\n",
    "            point = 1\n",
    "        elif not (_roe<10).any():\n",
    "            point = 0\n",
    "        else:\n",
    "            point = -1\n",
    "            \n",
    "        _value = _roe.mean()\n",
    "        self._add_result('HistoricROE', '{0:0.1f}'.format(_value), point)  \n",
    "        \n",
    "        \n",
    "    def present_roe(self):\n",
    "        '''Check if ROE is above 20%'''\n",
    "        _roe = self.keyratios['ReturnonEquity']\n",
    "        _val = _roe[0]\n",
    "\n",
    "        if not (_val<20).any():\n",
    "            point = 1\n",
    "        elif not (_val<10).any():\n",
    "            point = 0\n",
    "        else:\n",
    "            point = -1\n",
    "            \n",
    "        self._add_result('PresentROE', '{0:0.1f}'.format(_val), point)  \n",
    "\n",
    "        \n",
    "    def present_ebtmargin(self):\n",
    "        '''Check if EBT margin is above 12%'''\n",
    "        _ebtm = self.keyratios['EBTMargin']\n",
    "        _val  = _ebtm[0]\n",
    "\n",
    "        if _val>12:\n",
    "            point = 1\n",
    "        elif _val<6:\n",
    "            point = -1\n",
    "        else:\n",
    "            point = 0\n",
    "            \n",
    "        self._add_result('EBTMargin', '{0:0.1f}'.format(_val), point)  \n",
    "        "
   ]
  },
  {
   "cell_type": "code",
   "execution_count": 526,
   "metadata": {
    "collapsed": true
   },
   "outputs": [],
   "source": [
    "class time:\n",
    "    '''Make the analysis for today a special case of backtesting'''\n",
    "    \n",
    "    def _assign_pointintime(self, day):\n",
    "        # self.bdate = the backtesting date\n",
    "        self.day      = day\n",
    "        self.bdate    = self.quote.date[0] + dt.timedelta(days=self.day)\n",
    "        self.quote    = self.quote[self.quote.date < self.bdate]\n",
    "        \n",
    "        if self.bdate.month<4:\n",
    "            _max_keyratio_year = self.bdate.year - 2 \n",
    "        else:\n",
    "            _max_keyratio_year = self.bdate.year - 1\n",
    "\n",
    "        self.keyratios = self.keyratios[self.keyratios['year'] < _max_keyratio_year]"
   ]
  },
  {
   "cell_type": "code",
   "execution_count": 527,
   "metadata": {
    "collapsed": true
   },
   "outputs": [],
   "source": [
    "class stocks(quotes,fundamentals,algo,time):\n",
    "    def __init__(self,stocklist,index=0,ISIN=None,verbose=False):\n",
    "        \n",
    "        self._initialize_algo()\n",
    "        \n",
    "        self.list    = stocklist\n",
    "        self.verbose = verbose\n",
    "\n",
    "        if ISIN:\n",
    "            self.switch_isin(ISIN)\n",
    "        else:\n",
    "            self.switch_index(index)\n",
    "        self._update_tables()\n",
    "            \n",
    "    def switch_isin(self,isin):\n",
    "        df         = self.list[self.list.ISIN==isin]\n",
    "        self.index = df.index[0]\n",
    "        self.name, self.isin, self.ticker = np.array(df)[0]\n",
    "        self._update_tables()\n",
    "        \n",
    "    def switch_index(self,index):\n",
    "        self.index = index\n",
    "        df         = self.list[self.list.index==index]\n",
    "        self.name, self.isin, self.ticker = np.array(df)[0]\n",
    "        \n",
    "    def switch_next(self):\n",
    "        try:\n",
    "            self.switch_index(self.index+1)\n",
    "            self._update_tables()\n",
    "        except IndexError:\n",
    "            pass\n",
    "\n",
    "    def _update_tables(self):\n",
    "        self._get_keyratios()\n",
    "        self._get_quote()\n",
    "        \n",
    "    def update_time(self,day):\n",
    "        '''This function resets the data such that only the data known at the \n",
    "        selected moment in time is available. '''\n",
    "        self._update_tables()        \n",
    "        self._assign_pointintime(day)\n"
   ]
  },
  {
   "cell_type": "markdown",
   "metadata": {
    "collapsed": true
   },
   "source": [
    "# Positive Earnings in the last years"
   ]
  },
  {
   "cell_type": "code",
   "execution_count": 528,
   "metadata": {
    "collapsed": false
   },
   "outputs": [],
   "source": [
    "s = stocks(xetra,verbose=True)\n",
    "s.switch_isin('DE0005790430')"
   ]
  },
  {
   "cell_type": "code",
   "execution_count": 529,
   "metadata": {
    "collapsed": true
   },
   "outputs": [],
   "source": [
    "s.positive_earnings()"
   ]
  },
  {
   "cell_type": "code",
   "execution_count": 530,
   "metadata": {
    "collapsed": false
   },
   "outputs": [
    {
     "data": {
      "text/html": [
       "<div>\n",
       "<table border=\"1\" class=\"dataframe\">\n",
       "  <thead>\n",
       "    <tr style=\"text-align: right;\">\n",
       "      <th></th>\n",
       "      <th>Name</th>\n",
       "      <th>ISIN</th>\n",
       "      <th>Parameter</th>\n",
       "      <th>Value</th>\n",
       "      <th>Point</th>\n",
       "    </tr>\n",
       "  </thead>\n",
       "  <tbody>\n",
       "    <tr>\n",
       "      <th>0</th>\n",
       "      <td>FUCHS PETROL.SE VZO O.N.</td>\n",
       "      <td>DE0005790430</td>\n",
       "      <td>OnlyPositiveEarnings</td>\n",
       "      <td>EarningsPerShare</td>\n",
       "      <td>1.0</td>\n",
       "    </tr>\n",
       "  </tbody>\n",
       "</table>\n",
       "</div>"
      ],
      "text/plain": [
       "                       Name          ISIN             Parameter  \\\n",
       "0  FUCHS PETROL.SE VZO O.N.  DE0005790430  OnlyPositiveEarnings   \n",
       "\n",
       "              Value  Point  \n",
       "0  EarningsPerShare    1.0  "
      ]
     },
     "execution_count": 530,
     "metadata": {},
     "output_type": "execute_result"
    }
   ],
   "source": [
    "s.quant_result"
   ]
  },
  {
   "cell_type": "markdown",
   "metadata": {},
   "source": [
    "At the end of the analysis for each stock write data to sql, one table with detailed data, one table with summary"
   ]
  },
  {
   "cell_type": "markdown",
   "metadata": {},
   "source": [
    "# Historical P/E ratio"
   ]
  },
  {
   "cell_type": "code",
   "execution_count": 531,
   "metadata": {
    "collapsed": true
   },
   "outputs": [],
   "source": [
    "s.per_vs_historic_per()"
   ]
  },
  {
   "cell_type": "code",
   "execution_count": 532,
   "metadata": {
    "collapsed": false
   },
   "outputs": [
    {
     "data": {
      "text/html": [
       "<div>\n",
       "<table border=\"1\" class=\"dataframe\">\n",
       "  <thead>\n",
       "    <tr style=\"text-align: right;\">\n",
       "      <th></th>\n",
       "      <th>Name</th>\n",
       "      <th>ISIN</th>\n",
       "      <th>Parameter</th>\n",
       "      <th>Value</th>\n",
       "      <th>Point</th>\n",
       "    </tr>\n",
       "  </thead>\n",
       "  <tbody>\n",
       "    <tr>\n",
       "      <th>0</th>\n",
       "      <td>FUCHS PETROL.SE VZO O.N.</td>\n",
       "      <td>DE0005790430</td>\n",
       "      <td>OnlyPositiveEarnings</td>\n",
       "      <td>EarningsPerShare</td>\n",
       "      <td>1.0</td>\n",
       "    </tr>\n",
       "    <tr>\n",
       "      <th>1</th>\n",
       "      <td>FUCHS PETROL.SE VZO O.N.</td>\n",
       "      <td>DE0005790430</td>\n",
       "      <td>EPSvsHistoricEPS</td>\n",
       "      <td>14.2/20.2: 25.4</td>\n",
       "      <td>-1.0</td>\n",
       "    </tr>\n",
       "  </tbody>\n",
       "</table>\n",
       "</div>"
      ],
      "text/plain": [
       "                       Name          ISIN             Parameter  \\\n",
       "0  FUCHS PETROL.SE VZO O.N.  DE0005790430  OnlyPositiveEarnings   \n",
       "1  FUCHS PETROL.SE VZO O.N.  DE0005790430      EPSvsHistoricEPS   \n",
       "\n",
       "              Value  Point  \n",
       "0  EarningsPerShare    1.0  \n",
       "1   14.2/20.2: 25.4   -1.0  "
      ]
     },
     "execution_count": 532,
     "metadata": {},
     "output_type": "execute_result"
    }
   ],
   "source": [
    "s.quant_result"
   ]
  },
  {
   "cell_type": "code",
   "execution_count": null,
   "metadata": {
    "collapsed": true
   },
   "outputs": [],
   "source": []
  },
  {
   "cell_type": "code",
   "execution_count": null,
   "metadata": {
    "collapsed": false
   },
   "outputs": [],
   "source": []
  },
  {
   "cell_type": "code",
   "execution_count": null,
   "metadata": {
    "collapsed": true
   },
   "outputs": [],
   "source": []
  },
  {
   "cell_type": "code",
   "execution_count": 300,
   "metadata": {
    "collapsed": false
   },
   "outputs": [],
   "source": [
    "s._get_all_pe()"
   ]
  },
  {
   "cell_type": "code",
   "execution_count": 301,
   "metadata": {
    "collapsed": false
   },
   "outputs": [
    {
     "data": {
      "text/html": [
       "<div>\n",
       "<table border=\"1\" class=\"dataframe\">\n",
       "  <thead>\n",
       "    <tr style=\"text-align: right;\">\n",
       "      <th></th>\n",
       "      <th>close</th>\n",
       "      <th>pe</th>\n",
       "      <th>eps</th>\n",
       "    </tr>\n",
       "  </thead>\n",
       "  <tbody>\n",
       "    <tr>\n",
       "      <th>count</th>\n",
       "      <td>4035.000000</td>\n",
       "      <td>4035.000000</td>\n",
       "      <td>4190.000000</td>\n",
       "    </tr>\n",
       "    <tr>\n",
       "      <th>mean</th>\n",
       "      <td>16.936468</td>\n",
       "      <td>17.107795</td>\n",
       "      <td>0.841654</td>\n",
       "    </tr>\n",
       "    <tr>\n",
       "      <th>std</th>\n",
       "      <td>14.363117</td>\n",
       "      <td>5.546387</td>\n",
       "      <td>0.562407</td>\n",
       "    </tr>\n",
       "    <tr>\n",
       "      <th>min</th>\n",
       "      <td>0.962940</td>\n",
       "      <td>5.021649</td>\n",
       "      <td>0.120000</td>\n",
       "    </tr>\n",
       "    <tr>\n",
       "      <th>25%</th>\n",
       "      <td>4.505830</td>\n",
       "      <td>13.139795</td>\n",
       "      <td>0.270000</td>\n",
       "    </tr>\n",
       "    <tr>\n",
       "      <th>50%</th>\n",
       "      <td>11.116700</td>\n",
       "      <td>16.750001</td>\n",
       "      <td>0.770000</td>\n",
       "    </tr>\n",
       "    <tr>\n",
       "      <th>75%</th>\n",
       "      <td>30.872499</td>\n",
       "      <td>21.761437</td>\n",
       "      <td>1.450000</td>\n",
       "    </tr>\n",
       "    <tr>\n",
       "      <th>max</th>\n",
       "      <td>51.570000</td>\n",
       "      <td>28.662420</td>\n",
       "      <td>1.860000</td>\n",
       "    </tr>\n",
       "  </tbody>\n",
       "</table>\n",
       "</div>"
      ],
      "text/plain": [
       "             close           pe          eps\n",
       "count  4035.000000  4035.000000  4190.000000\n",
       "mean     16.936468    17.107795     0.841654\n",
       "std      14.363117     5.546387     0.562407\n",
       "min       0.962940     5.021649     0.120000\n",
       "25%       4.505830    13.139795     0.270000\n",
       "50%      11.116700    16.750001     0.770000\n",
       "75%      30.872499    21.761437     1.450000\n",
       "max      51.570000    28.662420     1.860000"
      ]
     },
     "execution_count": 301,
     "metadata": {},
     "output_type": "execute_result"
    }
   ],
   "source": [
    "histpe.describe()"
   ]
  },
  {
   "cell_type": "code",
   "execution_count": 303,
   "metadata": {
    "collapsed": false
   },
   "outputs": [
    {
     "data": {
      "image/png": "[encoded data removed]",
      "text/plain": [
       "<matplotlib.figure.Figure at 0x7fe468faca90>"
      ]
     },
     "metadata": {},
     "output_type": "display_data"
    }
   ],
   "source": [
    "s.per_table.pe.hist(bins=100)\n",
    "plt.show()"
   ]
  },
  {
   "cell_type": "markdown",
   "metadata": {},
   "source": [
    "# Return on Equity"
   ]
  },
  {
   "cell_type": "code",
   "execution_count": 533,
   "metadata": {
    "collapsed": false
   },
   "outputs": [],
   "source": [
    "s.historic_roe()"
   ]
  },
  {
   "cell_type": "code",
   "execution_count": 534,
   "metadata": {
    "collapsed": false
   },
   "outputs": [
    {
     "data": {
      "text/html": [
       "<div>\n",
       "<table border=\"1\" class=\"dataframe\">\n",
       "  <thead>\n",
       "    <tr style=\"text-align: right;\">\n",
       "      <th></th>\n",
       "      <th>Name</th>\n",
       "      <th>ISIN</th>\n",
       "      <th>Parameter</th>\n",
       "      <th>Value</th>\n",
       "      <th>Point</th>\n",
       "    </tr>\n",
       "  </thead>\n",
       "  <tbody>\n",
       "    <tr>\n",
       "      <th>0</th>\n",
       "      <td>FUCHS PETROL.SE VZO O.N.</td>\n",
       "      <td>DE0005790430</td>\n",
       "      <td>OnlyPositiveEarnings</td>\n",
       "      <td>EarningsPerShare</td>\n",
       "      <td>1.0</td>\n",
       "    </tr>\n",
       "    <tr>\n",
       "      <th>1</th>\n",
       "      <td>FUCHS PETROL.SE VZO O.N.</td>\n",
       "      <td>DE0005790430</td>\n",
       "      <td>EPSvsHistoricEPS</td>\n",
       "      <td>14.2/20.2: 25.4</td>\n",
       "      <td>-1.0</td>\n",
       "    </tr>\n",
       "    <tr>\n",
       "      <th>2</th>\n",
       "      <td>FUCHS PETROL.SE VZO O.N.</td>\n",
       "      <td>DE0005790430</td>\n",
       "      <td>HistoricROE</td>\n",
       "      <td>31.5</td>\n",
       "      <td>1.0</td>\n",
       "    </tr>\n",
       "  </tbody>\n",
       "</table>\n",
       "</div>"
      ],
      "text/plain": [
       "                       Name          ISIN             Parameter  \\\n",
       "0  FUCHS PETROL.SE VZO O.N.  DE0005790430  OnlyPositiveEarnings   \n",
       "1  FUCHS PETROL.SE VZO O.N.  DE0005790430      EPSvsHistoricEPS   \n",
       "2  FUCHS PETROL.SE VZO O.N.  DE0005790430           HistoricROE   \n",
       "\n",
       "              Value  Point  \n",
       "0  EarningsPerShare    1.0  \n",
       "1   14.2/20.2: 25.4   -1.0  \n",
       "2              31.5    1.0  "
      ]
     },
     "execution_count": 534,
     "metadata": {},
     "output_type": "execute_result"
    }
   ],
   "source": [
    "s.quant_result"
   ]
  },
  {
   "cell_type": "code",
   "execution_count": 535,
   "metadata": {
    "collapsed": false
   },
   "outputs": [],
   "source": [
    "s.present_roe()"
   ]
  },
  {
   "cell_type": "code",
   "execution_count": 536,
   "metadata": {
    "collapsed": false
   },
   "outputs": [
    {
     "data": {
      "text/html": [
       "<div>\n",
       "<table border=\"1\" class=\"dataframe\">\n",
       "  <thead>\n",
       "    <tr style=\"text-align: right;\">\n",
       "      <th></th>\n",
       "      <th>Name</th>\n",
       "      <th>ISIN</th>\n",
       "      <th>Parameter</th>\n",
       "      <th>Value</th>\n",
       "      <th>Point</th>\n",
       "    </tr>\n",
       "  </thead>\n",
       "  <tbody>\n",
       "    <tr>\n",
       "      <th>0</th>\n",
       "      <td>FUCHS PETROL.SE VZO O.N.</td>\n",
       "      <td>DE0005790430</td>\n",
       "      <td>OnlyPositiveEarnings</td>\n",
       "      <td>EarningsPerShare</td>\n",
       "      <td>1.0</td>\n",
       "    </tr>\n",
       "    <tr>\n",
       "      <th>1</th>\n",
       "      <td>FUCHS PETROL.SE VZO O.N.</td>\n",
       "      <td>DE0005790430</td>\n",
       "      <td>EPSvsHistoricEPS</td>\n",
       "      <td>14.2/20.2: 25.4</td>\n",
       "      <td>-1.0</td>\n",
       "    </tr>\n",
       "    <tr>\n",
       "      <th>2</th>\n",
       "      <td>FUCHS PETROL.SE VZO O.N.</td>\n",
       "      <td>DE0005790430</td>\n",
       "      <td>HistoricROE</td>\n",
       "      <td>31.5</td>\n",
       "      <td>1.0</td>\n",
       "    </tr>\n",
       "    <tr>\n",
       "      <th>3</th>\n",
       "      <td>FUCHS PETROL.SE VZO O.N.</td>\n",
       "      <td>DE0005790430</td>\n",
       "      <td>PresentROE</td>\n",
       "      <td>22.8</td>\n",
       "      <td>1.0</td>\n",
       "    </tr>\n",
       "  </tbody>\n",
       "</table>\n",
       "</div>"
      ],
      "text/plain": [
       "                       Name          ISIN             Parameter  \\\n",
       "0  FUCHS PETROL.SE VZO O.N.  DE0005790430  OnlyPositiveEarnings   \n",
       "1  FUCHS PETROL.SE VZO O.N.  DE0005790430      EPSvsHistoricEPS   \n",
       "2  FUCHS PETROL.SE VZO O.N.  DE0005790430           HistoricROE   \n",
       "3  FUCHS PETROL.SE VZO O.N.  DE0005790430            PresentROE   \n",
       "\n",
       "              Value  Point  \n",
       "0  EarningsPerShare    1.0  \n",
       "1   14.2/20.2: 25.4   -1.0  \n",
       "2              31.5    1.0  \n",
       "3              22.8    1.0  "
      ]
     },
     "execution_count": 536,
     "metadata": {},
     "output_type": "execute_result"
    }
   ],
   "source": [
    "s.quant_result"
   ]
  },
  {
   "cell_type": "markdown",
   "metadata": {},
   "source": [
    "# Historic earnings growth"
   ]
  },
  {
   "cell_type": "code",
   "execution_count": 455,
   "metadata": {
    "collapsed": true
   },
   "outputs": [],
   "source": [
    "_col = s.get_best_column('NetIncome','EarningsPerShare')"
   ]
  },
  {
   "cell_type": "code",
   "execution_count": 463,
   "metadata": {
    "collapsed": false
   },
   "outputs": [],
   "source": [
    "_three_year_earnings_growth = -s.keyratios[_col].diff()[0:4]"
   ]
  },
  {
   "cell_type": "code",
   "execution_count": 467,
   "metadata": {
    "collapsed": false
   },
   "outputs": [],
   "source": [
    "if not (_three_year_earnings_growth<0).any():\n",
    "    point = 1"
   ]
  },
  {
   "cell_type": "code",
   "execution_count": 469,
   "metadata": {
    "collapsed": false
   },
   "outputs": [
    {
     "data": {
      "text/plain": [
       "0.11000000000000003"
      ]
     },
     "execution_count": 469,
     "metadata": {},
     "output_type": "execute_result"
    }
   ],
   "source": [
    "_three_year_earnings_growth.mean()"
   ]
  },
  {
   "cell_type": "markdown",
   "metadata": {},
   "source": [
    "expected earnings in 10 years"
   ]
  },
  {
   "cell_type": "code",
   "execution_count": 518,
   "metadata": {
    "collapsed": false
   },
   "outputs": [],
   "source": [
    "extrapolated_eps = 1.86*(1.11)**10"
   ]
  },
  {
   "cell_type": "code",
   "execution_count": 519,
   "metadata": {
    "collapsed": false
   },
   "outputs": [
    {
     "data": {
      "text/plain": [
       "8.9608230162290994"
      ]
     },
     "execution_count": 519,
     "metadata": {},
     "output_type": "execute_result"
    }
   ],
   "source": [
    "s.lastquote[0]/extrapolated_eps"
   ]
  },
  {
   "cell_type": "code",
   "execution_count": null,
   "metadata": {
    "collapsed": true
   },
   "outputs": [],
   "source": []
  },
  {
   "cell_type": "markdown",
   "metadata": {},
   "source": [
    "# EBT margin"
   ]
  },
  {
   "cell_type": "code",
   "execution_count": 537,
   "metadata": {
    "collapsed": true
   },
   "outputs": [],
   "source": [
    "s.present_ebtmargin()"
   ]
  },
  {
   "cell_type": "code",
   "execution_count": 538,
   "metadata": {
    "collapsed": false
   },
   "outputs": [
    {
     "data": {
      "text/html": [
       "<div>\n",
       "<table border=\"1\" class=\"dataframe\">\n",
       "  <thead>\n",
       "    <tr style=\"text-align: right;\">\n",
       "      <th></th>\n",
       "      <th>Name</th>\n",
       "      <th>ISIN</th>\n",
       "      <th>Parameter</th>\n",
       "      <th>Value</th>\n",
       "      <th>Point</th>\n",
       "    </tr>\n",
       "  </thead>\n",
       "  <tbody>\n",
       "    <tr>\n",
       "      <th>0</th>\n",
       "      <td>FUCHS PETROL.SE VZO O.N.</td>\n",
       "      <td>DE0005790430</td>\n",
       "      <td>OnlyPositiveEarnings</td>\n",
       "      <td>EarningsPerShare</td>\n",
       "      <td>1.0</td>\n",
       "    </tr>\n",
       "    <tr>\n",
       "      <th>1</th>\n",
       "      <td>FUCHS PETROL.SE VZO O.N.</td>\n",
       "      <td>DE0005790430</td>\n",
       "      <td>EPSvsHistoricEPS</td>\n",
       "      <td>14.2/20.2: 25.4</td>\n",
       "      <td>-1.0</td>\n",
       "    </tr>\n",
       "    <tr>\n",
       "      <th>2</th>\n",
       "      <td>FUCHS PETROL.SE VZO O.N.</td>\n",
       "      <td>DE0005790430</td>\n",
       "      <td>HistoricROE</td>\n",
       "      <td>31.5</td>\n",
       "      <td>1.0</td>\n",
       "    </tr>\n",
       "    <tr>\n",
       "      <th>3</th>\n",
       "      <td>FUCHS PETROL.SE VZO O.N.</td>\n",
       "      <td>DE0005790430</td>\n",
       "      <td>PresentROE</td>\n",
       "      <td>22.8</td>\n",
       "      <td>1.0</td>\n",
       "    </tr>\n",
       "    <tr>\n",
       "      <th>4</th>\n",
       "      <td>FUCHS PETROL.SE VZO O.N.</td>\n",
       "      <td>DE0005790430</td>\n",
       "      <td>EBTMargin</td>\n",
       "      <td>16.3</td>\n",
       "      <td>1.0</td>\n",
       "    </tr>\n",
       "  </tbody>\n",
       "</table>\n",
       "</div>"
      ],
      "text/plain": [
       "                       Name          ISIN             Parameter  \\\n",
       "0  FUCHS PETROL.SE VZO O.N.  DE0005790430  OnlyPositiveEarnings   \n",
       "1  FUCHS PETROL.SE VZO O.N.  DE0005790430      EPSvsHistoricEPS   \n",
       "2  FUCHS PETROL.SE VZO O.N.  DE0005790430           HistoricROE   \n",
       "3  FUCHS PETROL.SE VZO O.N.  DE0005790430            PresentROE   \n",
       "4  FUCHS PETROL.SE VZO O.N.  DE0005790430             EBTMargin   \n",
       "\n",
       "              Value  Point  \n",
       "0  EarningsPerShare    1.0  \n",
       "1   14.2/20.2: 25.4   -1.0  \n",
       "2              31.5    1.0  \n",
       "3              22.8    1.0  \n",
       "4              16.3    1.0  "
      ]
     },
     "execution_count": 538,
     "metadata": {},
     "output_type": "execute_result"
    }
   ],
   "source": [
    "s.quant_result"
   ]
  },
  {
   "cell_type": "code",
   "execution_count": null,
   "metadata": {
    "collapsed": true
   },
   "outputs": [],
   "source": []
  },
  {
   "cell_type": "code",
   "execution_count": null,
   "metadata": {
    "collapsed": true
   },
   "outputs": [],
   "source": []
  },
  {
   "cell_type": "code",
   "execution_count": null,
   "metadata": {
    "collapsed": true
   },
   "outputs": [],
   "source": []
  },
  {
   "cell_type": "code",
   "execution_count": null,
   "metadata": {
    "collapsed": true
   },
   "outputs": [],
   "source": []
  },
  {
   "cell_type": "code",
   "execution_count": null,
   "metadata": {
    "collapsed": true
   },
   "outputs": [],
   "source": []
  },
  {
   "cell_type": "code",
   "execution_count": null,
   "metadata": {
    "collapsed": true
   },
   "outputs": [],
   "source": []
  },
  {
   "cell_type": "code",
   "execution_count": null,
   "metadata": {
    "collapsed": true
   },
   "outputs": [],
   "source": []
  },
  {
   "cell_type": "code",
   "execution_count": 523,
   "metadata": {
    "collapsed": false
   },
   "outputs": [
    {
     "data": {
      "text/plain": [
       "0     16.28\n",
       "1     16.26\n",
       "2     16.62\n",
       "3     16.96\n",
       "4     16.00\n",
       "5     15.73\n",
       "6     16.82\n",
       "7     14.68\n",
       "8     11.68\n",
       "9     13.67\n",
       "10    11.29\n",
       "11      NaN\n",
       "12      NaN\n",
       "13      NaN\n",
       "14      NaN\n",
       "15      NaN\n",
       "16      NaN\n",
       "17      NaN\n",
       "Name: EBTMargin, dtype: float64"
      ]
     },
     "execution_count": 523,
     "metadata": {},
     "output_type": "execute_result"
    }
   ],
   "source": [
    "s.keyratios['EBTMargin']"
   ]
  },
  {
   "cell_type": "code",
   "execution_count": null,
   "metadata": {
    "collapsed": true
   },
   "outputs": [],
   "source": []
  },
  {
   "cell_type": "code",
   "execution_count": null,
   "metadata": {
    "collapsed": true
   },
   "outputs": [],
   "source": []
  },
  {
   "cell_type": "code",
   "execution_count": null,
   "metadata": {
    "collapsed": true
   },
   "outputs": [],
   "source": []
  },
  {
   "cell_type": "markdown",
   "metadata": {
    "collapsed": true
   },
   "source": [
    "# Calculate maximum drawdown "
   ]
  },
  {
   "cell_type": "code",
   "execution_count": 86,
   "metadata": {
    "collapsed": false
   },
   "outputs": [],
   "source": [
    "s.get_highwatermark()"
   ]
  },
  {
   "cell_type": "code",
   "execution_count": 87,
   "metadata": {
    "collapsed": false
   },
   "outputs": [],
   "source": [
    "hwratio = s.quote.close/s.quote.highwatermark"
   ]
  },
  {
   "cell_type": "code",
   "execution_count": 88,
   "metadata": {
    "collapsed": false
   },
   "outputs": [
    {
     "data": {
      "text/plain": [
       "count    4360.000000\n",
       "mean        0.880524\n",
       "std         0.132514\n",
       "min         0.309044\n",
       "25%         0.843490\n",
       "50%         0.914717\n",
       "75%         0.972077\n",
       "max         1.000000\n",
       "dtype: float64"
      ]
     },
     "execution_count": 88,
     "metadata": {},
     "output_type": "execute_result"
    }
   ],
   "source": [
    "hwratio.describe()"
   ]
  },
  {
   "cell_type": "code",
   "execution_count": 89,
   "metadata": {
    "collapsed": false
   },
   "outputs": [
    {
     "data": {
      "image/png": "[encoded data removed]",
      "text/plain": [
       "<matplotlib.figure.Figure at 0x7fe468fea2d0>"
      ]
     },
     "metadata": {},
     "output_type": "display_data"
    }
   ],
   "source": [
    "plt.hist(hwratio[hwratio>0],bins=100)\n",
    "plt.show()"
   ]
  },
  {
   "cell_type": "markdown",
   "metadata": {},
   "source": [
    "# Backtesting"
   ]
  },
  {
   "cell_type": "code",
   "execution_count": 260,
   "metadata": {
    "collapsed": false
   },
   "outputs": [
    {
     "data": {
      "text/html": [
       "<div>\n",
       "<style>\n",
       "    .dataframe thead tr:only-child th {\n",
       "        text-align: right;\n",
       "    }\n",
       "\n",
       "    .dataframe thead th {\n",
       "        text-align: left;\n",
       "    }\n",
       "\n",
       "    .dataframe tbody tr th {\n",
       "        vertical-align: top;\n",
       "    }\n",
       "</style>\n",
       "<table border=\"1\" class=\"dataframe\">\n",
       "  <thead>\n",
       "    <tr style=\"text-align: right;\">\n",
       "      <th></th>\n",
       "      <th>name</th>\n",
       "      <th>ISIN</th>\n",
       "      <th>currency</th>\n",
       "      <th>year</th>\n",
       "      <th>Shares</th>\n",
       "      <th>Revenue</th>\n",
       "      <th>NetIncome</th>\n",
       "      <th>EBTMargin</th>\n",
       "      <th>EarningsPerShare</th>\n",
       "      <th>Dividends</th>\n",
       "      <th>...</th>\n",
       "      <th>FreeCashFlowPerShare</th>\n",
       "      <th>WorkingCapital</th>\n",
       "      <th>COGS</th>\n",
       "      <th>TaxRate</th>\n",
       "      <th>NetMargin</th>\n",
       "      <th>AssetTurnoverAverage</th>\n",
       "      <th>ReturnonAssets</th>\n",
       "      <th>FinancialLeverageAverage</th>\n",
       "      <th>ReturnonInvestedCapital</th>\n",
       "      <th>InterestCoverage</th>\n",
       "    </tr>\n",
       "  </thead>\n",
       "  <tbody>\n",
       "    <tr>\n",
       "      <th>0</th>\n",
       "      <td>FUCHS PETROL.SE VZO O.N.</td>\n",
       "      <td>DE0005790430</td>\n",
       "      <td>EUR</td>\n",
       "      <td>2006</td>\n",
       "      <td>156.0</td>\n",
       "      <td>1323.0</td>\n",
       "      <td>96.0</td>\n",
       "      <td>11.29</td>\n",
       "      <td>0.62</td>\n",
       "      <td>0.13</td>\n",
       "      <td>...</td>\n",
       "      <td>NaN</td>\n",
       "      <td>169.0</td>\n",
       "      <td>64.72</td>\n",
       "      <td>34.94</td>\n",
       "      <td>7.30</td>\n",
       "      <td>1.93</td>\n",
       "      <td>14.08</td>\n",
       "      <td>2.25</td>\n",
       "      <td>29.47</td>\n",
       "      <td>25.10</td>\n",
       "    </tr>\n",
       "    <tr>\n",
       "      <th>1</th>\n",
       "      <td>FUCHS PETROL.SE VZO O.N.</td>\n",
       "      <td>DE0005790430</td>\n",
       "      <td>EUR</td>\n",
       "      <td>2007</td>\n",
       "      <td>154.0</td>\n",
       "      <td>1365.0</td>\n",
       "      <td>119.0</td>\n",
       "      <td>13.67</td>\n",
       "      <td>0.77</td>\n",
       "      <td>0.17</td>\n",
       "      <td>...</td>\n",
       "      <td>0.47</td>\n",
       "      <td>154.0</td>\n",
       "      <td>62.70</td>\n",
       "      <td>35.57</td>\n",
       "      <td>8.76</td>\n",
       "      <td>1.96</td>\n",
       "      <td>17.14</td>\n",
       "      <td>2.13</td>\n",
       "      <td>36.08</td>\n",
       "      <td>17.67</td>\n",
       "    </tr>\n",
       "    <tr>\n",
       "      <th>2</th>\n",
       "      <td>FUCHS PETROL.SE VZO O.N.</td>\n",
       "      <td>DE0005790430</td>\n",
       "      <td>EUR</td>\n",
       "      <td>2008</td>\n",
       "      <td>147.0</td>\n",
       "      <td>1394.0</td>\n",
       "      <td>109.0</td>\n",
       "      <td>11.68</td>\n",
       "      <td>0.74</td>\n",
       "      <td>0.25</td>\n",
       "      <td>...</td>\n",
       "      <td>0.82</td>\n",
       "      <td>121.0</td>\n",
       "      <td>64.98</td>\n",
       "      <td>32.25</td>\n",
       "      <td>7.85</td>\n",
       "      <td>1.96</td>\n",
       "      <td>15.42</td>\n",
       "      <td>2.24</td>\n",
       "      <td>28.76</td>\n",
       "      <td>21.87</td>\n",
       "    </tr>\n",
       "    <tr>\n",
       "      <th>3</th>\n",
       "      <td>FUCHS PETROL.SE VZO O.N.</td>\n",
       "      <td>DE0005790430</td>\n",
       "      <td>EUR</td>\n",
       "      <td>2009</td>\n",
       "      <td>142.0</td>\n",
       "      <td>1178.0</td>\n",
       "      <td>120.0</td>\n",
       "      <td>14.68</td>\n",
       "      <td>0.84</td>\n",
       "      <td>0.27</td>\n",
       "      <td>...</td>\n",
       "      <td>0.41</td>\n",
       "      <td>239.0</td>\n",
       "      <td>61.20</td>\n",
       "      <td>29.79</td>\n",
       "      <td>10.25</td>\n",
       "      <td>1.63</td>\n",
       "      <td>16.67</td>\n",
       "      <td>1.90</td>\n",
       "      <td>27.68</td>\n",
       "      <td>35.58</td>\n",
       "    </tr>\n",
       "    <tr>\n",
       "      <th>4</th>\n",
       "      <td>FUCHS PETROL.SE VZO O.N.</td>\n",
       "      <td>DE0005790430</td>\n",
       "      <td>EUR</td>\n",
       "      <td>2010</td>\n",
       "      <td>142.0</td>\n",
       "      <td>1458.0</td>\n",
       "      <td>170.0</td>\n",
       "      <td>16.82</td>\n",
       "      <td>1.20</td>\n",
       "      <td>0.29</td>\n",
       "      <td>...</td>\n",
       "      <td>1.00</td>\n",
       "      <td>286.0</td>\n",
       "      <td>61.13</td>\n",
       "      <td>30.07</td>\n",
       "      <td>11.70</td>\n",
       "      <td>1.78</td>\n",
       "      <td>20.82</td>\n",
       "      <td>1.64</td>\n",
       "      <td>33.91</td>\n",
       "      <td>82.80</td>\n",
       "    </tr>\n",
       "    <tr>\n",
       "      <th>5</th>\n",
       "      <td>FUCHS PETROL.SE VZO O.N.</td>\n",
       "      <td>DE0005790430</td>\n",
       "      <td>EUR</td>\n",
       "      <td>2011</td>\n",
       "      <td>142.0</td>\n",
       "      <td>1652.0</td>\n",
       "      <td>182.0</td>\n",
       "      <td>15.73</td>\n",
       "      <td>1.28</td>\n",
       "      <td>0.45</td>\n",
       "      <td>...</td>\n",
       "      <td>0.94</td>\n",
       "      <td>315.0</td>\n",
       "      <td>63.39</td>\n",
       "      <td>29.66</td>\n",
       "      <td>10.93</td>\n",
       "      <td>1.77</td>\n",
       "      <td>19.37</td>\n",
       "      <td>1.51</td>\n",
       "      <td>29.65</td>\n",
       "      <td>97.41</td>\n",
       "    </tr>\n",
       "    <tr>\n",
       "      <th>6</th>\n",
       "      <td>FUCHS PETROL.SE VZO O.N.</td>\n",
       "      <td>DE0005790430</td>\n",
       "      <td>EUR</td>\n",
       "      <td>2012</td>\n",
       "      <td>142.0</td>\n",
       "      <td>1819.0</td>\n",
       "      <td>206.0</td>\n",
       "      <td>16.00</td>\n",
       "      <td>1.45</td>\n",
       "      <td>0.50</td>\n",
       "      <td>...</td>\n",
       "      <td>0.82</td>\n",
       "      <td>395.0</td>\n",
       "      <td>63.39</td>\n",
       "      <td>28.86</td>\n",
       "      <td>11.36</td>\n",
       "      <td>1.73</td>\n",
       "      <td>19.69</td>\n",
       "      <td>1.42</td>\n",
       "      <td>28.27</td>\n",
       "      <td>NaN</td>\n",
       "    </tr>\n",
       "    <tr>\n",
       "      <th>7</th>\n",
       "      <td>FUCHS PETROL.SE VZO O.N.</td>\n",
       "      <td>DE0005790430</td>\n",
       "      <td>EUR</td>\n",
       "      <td>2013</td>\n",
       "      <td>142.0</td>\n",
       "      <td>1831.0</td>\n",
       "      <td>218.0</td>\n",
       "      <td>16.96</td>\n",
       "      <td>1.53</td>\n",
       "      <td>0.65</td>\n",
       "      <td>...</td>\n",
       "      <td>1.02</td>\n",
       "      <td>426.0</td>\n",
       "      <td>62.33</td>\n",
       "      <td>29.64</td>\n",
       "      <td>11.91</td>\n",
       "      <td>1.61</td>\n",
       "      <td>19.21</td>\n",
       "      <td>1.36</td>\n",
       "      <td>26.45</td>\n",
       "      <td>NaN</td>\n",
       "    </tr>\n",
       "    <tr>\n",
       "      <th>8</th>\n",
       "      <td>FUCHS PETROL.SE VZO O.N.</td>\n",
       "      <td>DE0005790430</td>\n",
       "      <td>EUR</td>\n",
       "      <td>2014</td>\n",
       "      <td>139.0</td>\n",
       "      <td>1866.0</td>\n",
       "      <td>220.0</td>\n",
       "      <td>16.62</td>\n",
       "      <td>1.57</td>\n",
       "      <td>0.70</td>\n",
       "      <td>...</td>\n",
       "      <td>1.16</td>\n",
       "      <td>458.0</td>\n",
       "      <td>62.85</td>\n",
       "      <td>29.09</td>\n",
       "      <td>11.76</td>\n",
       "      <td>1.53</td>\n",
       "      <td>18.01</td>\n",
       "      <td>1.40</td>\n",
       "      <td>24.51</td>\n",
       "      <td>NaN</td>\n",
       "    </tr>\n",
       "    <tr>\n",
       "      <th>9</th>\n",
       "      <td>FUCHS PETROL.SE VZO O.N.</td>\n",
       "      <td>DE0005790430</td>\n",
       "      <td>EUR</td>\n",
       "      <td>2015</td>\n",
       "      <td>139.0</td>\n",
       "      <td>2079.0</td>\n",
       "      <td>236.0</td>\n",
       "      <td>16.26</td>\n",
       "      <td>1.69</td>\n",
       "      <td>0.77</td>\n",
       "      <td>...</td>\n",
       "      <td>1.58</td>\n",
       "      <td>430.0</td>\n",
       "      <td>61.95</td>\n",
       "      <td>30.22</td>\n",
       "      <td>11.34</td>\n",
       "      <td>1.50</td>\n",
       "      <td>17.05</td>\n",
       "      <td>1.39</td>\n",
       "      <td>23.63</td>\n",
       "      <td>NaN</td>\n",
       "    </tr>\n",
       "    <tr>\n",
       "      <th>10</th>\n",
       "      <td>FUCHS PETROL.SE VZO O.N.</td>\n",
       "      <td>DE0005790430</td>\n",
       "      <td>EUR</td>\n",
       "      <td>2016</td>\n",
       "      <td>139.0</td>\n",
       "      <td>2267.0</td>\n",
       "      <td>259.0</td>\n",
       "      <td>16.28</td>\n",
       "      <td>1.86</td>\n",
       "      <td>0.82</td>\n",
       "      <td>...</td>\n",
       "      <td>1.86</td>\n",
       "      <td>475.0</td>\n",
       "      <td>62.46</td>\n",
       "      <td>29.54</td>\n",
       "      <td>11.42</td>\n",
       "      <td>1.43</td>\n",
       "      <td>16.36</td>\n",
       "      <td>1.39</td>\n",
       "      <td>22.48</td>\n",
       "      <td>NaN</td>\n",
       "    </tr>\n",
       "    <tr>\n",
       "      <th>11</th>\n",
       "      <td>FUCHS PETROL.SE VZO O.N.</td>\n",
       "      <td>DE0005790430</td>\n",
       "      <td>EUR</td>\n",
       "      <td>2005</td>\n",
       "      <td>NaN</td>\n",
       "      <td>1192.0</td>\n",
       "      <td>74.2</td>\n",
       "      <td>NaN</td>\n",
       "      <td>0.52</td>\n",
       "      <td>0.10</td>\n",
       "      <td>...</td>\n",
       "      <td>NaN</td>\n",
       "      <td>NaN</td>\n",
       "      <td>NaN</td>\n",
       "      <td>NaN</td>\n",
       "      <td>NaN</td>\n",
       "      <td>NaN</td>\n",
       "      <td>NaN</td>\n",
       "      <td>NaN</td>\n",
       "      <td>NaN</td>\n",
       "      <td>NaN</td>\n",
       "    </tr>\n",
       "    <tr>\n",
       "      <th>12</th>\n",
       "      <td>FUCHS PETROL.SE VZO O.N.</td>\n",
       "      <td>DE0005790430</td>\n",
       "      <td>EUR</td>\n",
       "      <td>2004</td>\n",
       "      <td>NaN</td>\n",
       "      <td>1096.0</td>\n",
       "      <td>40.1</td>\n",
       "      <td>NaN</td>\n",
       "      <td>0.27</td>\n",
       "      <td>0.10</td>\n",
       "      <td>...</td>\n",
       "      <td>NaN</td>\n",
       "      <td>NaN</td>\n",
       "      <td>NaN</td>\n",
       "      <td>NaN</td>\n",
       "      <td>NaN</td>\n",
       "      <td>NaN</td>\n",
       "      <td>NaN</td>\n",
       "      <td>NaN</td>\n",
       "      <td>NaN</td>\n",
       "      <td>NaN</td>\n",
       "    </tr>\n",
       "    <tr>\n",
       "      <th>13</th>\n",
       "      <td>FUCHS PETROL.SE VZO O.N.</td>\n",
       "      <td>DE0005790430</td>\n",
       "      <td>EUR</td>\n",
       "      <td>2003</td>\n",
       "      <td>NaN</td>\n",
       "      <td>NaN</td>\n",
       "      <td>NaN</td>\n",
       "      <td>NaN</td>\n",
       "      <td>0.23</td>\n",
       "      <td>0.09</td>\n",
       "      <td>...</td>\n",
       "      <td>NaN</td>\n",
       "      <td>NaN</td>\n",
       "      <td>NaN</td>\n",
       "      <td>NaN</td>\n",
       "      <td>NaN</td>\n",
       "      <td>NaN</td>\n",
       "      <td>NaN</td>\n",
       "      <td>NaN</td>\n",
       "      <td>NaN</td>\n",
       "      <td>NaN</td>\n",
       "    </tr>\n",
       "    <tr>\n",
       "      <th>14</th>\n",
       "      <td>FUCHS PETROL.SE VZO O.N.</td>\n",
       "      <td>DE0005790430</td>\n",
       "      <td>EUR</td>\n",
       "      <td>2002</td>\n",
       "      <td>NaN</td>\n",
       "      <td>NaN</td>\n",
       "      <td>NaN</td>\n",
       "      <td>NaN</td>\n",
       "      <td>0.18</td>\n",
       "      <td>0.08</td>\n",
       "      <td>...</td>\n",
       "      <td>NaN</td>\n",
       "      <td>NaN</td>\n",
       "      <td>NaN</td>\n",
       "      <td>NaN</td>\n",
       "      <td>NaN</td>\n",
       "      <td>NaN</td>\n",
       "      <td>NaN</td>\n",
       "      <td>NaN</td>\n",
       "      <td>NaN</td>\n",
       "      <td>NaN</td>\n",
       "    </tr>\n",
       "    <tr>\n",
       "      <th>15</th>\n",
       "      <td>FUCHS PETROL.SE VZO O.N.</td>\n",
       "      <td>DE0005790430</td>\n",
       "      <td>EUR</td>\n",
       "      <td>2001</td>\n",
       "      <td>NaN</td>\n",
       "      <td>NaN</td>\n",
       "      <td>NaN</td>\n",
       "      <td>NaN</td>\n",
       "      <td>0.12</td>\n",
       "      <td>0.08</td>\n",
       "      <td>...</td>\n",
       "      <td>NaN</td>\n",
       "      <td>NaN</td>\n",
       "      <td>NaN</td>\n",
       "      <td>NaN</td>\n",
       "      <td>NaN</td>\n",
       "      <td>NaN</td>\n",
       "      <td>NaN</td>\n",
       "      <td>NaN</td>\n",
       "      <td>NaN</td>\n",
       "      <td>NaN</td>\n",
       "    </tr>\n",
       "    <tr>\n",
       "      <th>16</th>\n",
       "      <td>FUCHS PETROL.SE VZO O.N.</td>\n",
       "      <td>DE0005790430</td>\n",
       "      <td>EUR</td>\n",
       "      <td>2000</td>\n",
       "      <td>NaN</td>\n",
       "      <td>NaN</td>\n",
       "      <td>NaN</td>\n",
       "      <td>NaN</td>\n",
       "      <td>0.13</td>\n",
       "      <td>NaN</td>\n",
       "      <td>...</td>\n",
       "      <td>NaN</td>\n",
       "      <td>NaN</td>\n",
       "      <td>NaN</td>\n",
       "      <td>NaN</td>\n",
       "      <td>NaN</td>\n",
       "      <td>NaN</td>\n",
       "      <td>NaN</td>\n",
       "      <td>NaN</td>\n",
       "      <td>NaN</td>\n",
       "      <td>NaN</td>\n",
       "    </tr>\n",
       "    <tr>\n",
       "      <th>17</th>\n",
       "      <td>FUCHS PETROL.SE VZO O.N.</td>\n",
       "      <td>DE0005790430</td>\n",
       "      <td>EUR</td>\n",
       "      <td>1999</td>\n",
       "      <td>NaN</td>\n",
       "      <td>NaN</td>\n",
       "      <td>NaN</td>\n",
       "      <td>NaN</td>\n",
       "      <td>0.13</td>\n",
       "      <td>NaN</td>\n",
       "      <td>...</td>\n",
       "      <td>NaN</td>\n",
       "      <td>NaN</td>\n",
       "      <td>NaN</td>\n",
       "      <td>NaN</td>\n",
       "      <td>NaN</td>\n",
       "      <td>NaN</td>\n",
       "      <td>NaN</td>\n",
       "      <td>NaN</td>\n",
       "      <td>NaN</td>\n",
       "      <td>NaN</td>\n",
       "    </tr>\n",
       "  </tbody>\n",
       "</table>\n",
       "<p>18 rows × 28 columns</p>\n",
       "</div>"
      ],
      "text/plain": [
       "                        name          ISIN currency  year  Shares  Revenue  \\\n",
       "0   FUCHS PETROL.SE VZO O.N.  DE0005790430      EUR  2006   156.0   1323.0   \n",
       "1   FUCHS PETROL.SE VZO O.N.  DE0005790430      EUR  2007   154.0   1365.0   \n",
       "2   FUCHS PETROL.SE VZO O.N.  DE0005790430      EUR  2008   147.0   1394.0   \n",
       "3   FUCHS PETROL.SE VZO O.N.  DE0005790430      EUR  2009   142.0   1178.0   \n",
       "4   FUCHS PETROL.SE VZO O.N.  DE0005790430      EUR  2010   142.0   1458.0   \n",
       "5   FUCHS PETROL.SE VZO O.N.  DE0005790430      EUR  2011   142.0   1652.0   \n",
       "6   FUCHS PETROL.SE VZO O.N.  DE0005790430      EUR  2012   142.0   1819.0   \n",
       "7   FUCHS PETROL.SE VZO O.N.  DE0005790430      EUR  2013   142.0   1831.0   \n",
       "8   FUCHS PETROL.SE VZO O.N.  DE0005790430      EUR  2014   139.0   1866.0   \n",
       "9   FUCHS PETROL.SE VZO O.N.  DE0005790430      EUR  2015   139.0   2079.0   \n",
       "10  FUCHS PETROL.SE VZO O.N.  DE0005790430      EUR  2016   139.0   2267.0   \n",
       "11  FUCHS PETROL.SE VZO O.N.  DE0005790430      EUR  2005     NaN   1192.0   \n",
       "12  FUCHS PETROL.SE VZO O.N.  DE0005790430      EUR  2004     NaN   1096.0   \n",
       "13  FUCHS PETROL.SE VZO O.N.  DE0005790430      EUR  2003     NaN      NaN   \n",
       "14  FUCHS PETROL.SE VZO O.N.  DE0005790430      EUR  2002     NaN      NaN   \n",
       "15  FUCHS PETROL.SE VZO O.N.  DE0005790430      EUR  2001     NaN      NaN   \n",
       "16  FUCHS PETROL.SE VZO O.N.  DE0005790430      EUR  2000     NaN      NaN   \n",
       "17  FUCHS PETROL.SE VZO O.N.  DE0005790430      EUR  1999     NaN      NaN   \n",
       "\n",
       "    NetIncome  EBTMargin  EarningsPerShare  Dividends        ...         \\\n",
       "0        96.0      11.29              0.62       0.13        ...          \n",
       "1       119.0      13.67              0.77       0.17        ...          \n",
       "2       109.0      11.68              0.74       0.25        ...          \n",
       "3       120.0      14.68              0.84       0.27        ...          \n",
       "4       170.0      16.82              1.20       0.29        ...          \n",
       "5       182.0      15.73              1.28       0.45        ...          \n",
       "6       206.0      16.00              1.45       0.50        ...          \n",
       "7       218.0      16.96              1.53       0.65        ...          \n",
       "8       220.0      16.62              1.57       0.70        ...          \n",
       "9       236.0      16.26              1.69       0.77        ...          \n",
       "10      259.0      16.28              1.86       0.82        ...          \n",
       "11       74.2        NaN              0.52       0.10        ...          \n",
       "12       40.1        NaN              0.27       0.10        ...          \n",
       "13        NaN        NaN              0.23       0.09        ...          \n",
       "14        NaN        NaN              0.18       0.08        ...          \n",
       "15        NaN        NaN              0.12       0.08        ...          \n",
       "16        NaN        NaN              0.13        NaN        ...          \n",
       "17        NaN        NaN              0.13        NaN        ...          \n",
       "\n",
       "    FreeCashFlowPerShare  WorkingCapital   COGS  TaxRate  NetMargin  \\\n",
       "0                    NaN           169.0  64.72    34.94       7.30   \n",
       "1                   0.47           154.0  62.70    35.57       8.76   \n",
       "2                   0.82           121.0  64.98    32.25       7.85   \n",
       "3                   0.41           239.0  61.20    29.79      10.25   \n",
       "4                   1.00           286.0  61.13    30.07      11.70   \n",
       "5                   0.94           315.0  63.39    29.66      10.93   \n",
       "6                   0.82           395.0  63.39    28.86      11.36   \n",
       "7                   1.02           426.0  62.33    29.64      11.91   \n",
       "8                   1.16           458.0  62.85    29.09      11.76   \n",
       "9                   1.58           430.0  61.95    30.22      11.34   \n",
       "10                  1.86           475.0  62.46    29.54      11.42   \n",
       "11                   NaN             NaN    NaN      NaN        NaN   \n",
       "12                   NaN             NaN    NaN      NaN        NaN   \n",
       "13                   NaN             NaN    NaN      NaN        NaN   \n",
       "14                   NaN             NaN    NaN      NaN        NaN   \n",
       "15                   NaN             NaN    NaN      NaN        NaN   \n",
       "16                   NaN             NaN    NaN      NaN        NaN   \n",
       "17                   NaN             NaN    NaN      NaN        NaN   \n",
       "\n",
       "    AssetTurnoverAverage  ReturnonAssets  FinancialLeverageAverage  \\\n",
       "0                   1.93           14.08                      2.25   \n",
       "1                   1.96           17.14                      2.13   \n",
       "2                   1.96           15.42                      2.24   \n",
       "3                   1.63           16.67                      1.90   \n",
       "4                   1.78           20.82                      1.64   \n",
       "5                   1.77           19.37                      1.51   \n",
       "6                   1.73           19.69                      1.42   \n",
       "7                   1.61           19.21                      1.36   \n",
       "8                   1.53           18.01                      1.40   \n",
       "9                   1.50           17.05                      1.39   \n",
       "10                  1.43           16.36                      1.39   \n",
       "11                   NaN             NaN                       NaN   \n",
       "12                   NaN             NaN                       NaN   \n",
       "13                   NaN             NaN                       NaN   \n",
       "14                   NaN             NaN                       NaN   \n",
       "15                   NaN             NaN                       NaN   \n",
       "16                   NaN             NaN                       NaN   \n",
       "17                   NaN             NaN                       NaN   \n",
       "\n",
       "    ReturnonInvestedCapital  InterestCoverage  \n",
       "0                     29.47             25.10  \n",
       "1                     36.08             17.67  \n",
       "2                     28.76             21.87  \n",
       "3                     27.68             35.58  \n",
       "4                     33.91             82.80  \n",
       "5                     29.65             97.41  \n",
       "6                     28.27               NaN  \n",
       "7                     26.45               NaN  \n",
       "8                     24.51               NaN  \n",
       "9                     23.63               NaN  \n",
       "10                    22.48               NaN  \n",
       "11                      NaN               NaN  \n",
       "12                      NaN               NaN  \n",
       "13                      NaN               NaN  \n",
       "14                      NaN               NaN  \n",
       "15                      NaN               NaN  \n",
       "16                      NaN               NaN  \n",
       "17                      NaN               NaN  \n",
       "\n",
       "[18 rows x 28 columns]"
      ]
     },
     "execution_count": 260,
     "metadata": {},
     "output_type": "execute_result"
    }
   ],
   "source": [
    "s.keyratios"
   ]
  },
  {
   "cell_type": "code",
   "execution_count": 265,
   "metadata": {
    "collapsed": false
   },
   "outputs": [
    {
     "name": "stdout",
     "output_type": "stream",
     "text": [
      "2002-04-09\n"
     ]
    }
   ],
   "source": [
    "s.update_time(1120)\n",
    "print(s.bdate)"
   ]
  },
  {
   "cell_type": "code",
   "execution_count": 266,
   "metadata": {
    "collapsed": false
   },
   "outputs": [
    {
     "data": {
      "text/html": [
       "<div>\n",
       "<style>\n",
       "    .dataframe thead tr:only-child th {\n",
       "        text-align: right;\n",
       "    }\n",
       "\n",
       "    .dataframe thead th {\n",
       "        text-align: left;\n",
       "    }\n",
       "\n",
       "    .dataframe tbody tr th {\n",
       "        vertical-align: top;\n",
       "    }\n",
       "</style>\n",
       "<table border=\"1\" class=\"dataframe\">\n",
       "  <thead>\n",
       "    <tr style=\"text-align: right;\">\n",
       "      <th></th>\n",
       "      <th>name</th>\n",
       "      <th>ISIN</th>\n",
       "      <th>currency</th>\n",
       "      <th>year</th>\n",
       "      <th>Shares</th>\n",
       "      <th>Revenue</th>\n",
       "      <th>NetIncome</th>\n",
       "      <th>EBTMargin</th>\n",
       "      <th>EarningsPerShare</th>\n",
       "      <th>Dividends</th>\n",
       "      <th>...</th>\n",
       "      <th>FreeCashFlowPerShare</th>\n",
       "      <th>WorkingCapital</th>\n",
       "      <th>COGS</th>\n",
       "      <th>TaxRate</th>\n",
       "      <th>NetMargin</th>\n",
       "      <th>AssetTurnoverAverage</th>\n",
       "      <th>ReturnonAssets</th>\n",
       "      <th>FinancialLeverageAverage</th>\n",
       "      <th>ReturnonInvestedCapital</th>\n",
       "      <th>InterestCoverage</th>\n",
       "    </tr>\n",
       "  </thead>\n",
       "  <tbody>\n",
       "    <tr>\n",
       "      <th>16</th>\n",
       "      <td>FUCHS PETROL.SE VZO O.N.</td>\n",
       "      <td>DE0005790430</td>\n",
       "      <td>EUR</td>\n",
       "      <td>2000</td>\n",
       "      <td>NaN</td>\n",
       "      <td>NaN</td>\n",
       "      <td>NaN</td>\n",
       "      <td>NaN</td>\n",
       "      <td>0.13</td>\n",
       "      <td>NaN</td>\n",
       "      <td>...</td>\n",
       "      <td>NaN</td>\n",
       "      <td>NaN</td>\n",
       "      <td>NaN</td>\n",
       "      <td>NaN</td>\n",
       "      <td>NaN</td>\n",
       "      <td>NaN</td>\n",
       "      <td>NaN</td>\n",
       "      <td>NaN</td>\n",
       "      <td>NaN</td>\n",
       "      <td>NaN</td>\n",
       "    </tr>\n",
       "    <tr>\n",
       "      <th>17</th>\n",
       "      <td>FUCHS PETROL.SE VZO O.N.</td>\n",
       "      <td>DE0005790430</td>\n",
       "      <td>EUR</td>\n",
       "      <td>1999</td>\n",
       "      <td>NaN</td>\n",
       "      <td>NaN</td>\n",
       "      <td>NaN</td>\n",
       "      <td>NaN</td>\n",
       "      <td>0.13</td>\n",
       "      <td>NaN</td>\n",
       "      <td>...</td>\n",
       "      <td>NaN</td>\n",
       "      <td>NaN</td>\n",
       "      <td>NaN</td>\n",
       "      <td>NaN</td>\n",
       "      <td>NaN</td>\n",
       "      <td>NaN</td>\n",
       "      <td>NaN</td>\n",
       "      <td>NaN</td>\n",
       "      <td>NaN</td>\n",
       "      <td>NaN</td>\n",
       "    </tr>\n",
       "  </tbody>\n",
       "</table>\n",
       "<p>2 rows × 28 columns</p>\n",
       "</div>"
      ],
      "text/plain": [
       "                        name          ISIN currency  year  Shares  Revenue  \\\n",
       "16  FUCHS PETROL.SE VZO O.N.  DE0005790430      EUR  2000     NaN      NaN   \n",
       "17  FUCHS PETROL.SE VZO O.N.  DE0005790430      EUR  1999     NaN      NaN   \n",
       "\n",
       "    NetIncome  EBTMargin  EarningsPerShare  Dividends        ...         \\\n",
       "16        NaN        NaN              0.13        NaN        ...          \n",
       "17        NaN        NaN              0.13        NaN        ...          \n",
       "\n",
       "    FreeCashFlowPerShare  WorkingCapital  COGS  TaxRate  NetMargin  \\\n",
       "16                   NaN             NaN   NaN      NaN        NaN   \n",
       "17                   NaN             NaN   NaN      NaN        NaN   \n",
       "\n",
       "    AssetTurnoverAverage  ReturnonAssets  FinancialLeverageAverage  \\\n",
       "16                   NaN             NaN                       NaN   \n",
       "17                   NaN             NaN                       NaN   \n",
       "\n",
       "    ReturnonInvestedCapital  InterestCoverage  \n",
       "16                      NaN               NaN  \n",
       "17                      NaN               NaN  \n",
       "\n",
       "[2 rows x 28 columns]"
      ]
     },
     "execution_count": 266,
     "metadata": {},
     "output_type": "execute_result"
    }
   ],
   "source": [
    "s.keyratios"
   ]
  },
  {
   "cell_type": "code",
   "execution_count": 267,
   "metadata": {
    "collapsed": false
   },
   "outputs": [
    {
     "name": "stdout",
     "output_type": "stream",
     "text": [
      "2002-03-20\n"
     ]
    }
   ],
   "source": [
    "s.update_time(1100)\n",
    "print(s.bdate)"
   ]
  },
  {
   "cell_type": "code",
   "execution_count": 268,
   "metadata": {
    "collapsed": false
   },
   "outputs": [
    {
     "data": {
      "text/html": [
       "<div>\n",
       "<style>\n",
       "    .dataframe thead tr:only-child th {\n",
       "        text-align: right;\n",
       "    }\n",
       "\n",
       "    .dataframe thead th {\n",
       "        text-align: left;\n",
       "    }\n",
       "\n",
       "    .dataframe tbody tr th {\n",
       "        vertical-align: top;\n",
       "    }\n",
       "</style>\n",
       "<table border=\"1\" class=\"dataframe\">\n",
       "  <thead>\n",
       "    <tr style=\"text-align: right;\">\n",
       "      <th></th>\n",
       "      <th>name</th>\n",
       "      <th>ISIN</th>\n",
       "      <th>currency</th>\n",
       "      <th>year</th>\n",
       "      <th>Shares</th>\n",
       "      <th>Revenue</th>\n",
       "      <th>NetIncome</th>\n",
       "      <th>EBTMargin</th>\n",
       "      <th>EarningsPerShare</th>\n",
       "      <th>Dividends</th>\n",
       "      <th>...</th>\n",
       "      <th>FreeCashFlowPerShare</th>\n",
       "      <th>WorkingCapital</th>\n",
       "      <th>COGS</th>\n",
       "      <th>TaxRate</th>\n",
       "      <th>NetMargin</th>\n",
       "      <th>AssetTurnoverAverage</th>\n",
       "      <th>ReturnonAssets</th>\n",
       "      <th>FinancialLeverageAverage</th>\n",
       "      <th>ReturnonInvestedCapital</th>\n",
       "      <th>InterestCoverage</th>\n",
       "    </tr>\n",
       "  </thead>\n",
       "  <tbody>\n",
       "    <tr>\n",
       "      <th>17</th>\n",
       "      <td>FUCHS PETROL.SE VZO O.N.</td>\n",
       "      <td>DE0005790430</td>\n",
       "      <td>EUR</td>\n",
       "      <td>1999</td>\n",
       "      <td>NaN</td>\n",
       "      <td>NaN</td>\n",
       "      <td>NaN</td>\n",
       "      <td>NaN</td>\n",
       "      <td>0.13</td>\n",
       "      <td>NaN</td>\n",
       "      <td>...</td>\n",
       "      <td>NaN</td>\n",
       "      <td>NaN</td>\n",
       "      <td>NaN</td>\n",
       "      <td>NaN</td>\n",
       "      <td>NaN</td>\n",
       "      <td>NaN</td>\n",
       "      <td>NaN</td>\n",
       "      <td>NaN</td>\n",
       "      <td>NaN</td>\n",
       "      <td>NaN</td>\n",
       "    </tr>\n",
       "  </tbody>\n",
       "</table>\n",
       "<p>1 rows × 28 columns</p>\n",
       "</div>"
      ],
      "text/plain": [
       "                        name          ISIN currency  year  Shares  Revenue  \\\n",
       "17  FUCHS PETROL.SE VZO O.N.  DE0005790430      EUR  1999     NaN      NaN   \n",
       "\n",
       "    NetIncome  EBTMargin  EarningsPerShare  Dividends        ...         \\\n",
       "17        NaN        NaN              0.13        NaN        ...          \n",
       "\n",
       "    FreeCashFlowPerShare  WorkingCapital  COGS  TaxRate  NetMargin  \\\n",
       "17                   NaN             NaN   NaN      NaN        NaN   \n",
       "\n",
       "    AssetTurnoverAverage  ReturnonAssets  FinancialLeverageAverage  \\\n",
       "17                   NaN             NaN                       NaN   \n",
       "\n",
       "    ReturnonInvestedCapital  InterestCoverage  \n",
       "17                      NaN               NaN  \n",
       "\n",
       "[1 rows x 28 columns]"
      ]
     },
     "execution_count": 268,
     "metadata": {},
     "output_type": "execute_result"
    }
   ],
   "source": [
    "s.keyratios"
   ]
  },
  {
   "cell_type": "code",
   "execution_count": null,
   "metadata": {
    "collapsed": true
   },
   "outputs": [],
   "source": []
  },
  {
   "cell_type": "code",
   "execution_count": null,
   "metadata": {
    "collapsed": true
   },
   "outputs": [],
   "source": []
  },
  {
   "cell_type": "code",
   "execution_count": null,
   "metadata": {
    "collapsed": true
   },
   "outputs": [],
   "source": []
  },
  {
   "cell_type": "code",
   "execution_count": null,
   "metadata": {
    "collapsed": true
   },
   "outputs": [],
   "source": []
  },
  {
   "cell_type": "code",
   "execution_count": null,
   "metadata": {
    "collapsed": true
   },
   "outputs": [],
   "source": []
  }
 ],
 "metadata": {
  "kernelspec": {
   "display_name": "Python 2",
   "language": "python",
   "name": "python2"
  },
  "language_info": {
   "codemirror_mode": {
    "name": "ipython",
    "version": 2
   },
   "file_extension": ".py",
   "mimetype": "text/x-python",
   "name": "python",
   "nbconvert_exporter": "python",
   "pygments_lexer": "ipython2",
   "version": "2.7.13"
  }
 },
 "nbformat": 4,
 "nbformat_minor": 2
}
